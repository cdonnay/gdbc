{
  "nbformat": 4,
  "nbformat_minor": 0,
  "metadata": {
    "kernelspec": {
      "display_name": "Python 3",
      "language": "python",
      "name": "python3"
    },
    "language_info": {
      "codemirror_mode": {
        "name": "ipython",
        "version": 3
      },
      "file_extension": ".py",
      "mimetype": "text/x-python",
      "name": "python",
      "nbconvert_exporter": "python",
      "pygments_lexer": "ipython3",
      "version": "3.7.3"
    },
    "colab": {
      "name": "maup-exercise.ipynb",
      "provenance": [],
      "collapsed_sections": [
        "bDo5mGLYOUXJ",
        "rkQLD9Q6OUXR",
        "esOVOWWrOUXu",
        "Gk0t0Gxlw-yV",
        "X2vJXXRfxIns",
        "YQVT-215yoAj"
      ],
      "toc_visible": true
    }
  },
  "cells": [
    {
      "cell_type": "markdown",
      "metadata": {
        "id": "S4SUjKciOUV2",
        "colab_type": "text"
      },
      "source": [
        "# MAUP exercise: Putting demographic and election data together"
      ]
    },
    {
      "cell_type": "markdown",
      "metadata": {
        "id": "NUWMEhiiaAbW",
        "colab_type": "text"
      },
      "source": [
        "_Communication: At your discretion -- feel free to use Slack or Zoom to communicate, but otherwise, work independently. MGGG staff will be available as usual._"
      ]
    },
    {
      "cell_type": "markdown",
      "metadata": {
        "id": "mJe1LGaX3lUk",
        "colab_type": "text"
      },
      "source": [
        "To understand the interaction between voting, race and representation, we need to deal with data at various spatial scales and in various spatial units. For example, most demographic data is presented at the level of __census blocks__ every decennial Census. Citizen voting age population (CVAP) data, however, is not collected during the decennial census, and is instead collected by the American Community Survey (ACS) and presented at the level of __block groups__, one step higher in the hierarchy of Census spatial data. Finally, voting data is presented at the level of __precincts__. As you saw in Project 1 and throughout last week, precincts are often hard to get hold of and don't always match very well with census geography.\n",
        "\n",
        "Getting demographic, CVAP, and election data all on the same set of units requires making thoughtful choices and using the right computational tools. In this exercise, we will use MAUP, a package developed by the MGGG, to perform some of these types of operations. "
      ]
    },
    {
      "cell_type": "markdown",
      "metadata": {
        "id": "SAIsxf9Q4-J7",
        "colab_type": "text"
      },
      "source": [
        "The examples in this notebook come from __Lowell MA__. The MGGG recently completed a research project in Lowell looking at how electoral reform (e.g. ranked choice voting, single-member districts or multi-member districts) could help minority groups (in this case, Asian and Hispanic voters) achieve more representation on the city council. You'll learn more about the Lowell project tomorrow evening. For now, we're zooming in on a particular part of our analysis: we needed to use demographic data (including CVAP from the ACS) as well as past election data, and analyze these data at the same spatial scale. In this exercise you will replicate some of this data processing using real data from Lowell.\n",
        "\n",
        "In this exercise, we are going to:\n",
        "\n",
        "\n",
        "*   Use MAUP to _disaggregate_ CVAP data from block groups to blocks.\n",
        "*   Use MAUP to _aggregate_ demographic data from blocks up to precincts.\n",
        "*   Use MAUP to _assign_ blocks to districts/wards.\n",
        "\n",
        "Everything you need to know for the exercise is explained below, but you can also check out the MAUP documentation at https://github.com/mggg/maup."
      ]
    },
    {
      "cell_type": "markdown",
      "metadata": {
        "id": "Oq6hnZdkXVD7",
        "colab_type": "text"
      },
      "source": [
        "![](https://drive.google.com/uc?export=view&id=1JjziUCOCB_dJjBJoQNdksSlMx3T1HBb_)"
      ]
    },
    {
      "cell_type": "code",
      "metadata": {
        "id": "1xEcsJePPget",
        "colab_type": "code",
        "colab": {}
      },
      "source": [
        "#this installs geopandas and maup, which we will need for this exercise\n",
        "!pip install geopandas\n",
        "!pip install maup"
      ],
      "execution_count": null,
      "outputs": []
    },
    {
      "cell_type": "code",
      "metadata": {
        "id": "I4gdTnU2cDlB",
        "colab_type": "code",
        "colab": {}
      },
      "source": [
        "#go and get some data for the exercise from github\n",
        "! git clone https://github.com/thomasweighill/maup-exercise.git"
      ],
      "execution_count": null,
      "outputs": []
    },
    {
      "cell_type": "code",
      "metadata": {
        "id": "vnx0VwIyW2VE",
        "colab_type": "code",
        "colab": {}
      },
      "source": [
        "#ignore this - just to suppress some unhelpful warnings\n",
        "import warnings; warnings.filterwarnings('ignore', 'GeoSeries.isna', UserWarning)"
      ],
      "execution_count": null,
      "outputs": []
    },
    {
      "cell_type": "markdown",
      "metadata": {
        "id": "cYCuRguQOUV5",
        "colab_type": "text"
      },
      "source": [
        "## Part 1: Disaggregating CVAP from block groups to blocks\n",
        "Let's get the CVAP data (at the block group level) down to the block level. This will not be the _truth_, of course, because block groups are bigger than blocks, but we can make a best approximation."
      ]
    },
    {
      "cell_type": "markdown",
      "metadata": {
        "id": "imBWkV3fOUV6",
        "colab_type": "text"
      },
      "source": [
        "### Exploring block and block group data"
      ]
    },
    {
      "cell_type": "markdown",
      "metadata": {
        "id": "WsGSNaxzOUV6",
        "colab_type": "text"
      },
      "source": [
        "Let's load block group and block shapefiles, and see what fields they have."
      ]
    },
    {
      "cell_type": "code",
      "metadata": {
        "id": "0Jmv2tYqOUV7",
        "colab_type": "code",
        "colab": {}
      },
      "source": [
        "import geopandas as gpd\n",
        "import maup\n",
        "import matplotlib.pyplot as plt"
      ],
      "execution_count": null,
      "outputs": []
    },
    {
      "cell_type": "code",
      "metadata": {
        "id": "aoiz6OcmOUWB",
        "colab_type": "code",
        "colab": {}
      },
      "source": [
        "#load a block group shapefile\n",
        "block_groups = gpd.read_file(\"maup-exercise/lowell_bgs.shp\")"
      ],
      "execution_count": null,
      "outputs": []
    },
    {
      "cell_type": "code",
      "metadata": {
        "id": "p8dLBW5TOUWK",
        "colab_type": "code",
        "colab": {}
      },
      "source": [
        "#let's look at the block group data a bit\n",
        "block_groups.plot()\n",
        "print(\"There are {} rows in the shapefile\".format(len(block_groups)))\n",
        "print(\"The block group shapefile has columns: \", block_groups.columns)"
      ],
      "execution_count": null,
      "outputs": []
    },
    {
      "cell_type": "code",
      "metadata": {
        "id": "4s5CusgoOUWP",
        "colab_type": "code",
        "colab": {}
      },
      "source": [
        "#load a block shapefile\n",
        "blocks = gpd.read_file(\"maup-exercise/lowell_blocks.shp\")"
      ],
      "execution_count": null,
      "outputs": []
    },
    {
      "cell_type": "code",
      "metadata": {
        "id": "pWnqx9H0OUWS",
        "colab_type": "code",
        "colab": {}
      },
      "source": [
        "#let's look at the data a bit\n",
        "blocks.plot()\n",
        "print(\"There are {} rows in the shapefile\".format(len(blocks)))\n",
        "print(\"The block group shapefile has columns: \", blocks.columns)"
      ],
      "execution_count": null,
      "outputs": []
    },
    {
      "cell_type": "markdown",
      "metadata": {
        "id": "bA4cHpgqOUWY",
        "colab_type": "text"
      },
      "source": [
        "Notice that the blocks shapefile doesn't have CVAP, but the block group shapefile does. We want to use the block group CVAP data to get approximate CVAP on blocks. To give you some intuition for how this works, let's look at just one block group."
      ]
    },
    {
      "cell_type": "code",
      "metadata": {
        "id": "PZx-5U1fOUWZ",
        "colab_type": "code",
        "colab": {}
      },
      "source": [
        "#pull out one block group as a demonstration\n",
        "example_block_group = block_groups[42:43]\n",
        "example_block_group.plot()"
      ],
      "execution_count": null,
      "outputs": []
    },
    {
      "cell_type": "markdown",
      "metadata": {
        "id": "8R9jEZ6ZOUWd",
        "colab_type": "raw"
      },
      "source": [
        "Now that we have our example block group, let's plot its boundary on top of our blocks."
      ]
    },
    {
      "cell_type": "code",
      "metadata": {
        "id": "JLOTCfl1OUWe",
        "colab_type": "code",
        "colab": {}
      },
      "source": [
        "fig, ax = plt.subplots(figsize=(20,10)) #makes the figure nice and big\n",
        "blocks.plot(ax=ax)\n",
        "example_block_group.boundary.plot(ax=ax,color='yellow', linewidth=10)"
      ],
      "execution_count": null,
      "outputs": []
    },
    {
      "cell_type": "markdown",
      "metadata": {
        "id": "l8avEXJmOUWi",
        "colab_type": "text"
      },
      "source": [
        "As you can see, our block group contains many blocks. One simple idea would be to divide the CVAP in the block group equally among all the blocks in it. Take a minute and think for yourself whether this is a good idea before proceeding on."
      ]
    },
    {
      "cell_type": "code",
      "metadata": {
        "id": "p-CkliAQOUWj",
        "colab_type": "code",
        "colab": {}
      },
      "source": [
        "#plot the same plot, but with population shown for blocks\n",
        "fig, ax = plt.subplots(figsize=(20,10)) #makes the figure nice and big\n",
        "blocks.plot(ax=ax, column='TOTPOP', cmap='Blues',legend=True,edgecolor='black')\n",
        "example_block_group.boundary.plot(ax=ax,color='yellow', linewidth=8)"
      ],
      "execution_count": null,
      "outputs": []
    },
    {
      "cell_type": "markdown",
      "metadata": {
        "id": "mtmB3F8NOUWm",
        "colab_type": "text"
      },
      "source": [
        "The plot above shows the population by block. Most of the population is in just one block! It's therefore not realistic to share the CVAP equally among all the blocks in our block group. Instead, we should give CVAP to each block according to its population. This is what we refer to as _proration_ or _disaggregation_."
      ]
    },
    {
      "cell_type": "markdown",
      "metadata": {
        "id": "67Tvz6aqOUWn",
        "colab_type": "text"
      },
      "source": [
        "### Using MAUP for disaggregation"
      ]
    },
    {
      "cell_type": "markdown",
      "metadata": {
        "id": "IxCW0mGGOUWo",
        "colab_type": "text"
      },
      "source": [
        "Fortunately, the MAUP package does this process for us. Let's give it a shot. The first thing we must ALWAYS do is make sure the two shapefiles (blocks and block_groups) are in the same projection!"
      ]
    },
    {
      "cell_type": "code",
      "metadata": {
        "id": "Gpx7RSKKOUWo",
        "colab_type": "code",
        "colab": {}
      },
      "source": [
        "#let's find out which projection the block shapefile is in\n",
        "blocks.crs"
      ],
      "execution_count": null,
      "outputs": []
    },
    {
      "cell_type": "code",
      "metadata": {
        "id": "ujTxxRt3OUWs",
        "colab_type": "code",
        "colab": {}
      },
      "source": [
        "#let's reproject them to a local MA projection (ignore the warning)\n",
        "blocks = blocks.to_crs({\"init\":\"epsg:2249\"})"
      ],
      "execution_count": null,
      "outputs": []
    },
    {
      "cell_type": "code",
      "metadata": {
        "id": "cuYHo9v4OUWw",
        "colab_type": "code",
        "colab": {}
      },
      "source": [
        "#project block_groups to same projection as blocks\n",
        "block_groups = block_groups.to_crs(blocks.crs)"
      ],
      "execution_count": null,
      "outputs": []
    },
    {
      "cell_type": "code",
      "metadata": {
        "id": "ZwdZGUAuOUWy",
        "colab_type": "code",
        "colab": {}
      },
      "source": [
        "#this assigns blocks to block groups than contain it (this can take a while with big shapefiles!)\n",
        "#fill in the ellipses with the geodataframes for the smaller units and the bigger units respectively\n",
        "assignment = maup.assign(..., ...)"
      ],
      "execution_count": null,
      "outputs": []
    },
    {
      "cell_type": "code",
      "metadata": {
        "id": "f4oJL10sOUW2",
        "colab_type": "code",
        "colab": {}
      },
      "source": [
        "#this gets us the weighting for each block by population\n",
        "weights = blocks.TOTPOP / assignment.map(block_groups.TOTPOP)"
      ],
      "execution_count": null,
      "outputs": []
    },
    {
      "cell_type": "code",
      "metadata": {
        "id": "AhKNDaNYOUW5",
        "colab_type": "code",
        "colab": {}
      },
      "source": [
        "#these are the columns we want to prorate to blocks\n",
        "columns = ['CVAP', 'CVAPHISP', 'CVAPWHITE', 'CVAPASIAN']"
      ],
      "execution_count": null,
      "outputs": []
    },
    {
      "cell_type": "code",
      "metadata": {
        "id": "E3_VZQ69OUW8",
        "colab_type": "code",
        "colab": {}
      },
      "source": [
        "#now we do the proration from block groups onto blocks\n",
        "prorated = maup.prorate(assignment, block_groups[columns], weights)\n",
        "#remember to put the new data onto the blocks\n",
        "blocks[columns] = prorated"
      ],
      "execution_count": null,
      "outputs": []
    },
    {
      "cell_type": "markdown",
      "metadata": {
        "id": "XBHAvpD0OUW_",
        "colab_type": "text"
      },
      "source": [
        "That's it! We've put CVAP on blocks. Let's take a look at our new data. Let's plot blocks showing the percent of the population that are voting age citizens."
      ]
    },
    {
      "cell_type": "code",
      "metadata": {
        "id": "ICc2b6JOOUXB",
        "colab_type": "code",
        "colab": {}
      },
      "source": [
        "blocks.plot(column=blocks.CVAP.divide(blocks.TOTPOP),cmap='Blues', legend=True)"
      ],
      "execution_count": null,
      "outputs": []
    },
    {
      "cell_type": "code",
      "metadata": {
        "id": "cNIHVkCBOUXF",
        "colab_type": "code",
        "colab": {}
      },
      "source": [
        "#let's save our file so we can open it later\n",
        "blocks.to_file(\"lowell_blocks_with_new_data.shp\")"
      ],
      "execution_count": null,
      "outputs": []
    },
    {
      "cell_type": "markdown",
      "metadata": {
        "id": "lEAIwPIHOUXI",
        "colab_type": "text"
      },
      "source": [
        "*Extra challenge (optional):* By making more plots, find some other demographic stats that look like they are correlated (or anti-correlated) with the percent of the population that are voting age citizens."
      ]
    },
    {
      "cell_type": "markdown",
      "metadata": {
        "id": "bDo5mGLYOUXJ",
        "colab_type": "text"
      },
      "source": [
        "### Sanity checks!"
      ]
    },
    {
      "cell_type": "markdown",
      "metadata": {
        "id": "PK42tWnaOUXJ",
        "colab_type": "text"
      },
      "source": [
        "Let's do at least one check to make sure we didn't mess up."
      ]
    },
    {
      "cell_type": "code",
      "metadata": {
        "id": "ydRaw9wCOUXK",
        "colab_type": "code",
        "colab": {}
      },
      "source": [
        "#the total CVAP using the block group shapefile\n",
        "print(\"TOTAL CVAP using block groups:\", block_groups['CVAP'].sum())"
      ],
      "execution_count": null,
      "outputs": []
    },
    {
      "cell_type": "code",
      "metadata": {
        "id": "yXB5chmSOUXO",
        "colab_type": "code",
        "colab": {}
      },
      "source": [
        "#the total CVAP using the block shapefile\n",
        "print(\"TOTAL CVAP using blocks:\", blocks['CVAP'].sum())"
      ],
      "execution_count": null,
      "outputs": []
    },
    {
      "cell_type": "markdown",
      "metadata": {
        "id": "aJinA936OUXQ",
        "colab_type": "text"
      },
      "source": [
        "There may be some rounding error, but the numbers should be roughly the same."
      ]
    },
    {
      "cell_type": "markdown",
      "metadata": {
        "id": "plv5fQvzOUXR",
        "colab_type": "text"
      },
      "source": [
        "## Part 2: Aggregating demographic data from blocks to precincts\n",
        "Let's get demographic data from census blocks up to precincts. If the blocks fit perfectly inside the precincts, this should be 100% accurate (no approximation required). "
      ]
    },
    {
      "cell_type": "markdown",
      "metadata": {
        "id": "rkQLD9Q6OUXR",
        "colab_type": "text"
      },
      "source": [
        "### Exploring precinct and block data"
      ]
    },
    {
      "cell_type": "markdown",
      "metadata": {
        "id": "Xz3wJuOaOUXS",
        "colab_type": "text"
      },
      "source": [
        "Let's load some voting precincts, and take a look at how they look over blocks."
      ]
    },
    {
      "cell_type": "code",
      "metadata": {
        "id": "BQ2cf8NkOUXS",
        "colab_type": "code",
        "colab": {}
      },
      "source": [
        "#load a precinct shapefile\n",
        "precincts = gpd.read_file(\"maup-exercise/lowell_precincts.shp\")"
      ],
      "execution_count": null,
      "outputs": []
    },
    {
      "cell_type": "code",
      "metadata": {
        "id": "M_FhKN--OUXV",
        "colab_type": "code",
        "colab": {}
      },
      "source": [
        "#reproject the precincts (ignore warnings again)\n",
        "precincts = precincts.to_crs({\"init\":\"epsg:2249\"})"
      ],
      "execution_count": null,
      "outputs": []
    },
    {
      "cell_type": "code",
      "metadata": {
        "id": "bxxykkjPOUXZ",
        "colab_type": "code",
        "colab": {}
      },
      "source": [
        "#let's look at precincts over blocks\n",
        "fig, ax = plt.subplots(figsize=(20,10)) #makes the figure nice and big\n",
        "blocks.plot(ax=ax)\n",
        "precincts.boundary.plot(ax=ax,color='yellow', linewidth=3)"
      ],
      "execution_count": null,
      "outputs": []
    },
    {
      "cell_type": "markdown",
      "metadata": {
        "id": "UeSirqMJOUXc",
        "colab_type": "text"
      },
      "source": [
        "### Using MAUP to aggregate demographic data up to precincts"
      ]
    },
    {
      "cell_type": "markdown",
      "metadata": {
        "id": "Xt1IXgLxOUXd",
        "colab_type": "text"
      },
      "source": [
        "We want to add demographic data to our precinct shapefile. This time, we are going from smaller units (blocks) to larger units (precincts), so we are going to just add up all the block data in each precinct. Sometimes a block touches multiple precincts, which makes things hard. Fortunately, MAUP handles that for us by choosing the precinct with the highest overlap."
      ]
    },
    {
      "cell_type": "code",
      "metadata": {
        "id": "vBMJ_KhyOUXd",
        "colab_type": "code",
        "colab": {}
      },
      "source": [
        "#this gives us an assignment for each block to the best precinct for it\n",
        "#fill in the ellipses with the smaller units and the bigger units respectively\n",
        "assignment = maup.assign(..., ...)"
      ],
      "execution_count": null,
      "outputs": []
    },
    {
      "cell_type": "code",
      "metadata": {
        "id": "u14ccTw6OUXh",
        "colab_type": "code",
        "colab": {}
      },
      "source": [
        "#these are the columns we want to add to our precincts\n",
        "variables = ['TOTPOP', 'NH_WHITE',\n",
        "       'NH_BLACK', 'NH_AMIN', 'NH_ASIAN', 'NH_NHPI', 'NH_OTHER', 'NH_2MORE',\n",
        "       'HISP', 'H_WHITE', 'H_BLACK', 'H_AMIN', 'H_ASIAN', 'H_NHPI', 'H_OTHER',\n",
        "       'H_2MORE', 'VAP', 'HVAP', 'WVAP', 'BVAP', 'AMINVAP', 'ASIANVAP',\n",
        "       'NHPIVAP', 'OTHERVAP', '2MOREVAP', 'CVAP', 'CVAPHISP', 'CVAPWHITE',\n",
        "       'CVAPASIAN']"
      ],
      "execution_count": null,
      "outputs": []
    },
    {
      "cell_type": "code",
      "metadata": {
        "id": "G_O8AcYWOUXj",
        "colab_type": "code",
        "colab": {}
      },
      "source": [
        "#now we need to add up the data for each precinct\n",
        "precincts[variables] = blocks[variables].groupby(assignment).sum()"
      ],
      "execution_count": null,
      "outputs": []
    },
    {
      "cell_type": "markdown",
      "metadata": {
        "id": "qLdvcpSQOUXm",
        "colab_type": "text"
      },
      "source": [
        "That's it! We've used blocks to put demographic data on precincts. Let's take a quick look at our new data. We'll plot the precincts colored by how much of their CVAP is Hispanic."
      ]
    },
    {
      "cell_type": "code",
      "metadata": {
        "id": "35ceYRfROUXn",
        "colab_type": "code",
        "colab": {}
      },
      "source": [
        "precincts.plot(column=precincts.CVAPHISP.divide(precincts.CVAP),cmap='Blues',legend=True)"
      ],
      "execution_count": null,
      "outputs": []
    },
    {
      "cell_type": "code",
      "metadata": {
        "id": "2plWC8_xOUXr",
        "colab_type": "code",
        "colab": {}
      },
      "source": [
        "#let's save our file\n",
        "precincts.to_file(\"lowell_precincts_with_new_data.shp\")"
      ],
      "execution_count": null,
      "outputs": []
    },
    {
      "cell_type": "markdown",
      "metadata": {
        "id": "esOVOWWrOUXu",
        "colab_type": "text"
      },
      "source": [
        "### Sanity checks!"
      ]
    },
    {
      "cell_type": "code",
      "metadata": {
        "id": "vf5b4rYEOUXu",
        "colab_type": "code",
        "colab": {}
      },
      "source": [
        "#the total CVAP using the block group shapefile\n",
        "print(\"TOTAL CVAP using blocks:\", blocks['CVAP'].sum())\n",
        "#the total CVAP using the block group shapefile\n",
        "print(\"TOTAL CVAP using precincts:\", precincts['CVAP'].sum())"
      ],
      "execution_count": null,
      "outputs": []
    },
    {
      "cell_type": "markdown",
      "metadata": {
        "id": "Pp4FNPjhtp4q",
        "colab_type": "text"
      },
      "source": [
        "## Part 3: Assigning blocks to districts\n",
        "We can also use MAUP to assign blocks to districts (or wards, as they are sometimes called). As an example, let's look at some sample districts proposed by the MGGG for Lowell.  "
      ]
    },
    {
      "cell_type": "markdown",
      "metadata": {
        "id": "Gk0t0Gxlw-yV",
        "colab_type": "text"
      },
      "source": [
        "### Exploring district data"
      ]
    },
    {
      "cell_type": "code",
      "metadata": {
        "id": "EaCJ_B-ItqYp",
        "colab_type": "code",
        "colab": {}
      },
      "source": [
        "#the sample districts as a shapefile\n",
        "districts = gpd.read_file('maup-exercise/lowell_sample_plan.shp')"
      ],
      "execution_count": null,
      "outputs": []
    },
    {
      "cell_type": "code",
      "metadata": {
        "id": "638QoT-Gtqch",
        "colab_type": "code",
        "colab": {}
      },
      "source": [
        "#taking a look at the districts on a map\n",
        "districts.plot(cmap='tab10')"
      ],
      "execution_count": null,
      "outputs": []
    },
    {
      "cell_type": "code",
      "metadata": {
        "id": "ur3QgdvVw2I5",
        "colab_type": "code",
        "colab": {}
      },
      "source": [
        "#taking a look at the data itself\n",
        "districts.head()"
      ],
      "execution_count": null,
      "outputs": []
    },
    {
      "cell_type": "markdown",
      "metadata": {
        "id": "X2vJXXRfxIns",
        "colab_type": "text"
      },
      "source": [
        "### Using MAUP to assign blocks to districts"
      ]
    },
    {
      "cell_type": "markdown",
      "metadata": {
        "id": "tyTNptwrxQbv",
        "colab_type": "text"
      },
      "source": [
        "Assigning blocks to districts works roughly the same as assigning blocks to precincts. We will make one small change so that when the district names are put on the block data, MAUP uses the actual names of the districts and not just the index. In other words, we want to see \"District 7\" instead of just a number."
      ]
    },
    {
      "cell_type": "code",
      "metadata": {
        "id": "-92St8oAyNrB",
        "colab_type": "code",
        "colab": {}
      },
      "source": [
        "#always reproject! \n",
        "districts = districts.to_crs(blocks.crs)"
      ],
      "execution_count": null,
      "outputs": []
    },
    {
      "cell_type": "code",
      "metadata": {
        "id": "hjNofFiJwmU1",
        "colab_type": "code",
        "colab": {}
      },
      "source": [
        "#let's assign blocks to districts, using 'District' as the index column\n",
        "assignment = maup.assign(blocks, districts.set_index('District')) "
      ],
      "execution_count": null,
      "outputs": []
    },
    {
      "cell_type": "code",
      "metadata": {
        "id": "kcmnYbyGyem_",
        "colab_type": "code",
        "colab": {}
      },
      "source": [
        "#put the District field onto the block data\n",
        "blocks['District'] = assignment"
      ],
      "execution_count": null,
      "outputs": []
    },
    {
      "cell_type": "markdown",
      "metadata": {
        "id": "YQVT-215yoAj",
        "colab_type": "text"
      },
      "source": [
        "### Sanity checks and computing demographic stats of districts"
      ]
    },
    {
      "cell_type": "code",
      "metadata": {
        "id": "q8Un7d5-ytPI",
        "colab_type": "code",
        "colab": {}
      },
      "source": [
        "#plot blocks colored by district to see if we did a good job (compare to the picture above)\n",
        "#note that the legend shows the District names, not numbers!\n",
        "blocks.plot(column='District', legend=True)"
      ],
      "execution_count": null,
      "outputs": []
    },
    {
      "cell_type": "code",
      "metadata": {
        "id": "hoS-Tm6Uy2SM",
        "colab_type": "code",
        "colab": {}
      },
      "source": [
        "#we can now compute demographic stats, like what percent Hispanic CVAP each district has\n",
        "district_demographics = blocks.groupby('District').sum()[['CVAP', 'CVAPASIAN','CVAPHISP']]\n",
        "district_demographics.head()"
      ],
      "execution_count": null,
      "outputs": []
    },
    {
      "cell_type": "code",
      "metadata": {
        "id": "witm2cNczhV_",
        "colab_type": "code",
        "colab": {}
      },
      "source": [
        "#let's calculate the percent of CVAP that is either Hispanic or Asian \n",
        "(district_demographics['CVAPASIAN']+district_demographics['CVAPHISP']).divide(district_demographics['CVAP'])"
      ],
      "execution_count": null,
      "outputs": []
    },
    {
      "cell_type": "markdown",
      "metadata": {
        "id": "2rdkQtrKz6eU",
        "colab_type": "text"
      },
      "source": [
        "Do you see three districts over 40%? This map was designed to have three districts with high 'coalition' (Asian + Hispanic) voting populations."
      ]
    },
    {
      "cell_type": "markdown",
      "metadata": {
        "id": "2D-0BycsOUXx",
        "colab_type": "text"
      },
      "source": [
        "# Summary"
      ]
    },
    {
      "cell_type": "markdown",
      "metadata": {
        "id": "WFuJzsMVOUXx",
        "colab_type": "text"
      },
      "source": [
        "Let's summarize what we have done in this exercise. Our goal was to get demographic data onto precincts. Some of it was at the block level and some was at the block group level. We therefore _disaggregated_ CVAP from block groups to blocks and then _aggregated_ the CVAP data and the data that was already on the blocks up to precincts. Here's a picture of what we did:"
      ]
    },
    {
      "cell_type": "markdown",
      "metadata": {
        "id": "e7eSOUacOUXy",
        "colab_type": "text"
      },
      "source": [
        "![](https://drive.google.com/uc?export=view&id=1JjziUCOCB_dJjBJoQNdksSlMx3T1HBb_)"
      ]
    },
    {
      "cell_type": "markdown",
      "metadata": {
        "id": "xeVsr3q7OUXy",
        "colab_type": "text"
      },
      "source": [
        "# Next steps"
      ]
    },
    {
      "cell_type": "markdown",
      "metadata": {
        "id": "V979mcNtOUXz",
        "colab_type": "text"
      },
      "source": [
        "As a next step (if you have time), why don't you try doing all of this for Everett MA, another city where the MGGG analyzed electoral reform in the context of minority representation. You can go and change the code above directly, or write/paste your own code in the blocks below. Jupyter notebooks (that's what this code is in) are designed for play!\n",
        "\n",
        "Some prepared files are already available:\n",
        "- maup-exercise/everett_bgs.shp (block groups)\n",
        "- maup-exercise/everett_blocks.shp (blocks)\n",
        "- maup-exercise/everett_precincts.shp (precincts)\n",
        "- maup-exercise/everett_city_wards.shp (current districts)\n",
        "\n",
        "You may have to change the column names as you go (CVAPHISP may be called HCVAP, for example), but that's part of the experience."
      ]
    },
    {
      "cell_type": "markdown",
      "metadata": {
        "id": "D4uJTZYY3mMK",
        "colab_type": "text"
      },
      "source": [
        "**Possible goal:** Find the non-white CVAP percentages for the current Everett districts."
      ]
    },
    {
      "cell_type": "code",
      "metadata": {
        "id": "Z-tHhO-EOUXz",
        "colab_type": "code",
        "colab": {}
      },
      "source": [
        ""
      ],
      "execution_count": null,
      "outputs": []
    }
  ]
}