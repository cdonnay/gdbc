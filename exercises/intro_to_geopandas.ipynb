{
  "nbformat": 4,
  "nbformat_minor": 0,
  "metadata": {
    "kernelspec": {
      "display_name": "Python 3",
      "language": "python",
      "name": "python3"
    },
    "language_info": {
      "codemirror_mode": {
        "name": "ipython",
        "version": 3
      },
      "file_extension": ".py",
      "mimetype": "text/x-python",
      "name": "python",
      "nbconvert_exporter": "python",
      "pygments_lexer": "ipython3",
      "version": "3.7.6"
    },
    "colab": {
      "name": "intro_to_geopandas.ipynb",
      "provenance": [],
      "collapsed_sections": [],
      "toc_visible": true
    }
  },
  "cells": [
    {
      "cell_type": "markdown",
      "metadata": {
        "id": "L9egbq_3MyOq",
        "colab_type": "text"
      },
      "source": [
        "# Python – Project 0\n",
        "## Pandas, Geopandas, Joining, Queries, Documentation oh my!\n",
        "\n",
        "\n",
        "### A Word on Documentation\n",
        "\n",
        "Throughout this exercise we will link to API documentation for functions as well as particular articles on functionality.  If you are new to coding or python library docs can often be dense and overwhelming.  Don't be discouraged; this is normal!\n",
        "\n",
        "We introduce it here, as learning how to parse it is an invaluable skill in troubleshooting (especially when it comes to type), and reading through examples in the documentation is a great way to cement your understanding of the functionality and behavior of libraries and their classes / functions.\n",
        "\n",
        "As you go through this exercise talk through the documentation pages with your cohort.  If you're unsure on the behavoir of a function, experiment and try things out!  As long as you don't overwrite files you can always re-run you code if you mess something up.  And of course feel free to ask us for clarrification if you need it. \n",
        "\n",
        "\n",
        "### Notes and Documentation Links:\n",
        "* The `!` prefix tells the notebook to run that line as a command line prompt.  Here we use that to install the geopandas and maup packages\n",
        "* When looking at API documentation for functions, you will often find example usage of the function at the bottom of the description on types\n",
        "* [pandas docs](https://pandas.pydata.org/docs/#)\n",
        "* [geopandas docs](https://geopandas.org)"
      ]
    },
    {
      "cell_type": "markdown",
      "metadata": {
        "id": "XCYFvS65MyOs",
        "colab_type": "text"
      },
      "source": [
        "## Part 0: Notebook set up and loading in \n",
        "\n",
        "Here we use demographic data from NHGIS as well as a county level shapefile we pre-prepared.\n",
        "For those of you that did the mapping homework, the data will look familiar.\n",
        "\n",
        "* The NHGIS demographic data and the `southern_counties` shapefile for this project is available on the [gdbc github](https://github.com/gerrymandr/gdbc/tree/master/PythonProject0/data)\n",
        "\t* We will clone this git repositiory here to pull in the data.\n",
        "\t* This will place all the data we need for this exercise in the `\"gdbc/PythonProject0/data\"` folder.\n",
        "\t* You can view the current files by clicking on the folder icon on the left sidebar."
      ]
    },
    {
      "cell_type": "markdown",
      "metadata": {
        "id": "lKYi8mhTs45x",
        "colab_type": "text"
      },
      "source": [
        "* Run the following three cells to install the geopandas and mapclassify packages, clone the gdbc github repo, and import the pandas, geopandas, and matplotlib to your notebook.\n",
        "* To run a cell, select the cell and press Shift+Return. Alternatively, click on the play button on the left of the cell."
      ]
    },
    {
      "cell_type": "code",
      "metadata": {
        "scrolled": true,
        "id": "xD4AUVTrMyOt",
        "colab_type": "code",
        "colab": {
          "base_uri": "https://localhost:8080/",
          "height": 819
        },
        "outputId": "187189ef-c0d0-4e6f-b632-6e708b691b0c"
      },
      "source": [
        "!pip install geopandas\n",
        "!pip install mapclassify"
      ],
      "execution_count": null,
      "outputs": [
        {
          "output_type": "stream",
          "text": [
            "Collecting geopandas\n",
            "\u001b[?25l  Downloading https://files.pythonhosted.org/packages/83/c5/3cf9cdc39a6f2552922f79915f36b45a95b71fd343cfc51170a5b6ddb6e8/geopandas-0.7.0-py2.py3-none-any.whl (928kB)\n",
            "\u001b[K     |████████████████████████████████| 931kB 2.8MB/s \n",
            "\u001b[?25hRequirement already satisfied: shapely in /usr/local/lib/python3.6/dist-packages (from geopandas) (1.7.0)\n",
            "Collecting fiona\n",
            "\u001b[?25l  Downloading https://files.pythonhosted.org/packages/ec/20/4e63bc5c6e62df889297b382c3ccd4a7a488b00946aaaf81a118158c6f09/Fiona-1.8.13.post1-cp36-cp36m-manylinux1_x86_64.whl (14.7MB)\n",
            "\u001b[K     |████████████████████████████████| 14.7MB 299kB/s \n",
            "\u001b[?25hCollecting pyproj>=2.2.0\n",
            "\u001b[?25l  Downloading https://files.pythonhosted.org/packages/e5/c3/071e080230ac4b6c64f1a2e2f9161c9737a2bc7b683d2c90b024825000c0/pyproj-2.6.1.post1-cp36-cp36m-manylinux2010_x86_64.whl (10.9MB)\n",
            "\u001b[K     |████████████████████████████████| 10.9MB 47.0MB/s \n",
            "\u001b[?25hRequirement already satisfied: pandas>=0.23.0 in /usr/local/lib/python3.6/dist-packages (from geopandas) (1.0.4)\n",
            "Collecting click-plugins>=1.0\n",
            "  Downloading https://files.pythonhosted.org/packages/e9/da/824b92d9942f4e472702488857914bdd50f73021efea15b4cad9aca8ecef/click_plugins-1.1.1-py2.py3-none-any.whl\n",
            "Requirement already satisfied: click<8,>=4.0 in /usr/local/lib/python3.6/dist-packages (from fiona->geopandas) (7.1.2)\n",
            "Requirement already satisfied: six>=1.7 in /usr/local/lib/python3.6/dist-packages (from fiona->geopandas) (1.12.0)\n",
            "Collecting cligj>=0.5\n",
            "  Downloading https://files.pythonhosted.org/packages/e4/be/30a58b4b0733850280d01f8bd132591b4668ed5c7046761098d665ac2174/cligj-0.5.0-py3-none-any.whl\n",
            "Requirement already satisfied: attrs>=17 in /usr/local/lib/python3.6/dist-packages (from fiona->geopandas) (19.3.0)\n",
            "Collecting munch\n",
            "  Downloading https://files.pythonhosted.org/packages/cc/ab/85d8da5c9a45e072301beb37ad7f833cd344e04c817d97e0cc75681d248f/munch-2.5.0-py2.py3-none-any.whl\n",
            "Requirement already satisfied: numpy>=1.13.3 in /usr/local/lib/python3.6/dist-packages (from pandas>=0.23.0->geopandas) (1.18.5)\n",
            "Requirement already satisfied: pytz>=2017.2 in /usr/local/lib/python3.6/dist-packages (from pandas>=0.23.0->geopandas) (2018.9)\n",
            "Requirement already satisfied: python-dateutil>=2.6.1 in /usr/local/lib/python3.6/dist-packages (from pandas>=0.23.0->geopandas) (2.8.1)\n",
            "Installing collected packages: click-plugins, cligj, munch, fiona, pyproj, geopandas\n",
            "Successfully installed click-plugins-1.1.1 cligj-0.5.0 fiona-1.8.13.post1 geopandas-0.7.0 munch-2.5.0 pyproj-2.6.1.post1\n",
            "Collecting mapclassify\n",
            "\u001b[?25l  Downloading https://files.pythonhosted.org/packages/91/b5/6b54f40901d89f2ce30cf2d8110dd57658db3e95db79baba6706d7588691/mapclassify-2.2.0.tar.gz (47kB)\n",
            "\u001b[K     |████████████████████████████████| 51kB 1.7MB/s \n",
            "\u001b[?25hRequirement already satisfied: scipy>=0.11 in /usr/local/lib/python3.6/dist-packages (from mapclassify) (1.4.1)\n",
            "Requirement already satisfied: numpy>=1.3 in /usr/local/lib/python3.6/dist-packages (from mapclassify) (1.18.5)\n",
            "Requirement already satisfied: scikit-learn in /usr/local/lib/python3.6/dist-packages (from mapclassify) (0.22.2.post1)\n",
            "Requirement already satisfied: pandas in /usr/local/lib/python3.6/dist-packages (from mapclassify) (1.0.4)\n",
            "Collecting deprecated\n",
            "  Downloading https://files.pythonhosted.org/packages/76/a1/05d7f62f956d77b23a640efc650f80ce24483aa2f85a09c03fb64f49e879/Deprecated-1.2.10-py2.py3-none-any.whl\n",
            "Requirement already satisfied: joblib>=0.11 in /usr/local/lib/python3.6/dist-packages (from scikit-learn->mapclassify) (0.15.1)\n",
            "Requirement already satisfied: python-dateutil>=2.6.1 in /usr/local/lib/python3.6/dist-packages (from pandas->mapclassify) (2.8.1)\n",
            "Requirement already satisfied: pytz>=2017.2 in /usr/local/lib/python3.6/dist-packages (from pandas->mapclassify) (2018.9)\n",
            "Requirement already satisfied: wrapt<2,>=1.10 in /usr/local/lib/python3.6/dist-packages (from deprecated->mapclassify) (1.12.1)\n",
            "Requirement already satisfied: six>=1.5 in /usr/local/lib/python3.6/dist-packages (from python-dateutil>=2.6.1->pandas->mapclassify) (1.12.0)\n",
            "Building wheels for collected packages: mapclassify\n",
            "  Building wheel for mapclassify (setup.py) ... \u001b[?25l\u001b[?25hdone\n",
            "  Created wheel for mapclassify: filename=mapclassify-2.2.0-cp36-none-any.whl size=47028 sha256=cb90e28e0242e7c0e68ffe0adcf7c73af2934f27a743d38940e6aa4c91306931\n",
            "  Stored in directory: /root/.cache/pip/wheels/96/0c/c1/b2bce9fc10da2e6c6befc9fe5929adca7c71b7c4abd1fc42f0\n",
            "Successfully built mapclassify\n",
            "Installing collected packages: deprecated, mapclassify\n",
            "Successfully installed deprecated-1.2.10 mapclassify-2.2.0\n"
          ],
          "name": "stdout"
        }
      ]
    },
    {
      "cell_type": "code",
      "metadata": {
        "id": "Bh2zKJf92y1S",
        "colab_type": "code",
        "colab": {
          "base_uri": "https://localhost:8080/",
          "height": 136
        },
        "outputId": "332cd5e0-b7a6-42dc-9511-e2f68981584b"
      },
      "source": [
        "!git clone https://github.com/gerrymandr/gdbc.git"
      ],
      "execution_count": null,
      "outputs": [
        {
          "output_type": "stream",
          "text": [
            "Cloning into 'gdbc'...\n",
            "remote: Enumerating objects: 188, done.\u001b[K\n",
            "remote: Counting objects: 100% (188/188), done.\u001b[K\n",
            "remote: Compressing objects: 100% (154/154), done.\u001b[K\n",
            "remote: Total 188 (delta 27), reused 88 (delta 14), pack-reused 0\u001b[K\n",
            "Receiving objects: 100% (188/188), 3.41 MiB | 3.02 MiB/s, done.\n",
            "Resolving deltas: 100% (27/27), done.\n"
          ],
          "name": "stdout"
        }
      ]
    },
    {
      "cell_type": "code",
      "metadata": {
        "id": "oI9YB2ViMyOx",
        "colab_type": "code",
        "colab": {}
      },
      "source": [
        "import pandas as pd\n",
        "import geopandas as gpd\n",
        "import matplotlib.pyplot as plt"
      ],
      "execution_count": null,
      "outputs": []
    },
    {
      "cell_type": "markdown",
      "metadata": {
        "id": "qIH8Z2pPMyO0",
        "colab_type": "text"
      },
      "source": [
        "## Part 1: Data cleaning with pandas\n",
        "\n",
        "* Check out the [codebook](https://github.com/gerrymandr/gdbc/blob/master/PythonProject0/data/nhgis0026_ds172_2010_county_codebook.txt) first. Look at all of the categories for spatial and population data.\n",
        "* The [pandas.read_csv function](https://pandas.pydata.org/pandas-docs/stable/reference/api/pandas.read_csv.html) can be used to load a csv from a url.  Using this function and the url below, read in the csv data and save it at a new variable `county_data`.\"\n",
        "* The variable `county_data` is what is refered to in pandas as a DataFrame, which you can think about as a table."
      ]
    },
    {
      "cell_type": "code",
      "metadata": {
        "id": "2amVrlaG3kVv",
        "colab_type": "code",
        "colab": {}
      },
      "source": [
        "file_path = \"gdbc/PythonProject0/data/nhgis0026_ds172_2010_county.csv\""
      ],
      "execution_count": null,
      "outputs": []
    },
    {
      "cell_type": "code",
      "metadata": {
        "id": "QENc4L1rQK37",
        "colab_type": "code",
        "colab": {}
      },
      "source": [
        "# read in the demographic data, replace ellipses with the name of the document\n",
        "county_data = pd.read_csv(...)\n"
      ],
      "execution_count": null,
      "outputs": []
    },
    {
      "cell_type": "code",
      "metadata": {
        "id": "m2JyxXiR4XKd",
        "colab_type": "code",
        "colab": {}
      },
      "source": [
        ""
      ],
      "execution_count": null,
      "outputs": []
    },
    {
      "cell_type": "markdown",
      "metadata": {
        "id": "kfEEgZHzYSzT",
        "colab_type": "text"
      },
      "source": [
        "* The [pandas.head function](https://pandas.pydata.org/pandas-docs/stable/reference/api/pandas.DataFrame.head.html) shows the first lines of the dataFrame. \n",
        "* You can put a number in the parenthesis function to specify the number of rows to show (the default, with no number, is 5). \n",
        "* You should get into the habit of using the head function to examine the dataframe that you are working with.\n",
        "* Here, run the block below to check that the dataframe resembles the spreadsheet you downloaded"
      ]
    },
    {
      "cell_type": "code",
      "metadata": {
        "id": "c9TIOJFDMyO4",
        "colab_type": "code",
        "colab": {
          "base_uri": "https://localhost:8080/",
          "height": 338
        },
        "outputId": "8b045d63-3f12-4559-c012-47190bf3a17c"
      },
      "source": [
        "# View first 5 lines\n",
        "county_data.head()"
      ],
      "execution_count": null,
      "outputs": [
        {
          "output_type": "execute_result",
          "data": {
            "text/html": [
              "<div>\n",
              "<style scoped>\n",
              "    .dataframe tbody tr th:only-of-type {\n",
              "        vertical-align: middle;\n",
              "    }\n",
              "\n",
              "    .dataframe tbody tr th {\n",
              "        vertical-align: top;\n",
              "    }\n",
              "\n",
              "    .dataframe thead th {\n",
              "        text-align: right;\n",
              "    }\n",
              "</style>\n",
              "<table border=\"1\" class=\"dataframe\">\n",
              "  <thead>\n",
              "    <tr style=\"text-align: right;\">\n",
              "      <th></th>\n",
              "      <th>GISJOIN</th>\n",
              "      <th>YEAR</th>\n",
              "      <th>REGIONA</th>\n",
              "      <th>DIVISIONA</th>\n",
              "      <th>STATE</th>\n",
              "      <th>STATEA</th>\n",
              "      <th>COUNTY</th>\n",
              "      <th>COUNTYA</th>\n",
              "      <th>COUSUBA</th>\n",
              "      <th>PLACEA</th>\n",
              "      <th>TRACTA</th>\n",
              "      <th>BLKGRPA</th>\n",
              "      <th>BLOCKA</th>\n",
              "      <th>CONCITA</th>\n",
              "      <th>AIANHHA</th>\n",
              "      <th>RES_ONLYA</th>\n",
              "      <th>TRUSTA</th>\n",
              "      <th>AITSCEA</th>\n",
              "      <th>TTRACTA</th>\n",
              "      <th>TBLKGRPA</th>\n",
              "      <th>ANRCA</th>\n",
              "      <th>CBSAA</th>\n",
              "      <th>METDIVA</th>\n",
              "      <th>CSAA</th>\n",
              "      <th>NECTAA</th>\n",
              "      <th>NECTADIVA</th>\n",
              "      <th>CNECTAA</th>\n",
              "      <th>UAA</th>\n",
              "      <th>URBRURALA</th>\n",
              "      <th>CDA</th>\n",
              "      <th>SLDUA</th>\n",
              "      <th>SLDLA</th>\n",
              "      <th>ZCTA5A</th>\n",
              "      <th>SUBMCDA</th>\n",
              "      <th>SDELMA</th>\n",
              "      <th>SDSECA</th>\n",
              "      <th>SDUNIA</th>\n",
              "      <th>NAME</th>\n",
              "      <th>SABINSA</th>\n",
              "      <th>H74001</th>\n",
              "      <th>...</th>\n",
              "      <th>H74032</th>\n",
              "      <th>H74033</th>\n",
              "      <th>H74034</th>\n",
              "      <th>H74035</th>\n",
              "      <th>H74036</th>\n",
              "      <th>H74037</th>\n",
              "      <th>H74038</th>\n",
              "      <th>H74039</th>\n",
              "      <th>H74040</th>\n",
              "      <th>H74041</th>\n",
              "      <th>H74042</th>\n",
              "      <th>H74043</th>\n",
              "      <th>H74044</th>\n",
              "      <th>H74045</th>\n",
              "      <th>H74046</th>\n",
              "      <th>H74047</th>\n",
              "      <th>H74048</th>\n",
              "      <th>H74049</th>\n",
              "      <th>H74050</th>\n",
              "      <th>H74051</th>\n",
              "      <th>H74052</th>\n",
              "      <th>H74053</th>\n",
              "      <th>H74054</th>\n",
              "      <th>H74055</th>\n",
              "      <th>H74056</th>\n",
              "      <th>H74057</th>\n",
              "      <th>H74058</th>\n",
              "      <th>H74059</th>\n",
              "      <th>H74060</th>\n",
              "      <th>H74061</th>\n",
              "      <th>H74062</th>\n",
              "      <th>H74063</th>\n",
              "      <th>H74064</th>\n",
              "      <th>H74065</th>\n",
              "      <th>H74066</th>\n",
              "      <th>H74067</th>\n",
              "      <th>H74068</th>\n",
              "      <th>H74069</th>\n",
              "      <th>H74070</th>\n",
              "      <th>H74071</th>\n",
              "    </tr>\n",
              "  </thead>\n",
              "  <tbody>\n",
              "    <tr>\n",
              "      <th>0</th>\n",
              "      <td>G0100010</td>\n",
              "      <td>2010</td>\n",
              "      <td>3</td>\n",
              "      <td>6</td>\n",
              "      <td>Alabama</td>\n",
              "      <td>1</td>\n",
              "      <td>Autauga County</td>\n",
              "      <td>1</td>\n",
              "      <td>NaN</td>\n",
              "      <td>NaN</td>\n",
              "      <td>NaN</td>\n",
              "      <td>NaN</td>\n",
              "      <td>NaN</td>\n",
              "      <td>NaN</td>\n",
              "      <td>NaN</td>\n",
              "      <td>NaN</td>\n",
              "      <td>NaN</td>\n",
              "      <td>NaN</td>\n",
              "      <td>NaN</td>\n",
              "      <td>NaN</td>\n",
              "      <td>NaN</td>\n",
              "      <td>33860</td>\n",
              "      <td>99999</td>\n",
              "      <td>388</td>\n",
              "      <td>NaN</td>\n",
              "      <td>NaN</td>\n",
              "      <td>NaN</td>\n",
              "      <td>NaN</td>\n",
              "      <td>NaN</td>\n",
              "      <td>NaN</td>\n",
              "      <td>NaN</td>\n",
              "      <td>NaN</td>\n",
              "      <td>NaN</td>\n",
              "      <td>NaN</td>\n",
              "      <td>NaN</td>\n",
              "      <td>NaN</td>\n",
              "      <td>NaN</td>\n",
              "      <td>Autauga County</td>\n",
              "      <td>NaN</td>\n",
              "      <td>39958</td>\n",
              "      <td>...</td>\n",
              "      <td>0</td>\n",
              "      <td>4</td>\n",
              "      <td>2</td>\n",
              "      <td>1</td>\n",
              "      <td>0</td>\n",
              "      <td>0</td>\n",
              "      <td>0</td>\n",
              "      <td>0</td>\n",
              "      <td>1</td>\n",
              "      <td>0</td>\n",
              "      <td>0</td>\n",
              "      <td>0</td>\n",
              "      <td>0</td>\n",
              "      <td>0</td>\n",
              "      <td>0</td>\n",
              "      <td>2</td>\n",
              "      <td>2</td>\n",
              "      <td>0</td>\n",
              "      <td>0</td>\n",
              "      <td>0</td>\n",
              "      <td>0</td>\n",
              "      <td>0</td>\n",
              "      <td>0</td>\n",
              "      <td>0</td>\n",
              "      <td>0</td>\n",
              "      <td>0</td>\n",
              "      <td>0</td>\n",
              "      <td>0</td>\n",
              "      <td>0</td>\n",
              "      <td>0</td>\n",
              "      <td>0</td>\n",
              "      <td>0</td>\n",
              "      <td>0</td>\n",
              "      <td>0</td>\n",
              "      <td>0</td>\n",
              "      <td>0</td>\n",
              "      <td>0</td>\n",
              "      <td>0</td>\n",
              "      <td>0</td>\n",
              "      <td>0</td>\n",
              "    </tr>\n",
              "    <tr>\n",
              "      <th>1</th>\n",
              "      <td>G0100030</td>\n",
              "      <td>2010</td>\n",
              "      <td>3</td>\n",
              "      <td>6</td>\n",
              "      <td>Alabama</td>\n",
              "      <td>1</td>\n",
              "      <td>Baldwin County</td>\n",
              "      <td>3</td>\n",
              "      <td>NaN</td>\n",
              "      <td>NaN</td>\n",
              "      <td>NaN</td>\n",
              "      <td>NaN</td>\n",
              "      <td>NaN</td>\n",
              "      <td>NaN</td>\n",
              "      <td>NaN</td>\n",
              "      <td>NaN</td>\n",
              "      <td>NaN</td>\n",
              "      <td>NaN</td>\n",
              "      <td>NaN</td>\n",
              "      <td>NaN</td>\n",
              "      <td>NaN</td>\n",
              "      <td>19300</td>\n",
              "      <td>99999</td>\n",
              "      <td>380</td>\n",
              "      <td>NaN</td>\n",
              "      <td>NaN</td>\n",
              "      <td>NaN</td>\n",
              "      <td>NaN</td>\n",
              "      <td>NaN</td>\n",
              "      <td>NaN</td>\n",
              "      <td>NaN</td>\n",
              "      <td>NaN</td>\n",
              "      <td>NaN</td>\n",
              "      <td>NaN</td>\n",
              "      <td>NaN</td>\n",
              "      <td>NaN</td>\n",
              "      <td>NaN</td>\n",
              "      <td>Baldwin County</td>\n",
              "      <td>NaN</td>\n",
              "      <td>140367</td>\n",
              "      <td>...</td>\n",
              "      <td>1</td>\n",
              "      <td>5</td>\n",
              "      <td>4</td>\n",
              "      <td>1</td>\n",
              "      <td>0</td>\n",
              "      <td>1</td>\n",
              "      <td>0</td>\n",
              "      <td>0</td>\n",
              "      <td>2</td>\n",
              "      <td>0</td>\n",
              "      <td>1</td>\n",
              "      <td>0</td>\n",
              "      <td>0</td>\n",
              "      <td>0</td>\n",
              "      <td>0</td>\n",
              "      <td>3</td>\n",
              "      <td>0</td>\n",
              "      <td>0</td>\n",
              "      <td>0</td>\n",
              "      <td>1</td>\n",
              "      <td>0</td>\n",
              "      <td>0</td>\n",
              "      <td>1</td>\n",
              "      <td>0</td>\n",
              "      <td>0</td>\n",
              "      <td>0</td>\n",
              "      <td>1</td>\n",
              "      <td>0</td>\n",
              "      <td>0</td>\n",
              "      <td>0</td>\n",
              "      <td>0</td>\n",
              "      <td>1</td>\n",
              "      <td>1</td>\n",
              "      <td>0</td>\n",
              "      <td>0</td>\n",
              "      <td>0</td>\n",
              "      <td>0</td>\n",
              "      <td>0</td>\n",
              "      <td>0</td>\n",
              "      <td>0</td>\n",
              "    </tr>\n",
              "    <tr>\n",
              "      <th>2</th>\n",
              "      <td>G0100050</td>\n",
              "      <td>2010</td>\n",
              "      <td>3</td>\n",
              "      <td>6</td>\n",
              "      <td>Alabama</td>\n",
              "      <td>1</td>\n",
              "      <td>Barbour County</td>\n",
              "      <td>5</td>\n",
              "      <td>NaN</td>\n",
              "      <td>NaN</td>\n",
              "      <td>NaN</td>\n",
              "      <td>NaN</td>\n",
              "      <td>NaN</td>\n",
              "      <td>NaN</td>\n",
              "      <td>NaN</td>\n",
              "      <td>NaN</td>\n",
              "      <td>NaN</td>\n",
              "      <td>NaN</td>\n",
              "      <td>NaN</td>\n",
              "      <td>NaN</td>\n",
              "      <td>NaN</td>\n",
              "      <td>21640</td>\n",
              "      <td>99999</td>\n",
              "      <td>999</td>\n",
              "      <td>NaN</td>\n",
              "      <td>NaN</td>\n",
              "      <td>NaN</td>\n",
              "      <td>NaN</td>\n",
              "      <td>NaN</td>\n",
              "      <td>NaN</td>\n",
              "      <td>NaN</td>\n",
              "      <td>NaN</td>\n",
              "      <td>NaN</td>\n",
              "      <td>NaN</td>\n",
              "      <td>NaN</td>\n",
              "      <td>NaN</td>\n",
              "      <td>NaN</td>\n",
              "      <td>Barbour County</td>\n",
              "      <td>NaN</td>\n",
              "      <td>21442</td>\n",
              "      <td>...</td>\n",
              "      <td>0</td>\n",
              "      <td>0</td>\n",
              "      <td>0</td>\n",
              "      <td>0</td>\n",
              "      <td>0</td>\n",
              "      <td>0</td>\n",
              "      <td>0</td>\n",
              "      <td>0</td>\n",
              "      <td>0</td>\n",
              "      <td>0</td>\n",
              "      <td>0</td>\n",
              "      <td>0</td>\n",
              "      <td>0</td>\n",
              "      <td>0</td>\n",
              "      <td>0</td>\n",
              "      <td>0</td>\n",
              "      <td>0</td>\n",
              "      <td>0</td>\n",
              "      <td>0</td>\n",
              "      <td>0</td>\n",
              "      <td>0</td>\n",
              "      <td>0</td>\n",
              "      <td>0</td>\n",
              "      <td>0</td>\n",
              "      <td>0</td>\n",
              "      <td>0</td>\n",
              "      <td>0</td>\n",
              "      <td>0</td>\n",
              "      <td>0</td>\n",
              "      <td>0</td>\n",
              "      <td>0</td>\n",
              "      <td>0</td>\n",
              "      <td>0</td>\n",
              "      <td>0</td>\n",
              "      <td>0</td>\n",
              "      <td>0</td>\n",
              "      <td>0</td>\n",
              "      <td>0</td>\n",
              "      <td>1</td>\n",
              "      <td>1</td>\n",
              "    </tr>\n",
              "    <tr>\n",
              "      <th>3</th>\n",
              "      <td>G0100070</td>\n",
              "      <td>2010</td>\n",
              "      <td>3</td>\n",
              "      <td>6</td>\n",
              "      <td>Alabama</td>\n",
              "      <td>1</td>\n",
              "      <td>Bibb County</td>\n",
              "      <td>7</td>\n",
              "      <td>NaN</td>\n",
              "      <td>NaN</td>\n",
              "      <td>NaN</td>\n",
              "      <td>NaN</td>\n",
              "      <td>NaN</td>\n",
              "      <td>NaN</td>\n",
              "      <td>NaN</td>\n",
              "      <td>NaN</td>\n",
              "      <td>NaN</td>\n",
              "      <td>NaN</td>\n",
              "      <td>NaN</td>\n",
              "      <td>NaN</td>\n",
              "      <td>NaN</td>\n",
              "      <td>13820</td>\n",
              "      <td>99999</td>\n",
              "      <td>142</td>\n",
              "      <td>NaN</td>\n",
              "      <td>NaN</td>\n",
              "      <td>NaN</td>\n",
              "      <td>NaN</td>\n",
              "      <td>NaN</td>\n",
              "      <td>NaN</td>\n",
              "      <td>NaN</td>\n",
              "      <td>NaN</td>\n",
              "      <td>NaN</td>\n",
              "      <td>NaN</td>\n",
              "      <td>NaN</td>\n",
              "      <td>NaN</td>\n",
              "      <td>NaN</td>\n",
              "      <td>Bibb County</td>\n",
              "      <td>NaN</td>\n",
              "      <td>17714</td>\n",
              "      <td>...</td>\n",
              "      <td>0</td>\n",
              "      <td>0</td>\n",
              "      <td>0</td>\n",
              "      <td>0</td>\n",
              "      <td>0</td>\n",
              "      <td>1</td>\n",
              "      <td>0</td>\n",
              "      <td>0</td>\n",
              "      <td>0</td>\n",
              "      <td>1</td>\n",
              "      <td>0</td>\n",
              "      <td>0</td>\n",
              "      <td>0</td>\n",
              "      <td>0</td>\n",
              "      <td>0</td>\n",
              "      <td>0</td>\n",
              "      <td>0</td>\n",
              "      <td>0</td>\n",
              "      <td>0</td>\n",
              "      <td>0</td>\n",
              "      <td>0</td>\n",
              "      <td>0</td>\n",
              "      <td>0</td>\n",
              "      <td>0</td>\n",
              "      <td>0</td>\n",
              "      <td>0</td>\n",
              "      <td>0</td>\n",
              "      <td>0</td>\n",
              "      <td>0</td>\n",
              "      <td>0</td>\n",
              "      <td>0</td>\n",
              "      <td>0</td>\n",
              "      <td>0</td>\n",
              "      <td>0</td>\n",
              "      <td>0</td>\n",
              "      <td>0</td>\n",
              "      <td>0</td>\n",
              "      <td>0</td>\n",
              "      <td>0</td>\n",
              "      <td>0</td>\n",
              "    </tr>\n",
              "    <tr>\n",
              "      <th>4</th>\n",
              "      <td>G0100090</td>\n",
              "      <td>2010</td>\n",
              "      <td>3</td>\n",
              "      <td>6</td>\n",
              "      <td>Alabama</td>\n",
              "      <td>1</td>\n",
              "      <td>Blount County</td>\n",
              "      <td>9</td>\n",
              "      <td>NaN</td>\n",
              "      <td>NaN</td>\n",
              "      <td>NaN</td>\n",
              "      <td>NaN</td>\n",
              "      <td>NaN</td>\n",
              "      <td>NaN</td>\n",
              "      <td>NaN</td>\n",
              "      <td>NaN</td>\n",
              "      <td>NaN</td>\n",
              "      <td>NaN</td>\n",
              "      <td>NaN</td>\n",
              "      <td>NaN</td>\n",
              "      <td>NaN</td>\n",
              "      <td>13820</td>\n",
              "      <td>99999</td>\n",
              "      <td>142</td>\n",
              "      <td>NaN</td>\n",
              "      <td>NaN</td>\n",
              "      <td>NaN</td>\n",
              "      <td>NaN</td>\n",
              "      <td>NaN</td>\n",
              "      <td>NaN</td>\n",
              "      <td>NaN</td>\n",
              "      <td>NaN</td>\n",
              "      <td>NaN</td>\n",
              "      <td>NaN</td>\n",
              "      <td>NaN</td>\n",
              "      <td>NaN</td>\n",
              "      <td>NaN</td>\n",
              "      <td>Blount County</td>\n",
              "      <td>NaN</td>\n",
              "      <td>43216</td>\n",
              "      <td>...</td>\n",
              "      <td>0</td>\n",
              "      <td>2</td>\n",
              "      <td>0</td>\n",
              "      <td>0</td>\n",
              "      <td>0</td>\n",
              "      <td>0</td>\n",
              "      <td>0</td>\n",
              "      <td>0</td>\n",
              "      <td>0</td>\n",
              "      <td>0</td>\n",
              "      <td>0</td>\n",
              "      <td>0</td>\n",
              "      <td>0</td>\n",
              "      <td>0</td>\n",
              "      <td>0</td>\n",
              "      <td>0</td>\n",
              "      <td>0</td>\n",
              "      <td>0</td>\n",
              "      <td>0</td>\n",
              "      <td>0</td>\n",
              "      <td>0</td>\n",
              "      <td>0</td>\n",
              "      <td>0</td>\n",
              "      <td>0</td>\n",
              "      <td>0</td>\n",
              "      <td>0</td>\n",
              "      <td>0</td>\n",
              "      <td>0</td>\n",
              "      <td>0</td>\n",
              "      <td>0</td>\n",
              "      <td>0</td>\n",
              "      <td>0</td>\n",
              "      <td>0</td>\n",
              "      <td>0</td>\n",
              "      <td>0</td>\n",
              "      <td>0</td>\n",
              "      <td>0</td>\n",
              "      <td>0</td>\n",
              "      <td>0</td>\n",
              "      <td>0</td>\n",
              "    </tr>\n",
              "  </tbody>\n",
              "</table>\n",
              "<p>5 rows × 110 columns</p>\n",
              "</div>"
            ],
            "text/plain": [
              "    GISJOIN  YEAR  REGIONA  DIVISIONA  ... H74068  H74069 H74070  H74071\n",
              "0  G0100010  2010        3          6  ...      0       0      0       0\n",
              "1  G0100030  2010        3          6  ...      0       0      0       0\n",
              "2  G0100050  2010        3          6  ...      0       0      1       1\n",
              "3  G0100070  2010        3          6  ...      0       0      0       0\n",
              "4  G0100090  2010        3          6  ...      0       0      0       0\n",
              "\n",
              "[5 rows x 110 columns]"
            ]
          },
          "metadata": {
            "tags": []
          },
          "execution_count": 9
        }
      ]
    },
    {
      "cell_type": "markdown",
      "metadata": {
        "id": "RYOLuwwTTk87",
        "colab_type": "text"
      },
      "source": [
        "* Next, narrow the DataFrame to just the columns we need: GISJOIN, STATEA, COUNTYA, Total (H74001), Black or African American alone (H74004), multiple races including Black or African American (H74011, H74016-H74019, H74027-H74030, H74037-H74042, H74048-H74053, H74058-H74061, H74064-67, H74069, H74071).\n",
        "* You can choose to use [indexing](https://pandas.pydata.org/pandas-docs/stable/user_guide/indexing.html#basics) (`df[col_list]`) or the [pandas.drop function](https://pandas.pydata.org/pandas-docs/stable/reference/api/pandas.DataFrame.drop.html)\n"
      ]
    },
    {
      "cell_type": "code",
      "metadata": {
        "id": "w4au5iYyMyO7",
        "colab_type": "code",
        "colab": {}
      },
      "source": [
        "#list the columns to keep, replacing the ellipses\n",
        "cols_to_keep = [\"GISJOIN\", \"STATEA\", ...]\n",
        "\n",
        "county_data = county_data[cols_to_keep]"
      ],
      "execution_count": null,
      "outputs": []
    },
    {
      "cell_type": "markdown",
      "metadata": {
        "id": "I5dL3Js1vq0H",
        "colab_type": "text"
      },
      "source": [
        "* Run the head() function to make sure that only the appropriate columns are left."
      ]
    },
    {
      "cell_type": "code",
      "metadata": {
        "id": "C0fsANY8W57g",
        "colab_type": "code",
        "colab": {}
      },
      "source": [
        "county_data.head()"
      ],
      "execution_count": null,
      "outputs": []
    },
    {
      "cell_type": "markdown",
      "metadata": {
        "id": "10iLlF8VT6vQ",
        "colab_type": "text"
      },
      "source": [
        "* Add a new column \"BVAP\" to `county_data` by [summing](https://pandas.pydata.org/pandas-docs/stable/reference/api/pandas.DataFrame.sum.html) all of the population variables together (except H74001).\n",
        "* Note that you need to assign 1 to the `axis` parameter to specify that you want to sum the rows instead of columns. Refer to the examples in the documentation linked.\n",
        "* Add another code block below by hovering below the box and clicking the [+ Code] button. In that block, run the `head()` function and check that the new column BVAP is added. You should run `head()` for the rest of the tutorial whenever you augment the dataframe.\n"
      ]
    },
    {
      "cell_type": "code",
      "metadata": {
        "id": "LxS-nkBeMyO9",
        "colab_type": "code",
        "colab": {}
      },
      "source": [
        "cols_to_sum = ...\n",
        "\n",
        "county_data[\"BVAP\"] = county_data[cols_to_sum].sum(...)"
      ],
      "execution_count": null,
      "outputs": []
    },
    {
      "cell_type": "markdown",
      "metadata": {
        "id": "GDKPpm1XUOaL",
        "colab_type": "text"
      },
      "source": [
        "* Delete population variables other than GISJOIN, STATEA, COUNTYA, total (H74001) and your new variable (BVAP).\n"
      ]
    },
    {
      "cell_type": "code",
      "metadata": {
        "id": "dD48Hp14MyPB",
        "colab_type": "code",
        "colab": {}
      },
      "source": [
        "county_data = ..."
      ],
      "execution_count": null,
      "outputs": []
    },
    {
      "cell_type": "markdown",
      "metadata": {
        "id": "nwMiU_ZGzB_L",
        "colab_type": "text"
      },
      "source": [
        "* Here is a good chance to make sure you have good names for the columns. General rules are that all column names are meaningful and have no spaces or special characters (e.g., periods and other punctuation). In addition shapefiles enforce that column names are less than 10 characters.  Since we will be saving are results as a shapefile here, you should choice names under 10 characters.\n",
        "* In the box below, [rename](https://pandas.pydata.org/pandas-docs/stable/generated/pandas.DataFrame.rename.html) H74001 to a more legible name such as TOTPOP."
      ]
    },
    {
      "cell_type": "code",
      "metadata": {
        "id": "j_8oRz0TZmeK",
        "colab_type": "code",
        "colab": {}
      },
      "source": [
        "#rename H74001 to TOTPOP\n",
        "county_data = county_data.rename(...)"
      ],
      "execution_count": null,
      "outputs": []
    },
    {
      "cell_type": "markdown",
      "metadata": {
        "id": "hoQTCCN4UQYX",
        "colab_type": "text"
      },
      "source": [
        "\n",
        "* Create a new variable BVAP_PCT by dividing BlackVAP by Total (H74001)."
      ]
    },
    {
      "cell_type": "code",
      "metadata": {
        "id": "V6umaeSYMyPJ",
        "colab_type": "code",
        "colab": {}
      },
      "source": [
        "county_data[\"BVAP_PCT\"] = ..."
      ],
      "execution_count": null,
      "outputs": []
    },
    {
      "cell_type": "markdown",
      "metadata": {
        "id": "cISM_XF4ugxC",
        "colab_type": "text"
      },
      "source": [
        "* Create a new variable \"FIPS\" equal to STATEA*1000 + COUNTYA. You will write this line of code from scratch in the block below."
      ]
    },
    {
      "cell_type": "code",
      "metadata": {
        "id": "UJ-JPxXCugI_",
        "colab_type": "code",
        "colab": {}
      },
      "source": [
        ""
      ],
      "execution_count": null,
      "outputs": []
    },
    {
      "cell_type": "markdown",
      "metadata": {
        "colab_type": "text",
        "id": "_V5kw7ur1AWl"
      },
      "source": [
        "## Part 2: Joining tabular and spacial data\n",
        "* Using geopandas's [read_file function](https://geopandas.org/reference/geopandas.read_file.html#geopandas.read_file) (usually `gpd.read_file(filename.shp)`) open the shapefile and save it to a variable `county_shapes`. This variable is a GeoDataFrame. "
      ]
    },
    {
      "cell_type": "code",
      "metadata": {
        "colab_type": "code",
        "id": "C2fFrB6-1AWm",
        "colab": {}
      },
      "source": [
        "# Replace the ellpsis with the path name of shapefile\n",
        "county_shapes = gpd.read_file(...)"
      ],
      "execution_count": null,
      "outputs": []
    },
    {
      "cell_type": "code",
      "metadata": {
        "id": "2Turqg5NgpgG",
        "colab_type": "code",
        "colab": {}
      },
      "source": [
        "county_shapes.head()"
      ],
      "execution_count": null,
      "outputs": []
    },
    {
      "cell_type": "markdown",
      "metadata": {
        "id": "DzYH6TBBeLFq",
        "colab_type": "text"
      },
      "source": [
        "* Run the block below to call the [GeoDataFrame.plot function](https://geopandas.org/reference.html#geopandas.GeoDataFrame.plot) on the variable to plot the shapefiles geometries.\n"
      ]
    },
    {
      "cell_type": "code",
      "metadata": {
        "colab_type": "code",
        "id": "aU_nVf7v1AWt",
        "colab": {}
      },
      "source": [
        "county_shapes.plot()\n",
        "plt.show()"
      ],
      "execution_count": null,
      "outputs": []
    },
    {
      "cell_type": "markdown",
      "metadata": {
        "id": "8ld-Rl-f1i2j",
        "colab_type": "text"
      },
      "source": [
        "* Run the block below, which specifies `figsize=(10,5)` in the plot() function to make the figure size larger. "
      ]
    },
    {
      "cell_type": "code",
      "metadata": {
        "id": "dDPy2G_O1igF",
        "colab_type": "code",
        "colab": {}
      },
      "source": [
        "county_shapes.plot(figsize=(10,5))\n",
        "plt.show()"
      ],
      "execution_count": null,
      "outputs": []
    },
    {
      "cell_type": "markdown",
      "metadata": {
        "id": "P1BIhTPVdrfX",
        "colab_type": "text"
      },
      "source": [
        "* Merge the county level DataFrame with the GeoDataFrame, using the [pandas.merge() function](https://pandas.pydata.org/pandas-docs/stable/reference/api/pandas.merge.html). The merged GeoDataFrame will be called `southern_counties`.\n",
        "* Make sure the spacial data is the left DataFrame and the tabular data is the right DataFrame.  \n",
        "* Use \"FIPS\" as the column to merge on."
      ]
    },
    {
      "cell_type": "code",
      "metadata": {
        "colab_type": "code",
        "id": "odhW_he71AWv",
        "colab": {}
      },
      "source": [
        "# replace the ellipsis\n",
        "southern_counties = pd.merge(...)"
      ],
      "execution_count": null,
      "outputs": []
    },
    {
      "cell_type": "markdown",
      "metadata": {
        "id": "Eg-NSiaC2EXQ",
        "colab_type": "text"
      },
      "source": [
        "Run the head functions to check that the merge was properly done."
      ]
    },
    {
      "cell_type": "code",
      "metadata": {
        "id": "mWqyfNbsi0qm",
        "colab_type": "code",
        "colab": {}
      },
      "source": [
        "southern_counties.head()"
      ],
      "execution_count": null,
      "outputs": []
    },
    {
      "cell_type": "markdown",
      "metadata": {
        "id": "WO-eGPLbeygY",
        "colab_type": "text"
      },
      "source": [
        "* Check that you have a GeoDataFrame after the merge, by calling the `.plot()` function."
      ]
    },
    {
      "cell_type": "code",
      "metadata": {
        "colab_type": "code",
        "id": "z5-bPL231AW0",
        "colab": {}
      },
      "source": [
        "southern_counties.plot()"
      ],
      "execution_count": null,
      "outputs": []
    },
    {
      "cell_type": "markdown",
      "metadata": {
        "id": "8Azy4Ev6jbgW",
        "colab_type": "text"
      },
      "source": [
        "* Save the resulting GeoDataFrame to a shapefile with the `.to_file(filename.shp)` [function](https://geopandas.org/reference.html#geopandas.GeoDataFrame.to_file)."
      ]
    },
    {
      "cell_type": "code",
      "metadata": {
        "id": "ZjsrXpCSjasG",
        "colab_type": "code",
        "colab": {}
      },
      "source": [
        "# save the GeoDataFrame as a shapefile\n",
        "southern_counties.to_file(...)"
      ],
      "execution_count": null,
      "outputs": []
    },
    {
      "cell_type": "markdown",
      "metadata": {
        "id": "cD6hvr1yMyPj",
        "colab_type": "text"
      },
      "source": [
        "## Part 3: Mapping with Geopandas, Queries, and Dissolving\n"
      ]
    },
    {
      "cell_type": "markdown",
      "metadata": {
        "id": "WWA3GeZh7QeZ",
        "colab_type": "text"
      },
      "source": [
        "### Mapping w/geopandas:\n",
        "  * Read through the documentation of the plot functionality at https://geopandas.org/mapping.html.\n",
        "  * Plot one of more choropleths based on a column(s) of `southern_counties` that you think has significant meaning. \n",
        "  * Discussion: What patterns can you find?\n",
        "  * Bonus: Can you assign counties into buckets based on a specific 'scheme' (instead of simply plotting their numerical values)?"
      ]
    },
    {
      "cell_type": "code",
      "metadata": {
        "id": "d8Vj7FPyMyPk",
        "colab_type": "code",
        "colab": {}
      },
      "source": [
        "# fill in the ellipsis with parameters such as 'column', 'legend', 'scheme'\n",
        "southern_counties.plot(...)"
      ],
      "execution_count": null,
      "outputs": []
    },
    {
      "cell_type": "markdown",
      "metadata": {
        "id": "IQIXOhbcmTic",
        "colab_type": "text"
      },
      "source": [
        "### Queries:\n",
        "  * You can use queries to filter a DataFrame by properties of it's columns, which can be very useful when trying to identify/reconsile inconsistencies or corner-cases in your data.  (ie. if one column is numerically larger than another, or if two columns are both None, ect.)  Take a look at docs for the pandas [DataFrame.query function](https://pandas.pydata.org/pandas-docs/stable/reference/api/pandas.DataFrame.query.html)\n",
        "  * For example if `southern_counties` was the name of your GeoDataFrame you created in the previous part: `southern_couties.query(\"TOTPOP < 500\")` would give you the  GeoDataFrame with rows for the 3 counties where the total population was under 500 people in the 2010 census.\n"
      ]
    },
    {
      "cell_type": "markdown",
      "metadata": {
        "id": "tMagrLklpeBy",
        "colab_type": "text"
      },
      "source": [
        "* How many counties have a BVAP percent over 80%?  What states are they in?\n"
      ]
    },
    {
      "cell_type": "code",
      "metadata": {
        "id": "CWBvYx67MyPl",
        "colab_type": "code",
        "colab": {}
      },
      "source": [
        ""
      ],
      "execution_count": null,
      "outputs": []
    },
    {
      "cell_type": "markdown",
      "metadata": {
        "id": "nQ8Ja6xZphUO",
        "colab_type": "text"
      },
      "source": [
        "* Work with your cohort to come up with a few more questions you can ask about this data, and practice using the query function."
      ]
    },
    {
      "cell_type": "code",
      "metadata": {
        "id": "pbePGR-b5C87",
        "colab_type": "code",
        "colab": {}
      },
      "source": [
        ""
      ],
      "execution_count": null,
      "outputs": []
    },
    {
      "cell_type": "markdown",
      "metadata": {
        "id": "OGBjOKDi7zL4",
        "colab_type": "text"
      },
      "source": [
        "### Dissolves:\n",
        "* An other useful feature of geopandas is the [dissolve function](https://geopandas.org/aggregation_with_dissolve.html).  This allows us to aggregrate entries in the GeoDataFrame by a column value, and can merge multiple geometries into a single one.\n",
        "* Since we are often working with population count data, we may want to aggregating it by summing.  We can do this by assigning the `aggfunc` parameter `\"sum\"` as a value.\n",
        "* Practice dissolving by the STATEFP column, and aggregating the counts.\n",
        "  * First create a second GeoDataFrame with the STATEFP column and any column containing counts.\n",
        "  * Then use the dissolve function, to create a new GeoDataFrame of states, with `\"sum\"` as the `aggfunc` argument ."
      ]
    },
    {
      "cell_type": "code",
      "metadata": {
        "id": "CUCDk-Ug9PKo",
        "colab_type": "code",
        "colab": {}
      },
      "source": [
        "southern_counties_counts = ..."
      ],
      "execution_count": null,
      "outputs": []
    },
    {
      "cell_type": "code",
      "metadata": {
        "id": "YJAdkbR7-4l5",
        "colab_type": "code",
        "colab": {}
      },
      "source": [
        "southern_states = southern_counties_counts.dissolve(...)"
      ],
      "execution_count": null,
      "outputs": []
    },
    {
      "cell_type": "code",
      "metadata": {
        "id": "b6HgD3UT_ONF",
        "colab_type": "code",
        "colab": {}
      },
      "source": [
        "southern_states.plot()"
      ],
      "execution_count": null,
      "outputs": []
    }
  ]
}