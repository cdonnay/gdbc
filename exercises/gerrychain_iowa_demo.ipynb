{
  "nbformat": 4,
  "nbformat_minor": 0,
  "metadata": {
    "colab": {
      "name": "iowa-demo.ipynb",
      "provenance": [],
      "collapsed_sections": []
    },
    "kernelspec": {
      "name": "python3",
      "display_name": "Python 3"
    }
  },
  "cells": [
    {
      "cell_type": "markdown",
      "metadata": {
        "id": "_ogjY4d09OlL",
        "colab_type": "text"
      },
      "source": [
        "# Gerrychain demo with Iowa data\n"
      ]
    },
    {
      "cell_type": "markdown",
      "metadata": {
        "id": "VdMm25BFkGkS",
        "colab_type": "text"
      },
      "source": [
        "## 1. Gathering the data and installing libraries"
      ]
    },
    {
      "cell_type": "markdown",
      "metadata": {
        "id": "bLpOFDtIkCuv",
        "colab_type": "text"
      },
      "source": [
        "First, let's install GerryChain. The best way to install GerryChain on your local machine is to use conda, but we'll use pip here. Check out https://gerrychain.readthedocs.io/en/latest/user/install.html for installation guide."
      ]
    },
    {
      "cell_type": "code",
      "metadata": {
        "id": "hPcAq3lV9CAl",
        "colab_type": "code",
        "colab": {
          "base_uri": "https://localhost:8080/",
          "height": 632
        },
        "outputId": "e4515808-f256-4ed4-f358-f4c9d330200d"
      },
      "source": [
        "!pip install gerrychain"
      ],
      "execution_count": null,
      "outputs": [
        {
          "output_type": "stream",
          "text": [
            "Collecting gerrychain\n",
            "\u001b[?25l  Downloading https://files.pythonhosted.org/packages/a5/fc/a9c80923910833d858542543b74e2afde8eb076cdf738964b90b7bbb199b/gerrychain-0.2.12-py2.py3-none-any.whl (48kB)\n",
            "\u001b[K     |████████████████████████████████| 51kB 1.6MB/s \n",
            "\u001b[?25hRequirement already satisfied: networkx in /usr/local/lib/python3.6/dist-packages (from gerrychain) (2.4)\n",
            "Collecting geopandas\n",
            "\u001b[?25l  Downloading https://files.pythonhosted.org/packages/83/c5/3cf9cdc39a6f2552922f79915f36b45a95b71fd343cfc51170a5b6ddb6e8/geopandas-0.7.0-py2.py3-none-any.whl (928kB)\n",
            "\u001b[K     |████████████████████████████████| 931kB 6.4MB/s \n",
            "\u001b[?25hRequirement already satisfied: matplotlib in /usr/local/lib/python3.6/dist-packages (from gerrychain) (3.2.1)\n",
            "Requirement already satisfied: shapely in /usr/local/lib/python3.6/dist-packages (from gerrychain) (1.7.0)\n",
            "Requirement already satisfied: scipy in /usr/local/lib/python3.6/dist-packages (from gerrychain) (1.4.1)\n",
            "Requirement already satisfied: pandas in /usr/local/lib/python3.6/dist-packages (from gerrychain) (1.0.4)\n",
            "Requirement already satisfied: decorator>=4.3.0 in /usr/local/lib/python3.6/dist-packages (from networkx->gerrychain) (4.4.2)\n",
            "Collecting fiona\n",
            "\u001b[?25l  Downloading https://files.pythonhosted.org/packages/ec/20/4e63bc5c6e62df889297b382c3ccd4a7a488b00946aaaf81a118158c6f09/Fiona-1.8.13.post1-cp36-cp36m-manylinux1_x86_64.whl (14.7MB)\n",
            "\u001b[K     |████████████████████████████████| 14.7MB 308kB/s \n",
            "\u001b[?25hCollecting pyproj>=2.2.0\n",
            "\u001b[?25l  Downloading https://files.pythonhosted.org/packages/e5/c3/071e080230ac4b6c64f1a2e2f9161c9737a2bc7b683d2c90b024825000c0/pyproj-2.6.1.post1-cp36-cp36m-manylinux2010_x86_64.whl (10.9MB)\n",
            "\u001b[K     |████████████████████████████████| 10.9MB 47.9MB/s \n",
            "\u001b[?25hRequirement already satisfied: cycler>=0.10 in /usr/local/lib/python3.6/dist-packages (from matplotlib->gerrychain) (0.10.0)\n",
            "Requirement already satisfied: numpy>=1.11 in /usr/local/lib/python3.6/dist-packages (from matplotlib->gerrychain) (1.18.5)\n",
            "Requirement already satisfied: kiwisolver>=1.0.1 in /usr/local/lib/python3.6/dist-packages (from matplotlib->gerrychain) (1.2.0)\n",
            "Requirement already satisfied: python-dateutil>=2.1 in /usr/local/lib/python3.6/dist-packages (from matplotlib->gerrychain) (2.8.1)\n",
            "Requirement already satisfied: pyparsing!=2.0.4,!=2.1.2,!=2.1.6,>=2.0.1 in /usr/local/lib/python3.6/dist-packages (from matplotlib->gerrychain) (2.4.7)\n",
            "Requirement already satisfied: pytz>=2017.2 in /usr/local/lib/python3.6/dist-packages (from pandas->gerrychain) (2018.9)\n",
            "Collecting click-plugins>=1.0\n",
            "  Downloading https://files.pythonhosted.org/packages/e9/da/824b92d9942f4e472702488857914bdd50f73021efea15b4cad9aca8ecef/click_plugins-1.1.1-py2.py3-none-any.whl\n",
            "Requirement already satisfied: click<8,>=4.0 in /usr/local/lib/python3.6/dist-packages (from fiona->geopandas->gerrychain) (7.1.2)\n",
            "Requirement already satisfied: attrs>=17 in /usr/local/lib/python3.6/dist-packages (from fiona->geopandas->gerrychain) (19.3.0)\n",
            "Requirement already satisfied: six>=1.7 in /usr/local/lib/python3.6/dist-packages (from fiona->geopandas->gerrychain) (1.12.0)\n",
            "Collecting cligj>=0.5\n",
            "  Downloading https://files.pythonhosted.org/packages/e4/be/30a58b4b0733850280d01f8bd132591b4668ed5c7046761098d665ac2174/cligj-0.5.0-py3-none-any.whl\n",
            "Collecting munch\n",
            "  Downloading https://files.pythonhosted.org/packages/cc/ab/85d8da5c9a45e072301beb37ad7f833cd344e04c817d97e0cc75681d248f/munch-2.5.0-py2.py3-none-any.whl\n",
            "Installing collected packages: click-plugins, cligj, munch, fiona, pyproj, geopandas, gerrychain\n",
            "Successfully installed click-plugins-1.1.1 cligj-0.5.0 fiona-1.8.13.post1 geopandas-0.7.0 gerrychain-0.2.12 munch-2.5.0 pyproj-2.6.1.post1\n"
          ],
          "name": "stdout"
        }
      ]
    },
    {
      "cell_type": "markdown",
      "metadata": {
        "id": "LjCyyJAL9kgI",
        "colab_type": "text"
      },
      "source": [
        "We will need some clean data. We will use the Iowa county shapefile available on mggg-states. "
      ]
    },
    {
      "cell_type": "code",
      "metadata": {
        "id": "LtcD9d5F9N_c",
        "colab_type": "code",
        "colab": {
          "base_uri": "https://localhost:8080/",
          "height": 85
        },
        "outputId": "2f3c115f-2958-43d4-9312-76e6e63b9063"
      },
      "source": [
        "#clone the IA shapefiles repo from github\n",
        "!git clone https://github.com/mggg-states/IA-shapefiles.git"
      ],
      "execution_count": null,
      "outputs": [
        {
          "output_type": "stream",
          "text": [
            "Cloning into 'IA-shapefiles'...\n",
            "remote: Enumerating objects: 12, done.\u001b[K\n",
            "remote: Total 12 (delta 0), reused 0 (delta 0), pack-reused 12\u001b[K\n",
            "Unpacking objects: 100% (12/12), done.\n"
          ],
          "name": "stdout"
        }
      ]
    },
    {
      "cell_type": "code",
      "metadata": {
        "id": "JEyIX6MF-BgX",
        "colab_type": "code",
        "colab": {
          "base_uri": "https://localhost:8080/",
          "height": 153
        },
        "outputId": "e5db6b88-95e5-46b5-c820-785a71e13683"
      },
      "source": [
        "#unzip the counties shapefile\n",
        "!unzip IA-shapefiles/IA_counties.zip"
      ],
      "execution_count": null,
      "outputs": [
        {
          "output_type": "stream",
          "text": [
            "Archive:  IA-shapefiles/IA_counties.zip\n",
            "  inflating: IA_counties.dbf         \n",
            "  inflating: IA_counties.shx         \n",
            "  inflating: IA_counties.shp         \n",
            "   creating: __MACOSX/\n",
            "  inflating: __MACOSX/._IA_counties.shp  \n",
            "  inflating: IA_counties.cpg         \n",
            "  inflating: IA_counties.prj         \n"
          ],
          "name": "stdout"
        }
      ]
    },
    {
      "cell_type": "markdown",
      "metadata": {
        "id": "t07kcSZL_a9j",
        "colab_type": "text"
      },
      "source": [
        "Let's import everything we will need from GerryChain, plus a few extra things."
      ]
    },
    {
      "cell_type": "code",
      "metadata": {
        "id": "VN826TTy-os1",
        "colab_type": "code",
        "colab": {}
      },
      "source": [
        "from gerrychain import Graph, Election, updaters, Partition, constraints, MarkovChain\n",
        "from gerrychain.updaters import cut_edges\n",
        "from gerrychain.proposals import recom, propose_random_flip\n",
        "from gerrychain.tree import recursive_tree_part\n",
        "from gerrychain.accept import always_accept\n",
        "from gerrychain.constraints import single_flip_contiguous\n",
        "from gerrychain.random import random\n",
        "import pandas as pd\n",
        "import numpy as np\n",
        "from functools import partial\n",
        "import matplotlib.pyplot as plt\n",
        "import geopandas as gpd"
      ],
      "execution_count": null,
      "outputs": []
    },
    {
      "cell_type": "markdown",
      "metadata": {
        "id": "pBeIM-VCBhsO",
        "colab_type": "text"
      },
      "source": [
        "Let's look at our shapefile. "
      ]
    },
    {
      "cell_type": "code",
      "metadata": {
        "id": "18SjnHt-BhMC",
        "colab_type": "code",
        "colab": {
          "base_uri": "https://localhost:8080/",
          "height": 226
        },
        "outputId": "905c9a9e-533e-4a51-d96e-e33eab394959"
      },
      "source": [
        "gdf = gpd.read_file(\"IA_counties.shp\")\n",
        "gdf.plot()"
      ],
      "execution_count": null,
      "outputs": [
        {
          "output_type": "execute_result",
          "data": {
            "text/plain": [
              "<matplotlib.axes._subplots.AxesSubplot at 0x7f5efd9879b0>"
            ]
          },
          "metadata": {
            "tags": []
          },
          "execution_count": 5
        },
        {
          "output_type": "display_data",
          "data": {
            "image/png": "[encoded data removed]",
            "text/plain": [
              "<Figure size 432x288 with 1 Axes>"
            ]
          },
          "metadata": {
            "tags": [],
            "needs_background": "light"
          }
        }
      ]
    },
    {
      "cell_type": "code",
      "metadata": {
        "id": "BmKGlT9WjYg3",
        "colab_type": "code",
        "colab": {
          "base_uri": "https://localhost:8080/",
          "height": 564
        },
        "outputId": "77eecb48-eae5-4973-e804-64716a92d75c"
      },
      "source": [
        "gdf.head()"
      ],
      "execution_count": null,
      "outputs": [
        {
          "output_type": "execute_result",
          "data": {
            "text/html": [
              "<div>\n",
              "<style scoped>\n",
              "    .dataframe tbody tr th:only-of-type {\n",
              "        vertical-align: middle;\n",
              "    }\n",
              "\n",
              "    .dataframe tbody tr th {\n",
              "        vertical-align: top;\n",
              "    }\n",
              "\n",
              "    .dataframe thead th {\n",
              "        text-align: right;\n",
              "    }\n",
              "</style>\n",
              "<table border=\"1\" class=\"dataframe\">\n",
              "  <thead>\n",
              "    <tr style=\"text-align: right;\">\n",
              "      <th></th>\n",
              "      <th>STATEFP10</th>\n",
              "      <th>COUNTYFP10</th>\n",
              "      <th>GEOID10</th>\n",
              "      <th>NAME10</th>\n",
              "      <th>NAMELSAD10</th>\n",
              "      <th>ALAND10</th>\n",
              "      <th>AWATER10</th>\n",
              "      <th>INTPTLAT10</th>\n",
              "      <th>INTPTLON10</th>\n",
              "      <th>TOTPOP</th>\n",
              "      <th>NH_WHITE</th>\n",
              "      <th>NH_BLACK</th>\n",
              "      <th>NH_AMIN</th>\n",
              "      <th>NH_ASIAN</th>\n",
              "      <th>NH_NHPI</th>\n",
              "      <th>NH_OTHER</th>\n",
              "      <th>NH_2MORE</th>\n",
              "      <th>HISP</th>\n",
              "      <th>H_WHITE</th>\n",
              "      <th>H_BLACK</th>\n",
              "      <th>H_AMIN</th>\n",
              "      <th>H_ASIAN</th>\n",
              "      <th>N_NHPI</th>\n",
              "      <th>H_OTHER</th>\n",
              "      <th>H_2MORE</th>\n",
              "      <th>VAP</th>\n",
              "      <th>HVAP</th>\n",
              "      <th>WVAP</th>\n",
              "      <th>BVAP</th>\n",
              "      <th>AMINVAP</th>\n",
              "      <th>ASIANVAP</th>\n",
              "      <th>NHPIVAP</th>\n",
              "      <th>OTHERVAP</th>\n",
              "      <th>2MOREVAP</th>\n",
              "      <th>TOTVOT00</th>\n",
              "      <th>PRES00D</th>\n",
              "      <th>PRES00R</th>\n",
              "      <th>PRES00G</th>\n",
              "      <th>PRES00OTH</th>\n",
              "      <th>TOTVOT04</th>\n",
              "      <th>PRES04D</th>\n",
              "      <th>PRES04R</th>\n",
              "      <th>PRES04OTH</th>\n",
              "      <th>TOTVOT08</th>\n",
              "      <th>PRES08D</th>\n",
              "      <th>PRES08R</th>\n",
              "      <th>PRES08OTH</th>\n",
              "      <th>TOTVOT12</th>\n",
              "      <th>PRES12D</th>\n",
              "      <th>PRES12R</th>\n",
              "      <th>PRES12OTH</th>\n",
              "      <th>TOTVOT16</th>\n",
              "      <th>PRES16D</th>\n",
              "      <th>PRES16R</th>\n",
              "      <th>PRES16OTH</th>\n",
              "      <th>CD</th>\n",
              "      <th>geometry</th>\n",
              "    </tr>\n",
              "  </thead>\n",
              "  <tbody>\n",
              "    <tr>\n",
              "      <th>0</th>\n",
              "      <td>19</td>\n",
              "      <td>127</td>\n",
              "      <td>19127</td>\n",
              "      <td>Marshall</td>\n",
              "      <td>Marshall County</td>\n",
              "      <td>1482770678</td>\n",
              "      <td>1803086</td>\n",
              "      <td>+42.0416910</td>\n",
              "      <td>-092.9814523</td>\n",
              "      <td>40648</td>\n",
              "      <td>31807</td>\n",
              "      <td>629</td>\n",
              "      <td>104</td>\n",
              "      <td>526</td>\n",
              "      <td>39</td>\n",
              "      <td>33</td>\n",
              "      <td>493</td>\n",
              "      <td>7017</td>\n",
              "      <td>4264</td>\n",
              "      <td>50</td>\n",
              "      <td>82</td>\n",
              "      <td>10</td>\n",
              "      <td>11</td>\n",
              "      <td>2263</td>\n",
              "      <td>337</td>\n",
              "      <td>30344</td>\n",
              "      <td>3762</td>\n",
              "      <td>25417</td>\n",
              "      <td>421</td>\n",
              "      <td>67</td>\n",
              "      <td>406</td>\n",
              "      <td>26</td>\n",
              "      <td>20</td>\n",
              "      <td>225</td>\n",
              "      <td>17624</td>\n",
              "      <td>8322</td>\n",
              "      <td>8785</td>\n",
              "      <td>340</td>\n",
              "      <td>177</td>\n",
              "      <td>19164</td>\n",
              "      <td>9443</td>\n",
              "      <td>9557</td>\n",
              "      <td>164</td>\n",
              "      <td>18657</td>\n",
              "      <td>10023</td>\n",
              "      <td>8278</td>\n",
              "      <td>356</td>\n",
              "      <td>19064</td>\n",
              "      <td>10257</td>\n",
              "      <td>8472</td>\n",
              "      <td>335</td>\n",
              "      <td>17980</td>\n",
              "      <td>7652</td>\n",
              "      <td>9146</td>\n",
              "      <td>1182</td>\n",
              "      <td>1</td>\n",
              "      <td>POLYGON ((-92.76679 42.12346, -92.76679 42.122...</td>\n",
              "    </tr>\n",
              "    <tr>\n",
              "      <th>1</th>\n",
              "      <td>19</td>\n",
              "      <td>011</td>\n",
              "      <td>19011</td>\n",
              "      <td>Benton</td>\n",
              "      <td>Benton County</td>\n",
              "      <td>1855117342</td>\n",
              "      <td>5760770</td>\n",
              "      <td>+42.0925474</td>\n",
              "      <td>-092.0576300</td>\n",
              "      <td>26076</td>\n",
              "      <td>25387</td>\n",
              "      <td>93</td>\n",
              "      <td>41</td>\n",
              "      <td>66</td>\n",
              "      <td>2</td>\n",
              "      <td>5</td>\n",
              "      <td>207</td>\n",
              "      <td>275</td>\n",
              "      <td>182</td>\n",
              "      <td>9</td>\n",
              "      <td>4</td>\n",
              "      <td>0</td>\n",
              "      <td>0</td>\n",
              "      <td>48</td>\n",
              "      <td>32</td>\n",
              "      <td>19430</td>\n",
              "      <td>155</td>\n",
              "      <td>19068</td>\n",
              "      <td>49</td>\n",
              "      <td>34</td>\n",
              "      <td>46</td>\n",
              "      <td>2</td>\n",
              "      <td>4</td>\n",
              "      <td>72</td>\n",
              "      <td>11766</td>\n",
              "      <td>5915</td>\n",
              "      <td>5468</td>\n",
              "      <td>231</td>\n",
              "      <td>152</td>\n",
              "      <td>13501</td>\n",
              "      <td>6747</td>\n",
              "      <td>6658</td>\n",
              "      <td>96</td>\n",
              "      <td>13712</td>\n",
              "      <td>7058</td>\n",
              "      <td>6447</td>\n",
              "      <td>207</td>\n",
              "      <td>14023</td>\n",
              "      <td>6862</td>\n",
              "      <td>6940</td>\n",
              "      <td>221</td>\n",
              "      <td>13844</td>\n",
              "      <td>4678</td>\n",
              "      <td>8232</td>\n",
              "      <td>934</td>\n",
              "      <td>1</td>\n",
              "      <td>POLYGON ((-91.94773 41.86186, -91.95514 41.861...</td>\n",
              "    </tr>\n",
              "    <tr>\n",
              "      <th>2</th>\n",
              "      <td>19</td>\n",
              "      <td>041</td>\n",
              "      <td>19041</td>\n",
              "      <td>Clay</td>\n",
              "      <td>Clay County</td>\n",
              "      <td>1469139214</td>\n",
              "      <td>13866941</td>\n",
              "      <td>+43.0798220</td>\n",
              "      <td>-095.1497261</td>\n",
              "      <td>16667</td>\n",
              "      <td>15843</td>\n",
              "      <td>68</td>\n",
              "      <td>36</td>\n",
              "      <td>98</td>\n",
              "      <td>0</td>\n",
              "      <td>1</td>\n",
              "      <td>144</td>\n",
              "      <td>477</td>\n",
              "      <td>234</td>\n",
              "      <td>1</td>\n",
              "      <td>2</td>\n",
              "      <td>1</td>\n",
              "      <td>1</td>\n",
              "      <td>195</td>\n",
              "      <td>43</td>\n",
              "      <td>12837</td>\n",
              "      <td>265</td>\n",
              "      <td>12386</td>\n",
              "      <td>39</td>\n",
              "      <td>25</td>\n",
              "      <td>67</td>\n",
              "      <td>0</td>\n",
              "      <td>0</td>\n",
              "      <td>55</td>\n",
              "      <td>7578</td>\n",
              "      <td>3294</td>\n",
              "      <td>3992</td>\n",
              "      <td>166</td>\n",
              "      <td>126</td>\n",
              "      <td>8588</td>\n",
              "      <td>3547</td>\n",
              "      <td>4898</td>\n",
              "      <td>143</td>\n",
              "      <td>8398</td>\n",
              "      <td>3925</td>\n",
              "      <td>4355</td>\n",
              "      <td>118</td>\n",
              "      <td>8502</td>\n",
              "      <td>3385</td>\n",
              "      <td>4951</td>\n",
              "      <td>166</td>\n",
              "      <td>8617</td>\n",
              "      <td>2249</td>\n",
              "      <td>5877</td>\n",
              "      <td>491</td>\n",
              "      <td>4</td>\n",
              "      <td>POLYGON ((-95.26926 43.25537, -95.26140 43.255...</td>\n",
              "    </tr>\n",
              "    <tr>\n",
              "      <th>3</th>\n",
              "      <td>19</td>\n",
              "      <td>165</td>\n",
              "      <td>19165</td>\n",
              "      <td>Shelby</td>\n",
              "      <td>Shelby County</td>\n",
              "      <td>1530110414</td>\n",
              "      <td>1486135</td>\n",
              "      <td>+41.6790143</td>\n",
              "      <td>-095.3089173</td>\n",
              "      <td>12167</td>\n",
              "      <td>11763</td>\n",
              "      <td>31</td>\n",
              "      <td>24</td>\n",
              "      <td>46</td>\n",
              "      <td>0</td>\n",
              "      <td>7</td>\n",
              "      <td>77</td>\n",
              "      <td>219</td>\n",
              "      <td>146</td>\n",
              "      <td>1</td>\n",
              "      <td>4</td>\n",
              "      <td>0</td>\n",
              "      <td>2</td>\n",
              "      <td>61</td>\n",
              "      <td>5</td>\n",
              "      <td>9301</td>\n",
              "      <td>133</td>\n",
              "      <td>9056</td>\n",
              "      <td>19</td>\n",
              "      <td>16</td>\n",
              "      <td>26</td>\n",
              "      <td>0</td>\n",
              "      <td>5</td>\n",
              "      <td>46</td>\n",
              "      <td>6009</td>\n",
              "      <td>2179</td>\n",
              "      <td>3655</td>\n",
              "      <td>113</td>\n",
              "      <td>62</td>\n",
              "      <td>6670</td>\n",
              "      <td>2355</td>\n",
              "      <td>4256</td>\n",
              "      <td>59</td>\n",
              "      <td>6453</td>\n",
              "      <td>2863</td>\n",
              "      <td>3488</td>\n",
              "      <td>102</td>\n",
              "      <td>6483</td>\n",
              "      <td>2469</td>\n",
              "      <td>3911</td>\n",
              "      <td>103</td>\n",
              "      <td>6370</td>\n",
              "      <td>1662</td>\n",
              "      <td>4362</td>\n",
              "      <td>346</td>\n",
              "      <td>4</td>\n",
              "      <td>POLYGON ((-95.20902 41.86371, -95.20890 41.863...</td>\n",
              "    </tr>\n",
              "    <tr>\n",
              "      <th>4</th>\n",
              "      <td>19</td>\n",
              "      <td>043</td>\n",
              "      <td>19043</td>\n",
              "      <td>Clayton</td>\n",
              "      <td>Clayton County</td>\n",
              "      <td>2016405612</td>\n",
              "      <td>36586071</td>\n",
              "      <td>+42.8409979</td>\n",
              "      <td>-091.3235108</td>\n",
              "      <td>18129</td>\n",
              "      <td>17563</td>\n",
              "      <td>60</td>\n",
              "      <td>13</td>\n",
              "      <td>42</td>\n",
              "      <td>17</td>\n",
              "      <td>2</td>\n",
              "      <td>126</td>\n",
              "      <td>306</td>\n",
              "      <td>168</td>\n",
              "      <td>1</td>\n",
              "      <td>7</td>\n",
              "      <td>0</td>\n",
              "      <td>0</td>\n",
              "      <td>108</td>\n",
              "      <td>22</td>\n",
              "      <td>13925</td>\n",
              "      <td>163</td>\n",
              "      <td>13610</td>\n",
              "      <td>28</td>\n",
              "      <td>12</td>\n",
              "      <td>27</td>\n",
              "      <td>15</td>\n",
              "      <td>0</td>\n",
              "      <td>70</td>\n",
              "      <td>8571</td>\n",
              "      <td>4238</td>\n",
              "      <td>4034</td>\n",
              "      <td>206</td>\n",
              "      <td>93</td>\n",
              "      <td>9168</td>\n",
              "      <td>4736</td>\n",
              "      <td>4312</td>\n",
              "      <td>120</td>\n",
              "      <td>8989</td>\n",
              "      <td>5195</td>\n",
              "      <td>3651</td>\n",
              "      <td>143</td>\n",
              "      <td>9138</td>\n",
              "      <td>4806</td>\n",
              "      <td>4164</td>\n",
              "      <td>168</td>\n",
              "      <td>9129</td>\n",
              "      <td>3237</td>\n",
              "      <td>5317</td>\n",
              "      <td>575</td>\n",
              "      <td>1</td>\n",
              "      <td>POLYGON ((-91.25080 42.64558, -91.25160 42.645...</td>\n",
              "    </tr>\n",
              "  </tbody>\n",
              "</table>\n",
              "</div>"
            ],
            "text/plain": [
              "  STATEFP10 COUNTYFP10  ...  CD                                           geometry\n",
              "0        19        127  ...   1  POLYGON ((-92.76679 42.12346, -92.76679 42.122...\n",
              "1        19        011  ...   1  POLYGON ((-91.94773 41.86186, -91.95514 41.861...\n",
              "2        19        041  ...   4  POLYGON ((-95.26926 43.25537, -95.26140 43.255...\n",
              "3        19        165  ...   4  POLYGON ((-95.20902 41.86371, -95.20890 41.863...\n",
              "4        19        043  ...   1  POLYGON ((-91.25080 42.64558, -91.25160 42.645...\n",
              "\n",
              "[5 rows x 57 columns]"
            ]
          },
          "metadata": {
            "tags": []
          },
          "execution_count": 6
        }
      ]
    },
    {
      "cell_type": "markdown",
      "metadata": {
        "id": "mkz9GhsxkRhU",
        "colab_type": "text"
      },
      "source": [
        "## 2. Setting up the initial plan and updaters for the chain"
      ]
    },
    {
      "cell_type": "markdown",
      "metadata": {
        "id": "aXxIwoLlA5x3",
        "colab_type": "text"
      },
      "source": [
        "We have to convert the shapefile into a GerryChain Graph object. This can take a _really_ long time for big states. For Iowa it might take a few seconds. For that reason, it's a good idea to save your graph straight away so you can load it next time from a .json file."
      ]
    },
    {
      "cell_type": "code",
      "metadata": {
        "id": "Gucyu2lUA8d2",
        "colab_type": "code",
        "colab": {}
      },
      "source": [
        "graph = Graph.from_file(\"IA_counties.shp\")\n",
        "graph.to_json(\"IA_counties.json\")"
      ],
      "execution_count": null,
      "outputs": []
    },
    {
      "cell_type": "markdown",
      "metadata": {
        "id": "ZBanc3eHQkBg",
        "colab_type": "text"
      },
      "source": [
        "As GerryChain generates districting plans, we can read off properties of the plans (such as district vote shares or populations) using _updaters_. Since every shapefile is different, we need to create updaters for population, cut edges (discretized boundary length) and elections. Here are Iowa's:"
      ]
    },
    {
      "cell_type": "code",
      "metadata": {
        "id": "hyNK6prCA-yl",
        "colab_type": "code",
        "colab": {}
      },
      "source": [
        "#call the elections whatever you like\n",
        "election_names = [\"PRES00\",\"PRES04\",\"PRES08\",\"PRES12\"] \n",
        "#these have to be shapefile column names, in (Democrat, Republican) pairs\n",
        "election_columns = [[\"PRES00D\", \"PRES00R\"],[\"PRES04D\", \"PRES04R\"],[\"PRES08D\", \"PRES08R\"],[\"PRES12D\",\"PRES12R\"]]\n",
        "#the population column on the shapefile\n",
        "pop_col = \"TOTPOP\""
      ],
      "execution_count": null,
      "outputs": []
    },
    {
      "cell_type": "code",
      "metadata": {
        "id": "lANTgNUgjiv6",
        "colab_type": "code",
        "colab": {}
      },
      "source": [
        "#basic updaters\n",
        "myupdaters = {\n",
        "    \"population\": updaters.Tally(pop_col, alias=\"population\"),\n",
        "    \"cut_edges\": cut_edges,\n",
        "}\n",
        "#election updaters using GerryChain Election objects\n",
        "elections = [\n",
        "    Election(name,{\"Democratic\": dem, \"Republican\": rep})\n",
        "    for name, (dem, rep) in zip(election_names, election_columns)\n",
        "]\n",
        "election_updaters = {election.name: election for election in elections}\n",
        "myupdaters.update(election_updaters)"
      ],
      "execution_count": null,
      "outputs": []
    },
    {
      "cell_type": "markdown",
      "metadata": {
        "id": "JHTmI15XkXtp",
        "colab_type": "text"
      },
      "source": [
        "We need an initial plan to start the chain at. Here's how to make one from scratch. This can take a while too, so you can also use an enacted plan as a seed if you have one on the shapefile. **You can change the number of districts (4) and the maximum population deviation if you like.**"
      ]
    },
    {
      "cell_type": "code",
      "metadata": {
        "id": "_2GS4uUyj69k",
        "colab_type": "code",
        "colab": {}
      },
      "source": [
        "total_population = sum([graph.nodes[n][pop_col] for n in graph.nodes])\n",
        "assignment = recursive_tree_part(\n",
        "    graph, \n",
        "    range(4), #district names, in this case {0,1,2,3}\n",
        "    total_population/4, #ideal population for a district\n",
        "    pop_col, \n",
        "    0.05 #maximum allowed population deviation, 5% for now\n",
        ")\n",
        "#make a GerryChain Partition object\n",
        "initial_partition = Partition(graph, assignment, myupdaters)"
      ],
      "execution_count": null,
      "outputs": []
    },
    {
      "cell_type": "markdown",
      "metadata": {
        "id": "Gck4s848loxb",
        "colab_type": "text"
      },
      "source": [
        "Let's look at our seed plan. Here's an easy way to see a Partition object as a plan."
      ]
    },
    {
      "cell_type": "code",
      "metadata": {
        "id": "0_mTMqw5kXQm",
        "colab_type": "code",
        "colab": {
          "base_uri": "https://localhost:8080/",
          "height": 226
        },
        "outputId": "8f46229c-d658-4ff5-fc4f-c203b9e08608"
      },
      "source": [
        "initial_partition.plot(gdf) #you have to hand it gdf, the geodataframe for the graph"
      ],
      "execution_count": null,
      "outputs": [
        {
          "output_type": "execute_result",
          "data": {
            "text/plain": [
              "<matplotlib.axes._subplots.AxesSubplot at 0x7f5efd9a1898>"
            ]
          },
          "metadata": {
            "tags": []
          },
          "execution_count": 12
        },
        {
          "output_type": "display_data",
          "data": {
            "image/png": "[encoded data removed]",
            "text/plain": [
              "<Figure size 432x288 with 1 Axes>"
            ]
          },
          "metadata": {
            "tags": [],
            "needs_background": "light"
          }
        }
      ]
    },
    {
      "cell_type": "markdown",
      "metadata": {
        "id": "dLyirvBCkAA0",
        "colab_type": "text"
      },
      "source": [
        "## 3. Running a flip walk chain"
      ]
    },
    {
      "cell_type": "markdown",
      "metadata": {
        "id": "9toO6paQoAMf",
        "colab_type": "text"
      },
      "source": [
        "We need some constraints on what kind of plans our chain can generate. For flip walks, we are worried about contiguity and population balance. **Go ahead and tinker with the number of steps and the population deviation if you like.**"
      ]
    },
    {
      "cell_type": "code",
      "metadata": {
        "id": "9jKOjuW7o5mN",
        "colab_type": "code",
        "colab": {}
      },
      "source": [
        "myconstraints = [\n",
        "    single_flip_contiguous, #fast contiguity tracker only for flip walks\n",
        "    constraints.within_percent_of_ideal_population(initial_partition, 0.05) #population deviation\n",
        "]\n",
        "chain = MarkovChain(\n",
        "    proposal=propose_random_flip,\n",
        "    constraints=myconstraints,\n",
        "    accept=always_accept,\n",
        "    initial_state=initial_partition,\n",
        "    total_steps=1000 #number of steps\n",
        ")"
      ],
      "execution_count": null,
      "outputs": []
    },
    {
      "cell_type": "markdown",
      "metadata": {
        "id": "7Yt90uOXpzoR",
        "colab_type": "text"
      },
      "source": [
        "It's time to run a chain. A GerryChain MarkovChain object is iterable -- in other words, you run it like you're iterating through a list.\n",
        "\n",
        "It's no good running the chain without storing something about the plans to look at, so let's store the Democratic vote shares for each plan, sorted in ascending order. We'll store the data in a list to start with, and then put it in a pandas DataFrame, which is easy to store as a csv later on. We'll also store the cut edges in a separate list. **You can also store any other data you like, for example step[e].seats('Democratic') gives you the number of Democratic-won districts.**\n",
        "\n",
        "It's also good practice, when space is available, to store your partitions on the shapefile so you can look at them later. Let's store our plans as step1, step2 etc."
      ]
    },
    {
      "cell_type": "code",
      "metadata": {
        "id": "GCJW4pr9ppCd",
        "colab_type": "code",
        "colab": {
          "base_uri": "https://localhost:8080/",
          "height": 54
        },
        "outputId": "911a097a-c2b1-4314-be8b-1cd64ad13027"
      },
      "source": [
        "votesharelists = {e: [] for e in election_names}\n",
        "cutedges = []\n",
        "for i, step in enumerate(chain):\n",
        "  print(i, end=\" \")\n",
        "  cutedges.append(len(step['cut_edges'])) #store cut edges\n",
        "  gdf['flipstep{}'.format(i)] = [step.assignment[n] for n in graph.nodes] #store plan\n",
        "  for e in election_names:\n",
        "    votesharelists[e].append(sorted(step[e].percents(\"Democratic\")))"
      ],
      "execution_count": null,
      "outputs": [
        {
          "output_type": "stream",
          "text": [
            "0 1 2 3 4 5 6 7 8 9 10 11 12 13 14 15 16 17 18 19 20 21 22 23 24 25 26 27 28 29 30 31 32 33 34 35 36 37 38 39 40 41 42 43 44 45 46 47 48 49 50 51 52 53 54 55 56 57 58 59 60 61 62 63 64 65 66 67 68 69 70 71 72 73 74 75 76 77 78 79 80 81 82 83 84 85 86 87 88 89 90 91 92 93 94 95 96 97 98 99 100 101 102 103 104 105 106 107 108 109 110 111 112 113 114 115 116 117 118 119 120 121 122 123 124 125 126 127 128 129 130 131 132 133 134 135 136 137 138 139 140 141 142 143 144 145 146 147 148 149 150 151 152 153 154 155 156 157 158 159 160 161 162 163 164 165 166 167 168 169 170 171 172 173 174 175 176 177 178 179 180 181 182 183 184 185 186 187 188 189 190 191 192 193 194 195 196 197 198 199 200 201 202 203 204 205 206 207 208 209 210 211 212 213 214 215 216 217 218 219 220 221 222 223 224 225 226 227 228 229 230 231 232 233 234 235 236 237 238 239 240 241 242 243 244 245 246 247 248 249 250 251 252 253 254 255 256 257 258 259 260 261 262 263 264 265 266 267 268 269 270 271 272 273 274 275 276 277 278 279 280 281 282 283 284 285 286 287 288 289 290 291 292 293 294 295 296 297 298 299 300 301 302 303 304 305 306 307 308 309 310 311 312 313 314 315 316 317 318 319 320 321 322 323 324 325 326 327 328 329 330 331 332 333 334 335 336 337 338 339 340 341 342 343 344 345 346 347 348 349 350 351 352 353 354 355 356 357 358 359 360 361 362 363 364 365 366 367 368 369 370 371 372 373 374 375 376 377 378 379 380 381 382 383 384 385 386 387 388 389 390 391 392 393 394 395 396 397 398 399 400 401 402 403 404 405 406 407 408 409 410 411 412 413 414 415 416 417 418 419 420 421 422 423 424 425 426 427 428 429 430 431 432 433 434 435 436 437 438 439 440 441 442 443 444 445 446 447 448 449 450 451 452 453 454 455 456 457 458 459 460 461 462 463 464 465 466 467 468 469 470 471 472 473 474 475 476 477 478 479 480 481 482 483 484 485 486 487 488 489 490 491 492 493 494 495 496 497 498 499 500 501 502 503 504 505 506 507 508 509 510 511 512 513 514 515 516 517 518 519 520 521 522 523 524 525 526 527 528 529 530 531 532 533 534 535 536 537 538 539 540 541 542 543 544 545 546 547 548 549 550 551 552 553 554 555 556 557 558 559 560 561 562 563 564 565 566 567 568 569 570 571 572 573 574 575 576 577 578 579 580 581 582 583 584 585 586 587 588 589 590 591 592 593 594 595 596 597 598 599 600 601 602 603 604 605 606 607 608 609 610 611 612 613 614 615 616 617 618 619 620 621 622 623 624 625 626 627 628 629 630 631 632 633 634 635 636 637 638 639 640 641 642 643 644 645 646 647 648 649 650 651 652 653 654 655 656 657 658 659 660 661 662 663 664 665 666 667 668 669 670 671 672 673 674 675 676 677 678 679 680 681 682 683 684 685 686 687 688 689 690 691 692 693 694 695 696 697 698 699 700 701 702 703 704 705 706 707 708 709 710 711 712 713 714 715 716 717 718 719 720 721 722 723 724 725 726 727 728 729 730 731 732 733 734 735 736 737 738 739 740 741 742 743 744 745 746 747 748 749 750 751 752 753 754 755 756 757 758 759 760 761 762 763 764 765 766 767 768 769 770 771 772 773 774 775 776 777 778 779 780 781 782 783 784 785 786 787 788 789 790 791 792 793 794 795 796 797 798 799 800 801 802 803 804 805 806 807 808 809 810 811 812 813 814 815 816 817 818 819 820 821 822 823 824 825 826 827 828 829 830 831 832 833 834 835 836 837 838 839 840 841 842 843 844 845 846 847 848 849 850 851 852 853 854 855 856 857 858 859 860 861 862 863 864 865 866 867 868 869 870 871 872 873 874 875 876 877 878 879 880 881 882 883 884 885 886 887 888 889 890 891 892 893 894 895 896 897 898 899 900 901 902 903 904 905 906 907 908 909 910 911 912 913 914 915 916 917 918 919 920 921 922 923 924 925 926 927 928 929 930 931 932 933 934 935 936 937 938 939 940 941 942 943 944 945 946 947 948 949 950 951 952 953 954 955 956 957 958 959 960 961 962 963 964 965 966 967 968 969 970 971 972 973 974 975 976 977 978 979 980 981 982 983 984 985 986 987 988 989 990 991 992 993 994 995 996 997 998 999 "
          ],
          "name": "stdout"
        }
      ]
    },
    {
      "cell_type": "markdown",
      "metadata": {
        "id": "Sr1Zsy_e5A8o",
        "colab_type": "text"
      },
      "source": [
        "Let's look at the tenth plan in the chain. **Go ahead and change the number to see different plans in the chain. Can you see what changes from one plan to the next?**\n"
      ]
    },
    {
      "cell_type": "code",
      "metadata": {
        "id": "-WBHan4F44cf",
        "colab_type": "code",
        "colab": {
          "base_uri": "https://localhost:8080/",
          "height": 226
        },
        "outputId": "dd27d148-3889-4733-9c27-35ee77873dcd"
      },
      "source": [
        "gdf.plot(column=\"flipstep{}\".format(9))"
      ],
      "execution_count": null,
      "outputs": [
        {
          "output_type": "execute_result",
          "data": {
            "text/plain": [
              "<matplotlib.axes._subplots.AxesSubplot at 0x7f5efa9e1a58>"
            ]
          },
          "metadata": {
            "tags": []
          },
          "execution_count": 15
        },
        {
          "output_type": "display_data",
          "data": {
            "image/png": "[encoded data removed]",
            "text/plain": [
              "<Figure size 432x288 with 1 Axes>"
            ]
          },
          "metadata": {
            "tags": [],
            "needs_background": "light"
          }
        }
      ]
    },
    {
      "cell_type": "markdown",
      "metadata": {
        "id": "ms31mkFEydU_",
        "colab_type": "text"
      },
      "source": [
        "Let's look at our data. We'll pick one election and look at a box plot of the vote shares. In the plot, District 0 is the least Democratic district, District 1 the second-least Democratic and so on. **We'll use PRES12 but you can use any election you like.**"
      ]
    },
    {
      "cell_type": "code",
      "metadata": {
        "id": "KhniRWIgyw7n",
        "colab_type": "code",
        "colab": {
          "base_uri": "https://localhost:8080/",
          "height": 204
        },
        "outputId": "1570cb50-566f-43c1-8b95-6f897b793fec"
      },
      "source": [
        "flipvoteshares = pd.DataFrame(votesharelists['PRES12']) #put it in a pandas DataFrame\n",
        "flipvoteshares.head()"
      ],
      "execution_count": null,
      "outputs": [
        {
          "output_type": "execute_result",
          "data": {
            "text/html": [
              "<div>\n",
              "<style scoped>\n",
              "    .dataframe tbody tr th:only-of-type {\n",
              "        vertical-align: middle;\n",
              "    }\n",
              "\n",
              "    .dataframe tbody tr th {\n",
              "        vertical-align: top;\n",
              "    }\n",
              "\n",
              "    .dataframe thead th {\n",
              "        text-align: right;\n",
              "    }\n",
              "</style>\n",
              "<table border=\"1\" class=\"dataframe\">\n",
              "  <thead>\n",
              "    <tr style=\"text-align: right;\">\n",
              "      <th></th>\n",
              "      <th>0</th>\n",
              "      <th>1</th>\n",
              "      <th>2</th>\n",
              "      <th>3</th>\n",
              "    </tr>\n",
              "  </thead>\n",
              "  <tbody>\n",
              "    <tr>\n",
              "      <th>0</th>\n",
              "      <td>0.430844</td>\n",
              "      <td>0.543778</td>\n",
              "      <td>0.551729</td>\n",
              "      <td>0.587377</td>\n",
              "    </tr>\n",
              "    <tr>\n",
              "      <th>1</th>\n",
              "      <td>0.430844</td>\n",
              "      <td>0.543778</td>\n",
              "      <td>0.551503</td>\n",
              "      <td>0.586689</td>\n",
              "    </tr>\n",
              "    <tr>\n",
              "      <th>2</th>\n",
              "      <td>0.430844</td>\n",
              "      <td>0.542514</td>\n",
              "      <td>0.551503</td>\n",
              "      <td>0.588293</td>\n",
              "    </tr>\n",
              "    <tr>\n",
              "      <th>3</th>\n",
              "      <td>0.426808</td>\n",
              "      <td>0.542211</td>\n",
              "      <td>0.551503</td>\n",
              "      <td>0.588293</td>\n",
              "    </tr>\n",
              "    <tr>\n",
              "      <th>4</th>\n",
              "      <td>0.430844</td>\n",
              "      <td>0.542514</td>\n",
              "      <td>0.551503</td>\n",
              "      <td>0.588293</td>\n",
              "    </tr>\n",
              "  </tbody>\n",
              "</table>\n",
              "</div>"
            ],
            "text/plain": [
              "          0         1         2         3\n",
              "0  0.430844  0.543778  0.551729  0.587377\n",
              "1  0.430844  0.543778  0.551503  0.586689\n",
              "2  0.430844  0.542514  0.551503  0.588293\n",
              "3  0.426808  0.542211  0.551503  0.588293\n",
              "4  0.430844  0.542514  0.551503  0.588293"
            ]
          },
          "metadata": {
            "tags": []
          },
          "execution_count": 16
        }
      ]
    },
    {
      "cell_type": "code",
      "metadata": {
        "id": "xcTRSmnGscMK",
        "colab_type": "code",
        "colab": {
          "base_uri": "https://localhost:8080/",
          "height": 281
        },
        "outputId": "b2d48ddc-4734-4a68-fe62-6b746be0c9f7"
      },
      "source": [
        "flipvoteshares.boxplot()\n",
        "plt.title('PRES12 Democratic vote shares')\n",
        "plt.show()"
      ],
      "execution_count": null,
      "outputs": [
        {
          "output_type": "display_data",
          "data": {
            "image/png": "[encoded data removed]",
            "text/plain": [
              "<Figure size 432x288 with 1 Axes>"
            ]
          },
          "metadata": {
            "tags": [],
            "needs_background": "light"
          }
        }
      ]
    },
    {
      "cell_type": "markdown",
      "metadata": {
        "id": "x2vraydf7PFM",
        "colab_type": "text"
      },
      "source": [
        "Let's look at the cut edges scores as well."
      ]
    },
    {
      "cell_type": "code",
      "metadata": {
        "id": "Vv-HJ0uZ7B8o",
        "colab_type": "code",
        "colab": {
          "base_uri": "https://localhost:8080/",
          "height": 298
        },
        "outputId": "ae906628-0adc-4b4b-aef2-013ceb7ed5ef"
      },
      "source": [
        "plt.hist(cutedges)\n",
        "plt.title(\"Cut edges\")"
      ],
      "execution_count": null,
      "outputs": [
        {
          "output_type": "execute_result",
          "data": {
            "text/plain": [
              "Text(0.5, 1.0, 'Cut edges')"
            ]
          },
          "metadata": {
            "tags": []
          },
          "execution_count": 18
        },
        {
          "output_type": "display_data",
          "data": {
            "image/png": "[encoded data removed]",
            "text/plain": [
              "<Figure size 432x288 with 1 Axes>"
            ]
          },
          "metadata": {
            "tags": [],
            "needs_background": "light"
          }
        }
      ]
    },
    {
      "cell_type": "markdown",
      "metadata": {
        "id": "KvFXd1_IzVFT",
        "colab_type": "text"
      },
      "source": [
        "## 4. Running a ReCom chain"
      ]
    },
    {
      "cell_type": "markdown",
      "metadata": {
        "id": "IQB-AjJ-ixxW",
        "colab_type": "text"
      },
      "source": [
        "Let's make an initial plan again."
      ]
    },
    {
      "cell_type": "code",
      "metadata": {
        "id": "tTV31RnKixHz",
        "colab_type": "code",
        "colab": {}
      },
      "source": [
        "total_population = sum([graph.nodes[n][pop_col] for n in graph.nodes])\n",
        "assignment = recursive_tree_part(\n",
        "    graph, \n",
        "    range(4), #district names, in this case {0,1,2,3}\n",
        "    total_population/4, #ideal population for a district\n",
        "    pop_col, \n",
        "    0.05 #maximum allowed population deviation, 5% for now\n",
        ")\n",
        "#make a GerryChain Partition object\n",
        "initial_partition = Partition(graph, assignment, myupdaters)"
      ],
      "execution_count": null,
      "outputs": []
    },
    {
      "cell_type": "markdown",
      "metadata": {
        "id": "vlUltL2FzaJa",
        "colab_type": "text"
      },
      "source": [
        "Running a ReCom chain is a simple matter of changing the proposal function, and adjusting the constraints."
      ]
    },
    {
      "cell_type": "code",
      "metadata": {
        "id": "J4LRxweKyuo2",
        "colab_type": "code",
        "colab": {}
      },
      "source": [
        "#no need for contiguity since that is forced by the proposal\n",
        "myconstraints = [\n",
        "    constraints.within_percent_of_ideal_population(initial_partition, 0.05)\n",
        "] \n",
        "#little python trick to fix some parameters in the proposal function\n",
        "myproposal = partial(\n",
        "    recom,\n",
        "    pop_col=pop_col,\n",
        "    pop_target=total_population/4,\n",
        "    epsilon=0.05, #population tolerance\n",
        "    node_repeats=2 #parameter for spanning tree method, set to 2 is fine\n",
        ")\n",
        "chain = MarkovChain(\n",
        "    proposal=myproposal,\n",
        "    constraints=myconstraints,\n",
        "    accept=always_accept,\n",
        "    initial_state=initial_partition,\n",
        "    total_steps=1000 #just a few steps to start with\n",
        ")"
      ],
      "execution_count": null,
      "outputs": []
    },
    {
      "cell_type": "markdown",
      "metadata": {
        "id": "2Xiplb2A5ZLq",
        "colab_type": "text"
      },
      "source": [
        "We'll store the chain's data in the same way."
      ]
    },
    {
      "cell_type": "code",
      "metadata": {
        "id": "EG9gmJpl5XUy",
        "colab_type": "code",
        "colab": {
          "base_uri": "https://localhost:8080/",
          "height": 1000
        },
        "outputId": "08349053-d791-40de-cbad-fa58ea9a258f"
      },
      "source": [
        "recomcutedges = []\n",
        "votesharelists = {e: [] for e in election_names}\n",
        "for i, step in enumerate(chain):\n",
        "  print(step.flips)\n",
        "  print(i, end=\" \")\n",
        "  gdf['recomstep{}'.format(i)] = [step.assignment[n] for n in graph.nodes] #store plan\n",
        "  recomcutedges.append(len(step['cut_edges']))\n",
        "  for e in election_names:\n",
        "    votesharelists[e].append(sorted(step[e].percents(\"Democratic\")))"
      ],
      "execution_count": null,
      "outputs": [
        {
          "output_type": "stream",
          "text": [
            "None\n",
            "0 {36: 2, 6: 2, 71: 2, 73: 2, 9: 2, 47: 2, 15: 2, 80: 2, 49: 2, 52: 2, 22: 2, 87: 2, 25: 2, 29: 2, 95: 2, 0: 1, 1: 1, 11: 1, 16: 1, 23: 1, 24: 1, 28: 1, 31: 1, 33: 1, 34: 1, 35: 1, 37: 1, 40: 1, 45: 1, 51: 1, 54: 1, 63: 1, 76: 1, 83: 1, 85: 1, 86: 1, 92: 1, 93: 1, 94: 1, 96: 1}\n",
            "1 {2: 2, 6: 2, 9: 2, 12: 2, 13: 2, 14: 2, 15: 2, 17: 2, 18: 2, 19: 2, 20: 2, 21: 2, 26: 2, 29: 2, 30: 2, 32: 2, 39: 2, 41: 2, 42: 2, 49: 2, 50: 2, 52: 2, 56: 2, 57: 2, 60: 2, 61: 2, 64: 2, 69: 2, 72: 2, 80: 2, 84: 2, 87: 2, 90: 2, 91: 2, 95: 2, 3: 0, 7: 0, 22: 0, 25: 0, 36: 0, 43: 0, 44: 0, 46: 0, 47: 0, 48: 0, 55: 0, 58: 0, 65: 0, 66: 0, 67: 0, 68: 0, 70: 0, 71: 0, 73: 0, 77: 0, 79: 0, 97: 0}\n",
            "2 {0: 1, 1: 1, 11: 1, 76: 1, 16: 1, 83: 1, 85: 1, 86: 1, 23: 1, 24: 1, 28: 1, 29: 1, 92: 1, 93: 1, 94: 1, 96: 1, 33: 1, 31: 1, 34: 1, 35: 1, 37: 1, 45: 1, 51: 1, 54: 1, 63: 1, 2: 2, 6: 2, 9: 2, 12: 2, 13: 2, 14: 2, 15: 2, 17: 2, 18: 2, 19: 2, 20: 2, 21: 2, 26: 2, 30: 2, 32: 2, 39: 2, 40: 2, 41: 2, 42: 2, 49: 2, 50: 2, 52: 2, 56: 2, 57: 2, 60: 2, 61: 2, 64: 2, 69: 2, 72: 2, 80: 2, 84: 2, 87: 2, 90: 2, 91: 2, 95: 2}\n",
            "3 {65: 0, 66: 0, 67: 0, 68: 0, 3: 0, 70: 0, 71: 0, 7: 0, 73: 0, 77: 0, 79: 0, 97: 0, 36: 0, 43: 0, 44: 0, 46: 0, 47: 0, 48: 0, 55: 0, 58: 0, 0: 1, 1: 1, 11: 1, 16: 1, 22: 1, 23: 1, 24: 1, 25: 1, 28: 1, 29: 1, 31: 1, 33: 1, 34: 1, 35: 1, 37: 1, 45: 1, 51: 1, 54: 1, 63: 1, 76: 1, 83: 1, 85: 1, 86: 1, 92: 1, 93: 1, 94: 1, 96: 1}\n",
            "4 {2: 1, 6: 1, 9: 1, 12: 1, 13: 1, 14: 1, 15: 1, 17: 1, 18: 1, 19: 1, 20: 1, 21: 1, 26: 1, 30: 1, 32: 1, 39: 1, 40: 1, 41: 1, 42: 1, 49: 1, 50: 1, 52: 1, 56: 1, 57: 1, 60: 1, 61: 1, 63: 1, 64: 1, 69: 1, 72: 1, 80: 1, 84: 1, 87: 1, 90: 1, 91: 1, 95: 1, 0: 2, 1: 2, 11: 2, 16: 2, 22: 2, 23: 2, 24: 2, 25: 2, 28: 2, 29: 2, 31: 2, 33: 2, 34: 2, 35: 2, 37: 2, 45: 2, 51: 2, 54: 2, 76: 2, 83: 2, 85: 2, 86: 2, 92: 2, 93: 2, 94: 2, 96: 2}\n",
            "5 {6: 0, 73: 0, 9: 0, 12: 0, 47: 0, 49: 0, 18: 0, 50: 0, 52: 0, 90: 0, 63: 0, 95: 0, 2: 1, 3: 1, 7: 1, 13: 1, 14: 1, 15: 1, 17: 1, 19: 1, 20: 1, 21: 1, 26: 1, 30: 1, 32: 1, 36: 1, 39: 1, 40: 1, 41: 1, 42: 1, 43: 1, 44: 1, 46: 1, 48: 1, 55: 1, 56: 1, 57: 1, 58: 1, 60: 1, 61: 1, 64: 1, 65: 1, 66: 1, 67: 1, 68: 1, 69: 1, 70: 1, 71: 1, 72: 1, 77: 1, 79: 1, 80: 1, 84: 1, 87: 1, 91: 1, 97: 1}\n",
            "6 {2: 0, 3: 0, 6: 0, 7: 0, 9: 0, 12: 0, 13: 0, 14: 0, 15: 0, 17: 0, 18: 0, 19: 0, 20: 0, 21: 0, 26: 0, 32: 0, 39: 0, 40: 0, 42: 0, 43: 0, 44: 0, 46: 0, 49: 0, 50: 0, 55: 0, 56: 0, 57: 0, 60: 0, 61: 0, 64: 0, 67: 0, 69: 0, 70: 0, 72: 0, 77: 0, 80: 0, 84: 0, 87: 0, 90: 0, 97: 0, 30: 1, 36: 1, 41: 1, 47: 1, 48: 1, 52: 1, 58: 1, 63: 1, 65: 1, 66: 1, 68: 1, 71: 1, 73: 1, 79: 1, 91: 1, 95: 1}\n",
            "7 {65: 2, 66: 2, 68: 2, 71: 2, 73: 2, 79: 2, 22: 2, 25: 2, 91: 2, 93: 2, 30: 2, 34: 2, 36: 2, 41: 2, 47: 2, 48: 2, 52: 2, 58: 2, 0: 1, 1: 1, 11: 1, 16: 1, 23: 1, 24: 1, 28: 1, 29: 1, 31: 1, 33: 1, 35: 1, 37: 1, 45: 1, 51: 1, 54: 1, 63: 1, 76: 1, 83: 1, 85: 1, 86: 1, 92: 1, 94: 1, 95: 1, 96: 1}\n",
            "8 {65: 1, 66: 1, 73: 1, 41: 1, 79: 1, 47: 1, 52: 1, 54: 1, 58: 1, 91: 1, 30: 1, 95: 1, 0: 2, 1: 2, 11: 2, 16: 2, 22: 2, 23: 2, 24: 2, 25: 2, 28: 2, 29: 2, 31: 2, 33: 2, 34: 2, 35: 2, 36: 2, 37: 2, 45: 2, 48: 2, 51: 2, 63: 2, 68: 2, 71: 2, 76: 2, 83: 2, 85: 2, 86: 2, 92: 2, 93: 2, 94: 2, 96: 2}\n",
            "9 {2: 2, 3: 2, 7: 2, 9: 2, 12: 2, 13: 2, 14: 2, 15: 2, 17: 2, 18: 2, 19: 2, 20: 2, 21: 2, 26: 2, 29: 2, 32: 2, 33: 2, 39: 2, 40: 2, 42: 2, 43: 2, 45: 2, 46: 2, 49: 2, 50: 2, 55: 2, 56: 2, 57: 2, 60: 2, 61: 2, 64: 2, 67: 2, 69: 2, 70: 2, 72: 2, 77: 2, 80: 2, 84: 2, 87: 2, 90: 2, 97: 2, 0: 0, 1: 0, 6: 0, 11: 0, 16: 0, 22: 0, 23: 0, 24: 0, 25: 0, 28: 0, 31: 0, 34: 0, 35: 0, 36: 0, 37: 0, 44: 0, 48: 0, 51: 0, 63: 0, 68: 0, 71: 0, 76: 0, 83: 0, 85: 0, 86: 0, 92: 0, 93: 0, 94: 0, 96: 0}\n",
            "10 {0: 0, 68: 0, 6: 0, 71: 0, 8: 0, 11: 0, 76: 0, 16: 0, 82: 0, 83: 0, 85: 0, 22: 0, 86: 0, 24: 0, 23: 0, 25: 0, 28: 0, 92: 0, 94: 0, 93: 0, 31: 0, 96: 0, 34: 0, 35: 0, 36: 0, 37: 0, 44: 0, 48: 0, 51: 0, 63: 0, 1: 3, 4: 3, 5: 3, 10: 3, 27: 3, 38: 3, 53: 3, 59: 3, 62: 3, 74: 3, 75: 3, 78: 3, 81: 3, 88: 3, 89: 3, 98: 3}\n",
            "11 {0: 1, 68: 1, 71: 1, 8: 1, 11: 1, 76: 1, 16: 1, 82: 1, 83: 1, 85: 1, 22: 1, 86: 1, 23: 1, 25: 1, 24: 1, 92: 1, 28: 1, 93: 1, 94: 1, 96: 1, 31: 1, 34: 1, 35: 1, 36: 1, 37: 1, 51: 1, 54: 1, 63: 1, 6: 0, 30: 0, 41: 0, 44: 0, 47: 0, 48: 0, 52: 0, 58: 0, 65: 0, 66: 0, 73: 0, 79: 0, 91: 0, 95: 0}\n",
            "12 {0: 1, 68: 1, 71: 1, 8: 1, 11: 1, 76: 1, 16: 1, 82: 1, 83: 1, 85: 1, 86: 1, 22: 1, 23: 1, 25: 1, 24: 1, 92: 1, 28: 1, 93: 1, 94: 1, 96: 1, 31: 1, 34: 1, 35: 1, 37: 1, 51: 1, 54: 1, 63: 1, 6: 0, 30: 0, 36: 0, 41: 0, 44: 0, 47: 0, 48: 0, 52: 0, 58: 0, 65: 0, 66: 0, 73: 0, 79: 0, 91: 0, 95: 0}\n",
            "13 {33: 0, 6: 0, 40: 0, 73: 0, 9: 0, 45: 0, 14: 0, 15: 0, 80: 0, 49: 0, 18: 0, 52: 0, 20: 0, 87: 0, 29: 0, 95: 0, 2: 2, 3: 2, 7: 2, 12: 2, 13: 2, 17: 2, 19: 2, 21: 2, 26: 2, 30: 2, 32: 2, 36: 2, 39: 2, 41: 2, 42: 2, 43: 2, 44: 2, 46: 2, 47: 2, 48: 2, 50: 2, 55: 2, 56: 2, 57: 2, 58: 2, 60: 2, 61: 2, 64: 2, 65: 2, 66: 2, 67: 2, 69: 2, 70: 2, 72: 2, 77: 2, 79: 2, 84: 2, 90: 2, 91: 2, 97: 2}\n",
            "14 {65: 0, 66: 0, 7: 0, 73: 0, 77: 0, 79: 0, 95: 0, 36: 0, 41: 0, 43: 0, 44: 0, 46: 0, 47: 0, 48: 0, 52: 0, 55: 0, 58: 0, 2: 2, 3: 2, 6: 2, 9: 2, 12: 2, 13: 2, 14: 2, 15: 2, 17: 2, 18: 2, 19: 2, 20: 2, 21: 2, 26: 2, 29: 2, 30: 2, 32: 2, 33: 2, 39: 2, 40: 2, 42: 2, 45: 2, 49: 2, 50: 2, 56: 2, 57: 2, 60: 2, 61: 2, 64: 2, 67: 2, 69: 2, 70: 2, 72: 2, 80: 2, 84: 2, 87: 2, 90: 2, 91: 2, 97: 2}\n",
            "15 {1: 2, 4: 2, 5: 2, 74: 2, 75: 2, 10: 2, 78: 2, 81: 2, 88: 2, 89: 2, 27: 2, 98: 2, 38: 2, 53: 2, 59: 2, 62: 2, 2: 3, 3: 3, 6: 3, 9: 3, 12: 3, 13: 3, 14: 3, 15: 3, 17: 3, 18: 3, 19: 3, 20: 3, 21: 3, 26: 3, 29: 3, 30: 3, 32: 3, 33: 3, 39: 3, 40: 3, 42: 3, 45: 3, 49: 3, 50: 3, 56: 3, 57: 3, 60: 3, 61: 3, 64: 3, 67: 3, 69: 3, 70: 3, 72: 3, 80: 3, 84: 3, 87: 3, 90: 3, 91: 3, 97: 3}\n",
            "16 {0: 1, 96: 1, 37: 1, 73: 1, 82: 1, 83: 1, 52: 1, 63: 1, 95: 1, 7: 0, 8: 0, 11: 0, 16: 0, 22: 0, 23: 0, 24: 0, 25: 0, 28: 0, 31: 0, 34: 0, 35: 0, 36: 0, 41: 0, 43: 0, 44: 0, 46: 0, 47: 0, 48: 0, 51: 0, 54: 0, 55: 0, 58: 0, 65: 0, 66: 0, 68: 0, 71: 0, 76: 0, 77: 0, 79: 0, 85: 0, 86: 0, 92: 0, 93: 0, 94: 0}\n",
            "17 {0: 1, 82: 1, 83: 1, 37: 1, 73: 1, 95: 1, 2: 3, 3: 3, 6: 3, 9: 3, 12: 3, 13: 3, 14: 3, 15: 3, 17: 3, 18: 3, 19: 3, 20: 3, 21: 3, 26: 3, 29: 3, 30: 3, 32: 3, 33: 3, 39: 3, 40: 3, 42: 3, 45: 3, 49: 3, 50: 3, 52: 3, 56: 3, 57: 3, 60: 3, 61: 3, 63: 3, 64: 3, 67: 3, 69: 3, 70: 3, 72: 3, 80: 3, 84: 3, 87: 3, 90: 3, 91: 3, 96: 3, 97: 3}\n",
            "18 {0: 1, 96: 1, 37: 1, 6: 1, 73: 1, 82: 1, 83: 1, 63: 1, 95: 1, 2: 3, 3: 3, 9: 3, 12: 3, 13: 3, 14: 3, 15: 3, 17: 3, 18: 3, 19: 3, 20: 3, 21: 3, 26: 3, 29: 3, 30: 3, 32: 3, 33: 3, 39: 3, 40: 3, 42: 3, 45: 3, 49: 3, 50: 3, 52: 3, 56: 3, 57: 3, 60: 3, 61: 3, 64: 3, 67: 3, 69: 3, 70: 3, 72: 3, 80: 3, 84: 3, 87: 3, 90: 3, 91: 3, 97: 3}\n",
            "19 {65: 3, 66: 3, 68: 3, 71: 3, 8: 3, 11: 3, 76: 3, 79: 3, 16: 3, 85: 3, 22: 3, 86: 3, 23: 3, 25: 3, 24: 3, 92: 3, 28: 3, 30: 3, 93: 3, 94: 3, 31: 3, 34: 3, 35: 3, 36: 3, 41: 3, 44: 3, 47: 3, 48: 3, 51: 3, 54: 3, 2: 0, 3: 0, 7: 0, 9: 0, 12: 0, 13: 0, 14: 0, 15: 0, 17: 0, 18: 0, 19: 0, 20: 0, 21: 0, 26: 0, 29: 0, 32: 0, 33: 0, 39: 0, 40: 0, 42: 0, 43: 0, 45: 0, 46: 0, 49: 0, 50: 0, 52: 0, 55: 0, 56: 0, 57: 0, 58: 0, 60: 0, 61: 0, 64: 0, 67: 0, 69: 0, 70: 0, 72: 0, 77: 0, 80: 0, 84: 0, 87: 0, 90: 0, 91: 0, 97: 0}\n",
            "20 {0: 2, 1: 2, 96: 2, 37: 2, 6: 2, 73: 2, 83: 2, 63: 2, 95: 2, 4: 1, 5: 1, 10: 1, 27: 1, 38: 1, 53: 1, 59: 1, 62: 1, 74: 1, 75: 1, 78: 1, 81: 1, 82: 1, 88: 1, 89: 1, 98: 1}\n",
            "21 {7: 0, 8: 0, 11: 0, 16: 0, 22: 0, 23: 0, 24: 0, 25: 0, 28: 0, 30: 0, 31: 0, 34: 0, 35: 0, 36: 0, 41: 0, 43: 0, 44: 0, 46: 0, 47: 0, 48: 0, 51: 0, 54: 0, 55: 0, 58: 0, 65: 0, 66: 0, 67: 0, 68: 0, 71: 0, 76: 0, 79: 0, 85: 0, 86: 0, 92: 0, 93: 0, 94: 0, 2: 3, 3: 3, 9: 3, 12: 3, 13: 3, 14: 3, 15: 3, 17: 3, 18: 3, 19: 3, 20: 3, 21: 3, 26: 3, 29: 3, 32: 3, 33: 3, 39: 3, 40: 3, 42: 3, 45: 3, 49: 3, 50: 3, 52: 3, 56: 3, 57: 3, 60: 3, 61: 3, 64: 3, 69: 3, 70: 3, 72: 3, 77: 3, 80: 3, 84: 3, 87: 3, 90: 3, 91: 3, 97: 3}\n",
            "22 {0: 2, 1: 2, 83: 2, 37: 2, 73: 2, 45: 2, 95: 2, 2: 3, 3: 3, 6: 3, 9: 3, 12: 3, 13: 3, 14: 3, 15: 3, 17: 3, 18: 3, 19: 3, 20: 3, 21: 3, 26: 3, 29: 3, 32: 3, 33: 3, 39: 3, 40: 3, 42: 3, 49: 3, 50: 3, 52: 3, 56: 3, 57: 3, 60: 3, 61: 3, 63: 3, 64: 3, 69: 3, 70: 3, 72: 3, 77: 3, 80: 3, 84: 3, 87: 3, 90: 3, 91: 3, 96: 3, 97: 3}\n",
            "23 {0: 2, 96: 2, 1: 2, 37: 2, 73: 2, 45: 2, 83: 2, 95: 2, 63: 2, 2: 3, 3: 3, 6: 3, 9: 3, 12: 3, 13: 3, 14: 3, 15: 3, 17: 3, 18: 3, 19: 3, 20: 3, 21: 3, 26: 3, 29: 3, 32: 3, 33: 3, 39: 3, 40: 3, 42: 3, 49: 3, 50: 3, 52: 3, 56: 3, 57: 3, 60: 3, 61: 3, 64: 3, 69: 3, 70: 3, 72: 3, 77: 3, 80: 3, 84: 3, 87: 3, 90: 3, 91: 3, 97: 3}\n",
            "24 {1: 0, 66: 0, 68: 0, 71: 0, 8: 0, 11: 0, 76: 0, 79: 0, 16: 0, 83: 0, 85: 0, 22: 0, 86: 0, 24: 0, 23: 0, 25: 0, 28: 0, 92: 0, 93: 0, 94: 0, 31: 0, 34: 0, 35: 0, 36: 0, 37: 0, 44: 0, 45: 0, 47: 0, 48: 0, 51: 0, 0: 2, 7: 2, 30: 2, 41: 2, 43: 2, 46: 2, 54: 2, 55: 2, 58: 2, 63: 2, 65: 2, 67: 2, 73: 2, 95: 2, 96: 2}\n",
            "25 {1: 0, 4: 0, 74: 0, 75: 0, 11: 0, 78: 0, 81: 0, 82: 0, 24: 0, 88: 0, 27: 0, 98: 0, 37: 0, 45: 0, 53: 0, 62: 0, 5: 1, 8: 1, 10: 1, 16: 1, 22: 1, 23: 1, 25: 1, 28: 1, 31: 1, 34: 1, 35: 1, 36: 1, 38: 1, 44: 1, 47: 1, 48: 1, 51: 1, 59: 1, 66: 1, 68: 1, 71: 1, 76: 1, 79: 1, 83: 1, 85: 1, 86: 1, 89: 1, 92: 1, 93: 1, 94: 1}\n",
            "26 {0: 1, 5: 1, 8: 1, 10: 1, 76: 1, 16: 1, 83: 1, 85: 1, 86: 1, 23: 1, 89: 1, 92: 1, 93: 1, 28: 1, 95: 1, 94: 1, 31: 1, 96: 1, 35: 1, 38: 1, 51: 1, 54: 1, 59: 1, 63: 1, 7: 2, 22: 2, 25: 2, 30: 2, 34: 2, 36: 2, 41: 2, 43: 2, 44: 2, 46: 2, 47: 2, 48: 2, 55: 2, 58: 2, 65: 2, 66: 2, 67: 2, 68: 2, 71: 2, 73: 2, 79: 2}\n",
            "27 {0: 0, 1: 0, 11: 0, 76: 0, 16: 0, 82: 0, 83: 0, 85: 0, 86: 0, 23: 0, 24: 0, 28: 0, 93: 0, 94: 0, 31: 0, 95: 0, 96: 0, 35: 0, 37: 0, 45: 0, 51: 0, 54: 0, 63: 0, 4: 1, 5: 1, 8: 1, 10: 1, 27: 1, 38: 1, 53: 1, 59: 1, 62: 1, 74: 1, 75: 1, 78: 1, 81: 1, 88: 1, 89: 1, 92: 1, 98: 1}\n",
            "28 {65: 2, 66: 2, 68: 2, 6: 2, 71: 2, 73: 2, 79: 2, 22: 2, 25: 2, 30: 2, 34: 2, 36: 2, 41: 2, 44: 2, 47: 2, 48: 2, 52: 2, 58: 2, 2: 3, 3: 3, 7: 3, 9: 3, 12: 3, 13: 3, 14: 3, 15: 3, 17: 3, 18: 3, 19: 3, 20: 3, 21: 3, 26: 3, 29: 3, 32: 3, 33: 3, 39: 3, 40: 3, 42: 3, 43: 3, 46: 3, 49: 3, 50: 3, 55: 3, 56: 3, 57: 3, 60: 3, 61: 3, 64: 3, 67: 3, 69: 3, 70: 3, 72: 3, 77: 3, 80: 3, 84: 3, 87: 3, 90: 3, 91: 3, 97: 3}\n",
            "29 {4: 3, 5: 3, 38: 3, 8: 3, 27: 3, 74: 3, 10: 3, 78: 3, 81: 3, 53: 3, 88: 3, 89: 3, 59: 3, 92: 3, 62: 3, 2: 1, 3: 1, 7: 1, 9: 1, 12: 1, 13: 1, 14: 1, 15: 1, 17: 1, 18: 1, 19: 1, 20: 1, 21: 1, 26: 1, 29: 1, 32: 1, 33: 1, 39: 1, 40: 1, 42: 1, 43: 1, 46: 1, 49: 1, 50: 1, 55: 1, 56: 1, 57: 1, 60: 1, 61: 1, 64: 1, 67: 1, 69: 1, 70: 1, 72: 1, 75: 1, 77: 1, 80: 1, 84: 1, 87: 1, 90: 1, 91: 1, 97: 1, 98: 1}\n",
            "30 {4: 3, 5: 3, 38: 3, 8: 3, 59: 3, 74: 3, 75: 3, 10: 3, 78: 3, 81: 3, 53: 3, 89: 3, 27: 3, 92: 3, 62: 3, 2: 1, 3: 1, 7: 1, 9: 1, 12: 1, 13: 1, 14: 1, 15: 1, 17: 1, 18: 1, 19: 1, 20: 1, 21: 1, 26: 1, 29: 1, 32: 1, 33: 1, 39: 1, 40: 1, 42: 1, 43: 1, 46: 1, 49: 1, 50: 1, 55: 1, 56: 1, 57: 1, 60: 1, 61: 1, 64: 1, 67: 1, 69: 1, 70: 1, 72: 1, 77: 1, 80: 1, 84: 1, 87: 1, 88: 1, 90: 1, 91: 1, 97: 1, 98: 1}\n",
            "31 {2: 2, 3: 2, 7: 2, 12: 2, 13: 2, 14: 2, 15: 2, 17: 2, 18: 2, 19: 2, 20: 2, 21: 2, 26: 2, 29: 2, 32: 2, 33: 2, 39: 2, 40: 2, 42: 2, 43: 2, 44: 2, 46: 2, 48: 2, 50: 2, 55: 2, 56: 2, 57: 2, 58: 2, 60: 2, 61: 2, 64: 2, 66: 2, 67: 2, 69: 2, 70: 2, 72: 2, 77: 2, 80: 2, 84: 2, 88: 2, 90: 2, 97: 2, 98: 2, 6: 1, 9: 1, 22: 1, 25: 1, 30: 1, 34: 1, 36: 1, 41: 1, 47: 1, 49: 1, 52: 1, 65: 1, 68: 1, 71: 1, 73: 1, 79: 1, 87: 1, 91: 1}\n",
            "32 {0: 0, 1: 0, 4: 0, 74: 0, 75: 0, 78: 0, 81: 0, 82: 0, 83: 0, 86: 0, 95: 0, 96: 0, 37: 0, 45: 0, 53: 0, 54: 0, 62: 0, 63: 0, 5: 3, 8: 3, 10: 3, 11: 3, 16: 3, 23: 3, 24: 3, 27: 3, 28: 3, 31: 3, 35: 3, 38: 3, 51: 3, 59: 3, 76: 3, 85: 3, 89: 3, 92: 3, 93: 3, 94: 3}\n",
            "33 {5: 1, 8: 1, 10: 1, 11: 1, 76: 1, 16: 1, 85: 1, 23: 1, 24: 1, 89: 1, 27: 1, 28: 1, 93: 1, 92: 1, 94: 1, 31: 1, 35: 1, 38: 1, 59: 1, 6: 3, 9: 3, 22: 3, 25: 3, 30: 3, 34: 3, 36: 3, 41: 3, 47: 3, 49: 3, 51: 3, 52: 3, 65: 3, 68: 3, 71: 3, 73: 3, 79: 3, 87: 3, 91: 3}\n",
            "34 {66: 3, 67: 3, 68: 3, 71: 3, 7: 3, 73: 3, 77: 3, 79: 3, 22: 3, 25: 3, 97: 3, 34: 3, 36: 3, 43: 3, 44: 3, 46: 3, 47: 3, 48: 3, 51: 3, 55: 3, 58: 3, 2: 2, 3: 2, 6: 2, 9: 2, 12: 2, 13: 2, 14: 2, 15: 2, 17: 2, 18: 2, 19: 2, 20: 2, 21: 2, 26: 2, 29: 2, 30: 2, 32: 2, 33: 2, 39: 2, 40: 2, 41: 2, 42: 2, 49: 2, 50: 2, 52: 2, 56: 2, 57: 2, 60: 2, 61: 2, 64: 2, 65: 2, 69: 2, 70: 2, 72: 2, 80: 2, 84: 2, 87: 2, 88: 2, 90: 2, 91: 2, 98: 2}\n",
            "35 {66: 3, 67: 3, 68: 3, 71: 3, 7: 3, 73: 3, 77: 3, 79: 3, 22: 3, 97: 3, 36: 3, 43: 3, 44: 3, 46: 3, 47: 3, 48: 3, 55: 3, 58: 3, 0: 0, 1: 0, 4: 0, 25: 0, 34: 0, 37: 0, 45: 0, 51: 0, 53: 0, 54: 0, 62: 0, 63: 0, 74: 0, 75: 0, 78: 0, 81: 0, 82: 0, 83: 0, 86: 0, 95: 0, 96: 0}\n",
            "36 {2: 2, 3: 2, 6: 2, 9: 2, 12: 2, 13: 2, 14: 2, 15: 2, 17: 2, 18: 2, 19: 2, 20: 2, 21: 2, 26: 2, 29: 2, 30: 2, 32: 2, 39: 2, 41: 2, 42: 2, 49: 2, 50: 2, 52: 2, 56: 2, 57: 2, 60: 2, 61: 2, 63: 2, 64: 2, 65: 2, 69: 2, 70: 2, 72: 2, 84: 2, 87: 2, 90: 2, 91: 2, 95: 2, 0: 0, 1: 0, 4: 0, 25: 0, 33: 0, 34: 0, 37: 0, 40: 0, 45: 0, 51: 0, 53: 0, 54: 0, 62: 0, 74: 0, 75: 0, 78: 0, 80: 0, 81: 0, 82: 0, 83: 0, 86: 0, 88: 0, 96: 0, 98: 0}\n",
            "37 {66: 0, 67: 0, 68: 0, 7: 0, 71: 0, 73: 0, 77: 0, 79: 0, 86: 0, 25: 0, 97: 0, 34: 0, 36: 0, 43: 0, 44: 0, 46: 0, 47: 0, 48: 0, 51: 0, 55: 0, 58: 0, 0: 3, 1: 3, 4: 3, 22: 3, 33: 3, 37: 3, 40: 3, 45: 3, 53: 3, 54: 3, 62: 3, 74: 3, 75: 3, 78: 3, 80: 3, 81: 3, 82: 3, 83: 3, 88: 3, 96: 3, 98: 3}\n",
            "38 {0: 3, 1: 3, 4: 3, 74: 3, 75: 3, 78: 3, 81: 3, 82: 3, 83: 3, 22: 3, 95: 3, 96: 3, 37: 3, 53: 3, 54: 3, 62: 3, 63: 3, 2: 2, 3: 2, 6: 2, 9: 2, 12: 2, 13: 2, 14: 2, 15: 2, 17: 2, 18: 2, 19: 2, 20: 2, 21: 2, 26: 2, 29: 2, 30: 2, 32: 2, 33: 2, 39: 2, 40: 2, 41: 2, 42: 2, 45: 2, 49: 2, 50: 2, 52: 2, 56: 2, 57: 2, 60: 2, 61: 2, 64: 2, 65: 2, 69: 2, 70: 2, 72: 2, 80: 2, 84: 2, 87: 2, 88: 2, 90: 2, 91: 2, 98: 2}\n",
            "39 {66: 3, 67: 3, 68: 3, 71: 3, 7: 3, 73: 3, 77: 3, 79: 3, 22: 3, 25: 3, 97: 3, 34: 3, 36: 3, 43: 3, 44: 3, 46: 3, 47: 3, 48: 3, 51: 3, 55: 3, 58: 3, 0: 0, 1: 0, 4: 0, 37: 0, 53: 0, 54: 0, 62: 0, 63: 0, 74: 0, 75: 0, 78: 0, 81: 0, 82: 0, 83: 0, 86: 0, 95: 0, 96: 0}\n",
            "40 {66: 3, 67: 3, 68: 3, 71: 3, 7: 3, 73: 3, 77: 3, 79: 3, 25: 3, 97: 3, 34: 3, 36: 3, 43: 3, 44: 3, 46: 3, 47: 3, 48: 3, 55: 3, 58: 3, 0: 0, 1: 0, 4: 0, 22: 0, 37: 0, 51: 0, 53: 0, 54: 0, 62: 0, 63: 0, 74: 0, 75: 0, 78: 0, 81: 0, 82: 0, 83: 0, 86: 0, 95: 0, 96: 0}\n",
            "41 {66: 0, 67: 0, 68: 0, 7: 0, 73: 0, 77: 0, 79: 0, 95: 0, 97: 0, 36: 0, 43: 0, 44: 0, 46: 0, 47: 0, 48: 0, 55: 0, 58: 0, 0: 3, 1: 3, 4: 3, 22: 3, 25: 3, 34: 3, 37: 3, 51: 3, 53: 3, 54: 3, 62: 3, 63: 3, 71: 3, 74: 3, 75: 3, 78: 3, 81: 3, 82: 3, 83: 3, 86: 3, 96: 3}\n",
            "42 {64: 2, 4: 2, 72: 2, 74: 2, 75: 2, 14: 2, 78: 2, 15: 2, 80: 2, 18: 2, 81: 2, 82: 2, 84: 2, 21: 2, 20: 2, 87: 2, 88: 2, 32: 2, 33: 2, 98: 2, 37: 2, 40: 2, 42: 2, 45: 2, 53: 2, 62: 2, 0: 3, 1: 3, 2: 3, 3: 3, 6: 3, 9: 3, 12: 3, 13: 3, 17: 3, 19: 3, 22: 3, 25: 3, 26: 3, 29: 3, 30: 3, 34: 3, 39: 3, 41: 3, 49: 3, 50: 3, 51: 3, 52: 3, 54: 3, 56: 3, 57: 3, 60: 3, 61: 3, 63: 3, 65: 3, 69: 3, 70: 3, 71: 3, 83: 3, 86: 3, 90: 3, 91: 3, 96: 3}\n",
            "43 {5: 1, 8: 1, 10: 1, 76: 1, 16: 1, 85: 1, 24: 1, 89: 1, 27: 1, 28: 1, 93: 1, 94: 1, 31: 1, 92: 1, 35: 1, 38: 1, 59: 1, 0: 3, 1: 3, 2: 3, 3: 3, 6: 3, 9: 3, 11: 3, 12: 3, 13: 3, 17: 3, 19: 3, 22: 3, 23: 3, 25: 3, 26: 3, 29: 3, 30: 3, 34: 3, 39: 3, 41: 3, 49: 3, 50: 3, 51: 3, 52: 3, 54: 3, 56: 3, 57: 3, 60: 3, 61: 3, 63: 3, 65: 3, 69: 3, 70: 3, 71: 3, 83: 3, 86: 3, 90: 3, 91: 3, 96: 3}\n",
            "44 {5: 3, 8: 3, 10: 3, 76: 3, 16: 3, 85: 3, 24: 3, 25: 3, 89: 3, 27: 3, 92: 3, 93: 3, 28: 3, 94: 3, 31: 3, 34: 3, 35: 3, 38: 3, 59: 3, 0: 1, 1: 1, 2: 1, 3: 1, 6: 1, 9: 1, 11: 1, 12: 1, 13: 1, 17: 1, 19: 1, 22: 1, 23: 1, 26: 1, 29: 1, 30: 1, 39: 1, 41: 1, 49: 1, 50: 1, 51: 1, 52: 1, 54: 1, 56: 1, 57: 1, 60: 1, 61: 1, 63: 1, 65: 1, 69: 1, 70: 1, 71: 1, 83: 1, 86: 1, 90: 1, 91: 1, 96: 1}\n",
            "45 {1: 1, 5: 1, 8: 1, 10: 1, 11: 1, 76: 1, 16: 1, 85: 1, 24: 1, 89: 1, 27: 1, 92: 1, 94: 1, 31: 1, 38: 1, 59: 1, 0: 3, 2: 3, 3: 3, 6: 3, 9: 3, 12: 3, 13: 3, 17: 3, 19: 3, 22: 3, 23: 3, 25: 3, 26: 3, 28: 3, 29: 3, 30: 3, 34: 3, 35: 3, 39: 3, 41: 3, 49: 3, 50: 3, 51: 3, 52: 3, 54: 3, 56: 3, 57: 3, 60: 3, 61: 3, 63: 3, 65: 3, 69: 3, 70: 3, 71: 3, 83: 3, 86: 3, 90: 3, 91: 3, 93: 3, 96: 3}\n",
            "46 {5: 1, 8: 1, 10: 1, 76: 1, 16: 1, 85: 1, 23: 1, 24: 1, 89: 1, 27: 1, 28: 1, 93: 1, 92: 1, 94: 1, 31: 1, 38: 1, 59: 1, 0: 3, 1: 3, 2: 3, 3: 3, 6: 3, 9: 3, 11: 3, 12: 3, 13: 3, 17: 3, 19: 3, 22: 3, 25: 3, 26: 3, 29: 3, 30: 3, 34: 3, 35: 3, 39: 3, 41: 3, 49: 3, 50: 3, 51: 3, 52: 3, 54: 3, 56: 3, 57: 3, 60: 3, 61: 3, 63: 3, 65: 3, 69: 3, 70: 3, 71: 3, 83: 3, 86: 3, 90: 3, 91: 3, 96: 3}\n",
            "47 {0: 3, 1: 3, 4: 3, 71: 3, 74: 3, 75: 3, 11: 3, 78: 3, 81: 3, 82: 3, 83: 3, 22: 3, 86: 3, 88: 3, 25: 3, 33: 3, 98: 3, 34: 3, 35: 3, 37: 3, 40: 3, 51: 3, 53: 3, 54: 3, 62: 3, 2: 2, 3: 2, 6: 2, 9: 2, 12: 2, 13: 2, 14: 2, 15: 2, 17: 2, 18: 2, 19: 2, 20: 2, 21: 2, 26: 2, 29: 2, 30: 2, 32: 2, 39: 2, 41: 2, 42: 2, 45: 2, 49: 2, 50: 2, 52: 2, 56: 2, 57: 2, 60: 2, 61: 2, 63: 2, 64: 2, 65: 2, 69: 2, 70: 2, 72: 2, 80: 2, 84: 2, 87: 2, 90: 2, 91: 2, 96: 2}\n",
            "48 {0: 0, 1: 0, 4: 0, 74: 0, 11: 0, 75: 0, 78: 0, 81: 0, 82: 0, 83: 0, 86: 0, 88: 0, 95: 0, 33: 0, 98: 0, 37: 0, 40: 0, 51: 0, 53: 0, 54: 0, 62: 0, 7: 3, 22: 3, 25: 3, 34: 3, 35: 3, 36: 3, 43: 3, 44: 3, 46: 3, 47: 3, 48: 3, 55: 3, 58: 3, 66: 3, 67: 3, 68: 3, 71: 3, 73: 3, 77: 3, 79: 3, 97: 3}\n",
            "49 {6: 2, 73: 2, 9: 2, 18: 2, 22: 2, 90: 2, 91: 2, 29: 2, 96: 2, 41: 2, 45: 2, 49: 2, 50: 2, 52: 2, 60: 2, 63: 2, 2: 3, 3: 3, 7: 3, 12: 3, 13: 3, 14: 3, 15: 3, 17: 3, 19: 3, 20: 3, 21: 3, 25: 3, 26: 3, 30: 3, 32: 3, 34: 3, 35: 3, 36: 3, 39: 3, 42: 3, 43: 3, 44: 3, 46: 3, 47: 3, 48: 3, 55: 3, 56: 3, 57: 3, 58: 3, 61: 3, 64: 3, 65: 3, 66: 3, 67: 3, 68: 3, 69: 3, 70: 3, 71: 3, 72: 3, 77: 3, 79: 3, 80: 3, 84: 3, 87: 3, 97: 3}\n",
            "50 {0: 0, 1: 0, 11: 0, 76: 0, 16: 0, 85: 0, 86: 0, 23: 0, 24: 0, 92: 0, 28: 0, 93: 0, 31: 0, 94: 0, 95: 0, 51: 0, 53: 0, 54: 0, 4: 1, 5: 1, 8: 1, 10: 1, 27: 1, 33: 1, 37: 1, 38: 1, 40: 1, 59: 1, 62: 1, 74: 1, 75: 1, 78: 1, 81: 1, 82: 1, 83: 1, 88: 1, 89: 1, 98: 1}\n",
            "51 {0: 1, 1: 1, 4: 1, 74: 1, 11: 1, 75: 1, 78: 1, 81: 1, 82: 1, 83: 1, 88: 1, 95: 1, 33: 1, 98: 1, 37: 1, 40: 1, 53: 1, 54: 1, 5: 0, 8: 0, 10: 0, 16: 0, 23: 0, 24: 0, 27: 0, 28: 0, 31: 0, 38: 0, 51: 0, 59: 0, 62: 0, 76: 0, 85: 0, 86: 0, 89: 0, 92: 0, 93: 0, 94: 0}\n",
            "52 {65: 3, 66: 3, 68: 3, 71: 3, 73: 3, 77: 3, 79: 3, 22: 3, 25: 3, 34: 3, 35: 3, 36: 3, 41: 3, 44: 3, 46: 3, 47: 3, 48: 3, 52: 3, 58: 3, 2: 2, 3: 2, 6: 2, 7: 2, 9: 2, 12: 2, 13: 2, 14: 2, 15: 2, 17: 2, 18: 2, 19: 2, 20: 2, 21: 2, 26: 2, 29: 2, 30: 2, 32: 2, 39: 2, 42: 2, 43: 2, 45: 2, 49: 2, 50: 2, 55: 2, 56: 2, 57: 2, 60: 2, 61: 2, 63: 2, 64: 2, 67: 2, 69: 2, 70: 2, 72: 2, 80: 2, 84: 2, 87: 2, 90: 2, 91: 2, 96: 2, 97: 2}\n",
            "53 {66: 2, 68: 2, 6: 2, 71: 2, 73: 2, 79: 2, 22: 2, 25: 2, 34: 2, 35: 2, 36: 2, 41: 2, 44: 2, 47: 2, 48: 2, 52: 2, 63: 2, 2: 3, 3: 3, 7: 3, 9: 3, 12: 3, 13: 3, 14: 3, 15: 3, 17: 3, 18: 3, 19: 3, 20: 3, 21: 3, 26: 3, 29: 3, 30: 3, 32: 3, 39: 3, 42: 3, 43: 3, 45: 3, 46: 3, 49: 3, 50: 3, 55: 3, 56: 3, 57: 3, 58: 3, 60: 3, 61: 3, 64: 3, 65: 3, 67: 3, 69: 3, 70: 3, 72: 3, 77: 3, 80: 3, 84: 3, 87: 3, 90: 3, 91: 3, 96: 3, 97: 3}\n",
            "54 {65: 3, 66: 3, 67: 3, 68: 3, 71: 3, 7: 3, 73: 3, 77: 3, 79: 3, 22: 3, 25: 3, 91: 3, 30: 3, 34: 3, 35: 3, 36: 3, 41: 3, 43: 3, 44: 3, 46: 3, 47: 3, 48: 3, 55: 3, 58: 3, 61: 3, 2: 2, 3: 2, 6: 2, 9: 2, 12: 2, 13: 2, 14: 2, 15: 2, 17: 2, 18: 2, 19: 2, 20: 2, 21: 2, 26: 2, 29: 2, 32: 2, 39: 2, 42: 2, 45: 2, 49: 2, 50: 2, 52: 2, 56: 2, 57: 2, 60: 2, 63: 2, 64: 2, 69: 2, 70: 2, 72: 2, 80: 2, 84: 2, 87: 2, 90: 2, 96: 2, 97: 2}\n",
            "55 {5: 1, 38: 1, 8: 1, 27: 1, 10: 1, 11: 1, 53: 1, 24: 1, 89: 1, 59: 1, 0: 0, 1: 0, 4: 0, 16: 0, 23: 0, 28: 0, 31: 0, 33: 0, 37: 0, 40: 0, 51: 0, 54: 0, 62: 0, 74: 0, 75: 0, 76: 0, 78: 0, 81: 0, 82: 0, 83: 0, 85: 0, 86: 0, 88: 0, 92: 0, 93: 0, 94: 0, 95: 0, 98: 0}\n",
            "56 {68: 2, 6: 2, 73: 2, 9: 2, 15: 2, 80: 2, 22: 2, 25: 2, 29: 2, 96: 2, 34: 2, 35: 2, 45: 2, 47: 2, 49: 2, 52: 2, 63: 2, 2: 3, 3: 3, 7: 3, 12: 3, 13: 3, 14: 3, 17: 3, 18: 3, 19: 3, 20: 3, 21: 3, 26: 3, 30: 3, 32: 3, 36: 3, 39: 3, 41: 3, 42: 3, 43: 3, 44: 3, 46: 3, 48: 3, 50: 3, 55: 3, 56: 3, 57: 3, 58: 3, 60: 3, 61: 3, 64: 3, 65: 3, 66: 3, 67: 3, 69: 3, 70: 3, 71: 3, 72: 3, 77: 3, 79: 3, 84: 3, 87: 3, 90: 3, 91: 3, 97: 3}\n",
            "57 {0: 0, 1: 0, 4: 0, 68: 0, 74: 0, 75: 0, 76: 0, 78: 0, 16: 0, 81: 0, 82: 0, 83: 0, 85: 0, 86: 0, 23: 0, 88: 0, 25: 0, 28: 0, 92: 0, 93: 0, 94: 0, 96: 0, 31: 0, 98: 0, 34: 0, 35: 0, 37: 0, 40: 0, 45: 0, 51: 0, 54: 0, 62: 0, 6: 2, 9: 2, 73: 2, 15: 2, 80: 2, 22: 2, 29: 2, 95: 2, 33: 2, 47: 2, 49: 2, 52: 2, 63: 2}\n",
            "58 {68: 2, 73: 2, 76: 2, 16: 2, 85: 2, 22: 2, 23: 2, 25: 2, 92: 2, 28: 2, 93: 2, 94: 2, 31: 2, 34: 2, 35: 2, 47: 2, 51: 2, 0: 0, 1: 0, 4: 0, 6: 0, 9: 0, 15: 0, 29: 0, 33: 0, 37: 0, 40: 0, 45: 0, 49: 0, 52: 0, 54: 0, 62: 0, 63: 0, 74: 0, 75: 0, 78: 0, 80: 0, 81: 0, 82: 0, 83: 0, 86: 0, 88: 0, 95: 0, 96: 0, 98: 0}\n",
            "59 {5: 1, 38: 1, 8: 1, 59: 1, 10: 1, 11: 1, 53: 1, 24: 1, 89: 1, 27: 1, 92: 1, 16: 2, 22: 2, 23: 2, 25: 2, 28: 2, 31: 2, 34: 2, 35: 2, 47: 2, 51: 2, 68: 2, 73: 2, 76: 2, 85: 2, 93: 2, 94: 2}\n",
            "60 {0: 0, 1: 0, 4: 0, 9: 0, 74: 0, 75: 0, 76: 0, 78: 0, 15: 0, 16: 0, 80: 0, 81: 0, 82: 0, 83: 0, 85: 0, 86: 0, 23: 0, 88: 0, 28: 0, 93: 0, 94: 0, 31: 0, 29: 0, 96: 0, 33: 0, 98: 0, 37: 0, 40: 0, 45: 0, 62: 0, 63: 0, 6: 2, 22: 2, 25: 2, 34: 2, 35: 2, 47: 2, 49: 2, 51: 2, 52: 2, 54: 2, 68: 2, 73: 2, 95: 2}\n",
            "61 {6: 0, 73: 0, 9: 0, 47: 0, 49: 0, 52: 0, 54: 0, 22: 0, 63: 0, 95: 0, 0: 2, 1: 2, 4: 2, 15: 2, 16: 2, 23: 2, 25: 2, 28: 2, 29: 2, 31: 2, 33: 2, 34: 2, 35: 2, 37: 2, 40: 2, 45: 2, 51: 2, 62: 2, 68: 2, 74: 2, 75: 2, 76: 2, 78: 2, 80: 2, 81: 2, 82: 2, 83: 2, 85: 2, 86: 2, 88: 2, 93: 2, 94: 2, 96: 2, 98: 2}\n",
            "62 {6: 0, 9: 0, 73: 0, 41: 0, 52: 0, 22: 0, 54: 0, 91: 0, 63: 0, 30: 0, 95: 0, 2: 3, 3: 3, 7: 3, 12: 3, 13: 3, 14: 3, 17: 3, 18: 3, 19: 3, 20: 3, 21: 3, 26: 3, 32: 3, 36: 3, 39: 3, 42: 3, 43: 3, 44: 3, 46: 3, 47: 3, 48: 3, 49: 3, 50: 3, 55: 3, 56: 3, 57: 3, 58: 3, 60: 3, 61: 3, 64: 3, 65: 3, 66: 3, 67: 3, 69: 3, 70: 3, 71: 3, 72: 3, 77: 3, 79: 3, 84: 3, 87: 3, 90: 3, 97: 3}\n",
            "63 {68: 0, 73: 0, 76: 0, 16: 0, 85: 0, 86: 0, 23: 0, 22: 0, 25: 0, 28: 0, 93: 0, 94: 0, 31: 0, 34: 0, 35: 0, 51: 0, 0: 2, 1: 2, 4: 2, 6: 2, 9: 2, 15: 2, 29: 2, 30: 2, 33: 2, 37: 2, 40: 2, 41: 2, 45: 2, 52: 2, 54: 2, 62: 2, 63: 2, 74: 2, 75: 2, 78: 2, 80: 2, 81: 2, 82: 2, 83: 2, 88: 2, 91: 2, 95: 2, 96: 2, 98: 2}\n",
            "64 {68: 2, 73: 2, 76: 2, 16: 2, 85: 2, 22: 2, 23: 2, 86: 2, 25: 2, 28: 2, 93: 2, 94: 2, 31: 2, 34: 2, 35: 2, 51: 2, 0: 0, 1: 0, 4: 0, 6: 0, 9: 0, 15: 0, 29: 0, 30: 0, 33: 0, 37: 0, 40: 0, 41: 0, 45: 0, 52: 0, 54: 0, 62: 0, 63: 0, 74: 0, 75: 0, 78: 0, 80: 0, 81: 0, 82: 0, 83: 0, 88: 0, 91: 0, 95: 0, 96: 0, 98: 0}\n",
            "65 {89: 2, 53: 2, 38: 2, 5: 2, 8: 2, 24: 2, 10: 2, 27: 2, 59: 2, 11: 1, 16: 1, 22: 1, 23: 1, 25: 1, 28: 1, 31: 1, 34: 1, 35: 1, 51: 1, 68: 1, 73: 1, 76: 1, 85: 1, 86: 1, 92: 1, 93: 1, 94: 1}\n",
            "66 {2: 3, 3: 3, 7: 3, 12: 3, 13: 3, 17: 3, 19: 3, 21: 3, 26: 3, 30: 3, 32: 3, 36: 3, 39: 3, 41: 3, 42: 3, 43: 3, 44: 3, 46: 3, 47: 3, 48: 3, 50: 3, 55: 3, 56: 3, 57: 3, 58: 3, 60: 3, 61: 3, 64: 3, 65: 3, 66: 3, 67: 3, 69: 3, 70: 3, 71: 3, 77: 3, 79: 3, 84: 3, 90: 3, 91: 3, 97: 3, 0: 0, 1: 0, 4: 0, 6: 0, 9: 0, 14: 0, 15: 0, 18: 0, 20: 0, 29: 0, 33: 0, 37: 0, 40: 0, 45: 0, 49: 0, 52: 0, 54: 0, 62: 0, 63: 0, 72: 0, 74: 0, 75: 0, 78: 0, 80: 0, 81: 0, 82: 0, 83: 0, 87: 0, 88: 0, 95: 0, 96: 0, 98: 0}\n",
            "67 {5: 2, 38: 2, 8: 2, 59: 2, 10: 2, 53: 2, 24: 2, 89: 2, 27: 2, 0: 0, 1: 0, 4: 0, 6: 0, 9: 0, 14: 0, 15: 0, 18: 0, 20: 0, 29: 0, 33: 0, 37: 0, 40: 0, 45: 0, 49: 0, 52: 0, 54: 0, 62: 0, 63: 0, 72: 0, 74: 0, 75: 0, 78: 0, 80: 0, 81: 0, 82: 0, 83: 0, 87: 0, 88: 0, 95: 0, 96: 0, 98: 0}\n",
            "68 {73: 1, 11: 1, 76: 1, 16: 1, 85: 1, 86: 1, 23: 1, 22: 1, 25: 1, 92: 1, 93: 1, 28: 1, 31: 1, 94: 1, 34: 1, 35: 1, 51: 1, 2: 3, 3: 3, 7: 3, 12: 3, 13: 3, 17: 3, 19: 3, 21: 3, 26: 3, 30: 3, 32: 3, 36: 3, 39: 3, 41: 3, 42: 3, 43: 3, 44: 3, 46: 3, 47: 3, 48: 3, 50: 3, 55: 3, 56: 3, 57: 3, 58: 3, 60: 3, 61: 3, 64: 3, 65: 3, 66: 3, 67: 3, 68: 3, 69: 3, 70: 3, 71: 3, 77: 3, 79: 3, 84: 3, 90: 3, 91: 3, 97: 3}\n",
            "69 {5: 2, 38: 2, 8: 2, 59: 2, 10: 2, 53: 2, 24: 2, 89: 2, 27: 2, 62: 2, 0: 0, 1: 0, 4: 0, 6: 0, 9: 0, 14: 0, 15: 0, 18: 0, 20: 0, 29: 0, 33: 0, 37: 0, 40: 0, 45: 0, 49: 0, 52: 0, 54: 0, 63: 0, 72: 0, 74: 0, 75: 0, 78: 0, 80: 0, 81: 0, 82: 0, 83: 0, 87: 0, 88: 0, 95: 0, 96: 0, 98: 0}\n",
            "70 {73: 3, 11: 3, 76: 3, 16: 3, 85: 3, 22: 3, 86: 3, 23: 3, 25: 3, 92: 3, 28: 3, 93: 3, 94: 3, 31: 3, 34: 3, 35: 3, 51: 3, 2: 1, 3: 1, 7: 1, 12: 1, 13: 1, 17: 1, 19: 1, 21: 1, 26: 1, 30: 1, 32: 1, 36: 1, 39: 1, 41: 1, 42: 1, 43: 1, 44: 1, 46: 1, 47: 1, 48: 1, 50: 1, 55: 1, 56: 1, 57: 1, 58: 1, 60: 1, 61: 1, 64: 1, 65: 1, 66: 1, 67: 1, 68: 1, 69: 1, 70: 1, 71: 1, 77: 1, 79: 1, 84: 1, 90: 1, 91: 1, 97: 1}\n",
            "71 {73: 0, 11: 0, 76: 0, 16: 0, 85: 0, 22: 0, 86: 0, 23: 0, 25: 0, 28: 0, 92: 0, 93: 0, 94: 0, 31: 0, 34: 0, 35: 0, 51: 0, 0: 3, 1: 3, 4: 3, 6: 3, 9: 3, 14: 3, 15: 3, 18: 3, 20: 3, 29: 3, 33: 3, 37: 3, 40: 3, 45: 3, 49: 3, 52: 3, 54: 3, 63: 3, 72: 3, 74: 3, 75: 3, 78: 3, 80: 3, 81: 3, 82: 3, 83: 3, 87: 3, 88: 3, 95: 3, 96: 3, 98: 3}\n",
            "72 {0: 0, 1: 0, 4: 0, 6: 0, 72: 0, 9: 0, 74: 0, 75: 0, 14: 0, 15: 0, 78: 0, 80: 0, 18: 0, 81: 0, 20: 0, 82: 0, 83: 0, 87: 0, 88: 0, 29: 0, 95: 0, 96: 0, 33: 0, 98: 0, 37: 0, 40: 0, 45: 0, 49: 0, 52: 0, 63: 0, 11: 3, 16: 3, 22: 3, 23: 3, 25: 3, 28: 3, 31: 3, 34: 3, 35: 3, 51: 3, 54: 3, 73: 3, 76: 3, 85: 3, 86: 3, 92: 3, 93: 3, 94: 3}\n",
            "73 {73: 0, 11: 0, 76: 0, 16: 0, 85: 0, 22: 0, 86: 0, 23: 0, 25: 0, 92: 0, 28: 0, 93: 0, 94: 0, 31: 0, 34: 0, 35: 0, 51: 0, 0: 3, 1: 3, 4: 3, 6: 3, 9: 3, 14: 3, 15: 3, 18: 3, 20: 3, 29: 3, 33: 3, 37: 3, 40: 3, 45: 3, 49: 3, 52: 3, 54: 3, 63: 3, 72: 3, 74: 3, 75: 3, 78: 3, 80: 3, 81: 3, 82: 3, 83: 3, 87: 3, 88: 3, 95: 3, 96: 3, 98: 3}\n",
            "74 {0: 1, 1: 1, 4: 1, 6: 1, 74: 1, 75: 1, 78: 1, 15: 1, 80: 1, 81: 1, 82: 1, 83: 1, 88: 1, 91: 1, 29: 1, 95: 1, 96: 1, 33: 1, 98: 1, 37: 1, 40: 1, 41: 1, 45: 1, 52: 1, 54: 1, 63: 1, 2: 3, 3: 3, 7: 3, 9: 3, 12: 3, 13: 3, 14: 3, 17: 3, 18: 3, 19: 3, 20: 3, 21: 3, 26: 3, 30: 3, 32: 3, 36: 3, 39: 3, 42: 3, 43: 3, 44: 3, 46: 3, 47: 3, 48: 3, 49: 3, 50: 3, 55: 3, 56: 3, 57: 3, 58: 3, 60: 3, 61: 3, 64: 3, 65: 3, 66: 3, 67: 3, 68: 3, 69: 3, 70: 3, 71: 3, 72: 3, 77: 3, 79: 3, 84: 3, 87: 3, 90: 3, 97: 3}\n",
            "75 {0: 3, 1: 3, 4: 3, 9: 3, 74: 3, 75: 3, 14: 3, 78: 3, 80: 3, 15: 3, 81: 3, 82: 3, 20: 3, 83: 3, 87: 3, 88: 3, 91: 3, 29: 3, 30: 3, 95: 3, 96: 3, 33: 3, 98: 3, 37: 3, 40: 3, 41: 3, 45: 3, 52: 3, 54: 3, 63: 3, 2: 1, 3: 1, 6: 1, 7: 1, 12: 1, 13: 1, 17: 1, 18: 1, 19: 1, 21: 1, 26: 1, 32: 1, 36: 1, 39: 1, 42: 1, 43: 1, 44: 1, 46: 1, 47: 1, 48: 1, 49: 1, 50: 1, 55: 1, 56: 1, 57: 1, 58: 1, 60: 1, 61: 1, 64: 1, 65: 1, 66: 1, 67: 1, 68: 1, 69: 1, 70: 1, 71: 1, 72: 1, 77: 1, 79: 1, 84: 1, 90: 1, 97: 1}\n",
            "76 {5: 0, 38: 0, 8: 0, 27: 0, 10: 0, 16: 0, 53: 0, 24: 0, 89: 0, 59: 0, 62: 0, 11: 2, 22: 2, 23: 2, 25: 2, 28: 2, 31: 2, 34: 2, 35: 2, 51: 2, 73: 2, 76: 2, 85: 2, 86: 2, 92: 2, 93: 2, 94: 2}\n",
            "77 {73: 3, 11: 3, 76: 3, 85: 3, 22: 3, 23: 3, 25: 3, 92: 3, 28: 3, 93: 3, 94: 3, 31: 3, 34: 3, 35: 3, 51: 3, 54: 3, 0: 2, 1: 2, 4: 2, 9: 2, 14: 2, 15: 2, 20: 2, 29: 2, 30: 2, 33: 2, 37: 2, 40: 2, 41: 2, 45: 2, 52: 2, 63: 2, 74: 2, 75: 2, 78: 2, 80: 2, 81: 2, 82: 2, 83: 2, 86: 2, 87: 2, 88: 2, 91: 2, 95: 2, 96: 2, 98: 2}\n",
            "78 {0: 2, 1: 2, 4: 2, 9: 2, 11: 2, 14: 2, 15: 2, 20: 2, 23: 2, 28: 2, 29: 2, 31: 2, 33: 2, 37: 2, 40: 2, 45: 2, 63: 2, 74: 2, 75: 2, 76: 2, 78: 2, 80: 2, 81: 2, 82: 2, 83: 2, 85: 2, 86: 2, 87: 2, 88: 2, 92: 2, 93: 2, 94: 2, 96: 2, 98: 2, 73: 3, 22: 3, 25: 3, 91: 3, 30: 3, 95: 3, 34: 3, 35: 3, 41: 3, 51: 3, 52: 3, 54: 3}\n",
            "79 {73: 2, 76: 2, 85: 2, 22: 2, 86: 2, 23: 2, 25: 2, 92: 2, 28: 2, 93: 2, 94: 2, 31: 2, 34: 2, 35: 2, 51: 2, 54: 2, 0: 3, 1: 3, 4: 3, 9: 3, 11: 3, 14: 3, 15: 3, 20: 3, 29: 3, 30: 3, 33: 3, 37: 3, 40: 3, 41: 3, 45: 3, 52: 3, 63: 3, 74: 3, 75: 3, 78: 3, 80: 3, 81: 3, 82: 3, 83: 3, 87: 3, 88: 3, 91: 3, 95: 3, 96: 3, 98: 3}\n",
            "80 {5: 0, 38: 0, 8: 0, 59: 0, 10: 0, 53: 0, 24: 0, 89: 0, 27: 0, 62: 0, 16: 2, 22: 2, 23: 2, 25: 2, 28: 2, 31: 2, 34: 2, 35: 2, 51: 2, 54: 2, 73: 2, 76: 2, 85: 2, 86: 2, 92: 2, 93: 2, 94: 2}\n",
            "81 {2: 2, 3: 2, 6: 2, 7: 2, 12: 2, 13: 2, 17: 2, 18: 2, 19: 2, 21: 2, 26: 2, 32: 2, 34: 2, 39: 2, 42: 2, 43: 2, 44: 2, 46: 2, 47: 2, 48: 2, 49: 2, 50: 2, 55: 2, 56: 2, 57: 2, 58: 2, 60: 2, 61: 2, 64: 2, 65: 2, 66: 2, 67: 2, 68: 2, 69: 2, 70: 2, 72: 2, 77: 2, 79: 2, 84: 2, 90: 2, 97: 2, 16: 1, 22: 1, 23: 1, 25: 1, 28: 1, 31: 1, 35: 1, 36: 1, 51: 1, 54: 1, 71: 1, 73: 1, 76: 1, 85: 1, 86: 1, 92: 1, 93: 1, 94: 1}\n",
            "82 {5: 0, 38: 0, 8: 0, 59: 0, 10: 0, 53: 0, 24: 0, 89: 0, 27: 0, 0: 3, 1: 3, 4: 3, 9: 3, 11: 3, 14: 3, 15: 3, 20: 3, 29: 3, 30: 3, 33: 3, 37: 3, 40: 3, 41: 3, 45: 3, 52: 3, 62: 3, 63: 3, 74: 3, 75: 3, 78: 3, 80: 3, 81: 3, 82: 3, 83: 3, 87: 3, 88: 3, 91: 3, 95: 3, 96: 3, 98: 3}\n",
            "83 {2: 3, 3: 3, 7: 3, 12: 3, 13: 3, 14: 3, 17: 3, 18: 3, 19: 3, 20: 3, 21: 3, 26: 3, 30: 3, 32: 3, 34: 3, 39: 3, 42: 3, 43: 3, 44: 3, 46: 3, 47: 3, 48: 3, 49: 3, 50: 3, 55: 3, 56: 3, 57: 3, 58: 3, 60: 3, 61: 3, 64: 3, 65: 3, 66: 3, 67: 3, 68: 3, 69: 3, 70: 3, 72: 3, 77: 3, 79: 3, 84: 3, 90: 3, 91: 3, 97: 3, 0: 2, 1: 2, 4: 2, 6: 2, 9: 2, 11: 2, 15: 2, 29: 2, 33: 2, 37: 2, 40: 2, 41: 2, 45: 2, 52: 2, 62: 2, 63: 2, 74: 2, 75: 2, 78: 2, 80: 2, 81: 2, 82: 2, 83: 2, 87: 2, 88: 2, 95: 2, 96: 2, 98: 2}\n",
            "84 {34: 3, 35: 3, 73: 3, 76: 3, 92: 3, 16: 3, 51: 3, 94: 3, 85: 3, 22: 3, 23: 3, 54: 3, 86: 3, 28: 3, 93: 3, 25: 3, 31: 3, 2: 1, 3: 1, 7: 1, 12: 1, 13: 1, 14: 1, 17: 1, 18: 1, 19: 1, 20: 1, 21: 1, 26: 1, 30: 1, 32: 1, 36: 1, 39: 1, 42: 1, 43: 1, 44: 1, 46: 1, 47: 1, 48: 1, 49: 1, 50: 1, 55: 1, 56: 1, 57: 1, 58: 1, 60: 1, 61: 1, 64: 1, 65: 1, 66: 1, 67: 1, 68: 1, 69: 1, 70: 1, 71: 1, 72: 1, 77: 1, 79: 1, 84: 1, 90: 1, 91: 1, 97: 1}\n",
            "85 {0: 2, 6: 2, 73: 2, 41: 2, 52: 2, 54: 2, 22: 2, 63: 2, 95: 2, 1: 3, 4: 3, 9: 3, 11: 3, 15: 3, 16: 3, 23: 3, 25: 3, 28: 3, 29: 3, 31: 3, 33: 3, 34: 3, 35: 3, 37: 3, 40: 3, 45: 3, 51: 3, 62: 3, 74: 3, 75: 3, 76: 3, 78: 3, 80: 3, 81: 3, 82: 3, 83: 3, 85: 3, 86: 3, 87: 3, 88: 3, 92: 3, 93: 3, 94: 3, 96: 3, 98: 3}\n",
            "86 {65: 1, 66: 1, 67: 1, 68: 1, 7: 1, 71: 1, 73: 1, 79: 1, 22: 1, 36: 1, 41: 1, 43: 1, 44: 1, 46: 1, 47: 1, 48: 1, 52: 1, 54: 1, 55: 1, 58: 1, 0: 2, 2: 2, 3: 2, 6: 2, 12: 2, 13: 2, 14: 2, 17: 2, 18: 2, 19: 2, 20: 2, 21: 2, 26: 2, 30: 2, 32: 2, 39: 2, 42: 2, 49: 2, 50: 2, 56: 2, 57: 2, 60: 2, 61: 2, 63: 2, 64: 2, 69: 2, 70: 2, 72: 2, 77: 2, 84: 2, 90: 2, 91: 2, 95: 2, 97: 2}\n",
            "87 {65: 3, 66: 3, 67: 3, 68: 3, 71: 3, 7: 3, 73: 3, 79: 3, 22: 3, 36: 3, 41: 3, 43: 3, 44: 3, 46: 3, 47: 3, 48: 3, 52: 3, 54: 3, 55: 3, 58: 3, 1: 1, 4: 1, 9: 1, 11: 1, 15: 1, 16: 1, 23: 1, 25: 1, 28: 1, 29: 1, 31: 1, 33: 1, 34: 1, 35: 1, 37: 1, 40: 1, 45: 1, 51: 1, 62: 1, 74: 1, 75: 1, 76: 1, 78: 1, 80: 1, 81: 1, 82: 1, 83: 1, 85: 1, 86: 1, 87: 1, 88: 1, 92: 1, 93: 1, 94: 1, 96: 1, 98: 1}\n",
            "88 {2: 2, 3: 2, 6: 2, 9: 2, 12: 2, 13: 2, 14: 2, 15: 2, 17: 2, 18: 2, 19: 2, 20: 2, 21: 2, 26: 2, 29: 2, 30: 2, 32: 2, 33: 2, 39: 2, 40: 2, 42: 2, 49: 2, 50: 2, 56: 2, 57: 2, 60: 2, 61: 2, 64: 2, 69: 2, 70: 2, 72: 2, 75: 2, 77: 2, 80: 2, 84: 2, 87: 2, 90: 2, 91: 2, 97: 2, 0: 1, 1: 1, 4: 1, 11: 1, 16: 1, 23: 1, 25: 1, 28: 1, 31: 1, 34: 1, 35: 1, 37: 1, 45: 1, 51: 1, 62: 1, 63: 1, 74: 1, 76: 1, 78: 1, 81: 1, 82: 1, 83: 1, 85: 1, 86: 1, 88: 1, 92: 1, 93: 1, 94: 1, 95: 1, 96: 1, 98: 1}\n",
            "89 {2: 3, 3: 3, 6: 3, 9: 3, 12: 3, 13: 3, 14: 3, 15: 3, 17: 3, 18: 3, 19: 3, 20: 3, 21: 3, 26: 3, 29: 3, 30: 3, 32: 3, 33: 3, 39: 3, 40: 3, 41: 3, 42: 3, 49: 3, 50: 3, 52: 3, 56: 3, 57: 3, 60: 3, 61: 3, 64: 3, 69: 3, 70: 3, 72: 3, 75: 3, 77: 3, 80: 3, 84: 3, 87: 3, 90: 3, 91: 3, 7: 2, 22: 2, 36: 2, 43: 2, 44: 2, 46: 2, 47: 2, 48: 2, 54: 2, 55: 2, 58: 2, 65: 2, 66: 2, 67: 2, 68: 2, 71: 2, 73: 2, 79: 2, 97: 2}\n",
            "90 {98: 1, 4: 1, 5: 1, 38: 1, 8: 1, 59: 1, 74: 1, 10: 1, 78: 1, 81: 1, 53: 1, 88: 1, 89: 1, 27: 1, 62: 1, 0: 0, 1: 0, 11: 0, 16: 0, 23: 0, 24: 0, 25: 0, 28: 0, 31: 0, 34: 0, 35: 0, 37: 0, 45: 0, 51: 0, 63: 0, 76: 0, 82: 0, 83: 0, 85: 0, 86: 0, 92: 0, 93: 0, 94: 0, 95: 0, 96: 0}\n",
            "91 {0: 3, 2: 3, 3: 3, 6: 3, 9: 3, 12: 3, 13: 3, 14: 3, 17: 3, 18: 3, 19: 3, 21: 3, 26: 3, 30: 3, 32: 3, 39: 3, 41: 3, 42: 3, 49: 3, 50: 3, 52: 3, 56: 3, 57: 3, 60: 3, 61: 3, 63: 3, 64: 3, 69: 3, 70: 3, 72: 3, 77: 3, 84: 3, 90: 3, 91: 3, 95: 3, 1: 0, 11: 0, 15: 0, 16: 0, 20: 0, 23: 0, 24: 0, 25: 0, 28: 0, 29: 0, 31: 0, 33: 0, 34: 0, 35: 0, 37: 0, 40: 0, 45: 0, 51: 0, 75: 0, 76: 0, 80: 0, 82: 0, 83: 0, 85: 0, 86: 0, 87: 0, 92: 0, 93: 0, 94: 0, 96: 0}\n",
            "92 {0: 3, 1: 3, 75: 3, 11: 3, 76: 3, 15: 3, 16: 3, 82: 3, 83: 3, 85: 3, 86: 3, 23: 3, 24: 3, 25: 3, 92: 3, 28: 3, 93: 3, 94: 3, 96: 3, 33: 3, 31: 3, 34: 3, 35: 3, 37: 3, 40: 3, 45: 3, 51: 3, 63: 3, 2: 0, 3: 0, 6: 0, 9: 0, 12: 0, 13: 0, 14: 0, 17: 0, 18: 0, 19: 0, 20: 0, 21: 0, 26: 0, 29: 0, 30: 0, 32: 0, 39: 0, 41: 0, 42: 0, 49: 0, 50: 0, 52: 0, 56: 0, 57: 0, 60: 0, 61: 0, 64: 0, 69: 0, 70: 0, 72: 0, 77: 0, 80: 0, 84: 0, 87: 0, 90: 0, 91: 0, 95: 0}\n",
            "93 {66: 0, 36: 0, 68: 0, 71: 0, 73: 0, 41: 0, 44: 0, 79: 0, 48: 0, 47: 0, 22: 0, 54: 0, 95: 0, 2: 2, 3: 2, 6: 2, 7: 2, 9: 2, 12: 2, 13: 2, 14: 2, 17: 2, 18: 2, 19: 2, 20: 2, 21: 2, 26: 2, 29: 2, 30: 2, 32: 2, 39: 2, 42: 2, 43: 2, 46: 2, 49: 2, 50: 2, 52: 2, 55: 2, 56: 2, 57: 2, 58: 2, 60: 2, 61: 2, 64: 2, 65: 2, 67: 2, 69: 2, 70: 2, 72: 2, 77: 2, 80: 2, 84: 2, 87: 2, 90: 2, 91: 2, 97: 2}\n",
            "94 {0: 0, 1: 0, 75: 0, 11: 0, 76: 0, 15: 0, 16: 0, 82: 0, 83: 0, 85: 0, 86: 0, 23: 0, 24: 0, 28: 0, 92: 0, 93: 0, 94: 0, 96: 0, 33: 0, 31: 0, 35: 0, 37: 0, 40: 0, 45: 0, 51: 0, 63: 0, 22: 3, 25: 3, 34: 3, 36: 3, 41: 3, 44: 3, 47: 3, 48: 3, 54: 3, 66: 3, 68: 3, 71: 3, 73: 3, 79: 3, 95: 3}\n",
            "95 {0: 1, 1: 1, 8: 1, 11: 1, 76: 1, 16: 1, 82: 1, 83: 1, 85: 1, 86: 1, 23: 1, 24: 1, 92: 1, 28: 1, 93: 1, 94: 1, 96: 1, 31: 1, 35: 1, 37: 1, 45: 1, 51: 1, 63: 1, 4: 0, 5: 0, 10: 0, 15: 0, 27: 0, 33: 0, 38: 0, 40: 0, 53: 0, 59: 0, 62: 0, 74: 0, 75: 0, 78: 0, 81: 0, 88: 0, 89: 0, 98: 0}\n",
            "96 {34: 2, 68: 2, 6: 2, 71: 2, 73: 2, 41: 2, 47: 2, 52: 2, 22: 2, 54: 2, 25: 2, 95: 2, 2: 3, 3: 3, 7: 3, 9: 3, 12: 3, 13: 3, 14: 3, 17: 3, 18: 3, 19: 3, 20: 3, 21: 3, 26: 3, 29: 3, 30: 3, 32: 3, 36: 3, 39: 3, 42: 3, 43: 3, 44: 3, 46: 3, 48: 3, 49: 3, 50: 3, 55: 3, 56: 3, 57: 3, 58: 3, 60: 3, 61: 3, 64: 3, 65: 3, 66: 3, 67: 3, 69: 3, 70: 3, 72: 3, 77: 3, 79: 3, 80: 3, 84: 3, 87: 3, 90: 3, 91: 3, 97: 3}\n",
            "97 {6: 1, 71: 1, 73: 1, 41: 1, 47: 1, 52: 1, 22: 1, 95: 1, 63: 1, 0: 2, 1: 2, 8: 2, 11: 2, 16: 2, 23: 2, 24: 2, 25: 2, 28: 2, 31: 2, 34: 2, 35: 2, 37: 2, 45: 2, 51: 2, 54: 2, 68: 2, 76: 2, 82: 2, 83: 2, 85: 2, 86: 2, 92: 2, 93: 2, 94: 2, 96: 2}\n",
            "98 {65: 3, 66: 3, 36: 3, 71: 3, 73: 3, 41: 3, 79: 3, 48: 3, 47: 3, 52: 3, 22: 3, 95: 3, 2: 1, 3: 1, 6: 1, 7: 1, 9: 1, 12: 1, 13: 1, 14: 1, 17: 1, 18: 1, 19: 1, 20: 1, 21: 1, 26: 1, 29: 1, 30: 1, 32: 1, 39: 1, 42: 1, 43: 1, 44: 1, 46: 1, 49: 1, 50: 1, 55: 1, 56: 1, 57: 1, 58: 1, 60: 1, 61: 1, 63: 1, 64: 1, 67: 1, 69: 1, 70: 1, 72: 1, 77: 1, 80: 1, 84: 1, 87: 1, 90: 1, 91: 1, 97: 1}\n",
            "99 {68: 2, 8: 2, 10: 2, 11: 2, 76: 2, 16: 2, 85: 2, 86: 2, 23: 2, 24: 2, 25: 2, 92: 2, 28: 2, 94: 2, 93: 2, 31: 2, 34: 2, 35: 2, 38: 2, 51: 2, 54: 2, 59: 2, 0: 0, 1: 0, 4: 0, 5: 0, 15: 0, 27: 0, 33: 0, 37: 0, 40: 0, 45: 0, 53: 0, 62: 0, 74: 0, 75: 0, 78: 0, 81: 0, 82: 0, 83: 0, 88: 0, 89: 0, 96: 0, 98: 0}\n",
            "100 {2: 1, 3: 1, 6: 1, 7: 1, 9: 1, 12: 1, 13: 1, 14: 1, 17: 1, 18: 1, 19: 1, 20: 1, 21: 1, 26: 1, 29: 1, 32: 1, 39: 1, 42: 1, 43: 1, 46: 1, 49: 1, 50: 1, 52: 1, 55: 1, 56: 1, 57: 1, 58: 1, 60: 1, 61: 1, 63: 1, 64: 1, 67: 1, 69: 1, 70: 1, 72: 1, 77: 1, 80: 1, 84: 1, 87: 1, 90: 1, 91: 1, 97: 1, 65: 3, 66: 3, 71: 3, 73: 3, 79: 3, 22: 3, 30: 3, 95: 3, 36: 3, 41: 3, 44: 3, 47: 3, 48: 3}\n",
            "101 {1: 0, 4: 0, 5: 0, 74: 0, 75: 0, 78: 0, 15: 0, 81: 0, 82: 0, 83: 0, 88: 0, 89: 0, 27: 0, 33: 0, 98: 0, 37: 0, 40: 0, 45: 0, 53: 0, 62: 0, 0: 2, 8: 2, 10: 2, 11: 2, 16: 2, 23: 2, 24: 2, 25: 2, 28: 2, 31: 2, 34: 2, 35: 2, 38: 2, 51: 2, 54: 2, 59: 2, 68: 2, 76: 2, 85: 2, 86: 2, 92: 2, 93: 2, 94: 2, 96: 2}\n",
            "102 {5: 2, 38: 2, 8: 2, 27: 2, 10: 2, 53: 2, 24: 2, 89: 2, 59: 2, 62: 2, 0: 0, 1: 0, 4: 0, 11: 0, 15: 0, 16: 0, 23: 0, 25: 0, 28: 0, 31: 0, 33: 0, 34: 0, 35: 0, 37: 0, 40: 0, 45: 0, 51: 0, 54: 0, 68: 0, 74: 0, 75: 0, 76: 0, 78: 0, 81: 0, 82: 0, 83: 0, 85: 0, 86: 0, 88: 0, 92: 0, 93: 0, 94: 0, 96: 0, 98: 0}\n",
            "103 {68: 0, 5: 0, 8: 0, 10: 0, 11: 0, 76: 0, 16: 0, 85: 0, 23: 0, 24: 0, 25: 0, 89: 0, 27: 0, 92: 0, 93: 0, 28: 0, 94: 0, 31: 0, 34: 0, 35: 0, 38: 0, 59: 0, 0: 2, 1: 2, 4: 2, 15: 2, 33: 2, 37: 2, 40: 2, 45: 2, 51: 2, 53: 2, 54: 2, 62: 2, 74: 2, 75: 2, 78: 2, 81: 2, 82: 2, 83: 2, 86: 2, 88: 2, 96: 2, 98: 2}\n",
            "104 {1: 0, 4: 0, 5: 0, 10: 0, 74: 0, 75: 0, 78: 0, 15: 0, 81: 0, 82: 0, 83: 0, 88: 0, 89: 0, 27: 0, 96: 0, 33: 0, 98: 0, 37: 0, 40: 0, 45: 0, 53: 0, 62: 0, 0: 2, 8: 2, 11: 2, 16: 2, 23: 2, 24: 2, 25: 2, 28: 2, 31: 2, 34: 2, 35: 2, 38: 2, 51: 2, 54: 2, 59: 2, 68: 2, 76: 2, 85: 2, 86: 2, 92: 2, 93: 2, 94: 2}\n",
            "105 {0: 2, 1: 2, 96: 2, 33: 2, 98: 2, 37: 2, 4: 2, 40: 2, 74: 2, 75: 2, 45: 2, 78: 2, 15: 2, 81: 2, 82: 2, 83: 2, 53: 2, 88: 2, 27: 2, 5: 0, 8: 0, 10: 0, 11: 0, 16: 0, 23: 0, 24: 0, 25: 0, 28: 0, 31: 0, 34: 0, 35: 0, 38: 0, 51: 0, 54: 0, 59: 0, 62: 0, 68: 0, 76: 0, 85: 0, 86: 0, 89: 0, 92: 0, 93: 0, 94: 0}\n",
            "106 {36: 1, 6: 1, 71: 1, 73: 1, 41: 1, 47: 1, 79: 1, 52: 1, 22: 1, 95: 1, 2: 3, 3: 3, 7: 3, 9: 3, 12: 3, 13: 3, 14: 3, 17: 3, 18: 3, 19: 3, 20: 3, 21: 3, 26: 3, 29: 3, 30: 3, 32: 3, 39: 3, 42: 3, 43: 3, 44: 3, 46: 3, 48: 3, 49: 3, 50: 3, 55: 3, 56: 3, 57: 3, 58: 3, 60: 3, 61: 3, 63: 3, 64: 3, 65: 3, 66: 3, 67: 3, 69: 3, 70: 3, 72: 3, 77: 3, 80: 3, 84: 3, 87: 3, 90: 3, 91: 3, 97: 3}\n",
            "107 {65: 1, 66: 1, 67: 1, 71: 1, 7: 1, 73: 1, 77: 1, 79: 1, 22: 1, 30: 1, 36: 1, 41: 1, 43: 1, 44: 1, 46: 1, 47: 1, 48: 1, 52: 1, 55: 1, 58: 1, 60: 1, 61: 1, 2: 3, 3: 3, 6: 3, 9: 3, 12: 3, 13: 3, 14: 3, 17: 3, 18: 3, 19: 3, 20: 3, 21: 3, 26: 3, 29: 3, 32: 3, 39: 3, 42: 3, 49: 3, 50: 3, 56: 3, 57: 3, 63: 3, 64: 3, 69: 3, 70: 3, 72: 3, 80: 3, 84: 3, 87: 3, 90: 3, 91: 3, 95: 3, 97: 3}\n",
            "108 {6: 3, 71: 3, 41: 3, 73: 3, 47: 3, 52: 3, 22: 3, 63: 3, 95: 3, 2: 1, 3: 1, 7: 1, 9: 1, 12: 1, 13: 1, 14: 1, 17: 1, 18: 1, 19: 1, 20: 1, 21: 1, 26: 1, 29: 1, 30: 1, 32: 1, 36: 1, 39: 1, 42: 1, 43: 1, 44: 1, 46: 1, 48: 1, 49: 1, 50: 1, 55: 1, 56: 1, 57: 1, 58: 1, 60: 1, 61: 1, 64: 1, 65: 1, 66: 1, 67: 1, 69: 1, 70: 1, 72: 1, 77: 1, 79: 1, 80: 1, 84: 1, 87: 1, 90: 1, 91: 1, 97: 1}\n",
            "109 {68: 0, 6: 0, 71: 0, 73: 0, 41: 0, 47: 0, 52: 0, 22: 0, 95: 0, 63: 0, 5: 3, 8: 3, 10: 3, 11: 3, 16: 3, 23: 3, 24: 3, 25: 3, 28: 3, 31: 3, 34: 3, 35: 3, 38: 3, 51: 3, 54: 3, 59: 3, 62: 3, 76: 3, 85: 3, 86: 3, 89: 3, 92: 3, 93: 3, 94: 3}\n",
            "110 {1: 3, 4: 3, 5: 3, 74: 3, 75: 3, 78: 3, 15: 3, 81: 3, 82: 3, 88: 3, 89: 3, 27: 3, 96: 3, 33: 3, 98: 3, 37: 3, 40: 3, 45: 3, 53: 3, 62: 3, 0: 2, 8: 2, 10: 2, 11: 2, 16: 2, 23: 2, 24: 2, 25: 2, 28: 2, 31: 2, 34: 2, 35: 2, 38: 2, 51: 2, 54: 2, 59: 2, 76: 2, 83: 2, 85: 2, 86: 2, 92: 2, 93: 2, 94: 2}\n",
            "111 {68: 0, 6: 0, 71: 0, 73: 0, 41: 0, 47: 0, 52: 0, 22: 0, 95: 0, 63: 0, 1: 3, 4: 3, 5: 3, 15: 3, 27: 3, 33: 3, 37: 3, 40: 3, 45: 3, 53: 3, 62: 3, 74: 3, 75: 3, 78: 3, 81: 3, 82: 3, 88: 3, 89: 3, 96: 3, 98: 3}\n",
            "112 {65: 1, 66: 1, 67: 1, 68: 1, 71: 1, 7: 1, 73: 1, 77: 1, 79: 1, 22: 1, 97: 1, 36: 1, 43: 1, 44: 1, 46: 1, 47: 1, 48: 1, 55: 1, 58: 1, 2: 0, 3: 0, 6: 0, 9: 0, 12: 0, 13: 0, 14: 0, 17: 0, 18: 0, 19: 0, 20: 0, 21: 0, 26: 0, 29: 0, 30: 0, 32: 0, 39: 0, 41: 0, 42: 0, 49: 0, 50: 0, 52: 0, 56: 0, 57: 0, 60: 0, 61: 0, 63: 0, 64: 0, 69: 0, 70: 0, 72: 0, 80: 0, 84: 0, 87: 0, 90: 0, 91: 0, 95: 0}\n",
            "113 {4: 2, 5: 2, 8: 2, 10: 2, 74: 2, 75: 2, 78: 2, 81: 2, 88: 2, 89: 2, 27: 2, 98: 2, 38: 2, 53: 2, 59: 2, 62: 2, 0: 3, 1: 3, 11: 3, 15: 3, 16: 3, 23: 3, 24: 3, 25: 3, 28: 3, 31: 3, 33: 3, 34: 3, 35: 3, 37: 3, 40: 3, 45: 3, 51: 3, 54: 3, 76: 3, 82: 3, 83: 3, 85: 3, 86: 3, 92: 3, 93: 3, 94: 3, 96: 3}\n",
            "114 {65: 3, 66: 3, 67: 3, 68: 3, 71: 3, 7: 3, 73: 3, 77: 3, 79: 3, 22: 3, 25: 3, 97: 3, 36: 3, 43: 3, 44: 3, 46: 3, 47: 3, 48: 3, 55: 3, 58: 3, 0: 1, 1: 1, 11: 1, 15: 1, 16: 1, 23: 1, 24: 1, 28: 1, 31: 1, 33: 1, 34: 1, 35: 1, 37: 1, 40: 1, 45: 1, 51: 1, 54: 1, 76: 1, 82: 1, 83: 1, 85: 1, 86: 1, 92: 1, 93: 1, 94: 1, 96: 1}\n",
            "115 {64: 1, 2: 1, 3: 1, 69: 1, 6: 1, 70: 1, 72: 1, 12: 1, 13: 1, 14: 1, 15: 1, 17: 1, 18: 1, 19: 1, 20: 1, 84: 1, 21: 1, 87: 1, 90: 1, 26: 1, 91: 1, 30: 1, 95: 1, 32: 1, 39: 1, 41: 1, 42: 1, 49: 1, 50: 1, 52: 1, 54: 1, 56: 1, 57: 1, 60: 1, 61: 1, 0: 0, 1: 0, 9: 0, 11: 0, 16: 0, 23: 0, 24: 0, 28: 0, 29: 0, 31: 0, 33: 0, 34: 0, 35: 0, 37: 0, 40: 0, 45: 0, 51: 0, 63: 0, 76: 0, 80: 0, 82: 0, 83: 0, 85: 0, 86: 0, 92: 0, 93: 0, 94: 0, 96: 0}\n",
            "116 {0: 0, 1: 0, 11: 0, 76: 0, 16: 0, 82: 0, 83: 0, 85: 0, 86: 0, 23: 0, 24: 0, 28: 0, 92: 0, 93: 0, 94: 0, 96: 0, 33: 0, 31: 0, 34: 0, 35: 0, 37: 0, 45: 0, 51: 0, 54: 0, 63: 0, 2: 1, 3: 1, 6: 1, 9: 1, 12: 1, 13: 1, 14: 1, 15: 1, 17: 1, 18: 1, 19: 1, 20: 1, 21: 1, 26: 1, 29: 1, 30: 1, 32: 1, 39: 1, 40: 1, 41: 1, 42: 1, 49: 1, 50: 1, 52: 1, 56: 1, 57: 1, 60: 1, 61: 1, 64: 1, 69: 1, 70: 1, 72: 1, 80: 1, 84: 1, 87: 1, 90: 1, 91: 1, 95: 1}\n",
            "117 {5: 2, 38: 2, 8: 2, 59: 2, 10: 2, 53: 2, 24: 2, 89: 2, 27: 2, 0: 0, 1: 0, 4: 0, 11: 0, 16: 0, 23: 0, 28: 0, 31: 0, 33: 0, 34: 0, 35: 0, 37: 0, 45: 0, 51: 0, 54: 0, 62: 0, 63: 0, 74: 0, 75: 0, 76: 0, 78: 0, 81: 0, 82: 0, 83: 0, 85: 0, 86: 0, 88: 0, 92: 0, 93: 0, 94: 0, 96: 0, 98: 0}\n",
            "118 {65: 3, 66: 3, 67: 3, 68: 3, 71: 3, 7: 3, 73: 3, 77: 3, 79: 3, 22: 3, 25: 3, 97: 3, 34: 3, 36: 3, 43: 3, 44: 3, 46: 3, 47: 3, 48: 3, 55: 3, 58: 3, 0: 0, 1: 0, 4: 0, 11: 0, 16: 0, 23: 0, 28: 0, 31: 0, 33: 0, 35: 0, 37: 0, 45: 0, 51: 0, 54: 0, 62: 0, 63: 0, 74: 0, 75: 0, 76: 0, 78: 0, 81: 0, 82: 0, 83: 0, 85: 0, 86: 0, 88: 0, 92: 0, 93: 0, 94: 0, 96: 0, 98: 0}\n",
            "119 {0: 2, 4: 2, 5: 2, 74: 2, 75: 2, 78: 2, 81: 2, 82: 2, 83: 2, 88: 2, 89: 2, 27: 2, 96: 2, 33: 2, 98: 2, 37: 2, 45: 2, 53: 2, 62: 2, 63: 2, 1: 0, 8: 0, 10: 0, 11: 0, 16: 0, 23: 0, 24: 0, 28: 0, 31: 0, 35: 0, 38: 0, 51: 0, 54: 0, 59: 0, 76: 0, 85: 0, 86: 0, 92: 0, 93: 0, 94: 0}\n",
            "120 {0: 2, 4: 2, 5: 2, 74: 2, 75: 2, 78: 2, 81: 2, 82: 2, 83: 2, 88: 2, 89: 2, 27: 2, 96: 2, 33: 2, 98: 2, 37: 2, 40: 2, 45: 2, 53: 2, 62: 2, 63: 2, 2: 1, 3: 1, 6: 1, 9: 1, 12: 1, 13: 1, 14: 1, 15: 1, 17: 1, 18: 1, 19: 1, 20: 1, 21: 1, 26: 1, 29: 1, 30: 1, 32: 1, 39: 1, 41: 1, 42: 1, 49: 1, 50: 1, 52: 1, 56: 1, 57: 1, 60: 1, 61: 1, 64: 1, 69: 1, 70: 1, 72: 1, 80: 1, 84: 1, 87: 1, 90: 1, 91: 1, 95: 1}\n",
            "121 {6: 1, 71: 1, 72: 1, 73: 1, 9: 1, 14: 1, 47: 1, 15: 1, 80: 1, 52: 1, 20: 1, 22: 1, 87: 1, 29: 1, 95: 1, 2: 3, 3: 3, 7: 3, 12: 3, 13: 3, 17: 3, 18: 3, 19: 3, 21: 3, 25: 3, 26: 3, 30: 3, 32: 3, 34: 3, 36: 3, 39: 3, 41: 3, 42: 3, 43: 3, 44: 3, 46: 3, 48: 3, 49: 3, 50: 3, 55: 3, 56: 3, 57: 3, 58: 3, 60: 3, 61: 3, 64: 3, 65: 3, 66: 3, 67: 3, 68: 3, 69: 3, 70: 3, 77: 3, 79: 3, 84: 3, 90: 3, 91: 3, 97: 3}\n",
            "122 {0: 2, 96: 2, 6: 2, 71: 2, 9: 2, 73: 2, 47: 2, 63: 2, 52: 2, 22: 2, 29: 2, 95: 2, 4: 1, 5: 1, 14: 1, 15: 1, 20: 1, 27: 1, 33: 1, 37: 1, 40: 1, 45: 1, 53: 1, 62: 1, 72: 1, 74: 1, 75: 1, 78: 1, 80: 1, 81: 1, 82: 1, 83: 1, 87: 1, 88: 1, 89: 1, 98: 1}\n",
            "123 {0: 2, 96: 2, 34: 2, 68: 2, 6: 2, 71: 2, 73: 2, 47: 2, 48: 2, 63: 2, 52: 2, 22: 2, 25: 2, 29: 2, 95: 2, 2: 3, 3: 3, 7: 3, 9: 3, 12: 3, 13: 3, 17: 3, 18: 3, 19: 3, 21: 3, 26: 3, 30: 3, 32: 3, 36: 3, 39: 3, 41: 3, 42: 3, 43: 3, 44: 3, 46: 3, 49: 3, 50: 3, 55: 3, 56: 3, 57: 3, 58: 3, 60: 3, 61: 3, 64: 3, 65: 3, 66: 3, 67: 3, 69: 3, 70: 3, 77: 3, 79: 3, 84: 3, 90: 3, 91: 3, 97: 3}\n",
            "124 {2: 3, 3: 3, 6: 3, 7: 3, 9: 3, 12: 3, 13: 3, 17: 3, 18: 3, 19: 3, 21: 3, 26: 3, 30: 3, 32: 3, 39: 3, 41: 3, 42: 3, 43: 3, 44: 3, 46: 3, 49: 3, 50: 3, 52: 3, 55: 3, 56: 3, 57: 3, 58: 3, 60: 3, 61: 3, 64: 3, 65: 3, 66: 3, 67: 3, 69: 3, 70: 3, 77: 3, 79: 3, 84: 3, 90: 3, 91: 3, 97: 3, 0: 2, 68: 2, 71: 2, 73: 2, 22: 2, 25: 2, 29: 2, 95: 2, 96: 2, 34: 2, 36: 2, 47: 2, 48: 2, 63: 2}\n",
            "125 {1: 0, 8: 0, 10: 0, 11: 0, 76: 0, 16: 0, 83: 0, 85: 0, 86: 0, 23: 0, 24: 0, 92: 0, 28: 0, 93: 0, 94: 0, 31: 0, 35: 0, 38: 0, 51: 0, 54: 0, 59: 0, 4: 1, 5: 1, 14: 1, 15: 1, 20: 1, 27: 1, 33: 1, 37: 1, 40: 1, 45: 1, 53: 1, 62: 1, 72: 1, 74: 1, 75: 1, 78: 1, 80: 1, 81: 1, 82: 1, 87: 1, 88: 1, 89: 1, 98: 1}\n",
            "126 {5: 0, 8: 0, 10: 0, 11: 0, 76: 0, 16: 0, 85: 0, 23: 0, 24: 0, 89: 0, 27: 0, 92: 0, 28: 0, 93: 0, 94: 0, 31: 0, 35: 0, 38: 0, 51: 0, 59: 0, 1: 1, 4: 1, 14: 1, 15: 1, 20: 1, 33: 1, 37: 1, 40: 1, 45: 1, 53: 1, 54: 1, 62: 1, 72: 1, 74: 1, 75: 1, 78: 1, 80: 1, 81: 1, 82: 1, 83: 1, 86: 1, 87: 1, 88: 1, 98: 1}\n",
            "127 {65: 2, 66: 2, 68: 2, 71: 2, 73: 2, 79: 2, 22: 2, 25: 2, 95: 2, 34: 2, 36: 2, 41: 2, 44: 2, 47: 2, 48: 2, 58: 2, 0: 3, 2: 3, 3: 3, 6: 3, 7: 3, 9: 3, 12: 3, 13: 3, 17: 3, 18: 3, 19: 3, 21: 3, 26: 3, 29: 3, 30: 3, 32: 3, 39: 3, 42: 3, 43: 3, 46: 3, 49: 3, 50: 3, 52: 3, 55: 3, 56: 3, 57: 3, 60: 3, 61: 3, 63: 3, 64: 3, 67: 3, 69: 3, 70: 3, 77: 3, 84: 3, 90: 3, 91: 3, 96: 3, 97: 3}\n",
            "128 {0: 3, 1: 3, 4: 3, 74: 3, 75: 3, 78: 3, 80: 3, 81: 3, 82: 3, 83: 3, 86: 3, 88: 3, 29: 3, 96: 3, 33: 3, 37: 3, 45: 3, 53: 3, 54: 3, 62: 3, 63: 3, 2: 1, 3: 1, 6: 1, 7: 1, 9: 1, 12: 1, 13: 1, 14: 1, 15: 1, 17: 1, 18: 1, 19: 1, 20: 1, 21: 1, 26: 1, 30: 1, 32: 1, 39: 1, 40: 1, 42: 1, 43: 1, 46: 1, 49: 1, 50: 1, 52: 1, 55: 1, 56: 1, 57: 1, 60: 1, 61: 1, 64: 1, 67: 1, 69: 1, 70: 1, 72: 1, 77: 1, 84: 1, 87: 1, 90: 1, 91: 1, 97: 1, 98: 1}\n",
            "129 {0: 3, 2: 3, 3: 3, 6: 3, 7: 3, 9: 3, 12: 3, 13: 3, 17: 3, 18: 3, 19: 3, 21: 3, 26: 3, 30: 3, 39: 3, 43: 3, 46: 3, 49: 3, 50: 3, 52: 3, 54: 3, 55: 3, 56: 3, 57: 3, 60: 3, 61: 3, 63: 3, 64: 3, 67: 3, 69: 3, 70: 3, 77: 3, 84: 3, 90: 3, 91: 3, 97: 3, 1: 1, 4: 1, 14: 1, 15: 1, 20: 1, 29: 1, 32: 1, 33: 1, 37: 1, 40: 1, 42: 1, 45: 1, 53: 1, 62: 1, 72: 1, 74: 1, 75: 1, 78: 1, 80: 1, 81: 1, 82: 1, 83: 1, 86: 1, 87: 1, 88: 1, 96: 1, 98: 1}\n",
            "130 {0: 3, 6: 3, 73: 3, 9: 3, 49: 3, 18: 3, 52: 3, 54: 3, 91: 3, 63: 3, 95: 3, 2: 2, 3: 2, 7: 2, 12: 2, 13: 2, 17: 2, 19: 2, 21: 2, 22: 2, 25: 2, 26: 2, 30: 2, 34: 2, 36: 2, 39: 2, 41: 2, 43: 2, 44: 2, 46: 2, 47: 2, 48: 2, 50: 2, 55: 2, 56: 2, 57: 2, 58: 2, 60: 2, 61: 2, 64: 2, 65: 2, 66: 2, 67: 2, 68: 2, 69: 2, 70: 2, 71: 2, 77: 2, 79: 2, 84: 2, 90: 2, 97: 2}\n",
            "131 {0: 2, 34: 2, 6: 2, 73: 2, 41: 2, 9: 2, 54: 2, 22: 2, 25: 2, 95: 2, 63: 2, 2: 3, 3: 3, 7: 3, 12: 3, 13: 3, 17: 3, 18: 3, 19: 3, 21: 3, 26: 3, 30: 3, 36: 3, 39: 3, 43: 3, 44: 3, 46: 3, 47: 3, 48: 3, 49: 3, 50: 3, 52: 3, 55: 3, 56: 3, 57: 3, 58: 3, 60: 3, 61: 3, 64: 3, 65: 3, 66: 3, 67: 3, 68: 3, 69: 3, 70: 3, 71: 3, 77: 3, 79: 3, 84: 3, 90: 3, 91: 3, 97: 3}\n",
            "132 {0: 2, 54: 2, 73: 2, 41: 2, 63: 2, 95: 2, 47: 2, 2: 3, 3: 3, 6: 3, 7: 3, 9: 3, 12: 3, 13: 3, 17: 3, 18: 3, 19: 3, 21: 3, 22: 3, 25: 3, 26: 3, 30: 3, 34: 3, 36: 3, 39: 3, 43: 3, 44: 3, 46: 3, 48: 3, 49: 3, 50: 3, 52: 3, 55: 3, 56: 3, 57: 3, 58: 3, 60: 3, 61: 3, 64: 3, 65: 3, 66: 3, 67: 3, 68: 3, 69: 3, 70: 3, 71: 3, 77: 3, 79: 3, 84: 3, 90: 3, 91: 3, 97: 3}\n",
            "133 {2: 1, 3: 1, 7: 1, 12: 1, 13: 1, 14: 1, 17: 1, 19: 1, 20: 1, 21: 1, 22: 1, 25: 1, 26: 1, 30: 1, 32: 1, 34: 1, 36: 1, 39: 1, 42: 1, 43: 1, 44: 1, 46: 1, 48: 1, 50: 1, 55: 1, 56: 1, 57: 1, 58: 1, 60: 1, 61: 1, 64: 1, 65: 1, 66: 1, 67: 1, 68: 1, 69: 1, 70: 1, 71: 1, 72: 1, 77: 1, 79: 1, 84: 1, 87: 1, 91: 1, 97: 1, 1: 3, 4: 3, 6: 3, 9: 3, 15: 3, 18: 3, 29: 3, 33: 3, 37: 3, 40: 3, 45: 3, 49: 3, 52: 3, 53: 3, 62: 3, 74: 3, 75: 3, 78: 3, 80: 3, 81: 3, 82: 3, 83: 3, 86: 3, 88: 3, 90: 3, 96: 3, 98: 3}\n",
            "134 {6: 3, 73: 3, 41: 3, 47: 3, 52: 3, 54: 3, 95: 3, 63: 3, 0: 2, 1: 2, 4: 2, 9: 2, 15: 2, 18: 2, 29: 2, 33: 2, 37: 2, 40: 2, 45: 2, 49: 2, 53: 2, 62: 2, 74: 2, 75: 2, 78: 2, 80: 2, 81: 2, 82: 2, 83: 2, 86: 2, 88: 2, 90: 2, 96: 2, 98: 2}\n",
            "135 {34: 1, 68: 1, 6: 1, 71: 1, 73: 1, 47: 1, 52: 1, 22: 1, 54: 1, 25: 1, 63: 1, 95: 1, 2: 3, 3: 3, 7: 3, 12: 3, 13: 3, 14: 3, 17: 3, 19: 3, 20: 3, 21: 3, 26: 3, 30: 3, 32: 3, 36: 3, 39: 3, 41: 3, 42: 3, 43: 3, 44: 3, 46: 3, 48: 3, 50: 3, 55: 3, 56: 3, 57: 3, 58: 3, 60: 3, 61: 3, 64: 3, 65: 3, 66: 3, 67: 3, 69: 3, 70: 3, 72: 3, 77: 3, 79: 3, 84: 3, 87: 3, 91: 3, 97: 3}\n",
            "136 {2: 2, 3: 2, 7: 2, 12: 2, 13: 2, 17: 2, 19: 2, 21: 2, 26: 2, 30: 2, 32: 2, 36: 2, 39: 2, 41: 2, 42: 2, 43: 2, 44: 2, 46: 2, 48: 2, 49: 2, 50: 2, 55: 2, 56: 2, 57: 2, 58: 2, 60: 2, 61: 2, 64: 2, 65: 2, 66: 2, 67: 2, 69: 2, 70: 2, 77: 2, 79: 2, 84: 2, 90: 2, 91: 2, 97: 2, 0: 3, 1: 3, 4: 3, 9: 3, 14: 3, 15: 3, 18: 3, 20: 3, 29: 3, 33: 3, 37: 3, 40: 3, 45: 3, 53: 3, 62: 3, 72: 3, 74: 3, 75: 3, 78: 3, 80: 3, 81: 3, 82: 3, 83: 3, 86: 3, 87: 3, 88: 3, 96: 3, 98: 3}\n",
            "137 {0: 3, 1: 3, 4: 3, 74: 3, 75: 3, 78: 3, 15: 3, 80: 3, 81: 3, 82: 3, 83: 3, 86: 3, 88: 3, 96: 3, 33: 3, 98: 3, 37: 3, 40: 3, 45: 3, 53: 3, 62: 3, 63: 3, 6: 1, 9: 1, 14: 1, 18: 1, 20: 1, 22: 1, 25: 1, 29: 1, 34: 1, 47: 1, 52: 1, 54: 1, 68: 1, 71: 1, 72: 1, 73: 1, 87: 1, 95: 1}\n",
            "138 {1: 1, 4: 1, 6: 1, 72: 1, 9: 1, 74: 1, 75: 1, 78: 1, 14: 1, 15: 1, 81: 1, 80: 1, 82: 1, 18: 1, 20: 1, 87: 1, 88: 1, 29: 1, 96: 1, 33: 1, 98: 1, 37: 1, 40: 1, 45: 1, 53: 1, 62: 1, 0: 3, 22: 3, 25: 3, 34: 3, 47: 3, 52: 3, 54: 3, 63: 3, 68: 3, 71: 3, 73: 3, 83: 3, 86: 3, 95: 3}\n",
            "139 {1: 1, 4: 1, 6: 1, 72: 1, 9: 1, 74: 1, 11: 1, 75: 1, 78: 1, 14: 1, 15: 1, 81: 1, 80: 1, 82: 1, 18: 1, 20: 1, 87: 1, 88: 1, 29: 1, 96: 1, 33: 1, 98: 1, 37: 1, 40: 1, 45: 1, 53: 1, 5: 0, 8: 0, 10: 0, 16: 0, 23: 0, 24: 0, 27: 0, 28: 0, 31: 0, 35: 0, 38: 0, 51: 0, 59: 0, 62: 0, 76: 0, 85: 0, 89: 0, 92: 0, 93: 0, 94: 0}\n",
            "140 {0: 2, 34: 2, 68: 2, 36: 2, 73: 2, 44: 2, 48: 2, 83: 2, 52: 2, 22: 2, 54: 2, 86: 2, 25: 2, 63: 2, 95: 2, 2: 3, 3: 3, 7: 3, 12: 3, 13: 3, 17: 3, 19: 3, 21: 3, 26: 3, 30: 3, 32: 3, 39: 3, 41: 3, 42: 3, 43: 3, 46: 3, 47: 3, 49: 3, 50: 3, 55: 3, 56: 3, 57: 3, 58: 3, 60: 3, 61: 3, 64: 3, 65: 3, 66: 3, 67: 3, 69: 3, 70: 3, 71: 3, 77: 3, 79: 3, 84: 3, 90: 3, 91: 3, 97: 3}\n",
            "141 {1: 1, 6: 1, 9: 1, 11: 1, 14: 1, 15: 1, 16: 1, 18: 1, 20: 1, 23: 1, 28: 1, 29: 1, 31: 1, 33: 1, 35: 1, 37: 1, 40: 1, 45: 1, 51: 1, 72: 1, 74: 1, 75: 1, 76: 1, 78: 1, 80: 1, 81: 1, 82: 1, 85: 1, 87: 1, 88: 1, 92: 1, 93: 1, 94: 1, 96: 1, 98: 1, 4: 0, 5: 0, 8: 0, 10: 0, 24: 0, 89: 0, 27: 0, 38: 0, 53: 0, 59: 0, 62: 0}\n",
            "142 {3: 1, 6: 1, 7: 1, 9: 1, 12: 1, 13: 1, 17: 1, 19: 1, 29: 1, 30: 1, 39: 1, 41: 1, 43: 1, 46: 1, 47: 1, 49: 1, 55: 1, 56: 1, 57: 1, 58: 1, 60: 1, 61: 1, 65: 1, 66: 1, 67: 1, 69: 1, 70: 1, 71: 1, 77: 1, 79: 1, 80: 1, 87: 1, 91: 1, 97: 1, 1: 3, 2: 3, 11: 3, 14: 3, 15: 3, 16: 3, 18: 3, 20: 3, 21: 3, 23: 3, 26: 3, 28: 3, 31: 3, 32: 3, 33: 3, 35: 3, 37: 3, 40: 3, 42: 3, 45: 3, 50: 3, 51: 3, 64: 3, 72: 3, 74: 3, 75: 3, 76: 3, 78: 3, 81: 3, 82: 3, 84: 3, 85: 3, 88: 3, 90: 3, 92: 3, 93: 3, 94: 3, 96: 3, 98: 3}\n",
            "143 {0: 1, 6: 1, 73: 1, 9: 1, 80: 1, 49: 1, 83: 1, 52: 1, 87: 1, 29: 1, 95: 1, 63: 1, 3: 2, 7: 2, 12: 2, 13: 2, 17: 2, 19: 2, 22: 2, 25: 2, 30: 2, 34: 2, 36: 2, 39: 2, 41: 2, 43: 2, 44: 2, 46: 2, 47: 2, 48: 2, 54: 2, 55: 2, 56: 2, 57: 2, 58: 2, 60: 2, 61: 2, 65: 2, 66: 2, 67: 2, 68: 2, 69: 2, 70: 2, 71: 2, 77: 2, 79: 2, 86: 2, 91: 2, 97: 2}\n",
            "144 {64: 1, 2: 1, 6: 1, 72: 1, 73: 1, 9: 1, 18: 1, 84: 1, 21: 1, 26: 1, 90: 1, 29: 1, 95: 1, 32: 1, 42: 1, 49: 1, 50: 1, 52: 1, 63: 1, 0: 3, 1: 3, 11: 3, 14: 3, 15: 3, 16: 3, 20: 3, 23: 3, 28: 3, 31: 3, 33: 3, 35: 3, 37: 3, 40: 3, 45: 3, 51: 3, 74: 3, 75: 3, 76: 3, 78: 3, 80: 3, 81: 3, 82: 3, 83: 3, 85: 3, 87: 3, 88: 3, 92: 3, 93: 3, 94: 3, 96: 3, 98: 3}\n",
            "145 {6: 1, 9: 1, 73: 1, 41: 1, 49: 1, 50: 1, 18: 1, 52: 1, 63: 1, 90: 1, 91: 1, 60: 1, 29: 1, 30: 1, 95: 1, 2: 2, 3: 2, 7: 2, 12: 2, 13: 2, 17: 2, 19: 2, 21: 2, 22: 2, 25: 2, 26: 2, 32: 2, 34: 2, 36: 2, 39: 2, 42: 2, 43: 2, 44: 2, 46: 2, 47: 2, 48: 2, 54: 2, 55: 2, 56: 2, 57: 2, 58: 2, 61: 2, 64: 2, 65: 2, 66: 2, 67: 2, 68: 2, 69: 2, 70: 2, 71: 2, 72: 2, 77: 2, 79: 2, 84: 2, 86: 2, 97: 2}\n",
            "146 {2: 2, 3: 2, 6: 2, 9: 2, 12: 2, 13: 2, 17: 2, 18: 2, 19: 2, 21: 2, 26: 2, 29: 2, 30: 2, 32: 2, 39: 2, 42: 2, 49: 2, 50: 2, 54: 2, 56: 2, 57: 2, 60: 2, 63: 2, 64: 2, 69: 2, 70: 2, 72: 2, 84: 2, 86: 2, 90: 2, 91: 2, 95: 2, 97: 2, 7: 1, 22: 1, 25: 1, 34: 1, 36: 1, 41: 1, 43: 1, 44: 1, 46: 1, 47: 1, 48: 1, 52: 1, 55: 1, 58: 1, 61: 1, 65: 1, 66: 1, 67: 1, 68: 1, 71: 1, 73: 1, 77: 1, 79: 1}\n",
            "147 {32: 1, 2: 1, 6: 1, 72: 1, 73: 1, 9: 1, 42: 1, 18: 1, 63: 1, 52: 1, 86: 1, 54: 1, 90: 1, 29: 1, 95: 1, 3: 2, 7: 2, 12: 2, 13: 2, 17: 2, 19: 2, 21: 2, 22: 2, 25: 2, 26: 2, 30: 2, 34: 2, 36: 2, 39: 2, 41: 2, 43: 2, 44: 2, 46: 2, 47: 2, 48: 2, 49: 2, 50: 2, 55: 2, 56: 2, 57: 2, 58: 2, 60: 2, 61: 2, 64: 2, 65: 2, 66: 2, 67: 2, 68: 2, 69: 2, 70: 2, 71: 2, 77: 2, 79: 2, 84: 2, 91: 2, 97: 2}\n",
            "148 {65: 2, 66: 2, 68: 2, 7: 2, 71: 2, 73: 2, 77: 2, 79: 2, 86: 2, 22: 2, 25: 2, 30: 2, 34: 2, 36: 2, 41: 2, 44: 2, 47: 2, 48: 2, 54: 2, 55: 2, 58: 2, 61: 2, 2: 1, 3: 1, 6: 1, 9: 1, 12: 1, 13: 1, 17: 1, 18: 1, 19: 1, 21: 1, 26: 1, 29: 1, 32: 1, 39: 1, 42: 1, 43: 1, 46: 1, 49: 1, 50: 1, 52: 1, 56: 1, 57: 1, 60: 1, 63: 1, 64: 1, 67: 1, 69: 1, 70: 1, 72: 1, 84: 1, 90: 1, 91: 1, 95: 1, 97: 1}\n",
            "149 {4: 0, 5: 0, 38: 0, 8: 0, 59: 0, 10: 0, 53: 0, 24: 0, 89: 0, 27: 0, 62: 0, 0: 3, 1: 3, 11: 3, 14: 3, 15: 3, 16: 3, 20: 3, 23: 3, 28: 3, 31: 3, 33: 3, 35: 3, 37: 3, 40: 3, 45: 3, 51: 3, 74: 3, 75: 3, 76: 3, 78: 3, 80: 3, 81: 3, 82: 3, 83: 3, 85: 3, 87: 3, 88: 3, 92: 3, 93: 3, 94: 3, 96: 3, 98: 3}\n",
            "150 {65: 2, 66: 2, 68: 2, 71: 2, 7: 2, 73: 2, 79: 2, 22: 2, 86: 2, 25: 2, 34: 2, 36: 2, 41: 2, 44: 2, 46: 2, 47: 2, 48: 2, 54: 2, 55: 2, 58: 2, 2: 1, 3: 1, 6: 1, 9: 1, 12: 1, 13: 1, 17: 1, 18: 1, 19: 1, 21: 1, 26: 1, 29: 1, 30: 1, 32: 1, 39: 1, 42: 1, 43: 1, 49: 1, 50: 1, 52: 1, 56: 1, 57: 1, 60: 1, 61: 1, 63: 1, 64: 1, 67: 1, 69: 1, 70: 1, 72: 1, 77: 1, 84: 1, 90: 1, 91: 1, 95: 1, 97: 1}\n",
            "151 {0: 0, 1: 0, 4: 0, 74: 0, 75: 0, 14: 0, 15: 0, 80: 0, 78: 0, 81: 0, 83: 0, 82: 0, 20: 0, 87: 0, 88: 0, 96: 0, 33: 0, 98: 0, 37: 0, 40: 0, 45: 0, 53: 0, 62: 0, 5: 3, 8: 3, 10: 3, 11: 3, 16: 3, 23: 3, 24: 3, 27: 3, 28: 3, 31: 3, 35: 3, 38: 3, 51: 3, 59: 3, 76: 3, 85: 3, 89: 3, 92: 3, 93: 3, 94: 3}\n",
            "152 {5: 3, 8: 3, 10: 3, 76: 3, 16: 3, 85: 3, 24: 3, 89: 3, 27: 3, 92: 3, 93: 3, 28: 3, 31: 3, 94: 3, 35: 3, 38: 3, 51: 3, 59: 3, 0: 0, 1: 0, 4: 0, 11: 0, 14: 0, 15: 0, 20: 0, 23: 0, 33: 0, 37: 0, 40: 0, 45: 0, 53: 0, 62: 0, 74: 0, 75: 0, 78: 0, 80: 0, 81: 0, 82: 0, 83: 0, 87: 0, 88: 0, 96: 0, 98: 0}\n",
            "153 {2: 1, 3: 1, 6: 1, 9: 1, 12: 1, 13: 1, 14: 1, 17: 1, 18: 1, 19: 1, 20: 1, 21: 1, 26: 1, 30: 1, 32: 1, 39: 1, 42: 1, 43: 1, 49: 1, 50: 1, 52: 1, 56: 1, 57: 1, 60: 1, 61: 1, 64: 1, 67: 1, 69: 1, 70: 1, 72: 1, 77: 1, 84: 1, 87: 1, 90: 1, 91: 1, 95: 1, 97: 1, 0: 0, 1: 0, 4: 0, 11: 0, 15: 0, 23: 0, 29: 0, 33: 0, 37: 0, 40: 0, 45: 0, 53: 0, 62: 0, 63: 0, 74: 0, 75: 0, 78: 0, 80: 0, 81: 0, 82: 0, 83: 0, 88: 0, 96: 0, 98: 0}\n",
            "154 {2: 2, 3: 2, 7: 2, 12: 2, 13: 2, 14: 2, 17: 2, 18: 2, 19: 2, 21: 2, 26: 2, 30: 2, 32: 2, 39: 2, 41: 2, 42: 2, 43: 2, 44: 2, 46: 2, 48: 2, 49: 2, 50: 2, 55: 2, 56: 2, 57: 2, 60: 2, 61: 2, 64: 2, 65: 2, 67: 2, 69: 2, 70: 2, 72: 2, 77: 2, 79: 2, 84: 2, 90: 2, 91: 2, 97: 2, 6: 1, 9: 1, 20: 1, 22: 1, 25: 1, 34: 1, 36: 1, 47: 1, 52: 1, 54: 1, 58: 1, 66: 1, 68: 1, 71: 1, 73: 1, 86: 1, 87: 1, 95: 1}\n",
            "155 {66: 2, 36: 2, 71: 2, 73: 2, 41: 2, 47: 2, 79: 2, 54: 2, 86: 2, 22: 2, 25: 2, 95: 2, 2: 1, 3: 1, 6: 1, 7: 1, 9: 1, 12: 1, 13: 1, 14: 1, 17: 1, 18: 1, 19: 1, 20: 1, 21: 1, 26: 1, 30: 1, 32: 1, 34: 1, 39: 1, 42: 1, 43: 1, 44: 1, 46: 1, 48: 1, 49: 1, 50: 1, 52: 1, 55: 1, 56: 1, 57: 1, 58: 1, 60: 1, 61: 1, 64: 1, 65: 1, 67: 1, 68: 1, 69: 1, 70: 1, 72: 1, 77: 1, 84: 1, 87: 1, 90: 1, 91: 1, 97: 1}\n",
            "156 {2: 1, 3: 1, 6: 1, 7: 1, 9: 1, 12: 1, 13: 1, 14: 1, 17: 1, 18: 1, 19: 1, 20: 1, 21: 1, 26: 1, 30: 1, 32: 1, 39: 1, 41: 1, 42: 1, 43: 1, 46: 1, 49: 1, 50: 1, 52: 1, 55: 1, 56: 1, 57: 1, 60: 1, 61: 1, 64: 1, 67: 1, 69: 1, 70: 1, 72: 1, 84: 1, 87: 1, 90: 1, 91: 1, 97: 1, 22: 2, 25: 2, 34: 2, 36: 2, 44: 2, 47: 2, 48: 2, 54: 2, 58: 2, 65: 2, 66: 2, 68: 2, 71: 2, 73: 2, 77: 2, 79: 2, 86: 2, 95: 2}\n",
            "157 {0: 0, 1: 0, 75: 0, 11: 0, 78: 0, 15: 0, 80: 0, 16: 0, 82: 0, 83: 0, 85: 0, 23: 0, 88: 0, 24: 0, 28: 0, 29: 0, 93: 0, 94: 0, 31: 0, 33: 0, 96: 0, 98: 0, 35: 0, 37: 0, 40: 0, 45: 0, 51: 0, 63: 0, 4: 3, 5: 3, 8: 3, 10: 3, 27: 3, 38: 3, 53: 3, 59: 3, 62: 3, 74: 3, 76: 3, 81: 3, 89: 3, 92: 3}\n",
            "158 {65: 0, 66: 0, 68: 0, 71: 0, 73: 0, 77: 0, 79: 0, 85: 0, 22: 0, 23: 0, 25: 0, 28: 0, 93: 0, 94: 0, 31: 0, 34: 0, 35: 0, 36: 0, 44: 0, 47: 0, 48: 0, 51: 0, 58: 0, 0: 2, 1: 2, 11: 2, 15: 2, 16: 2, 24: 2, 29: 2, 33: 2, 37: 2, 40: 2, 45: 2, 54: 2, 63: 2, 75: 2, 78: 2, 80: 2, 82: 2, 83: 2, 86: 2, 88: 2, 95: 2, 96: 2, 98: 2}\n",
            "159 {0: 1, 1: 1, 75: 1, 11: 1, 78: 1, 80: 1, 16: 1, 82: 1, 83: 1, 86: 1, 88: 1, 24: 1, 29: 1, 95: 1, 96: 1, 33: 1, 98: 1, 37: 1, 40: 1, 45: 1, 54: 1, 63: 1, 2: 2, 3: 2, 6: 2, 7: 2, 9: 2, 12: 2, 13: 2, 14: 2, 15: 2, 17: 2, 18: 2, 19: 2, 20: 2, 21: 2, 26: 2, 30: 2, 32: 2, 39: 2, 41: 2, 42: 2, 43: 2, 46: 2, 49: 2, 50: 2, 52: 2, 55: 2, 56: 2, 57: 2, 60: 2, 61: 2, 64: 2, 67: 2, 69: 2, 70: 2, 72: 2, 84: 2, 87: 2, 90: 2, 91: 2, 97: 2}\n",
            "160 {0: 2, 1: 2, 6: 2, 9: 2, 11: 2, 75: 2, 78: 2, 16: 2, 80: 2, 82: 2, 83: 2, 86: 2, 24: 2, 88: 2, 29: 2, 95: 2, 96: 2, 33: 2, 98: 2, 37: 2, 45: 2, 54: 2, 63: 2, 2: 1, 3: 1, 7: 1, 12: 1, 13: 1, 14: 1, 15: 1, 17: 1, 18: 1, 19: 1, 20: 1, 21: 1, 26: 1, 30: 1, 32: 1, 39: 1, 40: 1, 41: 1, 42: 1, 43: 1, 46: 1, 49: 1, 50: 1, 52: 1, 55: 1, 56: 1, 57: 1, 60: 1, 61: 1, 64: 1, 67: 1, 69: 1, 70: 1, 72: 1, 84: 1, 87: 1, 90: 1, 91: 1, 97: 1}\n",
            "161 {1: 2, 6: 2, 9: 2, 11: 2, 75: 2, 78: 2, 16: 2, 80: 2, 82: 2, 83: 2, 85: 2, 23: 2, 24: 2, 88: 2, 28: 2, 93: 2, 94: 2, 31: 2, 29: 2, 95: 2, 34: 2, 35: 2, 33: 2, 98: 2, 37: 2, 45: 2, 63: 2, 0: 0, 22: 0, 25: 0, 36: 0, 44: 0, 47: 0, 48: 0, 51: 0, 54: 0, 58: 0, 65: 0, 66: 0, 68: 0, 71: 0, 73: 0, 77: 0, 79: 0, 86: 0, 96: 0}\n",
            "162 {65: 0, 66: 0, 68: 0, 6: 0, 71: 0, 73: 0, 9: 0, 77: 0, 79: 0, 22: 0, 25: 0, 93: 0, 95: 0, 34: 0, 36: 0, 44: 0, 47: 0, 48: 0, 58: 0, 0: 2, 1: 2, 11: 2, 16: 2, 23: 2, 24: 2, 28: 2, 29: 2, 31: 2, 33: 2, 35: 2, 37: 2, 45: 2, 51: 2, 54: 2, 63: 2, 75: 2, 78: 2, 80: 2, 82: 2, 83: 2, 85: 2, 86: 2, 88: 2, 94: 2, 96: 2, 98: 2}\n",
            "163 {98: 2, 4: 2, 5: 2, 38: 2, 8: 2, 27: 2, 74: 2, 10: 2, 78: 2, 53: 2, 88: 2, 89: 2, 59: 2, 92: 2, 62: 2, 0: 3, 1: 3, 11: 3, 16: 3, 23: 3, 24: 3, 28: 3, 29: 3, 31: 3, 33: 3, 35: 3, 37: 3, 45: 3, 51: 3, 54: 3, 63: 3, 75: 3, 76: 3, 80: 3, 81: 3, 82: 3, 83: 3, 85: 3, 86: 3, 94: 3, 96: 3}\n",
            "164 {65: 3, 66: 3, 68: 3, 6: 3, 71: 3, 73: 3, 77: 3, 79: 3, 22: 3, 95: 3, 34: 3, 36: 3, 44: 3, 47: 3, 48: 3, 54: 3, 58: 3, 63: 3, 0: 0, 1: 0, 9: 0, 11: 0, 16: 0, 23: 0, 24: 0, 25: 0, 28: 0, 29: 0, 31: 0, 33: 0, 35: 0, 37: 0, 45: 0, 51: 0, 75: 0, 76: 0, 80: 0, 81: 0, 82: 0, 83: 0, 85: 0, 86: 0, 93: 0, 94: 0, 96: 0}\n",
            "165 {0: 0, 1: 0, 75: 0, 11: 0, 76: 0, 15: 0, 80: 0, 81: 0, 16: 0, 82: 0, 83: 0, 85: 0, 86: 0, 23: 0, 24: 0, 25: 0, 28: 0, 29: 0, 93: 0, 94: 0, 31: 0, 33: 0, 96: 0, 35: 0, 37: 0, 40: 0, 45: 0, 51: 0, 2: 1, 3: 1, 7: 1, 9: 1, 12: 1, 13: 1, 14: 1, 17: 1, 18: 1, 19: 1, 20: 1, 21: 1, 26: 1, 30: 1, 32: 1, 39: 1, 41: 1, 42: 1, 43: 1, 46: 1, 49: 1, 50: 1, 52: 1, 55: 1, 56: 1, 57: 1, 60: 1, 61: 1, 64: 1, 67: 1, 69: 1, 70: 1, 72: 1, 84: 1, 87: 1, 90: 1, 91: 1, 97: 1}\n",
            "166 {1: 0, 4: 0, 5: 0, 38: 0, 8: 0, 27: 0, 10: 0, 74: 0, 78: 0, 81: 0, 53: 0, 89: 0, 59: 0, 62: 0, 0: 2, 11: 2, 15: 2, 16: 2, 23: 2, 24: 2, 25: 2, 28: 2, 29: 2, 31: 2, 33: 2, 35: 2, 37: 2, 40: 2, 45: 2, 51: 2, 75: 2, 76: 2, 80: 2, 82: 2, 83: 2, 85: 2, 86: 2, 88: 2, 92: 2, 93: 2, 94: 2, 96: 2, 98: 2}\n",
            "167 {38: 2, 8: 2, 10: 2, 76: 2, 53: 2, 85: 2, 24: 2, 89: 2, 59: 2, 92: 2, 94: 2, 0: 0, 1: 0, 4: 0, 5: 0, 11: 0, 15: 0, 16: 0, 23: 0, 25: 0, 27: 0, 28: 0, 29: 0, 31: 0, 33: 0, 35: 0, 37: 0, 40: 0, 45: 0, 51: 0, 62: 0, 74: 0, 75: 0, 78: 0, 80: 0, 81: 0, 82: 0, 83: 0, 86: 0, 88: 0, 93: 0, 96: 0, 98: 0}\n",
            "168 {0: 0, 1: 0, 4: 0, 5: 0, 6: 0, 74: 0, 75: 0, 78: 0, 15: 0, 80: 0, 81: 0, 82: 0, 88: 0, 27: 0, 29: 0, 95: 0, 96: 0, 33: 0, 98: 0, 37: 0, 40: 0, 45: 0, 54: 0, 62: 0, 63: 0, 11: 3, 16: 3, 22: 3, 23: 3, 25: 3, 28: 3, 31: 3, 34: 3, 35: 3, 36: 3, 44: 3, 47: 3, 48: 3, 51: 3, 58: 3, 65: 3, 66: 3, 68: 3, 71: 3, 73: 3, 77: 3, 79: 3, 83: 3, 86: 3, 93: 3}\n",
            "169 {38: 3, 8: 3, 10: 3, 76: 3, 28: 3, 85: 3, 53: 3, 24: 3, 89: 3, 59: 3, 92: 3, 94: 3, 31: 3, 11: 2, 16: 2, 22: 2, 23: 2, 25: 2, 34: 2, 35: 2, 36: 2, 44: 2, 47: 2, 48: 2, 51: 2, 58: 2, 65: 2, 66: 2, 68: 2, 71: 2, 73: 2, 77: 2, 79: 2, 83: 2, 86: 2, 93: 2}\n",
            "170 {0: 0, 1: 0, 4: 0, 5: 0, 74: 0, 75: 0, 78: 0, 15: 0, 80: 0, 81: 0, 82: 0, 88: 0, 27: 0, 29: 0, 95: 0, 96: 0, 33: 0, 98: 0, 37: 0, 40: 0, 45: 0, 54: 0, 62: 0, 63: 0, 2: 1, 3: 1, 6: 1, 7: 1, 9: 1, 12: 1, 13: 1, 14: 1, 17: 1, 18: 1, 19: 1, 20: 1, 21: 1, 26: 1, 30: 1, 32: 1, 39: 1, 41: 1, 42: 1, 43: 1, 46: 1, 49: 1, 50: 1, 52: 1, 55: 1, 56: 1, 57: 1, 60: 1, 61: 1, 64: 1, 67: 1, 69: 1, 70: 1, 72: 1, 84: 1, 87: 1, 90: 1, 91: 1, 97: 1}\n",
            "171 {73: 1, 11: 1, 79: 1, 16: 1, 83: 1, 22: 1, 23: 1, 86: 1, 25: 1, 93: 1, 34: 1, 35: 1, 41: 1, 47: 1, 51: 1, 52: 1, 2: 2, 3: 2, 6: 2, 7: 2, 9: 2, 12: 2, 13: 2, 14: 2, 17: 2, 18: 2, 19: 2, 20: 2, 21: 2, 26: 2, 30: 2, 32: 2, 36: 2, 39: 2, 42: 2, 43: 2, 44: 2, 46: 2, 48: 2, 49: 2, 50: 2, 55: 2, 56: 2, 57: 2, 58: 2, 60: 2, 61: 2, 64: 2, 65: 2, 66: 2, 67: 2, 68: 2, 69: 2, 70: 2, 71: 2, 72: 2, 77: 2, 84: 2, 87: 2, 90: 2, 91: 2, 97: 2}\n",
            "172 {0: 0, 1: 0, 4: 0, 5: 0, 74: 0, 75: 0, 14: 0, 78: 0, 15: 0, 80: 0, 81: 0, 82: 0, 20: 0, 87: 0, 88: 0, 27: 0, 95: 0, 96: 0, 33: 0, 98: 0, 37: 0, 40: 0, 45: 0, 54: 0, 62: 0, 63: 0, 2: 2, 3: 2, 6: 2, 7: 2, 9: 2, 12: 2, 13: 2, 17: 2, 18: 2, 19: 2, 21: 2, 26: 2, 29: 2, 30: 2, 32: 2, 36: 2, 39: 2, 42: 2, 43: 2, 44: 2, 46: 2, 48: 2, 49: 2, 50: 2, 55: 2, 56: 2, 57: 2, 58: 2, 60: 2, 61: 2, 64: 2, 65: 2, 66: 2, 67: 2, 68: 2, 69: 2, 70: 2, 71: 2, 72: 2, 77: 2, 84: 2, 90: 2, 91: 2, 97: 2}\n",
            "173 {0: 3, 1: 3, 4: 3, 5: 3, 74: 3, 75: 3, 78: 3, 14: 3, 15: 3, 81: 3, 80: 3, 82: 3, 20: 3, 87: 3, 88: 3, 89: 3, 27: 3, 95: 3, 96: 3, 33: 3, 98: 3, 37: 3, 40: 3, 45: 3, 54: 3, 62: 3, 63: 3, 8: 0, 10: 0, 24: 0, 28: 0, 31: 0, 38: 0, 53: 0, 59: 0, 76: 0, 85: 0, 92: 0, 94: 0}\n",
            "174 {1: 3, 34: 3, 35: 3, 73: 3, 41: 3, 11: 3, 79: 3, 16: 3, 47: 3, 51: 3, 54: 3, 23: 3, 22: 3, 25: 3, 93: 3, 0: 1, 4: 1, 5: 1, 14: 1, 15: 1, 20: 1, 27: 1, 33: 1, 37: 1, 40: 1, 45: 1, 52: 1, 62: 1, 63: 1, 74: 1, 75: 1, 78: 1, 80: 1, 81: 1, 82: 1, 83: 1, 86: 1, 87: 1, 88: 1, 89: 1, 95: 1, 96: 1, 98: 1}\n",
            "175 {2: 1, 3: 1, 6: 1, 7: 1, 9: 1, 12: 1, 13: 1, 14: 1, 17: 1, 18: 1, 19: 1, 20: 1, 21: 1, 26: 1, 30: 1, 32: 1, 36: 1, 39: 1, 42: 1, 43: 1, 44: 1, 46: 1, 48: 1, 49: 1, 50: 1, 52: 1, 55: 1, 56: 1, 57: 1, 58: 1, 60: 1, 61: 1, 64: 1, 65: 1, 66: 1, 67: 1, 68: 1, 69: 1, 70: 1, 71: 1, 72: 1, 77: 1, 84: 1, 87: 1, 90: 1, 91: 1, 97: 1, 0: 2, 4: 2, 5: 2, 15: 2, 27: 2, 29: 2, 33: 2, 37: 2, 40: 2, 45: 2, 62: 2, 63: 2, 74: 2, 75: 2, 78: 2, 80: 2, 81: 2, 82: 2, 83: 2, 86: 2, 88: 2, 89: 2, 95: 2, 96: 2, 98: 2}\n",
            "176 {34: 3, 35: 3, 73: 3, 41: 3, 11: 3, 79: 3, 47: 3, 16: 3, 51: 3, 83: 3, 22: 3, 23: 3, 86: 3, 25: 3, 93: 3, 0: 2, 1: 2, 4: 2, 5: 2, 15: 2, 27: 2, 29: 2, 33: 2, 37: 2, 40: 2, 45: 2, 54: 2, 62: 2, 63: 2, 74: 2, 75: 2, 78: 2, 80: 2, 81: 2, 82: 2, 88: 2, 89: 2, 95: 2, 96: 2, 98: 2}\n",
            "177 {34: 2, 35: 2, 73: 2, 41: 2, 47: 2, 79: 2, 16: 2, 51: 2, 22: 2, 23: 2, 86: 2, 25: 2, 93: 2, 0: 3, 1: 3, 4: 3, 5: 3, 11: 3, 15: 3, 27: 3, 29: 3, 33: 3, 37: 3, 40: 3, 45: 3, 54: 3, 62: 3, 63: 3, 74: 3, 75: 3, 78: 3, 80: 3, 81: 3, 82: 3, 83: 3, 88: 3, 89: 3, 95: 3, 96: 3, 98: 3}\n",
            "178 {1: 0, 38: 0, 8: 0, 11: 0, 76: 0, 28: 0, 53: 0, 85: 0, 24: 0, 59: 0, 92: 0, 94: 0, 31: 0, 0: 3, 4: 3, 5: 3, 10: 3, 15: 3, 27: 3, 29: 3, 33: 3, 37: 3, 40: 3, 45: 3, 54: 3, 62: 3, 63: 3, 74: 3, 75: 3, 78: 3, 80: 3, 81: 3, 82: 3, 83: 3, 88: 3, 89: 3, 95: 3, 96: 3, 98: 3}\n",
            "179 {0: 2, 4: 2, 5: 2, 74: 2, 75: 2, 10: 2, 78: 2, 15: 2, 80: 2, 81: 2, 82: 2, 83: 2, 88: 2, 89: 2, 27: 2, 29: 2, 95: 2, 96: 2, 33: 2, 98: 2, 37: 2, 40: 2, 45: 2, 62: 2, 63: 2, 16: 3, 22: 3, 23: 3, 25: 3, 34: 3, 35: 3, 41: 3, 47: 3, 51: 3, 54: 3, 73: 3, 79: 3, 86: 3, 93: 3}\n",
            "180 {1: 0, 38: 0, 8: 0, 76: 0, 92: 0, 16: 0, 53: 0, 85: 0, 24: 0, 59: 0, 28: 0, 94: 0, 31: 0, 11: 3, 22: 3, 23: 3, 25: 3, 34: 3, 35: 3, 41: 3, 47: 3, 51: 3, 54: 3, 73: 3, 79: 3, 86: 3, 93: 3}\n",
            "181 {1: 3, 38: 3, 8: 3, 11: 3, 76: 3, 28: 3, 53: 3, 85: 3, 24: 3, 59: 3, 92: 3, 94: 3, 16: 0, 22: 0, 23: 0, 25: 0, 31: 0, 34: 0, 35: 0, 41: 0, 47: 0, 51: 0, 54: 0, 73: 0, 79: 0, 86: 0, 93: 0}\n",
            "182 {1: 0, 38: 0, 8: 0, 76: 0, 16: 0, 85: 0, 53: 0, 24: 0, 59: 0, 92: 0, 94: 0, 11: 3, 22: 3, 23: 3, 25: 3, 28: 3, 31: 3, 34: 3, 35: 3, 41: 3, 47: 3, 51: 3, 54: 3, 73: 3, 79: 3, 86: 3, 93: 3}\n",
            "183 {0: 2, 1: 2, 4: 2, 5: 2, 74: 2, 75: 2, 78: 2, 15: 2, 80: 2, 81: 2, 82: 2, 83: 2, 88: 2, 89: 2, 27: 2, 29: 2, 95: 2, 96: 2, 33: 2, 98: 2, 37: 2, 40: 2, 45: 2, 62: 2, 63: 2, 8: 0, 10: 0, 16: 0, 24: 0, 38: 0, 53: 0, 59: 0, 76: 0, 85: 0, 92: 0, 94: 0}\n",
            "184 {4: 0, 5: 0, 8: 0, 10: 0, 76: 0, 78: 0, 16: 0, 85: 0, 24: 0, 88: 0, 89: 0, 27: 0, 92: 0, 94: 0, 98: 0, 38: 0, 59: 0, 62: 0, 0: 2, 1: 2, 15: 2, 29: 2, 33: 2, 37: 2, 40: 2, 45: 2, 53: 2, 63: 2, 74: 2, 75: 2, 80: 2, 81: 2, 82: 2, 83: 2, 95: 2, 96: 2}\n",
            "185 {4: 0, 5: 0, 8: 0, 10: 0, 11: 0, 76: 0, 78: 0, 16: 0, 85: 0, 88: 0, 89: 0, 24: 0, 27: 0, 92: 0, 94: 0, 98: 0, 38: 0, 59: 0, 62: 0, 22: 3, 23: 3, 25: 3, 28: 3, 31: 3, 34: 3, 35: 3, 41: 3, 47: 3, 51: 3, 54: 3, 73: 3, 79: 3, 86: 3, 93: 3}\n",
            "186 {2: 1, 3: 1, 6: 1, 7: 1, 9: 1, 12: 1, 13: 1, 14: 1, 17: 1, 18: 1, 19: 1, 20: 1, 21: 1, 26: 1, 30: 1, 32: 1, 36: 1, 39: 1, 42: 1, 43: 1, 44: 1, 46: 1, 48: 1, 49: 1, 50: 1, 55: 1, 56: 1, 57: 1, 58: 1, 60: 1, 61: 1, 64: 1, 65: 1, 66: 1, 67: 1, 68: 1, 69: 1, 70: 1, 72: 1, 77: 1, 79: 1, 84: 1, 87: 1, 90: 1, 91: 1, 97: 1, 22: 3, 23: 3, 25: 3, 28: 3, 31: 3, 34: 3, 35: 3, 41: 3, 47: 3, 51: 3, 52: 3, 54: 3, 71: 3, 73: 3, 86: 3, 93: 3}\n",
            "187 {0: 1, 1: 1, 2: 1, 72: 1, 74: 1, 75: 1, 12: 1, 14: 1, 15: 1, 80: 1, 81: 1, 82: 1, 83: 1, 20: 1, 87: 1, 90: 1, 32: 1, 96: 1, 33: 1, 37: 1, 40: 1, 42: 1, 45: 1, 53: 1, 3: 2, 6: 2, 7: 2, 9: 2, 13: 2, 17: 2, 18: 2, 19: 2, 21: 2, 26: 2, 29: 2, 30: 2, 36: 2, 39: 2, 43: 2, 44: 2, 46: 2, 48: 2, 49: 2, 50: 2, 55: 2, 56: 2, 57: 2, 58: 2, 60: 2, 61: 2, 63: 2, 64: 2, 65: 2, 66: 2, 67: 2, 68: 2, 69: 2, 70: 2, 77: 2, 79: 2, 84: 2, 91: 2, 95: 2, 97: 2}\n",
            "188 {2: 1, 3: 1, 7: 1, 9: 1, 12: 1, 13: 1, 14: 1, 17: 1, 18: 1, 19: 1, 20: 1, 21: 1, 26: 1, 30: 1, 32: 1, 36: 1, 39: 1, 42: 1, 43: 1, 44: 1, 46: 1, 48: 1, 49: 1, 50: 1, 55: 1, 56: 1, 57: 1, 58: 1, 60: 1, 61: 1, 64: 1, 65: 1, 66: 1, 67: 1, 68: 1, 69: 1, 70: 1, 72: 1, 77: 1, 79: 1, 84: 1, 87: 1, 90: 1, 91: 1, 97: 1, 0: 2, 1: 2, 6: 2, 15: 2, 29: 2, 33: 2, 37: 2, 40: 2, 45: 2, 53: 2, 63: 2, 74: 2, 75: 2, 80: 2, 81: 2, 82: 2, 83: 2, 95: 2, 96: 2}\n",
            "189 {34: 2, 35: 2, 71: 2, 73: 2, 41: 2, 47: 2, 51: 2, 54: 2, 23: 2, 86: 2, 22: 2, 28: 2, 93: 2, 25: 2, 31: 2, 0: 3, 1: 3, 6: 3, 15: 3, 29: 3, 33: 3, 37: 3, 40: 3, 45: 3, 52: 3, 53: 3, 63: 3, 74: 3, 75: 3, 80: 3, 81: 3, 82: 3, 83: 3, 95: 3, 96: 3}\n",
            "190 {0: 3, 1: 3, 4: 3, 6: 3, 74: 3, 11: 3, 76: 3, 75: 3, 78: 3, 15: 3, 16: 3, 80: 3, 81: 3, 82: 3, 83: 3, 85: 3, 88: 3, 29: 3, 94: 3, 95: 3, 96: 3, 33: 3, 98: 3, 37: 3, 40: 3, 45: 3, 52: 3, 63: 3, 5: 0, 8: 0, 10: 0, 24: 0, 27: 0, 38: 0, 53: 0, 59: 0, 62: 0, 89: 0, 92: 0}\n",
            "191 {38: 3, 8: 3, 10: 3, 76: 3, 16: 3, 53: 3, 85: 3, 24: 3, 59: 3, 92: 3, 94: 3, 0: 0, 1: 0, 4: 0, 5: 0, 6: 0, 11: 0, 15: 0, 27: 0, 29: 0, 33: 0, 37: 0, 40: 0, 45: 0, 52: 0, 62: 0, 63: 0, 74: 0, 75: 0, 78: 0, 80: 0, 81: 0, 82: 0, 83: 0, 88: 0, 89: 0, 95: 0, 96: 0, 98: 0}\n",
            "192 {0: 1, 1: 1, 4: 1, 5: 1, 6: 1, 9: 1, 74: 1, 11: 1, 75: 1, 78: 1, 80: 1, 81: 1, 82: 1, 83: 1, 87: 1, 88: 1, 89: 1, 27: 1, 29: 1, 95: 1, 96: 1, 37: 1, 45: 1, 62: 1, 63: 1, 2: 0, 3: 0, 7: 0, 12: 0, 13: 0, 14: 0, 15: 0, 17: 0, 18: 0, 19: 0, 20: 0, 21: 0, 26: 0, 30: 0, 32: 0, 33: 0, 36: 0, 39: 0, 40: 0, 42: 0, 43: 0, 44: 0, 46: 0, 48: 0, 49: 0, 50: 0, 52: 0, 55: 0, 56: 0, 57: 0, 58: 0, 60: 0, 61: 0, 64: 0, 65: 0, 66: 0, 67: 0, 68: 0, 69: 0, 70: 0, 72: 0, 77: 0, 79: 0, 84: 0, 90: 0, 91: 0, 97: 0, 98: 0}\n",
            "193 {38: 3, 8: 3, 10: 3, 76: 3, 16: 3, 53: 3, 85: 3, 24: 3, 59: 3, 92: 3, 94: 3, 0: 1, 1: 1, 4: 1, 5: 1, 6: 1, 9: 1, 11: 1, 27: 1, 29: 1, 37: 1, 45: 1, 62: 1, 63: 1, 74: 1, 75: 1, 78: 1, 80: 1, 81: 1, 82: 1, 83: 1, 87: 1, 88: 1, 89: 1, 95: 1, 96: 1}\n",
            "194 {0: 1, 1: 1, 4: 1, 5: 1, 9: 1, 74: 1, 11: 1, 75: 1, 78: 1, 15: 1, 80: 1, 81: 1, 82: 1, 83: 1, 20: 1, 87: 1, 88: 1, 89: 1, 27: 1, 29: 1, 95: 1, 96: 1, 33: 1, 98: 1, 37: 1, 40: 1, 45: 1, 62: 1, 63: 1, 2: 0, 3: 0, 6: 0, 7: 0, 12: 0, 13: 0, 14: 0, 17: 0, 18: 0, 19: 0, 21: 0, 26: 0, 30: 0, 32: 0, 36: 0, 39: 0, 42: 0, 43: 0, 44: 0, 46: 0, 48: 0, 49: 0, 50: 0, 52: 0, 55: 0, 56: 0, 57: 0, 58: 0, 60: 0, 61: 0, 64: 0, 65: 0, 66: 0, 67: 0, 68: 0, 69: 0, 70: 0, 72: 0, 77: 0, 79: 0, 84: 0, 90: 0, 91: 0, 97: 0}\n",
            "195 {38: 3, 8: 3, 10: 3, 76: 3, 16: 3, 85: 3, 53: 3, 24: 3, 59: 3, 92: 3, 31: 3, 22: 2, 23: 2, 25: 2, 28: 2, 34: 2, 35: 2, 41: 2, 47: 2, 51: 2, 54: 2, 71: 2, 73: 2, 86: 2, 93: 2, 94: 2}\n",
            "196 {5: 1, 38: 1, 8: 1, 59: 1, 10: 1, 53: 1, 24: 1, 89: 1, 27: 1, 62: 1, 0: 3, 1: 3, 4: 3, 9: 3, 11: 3, 15: 3, 16: 3, 20: 3, 29: 3, 31: 3, 33: 3, 37: 3, 40: 3, 45: 3, 63: 3, 74: 3, 75: 3, 76: 3, 78: 3, 80: 3, 81: 3, 82: 3, 83: 3, 85: 3, 87: 3, 88: 3, 92: 3, 95: 3, 96: 3, 98: 3}\n",
            "197 {4: 1, 5: 1, 8: 1, 10: 1, 11: 1, 76: 1, 78: 1, 16: 1, 85: 1, 88: 1, 24: 1, 89: 1, 27: 1, 92: 1, 31: 1, 38: 1, 59: 1, 62: 1, 0: 3, 1: 3, 9: 3, 15: 3, 20: 3, 29: 3, 33: 3, 37: 3, 40: 3, 45: 3, 53: 3, 63: 3, 74: 3, 75: 3, 80: 3, 81: 3, 82: 3, 83: 3, 87: 3, 95: 3, 96: 3, 98: 3}\n",
            "198 {2: 0, 3: 0, 6: 0, 7: 0, 12: 0, 13: 0, 14: 0, 17: 0, 18: 0, 19: 0, 21: 0, 26: 0, 30: 0, 32: 0, 36: 0, 39: 0, 42: 0, 43: 0, 44: 0, 46: 0, 48: 0, 49: 0, 50: 0, 52: 0, 55: 0, 56: 0, 57: 0, 58: 0, 60: 0, 61: 0, 64: 0, 65: 0, 66: 0, 67: 0, 68: 0, 69: 0, 70: 0, 72: 0, 77: 0, 79: 0, 84: 0, 90: 0, 91: 0, 97: 0, 0: 3, 1: 3, 9: 3, 15: 3, 20: 3, 29: 3, 33: 3, 37: 3, 40: 3, 45: 3, 53: 3, 63: 3, 74: 3, 75: 3, 80: 3, 81: 3, 82: 3, 83: 3, 87: 3, 95: 3, 96: 3, 98: 3}\n",
            "199 {2: 2, 3: 2, 6: 2, 7: 2, 12: 2, 13: 2, 14: 2, 17: 2, 18: 2, 19: 2, 21: 2, 26: 2, 30: 2, 32: 2, 39: 2, 41: 2, 42: 2, 43: 2, 44: 2, 46: 2, 49: 2, 50: 2, 52: 2, 55: 2, 56: 2, 57: 2, 58: 2, 60: 2, 61: 2, 64: 2, 65: 2, 66: 2, 67: 2, 69: 2, 70: 2, 72: 2, 77: 2, 84: 2, 90: 2, 91: 2, 97: 2, 22: 0, 23: 0, 25: 0, 28: 0, 34: 0, 35: 0, 36: 0, 47: 0, 48: 0, 51: 0, 54: 0, 68: 0, 71: 0, 73: 0, 79: 0, 86: 0, 93: 0, 94: 0}\n",
            "200 {34: 2, 35: 2, 71: 2, 73: 2, 41: 2, 51: 2, 94: 2, 22: 2, 23: 2, 54: 2, 86: 2, 28: 2, 93: 2, 25: 2, 2: 0, 3: 0, 6: 0, 7: 0, 12: 0, 13: 0, 14: 0, 17: 0, 18: 0, 19: 0, 21: 0, 26: 0, 30: 0, 32: 0, 36: 0, 39: 0, 42: 0, 43: 0, 44: 0, 46: 0, 47: 0, 48: 0, 49: 0, 50: 0, 52: 0, 55: 0, 56: 0, 57: 0, 58: 0, 60: 0, 61: 0, 64: 0, 65: 0, 66: 0, 67: 0, 68: 0, 69: 0, 70: 0, 72: 0, 77: 0, 79: 0, 84: 0, 90: 0, 91: 0, 97: 0}\n",
            "201 {68: 0, 71: 0, 73: 0, 86: 0, 23: 0, 22: 0, 25: 0, 28: 0, 93: 0, 94: 0, 34: 0, 35: 0, 36: 0, 47: 0, 48: 0, 51: 0, 54: 0, 2: 2, 3: 2, 6: 2, 7: 2, 12: 2, 13: 2, 14: 2, 17: 2, 18: 2, 19: 2, 21: 2, 26: 2, 30: 2, 32: 2, 39: 2, 41: 2, 42: 2, 43: 2, 44: 2, 46: 2, 49: 2, 50: 2, 52: 2, 55: 2, 56: 2, 57: 2, 58: 2, 60: 2, 61: 2, 64: 2, 65: 2, 66: 2, 67: 2, 69: 2, 70: 2, 72: 2, 77: 2, 79: 2, 84: 2, 90: 2, 91: 2, 97: 2}\n",
            "202 {68: 0, 71: 0, 73: 0, 22: 0, 23: 0, 86: 0, 25: 0, 28: 0, 93: 0, 94: 0, 34: 0, 35: 0, 36: 0, 47: 0, 48: 0, 51: 0, 54: 0, 0: 3, 1: 3, 9: 3, 15: 3, 20: 3, 29: 3, 33: 3, 37: 3, 40: 3, 45: 3, 53: 3, 63: 3, 74: 3, 75: 3, 80: 3, 81: 3, 82: 3, 83: 3, 87: 3, 95: 3, 96: 3, 98: 3}\n",
            "203 {4: 3, 5: 3, 8: 3, 10: 3, 74: 3, 75: 3, 78: 3, 81: 3, 82: 3, 88: 3, 89: 3, 27: 3, 98: 3, 38: 3, 53: 3, 59: 3, 62: 3, 0: 1, 1: 1, 9: 1, 11: 1, 15: 1, 16: 1, 20: 1, 24: 1, 29: 1, 31: 1, 33: 1, 37: 1, 40: 1, 45: 1, 63: 1, 76: 1, 80: 1, 83: 1, 85: 1, 87: 1, 92: 1, 95: 1, 96: 1}\n",
            "204 {2: 1, 3: 1, 7: 1, 12: 1, 13: 1, 14: 1, 17: 1, 18: 1, 19: 1, 20: 1, 21: 1, 26: 1, 30: 1, 32: 1, 39: 1, 41: 1, 42: 1, 43: 1, 44: 1, 46: 1, 50: 1, 55: 1, 56: 1, 57: 1, 58: 1, 60: 1, 61: 1, 64: 1, 65: 1, 66: 1, 67: 1, 69: 1, 70: 1, 72: 1, 77: 1, 79: 1, 84: 1, 87: 1, 90: 1, 91: 1, 97: 1, 0: 2, 1: 2, 6: 2, 9: 2, 11: 2, 15: 2, 16: 2, 24: 2, 29: 2, 31: 2, 33: 2, 37: 2, 40: 2, 45: 2, 49: 2, 52: 2, 63: 2, 76: 2, 80: 2, 83: 2, 85: 2, 92: 2, 95: 2, 96: 2}\n",
            "205 {68: 2, 6: 2, 71: 2, 73: 2, 9: 2, 22: 2, 25: 2, 95: 2, 34: 2, 35: 2, 36: 2, 47: 2, 48: 2, 49: 2, 51: 2, 52: 2, 0: 0, 1: 0, 11: 0, 15: 0, 16: 0, 23: 0, 24: 0, 28: 0, 29: 0, 31: 0, 33: 0, 37: 0, 40: 0, 45: 0, 54: 0, 63: 0, 76: 0, 80: 0, 83: 0, 85: 0, 86: 0, 92: 0, 93: 0, 94: 0, 96: 0}\n",
            "206 {0: 0, 6: 0, 40: 0, 73: 0, 9: 0, 15: 0, 80: 0, 49: 0, 63: 0, 52: 0, 29: 0, 95: 0, 1: 2, 11: 2, 16: 2, 22: 2, 23: 2, 24: 2, 25: 2, 28: 2, 31: 2, 33: 2, 34: 2, 35: 2, 36: 2, 37: 2, 45: 2, 47: 2, 48: 2, 51: 2, 54: 2, 68: 2, 71: 2, 76: 2, 83: 2, 85: 2, 86: 2, 92: 2, 93: 2, 94: 2, 96: 2}\n",
            "207 {36: 0, 68: 0, 6: 0, 71: 0, 73: 0, 9: 0, 47: 0, 48: 0, 49: 0, 51: 0, 52: 0, 54: 0, 22: 0, 25: 0, 93: 0, 0: 2, 1: 2, 11: 2, 15: 2, 16: 2, 23: 2, 24: 2, 28: 2, 29: 2, 31: 2, 33: 2, 34: 2, 35: 2, 37: 2, 40: 2, 45: 2, 63: 2, 76: 2, 80: 2, 83: 2, 85: 2, 86: 2, 92: 2, 94: 2, 95: 2, 96: 2}\n",
            "208 {34: 0, 68: 0, 36: 0, 71: 0, 73: 0, 47: 0, 48: 0, 51: 0, 52: 0, 54: 0, 22: 0, 25: 0, 95: 0, 0: 2, 1: 2, 6: 2, 9: 2, 11: 2, 15: 2, 16: 2, 23: 2, 24: 2, 28: 2, 29: 2, 31: 2, 33: 2, 35: 2, 37: 2, 40: 2, 45: 2, 49: 2, 63: 2, 76: 2, 80: 2, 83: 2, 85: 2, 86: 2, 92: 2, 93: 2, 94: 2, 96: 2}\n",
            "209 {34: 2, 36: 2, 68: 2, 6: 2, 71: 2, 73: 2, 47: 2, 48: 2, 49: 2, 52: 2, 54: 2, 22: 2, 25: 2, 95: 2, 0: 0, 1: 0, 9: 0, 11: 0, 15: 0, 16: 0, 23: 0, 24: 0, 28: 0, 29: 0, 31: 0, 33: 0, 35: 0, 37: 0, 40: 0, 45: 0, 51: 0, 63: 0, 76: 0, 80: 0, 83: 0, 85: 0, 86: 0, 92: 0, 93: 0, 94: 0, 96: 0}\n",
            "210 {2: 0, 3: 0, 7: 0, 12: 0, 13: 0, 14: 0, 17: 0, 19: 0, 20: 0, 21: 0, 26: 0, 30: 0, 32: 0, 39: 0, 41: 0, 42: 0, 43: 0, 44: 0, 46: 0, 50: 0, 55: 0, 56: 0, 57: 0, 58: 0, 60: 0, 61: 0, 64: 0, 65: 0, 66: 0, 67: 0, 69: 0, 70: 0, 72: 0, 77: 0, 79: 0, 84: 0, 87: 0, 90: 0, 91: 0, 97: 0, 0: 1, 1: 1, 9: 1, 11: 1, 15: 1, 16: 1, 18: 1, 23: 1, 24: 1, 28: 1, 29: 1, 31: 1, 33: 1, 35: 1, 37: 1, 40: 1, 45: 1, 51: 1, 63: 1, 76: 1, 80: 1, 83: 1, 85: 1, 86: 1, 92: 1, 93: 1, 94: 1, 96: 1}\n",
            "211 {34: 0, 68: 0, 6: 0, 71: 0, 73: 0, 47: 0, 49: 0, 52: 0, 54: 0, 22: 0, 25: 0, 95: 0, 2: 2, 3: 2, 7: 2, 12: 2, 13: 2, 14: 2, 17: 2, 19: 2, 20: 2, 21: 2, 26: 2, 30: 2, 32: 2, 36: 2, 39: 2, 41: 2, 42: 2, 43: 2, 44: 2, 46: 2, 48: 2, 50: 2, 55: 2, 56: 2, 57: 2, 58: 2, 60: 2, 61: 2, 64: 2, 65: 2, 66: 2, 67: 2, 69: 2, 70: 2, 72: 2, 77: 2, 79: 2, 84: 2, 87: 2, 90: 2, 91: 2, 97: 2}\n",
            "212 {0: 1, 6: 1, 73: 1, 9: 1, 49: 1, 18: 1, 52: 1, 22: 1, 54: 1, 95: 1, 1: 0, 11: 0, 15: 0, 16: 0, 23: 0, 24: 0, 25: 0, 28: 0, 29: 0, 31: 0, 33: 0, 34: 0, 35: 0, 37: 0, 40: 0, 45: 0, 47: 0, 51: 0, 63: 0, 68: 0, 71: 0, 76: 0, 80: 0, 83: 0, 85: 0, 86: 0, 92: 0, 93: 0, 94: 0, 96: 0}\n",
            "213 {1: 0, 7: 0, 11: 0, 16: 0, 23: 0, 24: 0, 25: 0, 28: 0, 29: 0, 31: 0, 34: 0, 35: 0, 36: 0, 37: 0, 43: 0, 44: 0, 45: 0, 47: 0, 48: 0, 51: 0, 55: 0, 63: 0, 68: 0, 71: 0, 76: 0, 79: 0, 83: 0, 85: 0, 86: 0, 92: 0, 93: 0, 94: 0, 96: 0, 2: 2, 3: 2, 12: 2, 13: 2, 14: 2, 15: 2, 17: 2, 19: 2, 20: 2, 21: 2, 26: 2, 30: 2, 32: 2, 33: 2, 39: 2, 40: 2, 41: 2, 42: 2, 46: 2, 50: 2, 56: 2, 57: 2, 58: 2, 60: 2, 61: 2, 64: 2, 65: 2, 66: 2, 67: 2, 69: 2, 70: 2, 72: 2, 77: 2, 80: 2, 84: 2, 87: 2, 90: 2, 91: 2, 97: 2}\n",
            "214 {4: 2, 5: 2, 38: 2, 8: 2, 27: 2, 74: 2, 75: 2, 10: 2, 81: 2, 82: 2, 53: 2, 89: 2, 59: 2, 62: 2, 2: 3, 3: 3, 12: 3, 13: 3, 14: 3, 15: 3, 17: 3, 19: 3, 20: 3, 21: 3, 26: 3, 30: 3, 32: 3, 33: 3, 39: 3, 40: 3, 41: 3, 42: 3, 46: 3, 50: 3, 56: 3, 57: 3, 58: 3, 60: 3, 61: 3, 64: 3, 65: 3, 66: 3, 67: 3, 69: 3, 70: 3, 72: 3, 77: 3, 78: 3, 80: 3, 84: 3, 87: 3, 88: 3, 90: 3, 91: 3, 97: 3, 98: 3}\n",
            "215 {0: 1, 1: 1, 6: 1, 9: 1, 11: 1, 76: 1, 16: 1, 18: 1, 83: 1, 85: 1, 23: 1, 24: 1, 25: 1, 28: 1, 92: 1, 29: 1, 94: 1, 31: 1, 96: 1, 34: 1, 35: 1, 95: 1, 37: 1, 45: 1, 63: 1, 7: 0, 22: 0, 36: 0, 43: 0, 44: 0, 47: 0, 48: 0, 49: 0, 51: 0, 52: 0, 54: 0, 55: 0, 68: 0, 71: 0, 73: 0, 79: 0, 86: 0, 93: 0}\n",
            "216 {0: 1, 68: 1, 71: 1, 7: 1, 73: 1, 79: 1, 22: 1, 95: 1, 36: 1, 43: 1, 44: 1, 47: 1, 48: 1, 52: 1, 54: 1, 55: 1, 1: 0, 6: 0, 9: 0, 11: 0, 16: 0, 18: 0, 23: 0, 24: 0, 25: 0, 28: 0, 29: 0, 31: 0, 34: 0, 35: 0, 37: 0, 45: 0, 49: 0, 51: 0, 63: 0, 76: 0, 83: 0, 85: 0, 86: 0, 92: 0, 93: 0, 94: 0, 96: 0}\n",
            "217 {1: 3, 6: 3, 9: 3, 11: 3, 76: 3, 80: 3, 16: 3, 18: 3, 83: 3, 85: 3, 86: 3, 87: 3, 23: 3, 24: 3, 25: 3, 92: 3, 29: 3, 28: 3, 93: 3, 94: 3, 33: 3, 96: 3, 31: 3, 34: 3, 35: 3, 37: 3, 45: 3, 51: 3, 63: 3, 2: 0, 3: 0, 12: 0, 13: 0, 14: 0, 15: 0, 17: 0, 19: 0, 20: 0, 21: 0, 26: 0, 30: 0, 32: 0, 39: 0, 40: 0, 41: 0, 42: 0, 46: 0, 49: 0, 50: 0, 56: 0, 57: 0, 58: 0, 60: 0, 61: 0, 64: 0, 65: 0, 66: 0, 67: 0, 69: 0, 70: 0, 72: 0, 77: 0, 78: 0, 84: 0, 88: 0, 90: 0, 91: 0, 97: 0, 98: 0}\n",
            "218 {0: 1, 73: 1, 41: 1, 49: 1, 50: 1, 52: 1, 54: 1, 90: 1, 91: 1, 30: 1, 95: 1, 2: 0, 3: 0, 7: 0, 12: 0, 13: 0, 14: 0, 15: 0, 17: 0, 19: 0, 20: 0, 21: 0, 22: 0, 26: 0, 32: 0, 36: 0, 39: 0, 40: 0, 42: 0, 43: 0, 44: 0, 46: 0, 47: 0, 48: 0, 55: 0, 56: 0, 57: 0, 58: 0, 60: 0, 61: 0, 64: 0, 65: 0, 66: 0, 67: 0, 68: 0, 69: 0, 70: 0, 71: 0, 72: 0, 77: 0, 78: 0, 79: 0, 84: 0, 88: 0, 97: 0, 98: 0}\n",
            "219 {0: 1, 65: 1, 66: 1, 68: 1, 71: 1, 7: 1, 73: 1, 79: 1, 22: 1, 95: 1, 36: 1, 44: 1, 47: 1, 48: 1, 54: 1, 55: 1, 2: 0, 3: 0, 12: 0, 13: 0, 14: 0, 15: 0, 17: 0, 19: 0, 20: 0, 21: 0, 26: 0, 30: 0, 32: 0, 39: 0, 40: 0, 41: 0, 42: 0, 43: 0, 46: 0, 49: 0, 50: 0, 52: 0, 56: 0, 57: 0, 58: 0, 60: 0, 61: 0, 64: 0, 67: 0, 69: 0, 70: 0, 72: 0, 77: 0, 78: 0, 84: 0, 88: 0, 90: 0, 91: 0, 97: 0, 98: 0}\n",
            "220 {2: 0, 3: 0, 6: 0, 9: 0, 12: 0, 13: 0, 14: 0, 17: 0, 18: 0, 19: 0, 21: 0, 26: 0, 30: 0, 32: 0, 39: 0, 41: 0, 42: 0, 43: 0, 46: 0, 49: 0, 50: 0, 52: 0, 56: 0, 57: 0, 58: 0, 60: 0, 61: 0, 64: 0, 67: 0, 69: 0, 70: 0, 72: 0, 77: 0, 84: 0, 90: 0, 91: 0, 97: 0, 1: 3, 11: 3, 15: 3, 16: 3, 20: 3, 23: 3, 24: 3, 25: 3, 28: 3, 29: 3, 31: 3, 33: 3, 34: 3, 35: 3, 37: 3, 40: 3, 45: 3, 51: 3, 63: 3, 76: 3, 78: 3, 80: 3, 83: 3, 85: 3, 86: 3, 87: 3, 88: 3, 92: 3, 93: 3, 94: 3, 96: 3, 98: 3}\n",
            "221 {0: 0, 36: 0, 68: 0, 6: 0, 71: 0, 73: 0, 47: 0, 48: 0, 79: 0, 52: 0, 54: 0, 22: 0, 95: 0, 2: 1, 3: 1, 7: 1, 9: 1, 12: 1, 13: 1, 14: 1, 17: 1, 18: 1, 19: 1, 21: 1, 26: 1, 30: 1, 32: 1, 39: 1, 41: 1, 42: 1, 43: 1, 44: 1, 46: 1, 49: 1, 50: 1, 55: 1, 56: 1, 57: 1, 58: 1, 60: 1, 61: 1, 64: 1, 65: 1, 66: 1, 67: 1, 69: 1, 70: 1, 72: 1, 77: 1, 84: 1, 90: 1, 91: 1, 97: 1}\n",
            "222 {4: 3, 5: 3, 38: 3, 59: 3, 10: 3, 53: 3, 24: 3, 89: 3, 27: 3, 62: 3, 1: 2, 8: 2, 11: 2, 15: 2, 16: 2, 20: 2, 23: 2, 25: 2, 28: 2, 29: 2, 31: 2, 33: 2, 34: 2, 35: 2, 37: 2, 40: 2, 45: 2, 51: 2, 63: 2, 74: 2, 75: 2, 76: 2, 78: 2, 80: 2, 81: 2, 82: 2, 83: 2, 85: 2, 86: 2, 87: 2, 88: 2, 92: 2, 93: 2, 94: 2, 96: 2, 98: 2}\n",
            "223 {4: 3, 5: 3, 38: 3, 27: 3, 10: 3, 78: 3, 53: 3, 24: 3, 89: 3, 59: 3, 62: 3, 1: 2, 8: 2, 11: 2, 15: 2, 16: 2, 20: 2, 23: 2, 25: 2, 28: 2, 29: 2, 31: 2, 33: 2, 34: 2, 35: 2, 37: 2, 40: 2, 45: 2, 51: 2, 63: 2, 74: 2, 75: 2, 76: 2, 80: 2, 81: 2, 82: 2, 83: 2, 85: 2, 86: 2, 87: 2, 88: 2, 92: 2, 93: 2, 94: 2, 96: 2, 98: 2}\n",
            "224 {0: 0, 36: 0, 6: 0, 71: 0, 73: 0, 47: 0, 48: 0, 79: 0, 52: 0, 54: 0, 63: 0, 95: 0, 1: 2, 8: 2, 11: 2, 15: 2, 16: 2, 20: 2, 22: 2, 23: 2, 25: 2, 28: 2, 29: 2, 31: 2, 33: 2, 34: 2, 35: 2, 37: 2, 40: 2, 45: 2, 51: 2, 68: 2, 74: 2, 75: 2, 76: 2, 80: 2, 81: 2, 82: 2, 83: 2, 85: 2, 86: 2, 87: 2, 88: 2, 92: 2, 93: 2, 94: 2, 96: 2, 98: 2}\n",
            "225 {34: 2, 36: 2, 68: 2, 6: 2, 71: 2, 73: 2, 47: 2, 48: 2, 79: 2, 51: 2, 52: 2, 22: 2, 25: 2, 63: 2, 95: 2, 0: 0, 1: 0, 8: 0, 11: 0, 15: 0, 16: 0, 20: 0, 23: 0, 28: 0, 29: 0, 31: 0, 33: 0, 35: 0, 37: 0, 40: 0, 45: 0, 54: 0, 74: 0, 75: 0, 76: 0, 80: 0, 81: 0, 82: 0, 83: 0, 85: 0, 86: 0, 87: 0, 88: 0, 92: 0, 93: 0, 94: 0, 96: 0, 98: 0}\n",
            "226 {2: 1, 3: 1, 7: 1, 12: 1, 13: 1, 14: 1, 17: 1, 19: 1, 20: 1, 21: 1, 26: 1, 30: 1, 32: 1, 39: 1, 41: 1, 42: 1, 43: 1, 44: 1, 46: 1, 49: 1, 50: 1, 55: 1, 56: 1, 57: 1, 58: 1, 60: 1, 61: 1, 64: 1, 65: 1, 66: 1, 67: 1, 69: 1, 70: 1, 72: 1, 77: 1, 84: 1, 90: 1, 91: 1, 97: 1, 0: 0, 1: 0, 8: 0, 9: 0, 11: 0, 15: 0, 16: 0, 18: 0, 23: 0, 28: 0, 29: 0, 31: 0, 33: 0, 35: 0, 37: 0, 40: 0, 45: 0, 54: 0, 74: 0, 75: 0, 76: 0, 80: 0, 81: 0, 82: 0, 83: 0, 85: 0, 86: 0, 87: 0, 88: 0, 92: 0, 93: 0, 94: 0, 96: 0, 98: 0}\n",
            "227 {35: 0, 4: 0, 5: 0, 38: 0, 8: 0, 59: 0, 10: 0, 76: 0, 28: 0, 53: 0, 85: 0, 94: 0, 89: 0, 27: 0, 92: 0, 62: 0, 0: 3, 1: 3, 9: 3, 11: 3, 15: 3, 16: 3, 18: 3, 23: 3, 24: 3, 29: 3, 31: 3, 33: 3, 37: 3, 40: 3, 45: 3, 54: 3, 74: 3, 75: 3, 78: 3, 80: 3, 81: 3, 82: 3, 83: 3, 86: 3, 87: 3, 88: 3, 93: 3, 96: 3, 98: 3}\n",
            "228 {0: 1, 1: 1, 74: 1, 75: 1, 11: 1, 78: 1, 15: 1, 80: 1, 16: 1, 81: 1, 82: 1, 83: 1, 86: 1, 23: 1, 88: 1, 24: 1, 29: 1, 93: 1, 31: 1, 96: 1, 33: 1, 98: 1, 37: 1, 40: 1, 45: 1, 54: 1, 2: 3, 3: 3, 7: 3, 9: 3, 12: 3, 13: 3, 14: 3, 17: 3, 18: 3, 19: 3, 20: 3, 21: 3, 26: 3, 30: 3, 32: 3, 39: 3, 41: 3, 42: 3, 43: 3, 44: 3, 46: 3, 49: 3, 50: 3, 55: 3, 56: 3, 57: 3, 58: 3, 60: 3, 61: 3, 64: 3, 65: 3, 66: 3, 67: 3, 69: 3, 70: 3, 72: 3, 77: 3, 84: 3, 87: 3, 90: 3, 91: 3, 97: 3}\n",
            "229 {0: 1, 1: 1, 74: 1, 11: 1, 75: 1, 78: 1, 15: 1, 16: 1, 80: 1, 81: 1, 82: 1, 83: 1, 86: 1, 23: 1, 24: 1, 88: 1, 93: 1, 29: 1, 31: 1, 96: 1, 33: 1, 98: 1, 37: 1, 40: 1, 45: 1, 51: 1, 6: 2, 22: 2, 25: 2, 34: 2, 36: 2, 47: 2, 48: 2, 52: 2, 54: 2, 63: 2, 68: 2, 71: 2, 73: 2, 79: 2, 95: 2}\n",
            "230 {68: 2, 6: 2, 71: 2, 73: 2, 79: 2, 16: 2, 22: 2, 23: 2, 86: 2, 25: 2, 93: 2, 31: 2, 34: 2, 36: 2, 47: 2, 48: 2, 52: 2, 0: 1, 1: 1, 11: 1, 15: 1, 24: 1, 29: 1, 33: 1, 37: 1, 40: 1, 45: 1, 51: 1, 54: 1, 63: 1, 74: 1, 75: 1, 78: 1, 80: 1, 81: 1, 82: 1, 83: 1, 88: 1, 95: 1, 96: 1, 98: 1}\n",
            "231 {0: 1, 1: 1, 74: 1, 75: 1, 11: 1, 78: 1, 15: 1, 80: 1, 81: 1, 82: 1, 83: 1, 20: 1, 88: 1, 24: 1, 95: 1, 96: 1, 33: 1, 98: 1, 37: 1, 40: 1, 45: 1, 51: 1, 54: 1, 63: 1, 2: 3, 3: 3, 7: 3, 9: 3, 12: 3, 13: 3, 14: 3, 17: 3, 18: 3, 19: 3, 21: 3, 26: 3, 29: 3, 30: 3, 32: 3, 39: 3, 41: 3, 42: 3, 43: 3, 44: 3, 46: 3, 49: 3, 50: 3, 55: 3, 56: 3, 57: 3, 58: 3, 60: 3, 61: 3, 64: 3, 65: 3, 66: 3, 67: 3, 69: 3, 70: 3, 72: 3, 77: 3, 84: 3, 87: 3, 90: 3, 91: 3, 97: 3}\n",
            "232 {2: 2, 3: 2, 6: 2, 9: 2, 12: 2, 13: 2, 14: 2, 17: 2, 18: 2, 19: 2, 21: 2, 26: 2, 29: 2, 30: 2, 32: 2, 39: 2, 41: 2, 42: 2, 49: 2, 50: 2, 52: 2, 56: 2, 57: 2, 60: 2, 61: 2, 64: 2, 69: 2, 70: 2, 72: 2, 77: 2, 84: 2, 87: 2, 90: 2, 91: 2, 97: 2, 7: 3, 16: 3, 22: 3, 23: 3, 25: 3, 31: 3, 34: 3, 36: 3, 43: 3, 44: 3, 46: 3, 47: 3, 48: 3, 55: 3, 58: 3, 65: 3, 66: 3, 67: 3, 68: 3, 71: 3, 73: 3, 79: 3, 86: 3, 93: 3}\n",
            "233 {68: 3, 6: 3, 71: 3, 73: 3, 16: 3, 22: 3, 23: 3, 86: 3, 25: 3, 93: 3, 31: 3, 34: 3, 36: 3, 47: 3, 48: 3, 49: 3, 52: 3, 2: 2, 3: 2, 7: 2, 9: 2, 12: 2, 13: 2, 14: 2, 17: 2, 18: 2, 19: 2, 21: 2, 26: 2, 29: 2, 30: 2, 32: 2, 39: 2, 41: 2, 42: 2, 43: 2, 44: 2, 46: 2, 50: 2, 55: 2, 56: 2, 57: 2, 58: 2, 60: 2, 61: 2, 64: 2, 65: 2, 66: 2, 67: 2, 69: 2, 70: 2, 72: 2, 77: 2, 79: 2, 84: 2, 87: 2, 90: 2, 91: 2, 97: 2}\n",
            "234 {4: 3, 5: 3, 38: 3, 8: 3, 27: 3, 10: 3, 76: 3, 53: 3, 62: 3, 89: 3, 59: 3, 92: 3, 94: 3, 6: 0, 16: 0, 22: 0, 23: 0, 25: 0, 28: 0, 31: 0, 34: 0, 35: 0, 36: 0, 47: 0, 48: 0, 49: 0, 52: 0, 68: 0, 71: 0, 73: 0, 85: 0, 86: 0, 93: 0}\n",
            "235 {0: 1, 1: 1, 4: 1, 74: 1, 75: 1, 78: 1, 15: 1, 80: 1, 81: 1, 82: 1, 83: 1, 20: 1, 88: 1, 27: 1, 95: 1, 96: 1, 33: 1, 98: 1, 37: 1, 40: 1, 45: 1, 51: 1, 54: 1, 62: 1, 63: 1, 5: 3, 8: 3, 10: 3, 11: 3, 24: 3, 38: 3, 53: 3, 59: 3, 76: 3, 89: 3, 92: 3, 94: 3}\n",
            "236 {68: 0, 71: 0, 73: 0, 16: 0, 85: 0, 22: 0, 23: 0, 86: 0, 25: 0, 28: 0, 93: 0, 31: 0, 34: 0, 35: 0, 36: 0, 47: 0, 48: 0, 51: 0, 54: 0, 0: 1, 1: 1, 4: 1, 6: 1, 15: 1, 20: 1, 27: 1, 33: 1, 37: 1, 40: 1, 45: 1, 49: 1, 52: 1, 62: 1, 63: 1, 74: 1, 75: 1, 78: 1, 80: 1, 81: 1, 82: 1, 83: 1, 88: 1, 95: 1, 96: 1, 98: 1}\n",
            "237 {68: 0, 71: 0, 73: 0, 11: 0, 85: 0, 86: 0, 23: 0, 22: 0, 25: 0, 28: 0, 93: 0, 94: 0, 31: 0, 34: 0, 35: 0, 36: 0, 47: 0, 48: 0, 51: 0, 54: 0, 5: 3, 8: 3, 10: 3, 16: 3, 24: 3, 38: 3, 53: 3, 59: 3, 76: 3, 89: 3, 92: 3}\n",
            "238 {2: 2, 3: 2, 6: 2, 7: 2, 12: 2, 13: 2, 14: 2, 17: 2, 18: 2, 19: 2, 21: 2, 26: 2, 30: 2, 32: 2, 39: 2, 41: 2, 42: 2, 43: 2, 44: 2, 46: 2, 49: 2, 50: 2, 55: 2, 56: 2, 57: 2, 58: 2, 60: 2, 61: 2, 64: 2, 65: 2, 66: 2, 67: 2, 69: 2, 70: 2, 72: 2, 77: 2, 79: 2, 84: 2, 90: 2, 91: 2, 97: 2, 0: 1, 1: 1, 4: 1, 9: 1, 15: 1, 20: 1, 27: 1, 29: 1, 33: 1, 37: 1, 40: 1, 45: 1, 52: 1, 62: 1, 63: 1, 74: 1, 75: 1, 78: 1, 80: 1, 81: 1, 82: 1, 83: 1, 87: 1, 88: 1, 95: 1, 96: 1, 98: 1}\n",
            "239 {5: 0, 38: 0, 8: 0, 10: 0, 76: 0, 53: 0, 24: 0, 89: 0, 59: 0, 92: 0, 94: 0, 11: 3, 16: 3, 22: 3, 23: 3, 25: 3, 28: 3, 31: 3, 34: 3, 35: 3, 36: 3, 47: 3, 48: 3, 51: 3, 54: 3, 68: 3, 71: 3, 73: 3, 85: 3, 86: 3, 93: 3}\n",
            "240 {1: 0, 5: 0, 38: 0, 8: 0, 10: 0, 76: 0, 53: 0, 24: 0, 59: 0, 92: 0, 94: 0, 0: 1, 4: 1, 9: 1, 15: 1, 20: 1, 27: 1, 29: 1, 33: 1, 37: 1, 40: 1, 45: 1, 52: 1, 62: 1, 63: 1, 74: 1, 75: 1, 78: 1, 80: 1, 81: 1, 82: 1, 83: 1, 87: 1, 88: 1, 89: 1, 95: 1, 96: 1, 98: 1}\n",
            "241 {0: 2, 4: 2, 6: 2, 9: 2, 74: 2, 75: 2, 78: 2, 80: 2, 81: 2, 18: 2, 82: 2, 83: 2, 87: 2, 88: 2, 89: 2, 27: 2, 29: 2, 95: 2, 96: 2, 33: 2, 98: 2, 37: 2, 40: 2, 45: 2, 49: 2, 62: 2, 63: 2, 2: 1, 3: 1, 7: 1, 12: 1, 13: 1, 14: 1, 15: 1, 17: 1, 19: 1, 20: 1, 21: 1, 26: 1, 30: 1, 32: 1, 39: 1, 41: 1, 42: 1, 43: 1, 44: 1, 46: 1, 50: 1, 52: 1, 55: 1, 56: 1, 57: 1, 58: 1, 60: 1, 61: 1, 64: 1, 65: 1, 66: 1, 67: 1, 69: 1, 70: 1, 72: 1, 77: 1, 79: 1, 84: 1, 90: 1, 91: 1, 97: 1}\n",
            "242 {0: 1, 4: 1, 6: 1, 9: 1, 74: 1, 75: 1, 78: 1, 15: 1, 80: 1, 81: 1, 18: 1, 82: 1, 83: 1, 20: 1, 87: 1, 88: 1, 89: 1, 27: 1, 29: 1, 95: 1, 96: 1, 33: 1, 98: 1, 37: 1, 40: 1, 45: 1, 62: 1, 63: 1, 2: 2, 3: 2, 7: 2, 12: 2, 13: 2, 14: 2, 17: 2, 19: 2, 21: 2, 26: 2, 30: 2, 32: 2, 39: 2, 41: 2, 42: 2, 43: 2, 44: 2, 46: 2, 49: 2, 50: 2, 52: 2, 55: 2, 56: 2, 57: 2, 58: 2, 60: 2, 61: 2, 64: 2, 65: 2, 66: 2, 67: 2, 69: 2, 70: 2, 72: 2, 77: 2, 79: 2, 84: 2, 90: 2, 91: 2, 97: 2}\n",
            "243 {68: 1, 71: 1, 73: 1, 11: 1, 16: 1, 85: 1, 22: 1, 86: 1, 23: 1, 25: 1, 28: 1, 93: 1, 31: 1, 34: 1, 35: 1, 36: 1, 47: 1, 48: 1, 51: 1, 54: 1, 0: 3, 4: 3, 6: 3, 9: 3, 15: 3, 18: 3, 20: 3, 27: 3, 29: 3, 33: 3, 37: 3, 40: 3, 45: 3, 62: 3, 63: 3, 74: 3, 75: 3, 78: 3, 80: 3, 81: 3, 82: 3, 83: 3, 87: 3, 88: 3, 89: 3, 95: 3, 96: 3, 98: 3}\n",
            "244 {1: 1, 5: 1, 38: 1, 8: 1, 10: 1, 76: 1, 53: 1, 85: 1, 24: 1, 59: 1, 92: 1, 94: 1, 11: 0, 16: 0, 22: 0, 23: 0, 25: 0, 28: 0, 31: 0, 34: 0, 35: 0, 36: 0, 47: 0, 48: 0, 51: 0, 54: 0, 68: 0, 71: 0, 73: 0, 86: 0, 93: 0}\n",
            "245 {0: 2, 2: 2, 4: 2, 9: 2, 12: 2, 14: 2, 15: 2, 20: 2, 27: 2, 29: 2, 32: 2, 33: 2, 37: 2, 40: 2, 42: 2, 45: 2, 62: 2, 63: 2, 72: 2, 74: 2, 75: 2, 78: 2, 80: 2, 81: 2, 82: 2, 83: 2, 87: 2, 88: 2, 89: 2, 90: 2, 96: 2, 98: 2, 3: 3, 6: 3, 7: 3, 13: 3, 17: 3, 18: 3, 19: 3, 21: 3, 26: 3, 30: 3, 39: 3, 41: 3, 43: 3, 44: 3, 46: 3, 49: 3, 50: 3, 52: 3, 55: 3, 56: 3, 57: 3, 58: 3, 60: 3, 61: 3, 64: 3, 65: 3, 66: 3, 67: 3, 69: 3, 70: 3, 77: 3, 79: 3, 84: 3, 91: 3, 95: 3, 97: 3}\n",
            "246 {2: 2, 3: 2, 7: 2, 12: 2, 13: 2, 14: 2, 17: 2, 19: 2, 21: 2, 26: 2, 30: 2, 32: 2, 39: 2, 41: 2, 42: 2, 43: 2, 44: 2, 46: 2, 49: 2, 50: 2, 52: 2, 55: 2, 56: 2, 57: 2, 58: 2, 60: 2, 61: 2, 64: 2, 65: 2, 66: 2, 67: 2, 69: 2, 70: 2, 72: 2, 77: 2, 79: 2, 84: 2, 90: 2, 91: 2, 97: 2, 0: 3, 4: 3, 6: 3, 9: 3, 15: 3, 18: 3, 20: 3, 27: 3, 29: 3, 33: 3, 37: 3, 40: 3, 45: 3, 62: 3, 63: 3, 74: 3, 75: 3, 78: 3, 80: 3, 81: 3, 82: 3, 83: 3, 87: 3, 88: 3, 89: 3, 95: 3, 96: 3, 98: 3}\n",
            "247 {0: 1, 4: 1, 5: 1, 6: 1, 9: 1, 74: 1, 75: 1, 78: 1, 15: 1, 80: 1, 81: 1, 82: 1, 18: 1, 83: 1, 20: 1, 87: 1, 88: 1, 27: 1, 29: 1, 95: 1, 96: 1, 33: 1, 98: 1, 37: 1, 40: 1, 45: 1, 62: 1, 63: 1, 1: 3, 8: 3, 10: 3, 24: 3, 38: 3, 53: 3, 59: 3, 76: 3, 85: 3, 89: 3, 92: 3, 94: 3}\n",
            "248 {38: 3, 8: 3, 10: 3, 76: 3, 53: 3, 85: 3, 24: 3, 89: 3, 59: 3, 92: 3, 94: 3, 0: 1, 1: 1, 4: 1, 5: 1, 6: 1, 9: 1, 15: 1, 18: 1, 20: 1, 27: 1, 29: 1, 33: 1, 37: 1, 40: 1, 45: 1, 62: 1, 63: 1, 74: 1, 75: 1, 78: 1, 80: 1, 81: 1, 82: 1, 83: 1, 87: 1, 88: 1, 95: 1, 96: 1, 98: 1}\n",
            "249 {5: 1, 38: 1, 8: 1, 10: 1, 76: 1, 53: 1, 85: 1, 24: 1, 59: 1, 92: 1, 94: 1, 0: 3, 1: 3, 4: 3, 6: 3, 9: 3, 15: 3, 18: 3, 20: 3, 27: 3, 29: 3, 33: 3, 37: 3, 40: 3, 45: 3, 62: 3, 63: 3, 74: 3, 75: 3, 78: 3, 80: 3, 81: 3, 82: 3, 83: 3, 87: 3, 88: 3, 89: 3, 95: 3, 96: 3, 98: 3}\n",
            "250 {73: 2, 11: 2, 16: 2, 22: 2, 23: 2, 86: 2, 25: 2, 28: 2, 93: 2, 31: 2, 34: 2, 35: 2, 41: 2, 51: 2, 52: 2, 54: 2, 2: 0, 3: 0, 7: 0, 12: 0, 13: 0, 14: 0, 17: 0, 19: 0, 21: 0, 26: 0, 30: 0, 32: 0, 36: 0, 39: 0, 42: 0, 43: 0, 44: 0, 46: 0, 47: 0, 48: 0, 49: 0, 50: 0, 55: 0, 56: 0, 57: 0, 58: 0, 60: 0, 61: 0, 64: 0, 65: 0, 66: 0, 67: 0, 68: 0, 69: 0, 70: 0, 71: 0, 72: 0, 77: 0, 79: 0, 84: 0, 90: 0, 91: 0, 97: 0}\n",
            "251 {38: 1, 8: 1, 10: 1, 76: 1, 53: 1, 85: 1, 24: 1, 59: 1, 92: 1, 94: 1, 0: 3, 1: 3, 4: 3, 5: 3, 6: 3, 9: 3, 15: 3, 18: 3, 20: 3, 27: 3, 29: 3, 33: 3, 37: 3, 40: 3, 45: 3, 62: 3, 63: 3, 74: 3, 75: 3, 78: 3, 80: 3, 81: 3, 82: 3, 83: 3, 87: 3, 88: 3, 89: 3, 95: 3, 96: 3, 98: 3}\n",
            "252 {4: 1, 5: 1, 8: 1, 10: 1, 76: 1, 78: 1, 81: 1, 85: 1, 88: 1, 24: 1, 89: 1, 27: 1, 92: 1, 94: 1, 38: 1, 59: 1, 62: 1, 0: 3, 1: 3, 6: 3, 9: 3, 15: 3, 18: 3, 20: 3, 29: 3, 33: 3, 37: 3, 40: 3, 45: 3, 53: 3, 63: 3, 74: 3, 75: 3, 80: 3, 82: 3, 83: 3, 87: 3, 95: 3, 96: 3, 98: 3}\n",
            "253 {38: 3, 8: 3, 10: 3, 76: 3, 53: 3, 85: 3, 24: 3, 89: 3, 59: 3, 92: 3, 94: 3, 0: 1, 1: 1, 4: 1, 5: 1, 6: 1, 9: 1, 15: 1, 18: 1, 20: 1, 27: 1, 29: 1, 33: 1, 37: 1, 40: 1, 45: 1, 62: 1, 63: 1, 74: 1, 75: 1, 78: 1, 80: 1, 81: 1, 82: 1, 83: 1, 87: 1, 88: 1, 95: 1, 96: 1, 98: 1}\n",
            "254 {66: 2, 68: 2, 7: 2, 71: 2, 73: 2, 11: 2, 16: 2, 86: 2, 22: 2, 23: 2, 25: 2, 28: 2, 93: 2, 31: 2, 34: 2, 35: 2, 44: 2, 47: 2, 48: 2, 51: 2, 54: 2, 2: 0, 3: 0, 12: 0, 13: 0, 14: 0, 17: 0, 19: 0, 21: 0, 26: 0, 30: 0, 32: 0, 36: 0, 39: 0, 41: 0, 42: 0, 43: 0, 46: 0, 49: 0, 50: 0, 52: 0, 55: 0, 56: 0, 57: 0, 58: 0, 60: 0, 61: 0, 64: 0, 65: 0, 67: 0, 69: 0, 70: 0, 72: 0, 77: 0, 79: 0, 84: 0, 90: 0, 91: 0, 97: 0}\n",
            "255 {68: 2, 71: 2, 73: 2, 11: 2, 79: 2, 16: 2, 86: 2, 23: 2, 22: 2, 25: 2, 28: 2, 93: 2, 31: 2, 34: 2, 35: 2, 36: 2, 47: 2, 48: 2, 51: 2, 54: 2, 2: 0, 3: 0, 7: 0, 12: 0, 13: 0, 14: 0, 17: 0, 19: 0, 21: 0, 26: 0, 30: 0, 32: 0, 39: 0, 41: 0, 42: 0, 43: 0, 44: 0, 46: 0, 49: 0, 50: 0, 52: 0, 55: 0, 56: 0, 57: 0, 58: 0, 60: 0, 61: 0, 64: 0, 65: 0, 66: 0, 67: 0, 69: 0, 70: 0, 72: 0, 77: 0, 84: 0, 90: 0, 91: 0, 97: 0}\n",
            "256 {68: 0, 71: 0, 73: 0, 11: 0, 79: 0, 16: 0, 22: 0, 23: 0, 86: 0, 25: 0, 28: 0, 93: 0, 31: 0, 34: 0, 35: 0, 36: 0, 47: 0, 51: 0, 54: 0, 2: 2, 3: 2, 7: 2, 12: 2, 13: 2, 14: 2, 17: 2, 19: 2, 21: 2, 26: 2, 30: 2, 32: 2, 39: 2, 41: 2, 42: 2, 43: 2, 44: 2, 46: 2, 48: 2, 49: 2, 50: 2, 52: 2, 55: 2, 56: 2, 57: 2, 58: 2, 60: 2, 61: 2, 64: 2, 65: 2, 66: 2, 67: 2, 69: 2, 70: 2, 72: 2, 77: 2, 84: 2, 90: 2, 91: 2, 97: 2}\n",
            "257 {0: 1, 1: 1, 4: 1, 6: 1, 9: 1, 74: 1, 75: 1, 78: 1, 15: 1, 80: 1, 81: 1, 82: 1, 18: 1, 83: 1, 20: 1, 87: 1, 88: 1, 27: 1, 29: 1, 95: 1, 96: 1, 33: 1, 98: 1, 37: 1, 40: 1, 45: 1, 63: 1, 5: 3, 8: 3, 10: 3, 24: 3, 38: 3, 53: 3, 59: 3, 62: 3, 76: 3, 85: 3, 89: 3, 92: 3, 94: 3}\n",
            "258 {0: 2, 3: 2, 7: 2, 13: 2, 17: 2, 19: 2, 21: 2, 26: 2, 30: 2, 39: 2, 41: 2, 43: 2, 44: 2, 46: 2, 48: 2, 52: 2, 55: 2, 56: 2, 57: 2, 58: 2, 60: 2, 61: 2, 64: 2, 65: 2, 66: 2, 67: 2, 69: 2, 70: 2, 77: 2, 84: 2, 91: 2, 95: 2, 97: 2, 1: 1, 2: 1, 4: 1, 6: 1, 9: 1, 12: 1, 14: 1, 15: 1, 18: 1, 20: 1, 27: 1, 29: 1, 32: 1, 33: 1, 37: 1, 40: 1, 42: 1, 45: 1, 49: 1, 50: 1, 63: 1, 72: 1, 74: 1, 75: 1, 78: 1, 80: 1, 81: 1, 82: 1, 83: 1, 87: 1, 88: 1, 90: 1, 96: 1, 98: 1}\n",
            "259 {0: 2, 1: 2, 4: 2, 6: 2, 9: 2, 74: 2, 75: 2, 14: 2, 15: 2, 80: 2, 78: 2, 18: 2, 81: 2, 82: 2, 20: 2, 83: 2, 87: 2, 88: 2, 27: 2, 29: 2, 95: 2, 96: 2, 33: 2, 98: 2, 37: 2, 40: 2, 45: 2, 63: 2, 2: 1, 3: 1, 7: 1, 12: 1, 13: 1, 17: 1, 19: 1, 21: 1, 26: 1, 30: 1, 32: 1, 39: 1, 41: 1, 42: 1, 43: 1, 44: 1, 46: 1, 48: 1, 49: 1, 50: 1, 52: 1, 55: 1, 56: 1, 57: 1, 58: 1, 60: 1, 61: 1, 64: 1, 65: 1, 66: 1, 67: 1, 69: 1, 70: 1, 72: 1, 77: 1, 84: 1, 90: 1, 91: 1, 97: 1}\n",
            "260 {0: 3, 1: 3, 6: 3, 9: 3, 74: 3, 75: 3, 14: 3, 15: 3, 80: 3, 82: 3, 83: 3, 18: 3, 20: 3, 87: 3, 29: 3, 95: 3, 96: 3, 33: 3, 98: 3, 37: 3, 40: 3, 45: 3, 53: 3, 63: 3, 4: 2, 5: 2, 8: 2, 10: 2, 24: 2, 27: 2, 38: 2, 59: 2, 62: 2, 76: 2, 78: 2, 81: 2, 85: 2, 88: 2, 89: 2, 92: 2, 94: 2}\n",
            "261 {0: 2, 1: 2, 4: 2, 5: 2, 6: 2, 9: 2, 74: 2, 75: 2, 78: 2, 14: 2, 15: 2, 81: 2, 80: 2, 83: 2, 82: 2, 18: 2, 20: 2, 87: 2, 88: 2, 27: 2, 29: 2, 95: 2, 96: 2, 33: 2, 98: 2, 37: 2, 40: 2, 45: 2, 63: 2, 8: 3, 10: 3, 24: 3, 38: 3, 53: 3, 59: 3, 62: 3, 76: 3, 85: 3, 89: 3, 92: 3, 94: 3}\n",
            "262 {34: 0, 35: 0, 36: 0, 68: 0, 71: 0, 73: 0, 47: 0, 16: 0, 79: 0, 51: 0, 85: 0, 54: 0, 23: 0, 22: 0, 25: 0, 28: 0, 93: 0, 31: 0, 8: 3, 10: 3, 11: 3, 24: 3, 38: 3, 53: 3, 59: 3, 62: 3, 76: 3, 86: 3, 89: 3, 92: 3, 94: 3}\n",
            "263 {68: 0, 71: 0, 73: 0, 16: 0, 85: 0, 22: 0, 23: 0, 25: 0, 28: 0, 93: 0, 31: 0, 34: 0, 35: 0, 47: 0, 48: 0, 51: 0, 54: 0, 2: 1, 3: 1, 7: 1, 12: 1, 13: 1, 17: 1, 19: 1, 21: 1, 26: 1, 30: 1, 32: 1, 36: 1, 39: 1, 41: 1, 42: 1, 43: 1, 44: 1, 46: 1, 49: 1, 50: 1, 52: 1, 55: 1, 56: 1, 57: 1, 58: 1, 60: 1, 61: 1, 64: 1, 65: 1, 66: 1, 67: 1, 69: 1, 70: 1, 72: 1, 77: 1, 79: 1, 84: 1, 90: 1, 91: 1, 97: 1}\n",
            "264 {5: 2, 38: 2, 8: 2, 10: 2, 11: 2, 76: 2, 53: 2, 24: 2, 89: 2, 59: 2, 92: 2, 94: 2, 0: 3, 1: 3, 4: 3, 6: 3, 9: 3, 14: 3, 15: 3, 18: 3, 20: 3, 27: 3, 29: 3, 33: 3, 37: 3, 40: 3, 45: 3, 62: 3, 63: 3, 74: 3, 75: 3, 78: 3, 80: 3, 81: 3, 82: 3, 83: 3, 86: 3, 87: 3, 88: 3, 95: 3, 96: 3, 98: 3}\n",
            "265 {2: 1, 3: 1, 7: 1, 12: 1, 13: 1, 17: 1, 19: 1, 21: 1, 26: 1, 30: 1, 32: 1, 39: 1, 41: 1, 42: 1, 43: 1, 46: 1, 49: 1, 50: 1, 52: 1, 55: 1, 56: 1, 57: 1, 58: 1, 60: 1, 61: 1, 64: 1, 65: 1, 67: 1, 69: 1, 70: 1, 72: 1, 77: 1, 79: 1, 84: 1, 90: 1, 91: 1, 97: 1, 16: 0, 22: 0, 23: 0, 25: 0, 28: 0, 31: 0, 34: 0, 35: 0, 36: 0, 44: 0, 47: 0, 48: 0, 51: 0, 54: 0, 66: 0, 68: 0, 71: 0, 73: 0, 85: 0, 93: 0}\n",
            "266 {34: 0, 35: 0, 73: 0, 16: 0, 49: 0, 51: 0, 52: 0, 85: 0, 54: 0, 23: 0, 22: 0, 25: 0, 28: 0, 93: 0, 31: 0, 2: 1, 3: 1, 7: 1, 12: 1, 13: 1, 17: 1, 19: 1, 21: 1, 26: 1, 30: 1, 32: 1, 36: 1, 39: 1, 41: 1, 42: 1, 43: 1, 44: 1, 46: 1, 47: 1, 48: 1, 50: 1, 55: 1, 56: 1, 57: 1, 58: 1, 60: 1, 61: 1, 64: 1, 65: 1, 66: 1, 67: 1, 68: 1, 69: 1, 70: 1, 71: 1, 72: 1, 77: 1, 79: 1, 84: 1, 90: 1, 91: 1, 97: 1}\n",
            "267 {73: 3, 16: 3, 83: 3, 85: 3, 22: 3, 86: 3, 23: 3, 25: 3, 28: 3, 93: 3, 95: 3, 31: 3, 34: 3, 35: 3, 51: 3, 54: 3, 0: 0, 1: 0, 4: 0, 6: 0, 9: 0, 14: 0, 15: 0, 18: 0, 20: 0, 27: 0, 29: 0, 33: 0, 37: 0, 40: 0, 45: 0, 49: 0, 52: 0, 62: 0, 63: 0, 74: 0, 75: 0, 78: 0, 80: 0, 81: 0, 82: 0, 87: 0, 88: 0, 96: 0, 98: 0}\n",
            "268 {0: 0, 1: 0, 4: 0, 6: 0, 72: 0, 9: 0, 74: 0, 75: 0, 14: 0, 78: 0, 15: 0, 80: 0, 18: 0, 81: 0, 82: 0, 20: 0, 87: 0, 88: 0, 27: 0, 29: 0, 32: 0, 96: 0, 33: 0, 98: 0, 37: 0, 40: 0, 45: 0, 49: 0, 62: 0, 63: 0, 2: 1, 3: 1, 7: 1, 12: 1, 13: 1, 17: 1, 19: 1, 21: 1, 26: 1, 30: 1, 36: 1, 39: 1, 41: 1, 42: 1, 43: 1, 44: 1, 46: 1, 47: 1, 48: 1, 50: 1, 52: 1, 55: 1, 56: 1, 57: 1, 58: 1, 60: 1, 61: 1, 64: 1, 65: 1, 66: 1, 67: 1, 68: 1, 69: 1, 70: 1, 71: 1, 77: 1, 79: 1, 84: 1, 90: 1, 91: 1, 97: 1}\n",
            "269 {0: 0, 32: 0, 6: 0, 72: 0, 73: 0, 9: 0, 14: 0, 49: 0, 18: 0, 54: 0, 29: 0, 95: 0, 63: 0, 1: 3, 4: 3, 15: 3, 16: 3, 20: 3, 22: 3, 23: 3, 25: 3, 27: 3, 28: 3, 31: 3, 33: 3, 34: 3, 35: 3, 37: 3, 40: 3, 45: 3, 51: 3, 62: 3, 74: 3, 75: 3, 78: 3, 80: 3, 81: 3, 82: 3, 83: 3, 85: 3, 86: 3, 87: 3, 88: 3, 93: 3, 96: 3, 98: 3}\n",
            "270 {1: 3, 4: 3, 15: 3, 16: 3, 20: 3, 22: 3, 23: 3, 25: 3, 27: 3, 28: 3, 31: 3, 33: 3, 34: 3, 35: 3, 37: 3, 40: 3, 45: 3, 51: 3, 62: 3, 74: 3, 75: 3, 78: 3, 80: 3, 81: 3, 82: 3, 83: 3, 85: 3, 86: 3, 87: 3, 88: 3, 93: 3, 96: 3, 98: 3, 2: 1, 3: 1, 7: 1, 12: 1, 13: 1, 17: 1, 19: 1, 21: 1, 26: 1, 30: 1, 36: 1, 39: 1, 41: 1, 42: 1, 43: 1, 44: 1, 46: 1, 47: 1, 48: 1, 50: 1, 52: 1, 55: 1, 56: 1, 57: 1, 58: 1, 60: 1, 61: 1, 64: 1, 65: 1, 66: 1, 67: 1, 68: 1, 69: 1, 70: 1, 71: 1, 77: 1, 79: 1, 84: 1, 90: 1, 91: 1, 97: 1}\n",
            "271 {0: 0, 6: 0, 9: 0, 73: 0, 14: 0, 49: 0, 18: 0, 63: 0, 52: 0, 54: 0, 29: 0, 95: 0, 2: 1, 3: 1, 7: 1, 12: 1, 13: 1, 17: 1, 19: 1, 21: 1, 26: 1, 30: 1, 32: 1, 36: 1, 39: 1, 41: 1, 42: 1, 43: 1, 44: 1, 46: 1, 47: 1, 48: 1, 50: 1, 55: 1, 56: 1, 57: 1, 58: 1, 60: 1, 61: 1, 64: 1, 65: 1, 66: 1, 67: 1, 68: 1, 69: 1, 70: 1, 71: 1, 72: 1, 77: 1, 79: 1, 84: 1, 90: 1, 91: 1, 97: 1}\n",
            "272 {8: 3, 10: 3, 11: 3, 76: 3, 16: 3, 85: 3, 86: 3, 23: 3, 24: 3, 89: 3, 22: 3, 25: 3, 92: 3, 28: 3, 94: 3, 93: 3, 31: 3, 34: 3, 35: 3, 38: 3, 51: 3, 59: 3, 1: 2, 4: 2, 5: 2, 15: 2, 20: 2, 27: 2, 33: 2, 37: 2, 40: 2, 45: 2, 53: 2, 62: 2, 74: 2, 75: 2, 78: 2, 80: 2, 81: 2, 82: 2, 83: 2, 87: 2, 88: 2, 96: 2, 98: 2}\n",
            "273 {4: 2, 37: 2, 5: 2, 38: 2, 27: 2, 74: 2, 10: 2, 53: 2, 89: 2, 59: 2, 62: 2, 1: 3, 8: 3, 11: 3, 15: 3, 16: 3, 20: 3, 22: 3, 23: 3, 24: 3, 25: 3, 28: 3, 31: 3, 33: 3, 34: 3, 35: 3, 40: 3, 45: 3, 51: 3, 75: 3, 76: 3, 78: 3, 80: 3, 81: 3, 82: 3, 83: 3, 85: 3, 86: 3, 87: 3, 88: 3, 92: 3, 93: 3, 94: 3, 96: 3, 98: 3}\n",
            "274 {5: 3, 8: 3, 10: 3, 76: 3, 16: 3, 85: 3, 23: 3, 25: 3, 92: 3, 28: 3, 93: 3, 94: 3, 31: 3, 34: 3, 35: 3, 38: 3, 53: 3, 59: 3, 1: 2, 4: 2, 11: 2, 15: 2, 20: 2, 22: 2, 24: 2, 27: 2, 33: 2, 37: 2, 40: 2, 45: 2, 51: 2, 62: 2, 74: 2, 75: 2, 78: 2, 80: 2, 81: 2, 82: 2, 83: 2, 86: 2, 87: 2, 88: 2, 89: 2, 96: 2, 98: 2}\n",
            "275 {1: 2, 8: 2, 11: 2, 76: 2, 15: 2, 16: 2, 80: 2, 83: 2, 20: 2, 85: 2, 22: 2, 23: 2, 24: 2, 86: 2, 25: 2, 87: 2, 92: 2, 28: 2, 93: 2, 94: 2, 31: 2, 96: 2, 33: 2, 34: 2, 35: 2, 37: 2, 40: 2, 45: 2, 51: 2, 4: 3, 5: 3, 10: 3, 27: 3, 38: 3, 53: 3, 59: 3, 62: 3, 74: 3, 75: 3, 78: 3, 81: 3, 82: 3, 88: 3, 89: 3, 98: 3}\n",
            "276 {6: 0, 73: 0, 9: 0, 14: 0, 15: 0, 80: 0, 18: 0, 20: 0, 22: 0, 87: 0, 25: 0, 29: 0, 95: 0, 34: 0, 49: 0, 52: 0, 63: 0, 0: 2, 1: 2, 8: 2, 11: 2, 16: 2, 23: 2, 24: 2, 28: 2, 31: 2, 33: 2, 35: 2, 37: 2, 40: 2, 45: 2, 51: 2, 54: 2, 76: 2, 83: 2, 85: 2, 86: 2, 92: 2, 93: 2, 94: 2, 96: 2}\n",
            "277 {33: 0, 6: 0, 40: 0, 73: 0, 9: 0, 14: 0, 15: 0, 80: 0, 49: 0, 18: 0, 52: 0, 20: 0, 87: 0, 29: 0, 95: 0, 0: 2, 1: 2, 8: 2, 11: 2, 16: 2, 22: 2, 23: 2, 24: 2, 25: 2, 28: 2, 31: 2, 34: 2, 35: 2, 37: 2, 45: 2, 51: 2, 54: 2, 63: 2, 76: 2, 83: 2, 85: 2, 86: 2, 92: 2, 93: 2, 94: 2, 96: 2}\n",
            "278 {33: 1, 6: 1, 40: 1, 9: 1, 73: 1, 15: 1, 80: 1, 49: 1, 18: 1, 20: 1, 52: 1, 87: 1, 91: 1, 29: 1, 95: 1, 2: 0, 3: 0, 7: 0, 12: 0, 13: 0, 14: 0, 17: 0, 19: 0, 21: 0, 26: 0, 30: 0, 32: 0, 36: 0, 39: 0, 41: 0, 42: 0, 43: 0, 44: 0, 46: 0, 47: 0, 48: 0, 50: 0, 55: 0, 56: 0, 57: 0, 58: 0, 60: 0, 61: 0, 64: 0, 65: 0, 66: 0, 67: 0, 68: 0, 69: 0, 70: 0, 71: 0, 72: 0, 77: 0, 79: 0, 84: 0, 90: 0, 97: 0}\n",
            "279 {65: 0, 66: 0, 68: 0, 36: 0, 6: 0, 71: 0, 41: 0, 73: 0, 44: 0, 79: 0, 48: 0, 47: 0, 52: 0, 95: 0, 2: 1, 3: 1, 7: 1, 9: 1, 12: 1, 13: 1, 14: 1, 15: 1, 17: 1, 18: 1, 19: 1, 20: 1, 21: 1, 26: 1, 29: 1, 30: 1, 32: 1, 33: 1, 39: 1, 40: 1, 42: 1, 43: 1, 46: 1, 49: 1, 50: 1, 55: 1, 56: 1, 57: 1, 58: 1, 60: 1, 61: 1, 64: 1, 67: 1, 69: 1, 70: 1, 72: 1, 77: 1, 80: 1, 84: 1, 87: 1, 90: 1, 91: 1, 97: 1}\n",
            "280 {2: 1, 3: 1, 7: 1, 9: 1, 12: 1, 13: 1, 14: 1, 15: 1, 17: 1, 18: 1, 19: 1, 20: 1, 21: 1, 26: 1, 29: 1, 30: 1, 32: 1, 33: 1, 39: 1, 40: 1, 42: 1, 43: 1, 45: 1, 46: 1, 49: 1, 50: 1, 55: 1, 56: 1, 57: 1, 58: 1, 60: 1, 61: 1, 64: 1, 67: 1, 69: 1, 70: 1, 72: 1, 77: 1, 80: 1, 84: 1, 87: 1, 90: 1, 91: 1, 97: 1, 0: 2, 1: 2, 8: 2, 11: 2, 16: 2, 22: 2, 23: 2, 24: 2, 25: 2, 28: 2, 31: 2, 34: 2, 35: 2, 37: 2, 51: 2, 54: 2, 63: 2, 76: 2, 83: 2, 85: 2, 86: 2, 92: 2, 93: 2, 94: 2, 96: 2}\n",
            "281 {65: 2, 66: 2, 68: 2, 6: 2, 71: 2, 73: 2, 79: 2, 22: 2, 25: 2, 95: 2, 36: 2, 41: 2, 44: 2, 47: 2, 48: 2, 52: 2, 0: 0, 1: 0, 8: 0, 11: 0, 16: 0, 23: 0, 24: 0, 28: 0, 31: 0, 34: 0, 35: 0, 37: 0, 51: 0, 54: 0, 63: 0, 76: 0, 83: 0, 85: 0, 86: 0, 92: 0, 93: 0, 94: 0, 96: 0}\n",
            "282 {0: 0, 1: 0, 6: 0, 8: 0, 11: 0, 76: 0, 16: 0, 83: 0, 85: 0, 24: 0, 28: 0, 92: 0, 94: 0, 95: 0, 96: 0, 37: 0, 41: 0, 52: 0, 63: 0, 22: 2, 23: 2, 25: 2, 31: 2, 34: 2, 35: 2, 36: 2, 44: 2, 47: 2, 48: 2, 51: 2, 54: 2, 65: 2, 66: 2, 68: 2, 71: 2, 73: 2, 79: 2, 86: 2, 93: 2}\n",
            "283 {66: 1, 68: 1, 71: 1, 73: 1, 79: 1, 22: 1, 23: 1, 86: 1, 25: 1, 93: 1, 31: 1, 34: 1, 35: 1, 36: 1, 44: 1, 47: 1, 48: 1, 51: 1, 54: 1, 2: 2, 3: 2, 7: 2, 9: 2, 12: 2, 13: 2, 14: 2, 15: 2, 17: 2, 18: 2, 19: 2, 20: 2, 21: 2, 26: 2, 29: 2, 30: 2, 32: 2, 33: 2, 39: 2, 40: 2, 42: 2, 43: 2, 45: 2, 46: 2, 49: 2, 50: 2, 55: 2, 56: 2, 57: 2, 58: 2, 60: 2, 61: 2, 64: 2, 65: 2, 67: 2, 69: 2, 70: 2, 72: 2, 77: 2, 80: 2, 84: 2, 87: 2, 90: 2, 91: 2, 97: 2}\n",
            "284 {0: 0, 1: 0, 6: 0, 8: 0, 11: 0, 76: 0, 16: 0, 83: 0, 85: 0, 86: 0, 23: 0, 24: 0, 28: 0, 92: 0, 94: 0, 95: 0, 31: 0, 96: 0, 35: 0, 37: 0, 52: 0, 63: 0, 22: 1, 25: 1, 34: 1, 36: 1, 41: 1, 44: 1, 47: 1, 48: 1, 51: 1, 54: 1, 66: 1, 68: 1, 71: 1, 73: 1, 79: 1, 93: 1}\n",
            "285 {2: 1, 3: 1, 9: 1, 12: 1, 13: 1, 14: 1, 15: 1, 17: 1, 18: 1, 19: 1, 20: 1, 21: 1, 26: 1, 29: 1, 30: 1, 32: 1, 33: 1, 39: 1, 40: 1, 41: 1, 42: 1, 45: 1, 49: 1, 50: 1, 56: 1, 57: 1, 60: 1, 64: 1, 69: 1, 70: 1, 72: 1, 80: 1, 84: 1, 87: 1, 90: 1, 91: 1, 97: 1, 7: 2, 22: 2, 25: 2, 34: 2, 36: 2, 43: 2, 44: 2, 46: 2, 47: 2, 48: 2, 51: 2, 54: 2, 55: 2, 58: 2, 61: 2, 65: 2, 66: 2, 67: 2, 68: 2, 71: 2, 73: 2, 77: 2, 79: 2, 93: 2}\n",
            "286 {0: 0, 1: 0, 96: 0, 37: 0, 6: 0, 8: 0, 11: 0, 76: 0, 16: 0, 83: 0, 23: 0, 85: 0, 54: 0, 86: 0, 24: 0, 52: 0, 92: 0, 63: 0, 95: 0, 31: 0, 7: 2, 22: 2, 25: 2, 28: 2, 34: 2, 35: 2, 36: 2, 43: 2, 44: 2, 46: 2, 47: 2, 48: 2, 51: 2, 55: 2, 58: 2, 61: 2, 65: 2, 66: 2, 67: 2, 68: 2, 71: 2, 73: 2, 77: 2, 79: 2, 93: 2, 94: 2}\n",
            "287 {65: 1, 66: 1, 67: 1, 68: 1, 7: 1, 71: 1, 73: 1, 77: 1, 79: 1, 22: 1, 25: 1, 28: 1, 93: 1, 94: 1, 34: 1, 35: 1, 36: 1, 43: 1, 44: 1, 47: 1, 48: 1, 51: 1, 55: 1, 58: 1, 2: 2, 3: 2, 9: 2, 12: 2, 13: 2, 14: 2, 15: 2, 17: 2, 18: 2, 19: 2, 20: 2, 21: 2, 26: 2, 29: 2, 30: 2, 32: 2, 33: 2, 39: 2, 40: 2, 41: 2, 42: 2, 45: 2, 46: 2, 49: 2, 50: 2, 56: 2, 57: 2, 60: 2, 61: 2, 64: 2, 69: 2, 70: 2, 72: 2, 80: 2, 84: 2, 87: 2, 90: 2, 91: 2, 97: 2}\n",
            "288 {2: 2, 3: 2, 9: 2, 12: 2, 13: 2, 14: 2, 15: 2, 17: 2, 18: 2, 19: 2, 20: 2, 21: 2, 26: 2, 29: 2, 30: 2, 32: 2, 39: 2, 40: 2, 41: 2, 42: 2, 46: 2, 49: 2, 50: 2, 56: 2, 57: 2, 60: 2, 61: 2, 64: 2, 69: 2, 70: 2, 72: 2, 80: 2, 84: 2, 87: 2, 90: 2, 91: 2, 97: 2, 4: 3, 5: 3, 10: 3, 27: 3, 33: 3, 38: 3, 45: 3, 53: 3, 59: 3, 62: 3, 74: 3, 75: 3, 78: 3, 81: 3, 82: 3, 88: 3, 89: 3, 98: 3}\n",
            "289 {2: 2, 3: 2, 9: 2, 12: 2, 13: 2, 14: 2, 15: 2, 17: 2, 18: 2, 19: 2, 20: 2, 21: 2, 26: 2, 30: 2, 32: 2, 39: 2, 41: 2, 42: 2, 46: 2, 49: 2, 50: 2, 56: 2, 57: 2, 60: 2, 61: 2, 64: 2, 69: 2, 70: 2, 72: 2, 80: 2, 84: 2, 87: 2, 90: 2, 91: 2, 97: 2, 4: 3, 5: 3, 10: 3, 27: 3, 29: 3, 33: 3, 38: 3, 40: 3, 45: 3, 53: 3, 59: 3, 62: 3, 74: 3, 75: 3, 78: 3, 81: 3, 82: 3, 88: 3, 89: 3, 98: 3}\n",
            "290 {65: 2, 66: 2, 68: 2, 7: 2, 71: 2, 73: 2, 77: 2, 79: 2, 22: 2, 25: 2, 28: 2, 93: 2, 94: 2, 34: 2, 35: 2, 36: 2, 44: 2, 47: 2, 48: 2, 51: 2, 55: 2, 2: 1, 3: 1, 9: 1, 12: 1, 13: 1, 14: 1, 15: 1, 17: 1, 18: 1, 19: 1, 20: 1, 21: 1, 26: 1, 30: 1, 32: 1, 39: 1, 41: 1, 42: 1, 43: 1, 46: 1, 49: 1, 50: 1, 56: 1, 57: 1, 58: 1, 60: 1, 61: 1, 64: 1, 67: 1, 69: 1, 70: 1, 72: 1, 80: 1, 84: 1, 87: 1, 90: 1, 91: 1, 97: 1}\n",
            "291 {5: 0, 38: 0, 8: 0, 59: 0, 10: 0, 53: 0, 24: 0, 89: 0, 27: 0, 92: 0, 62: 0, 0: 3, 1: 3, 4: 3, 6: 3, 11: 3, 16: 3, 23: 3, 29: 3, 31: 3, 33: 3, 37: 3, 40: 3, 45: 3, 52: 3, 54: 3, 63: 3, 74: 3, 75: 3, 76: 3, 78: 3, 81: 3, 82: 3, 83: 3, 85: 3, 86: 3, 88: 3, 95: 3, 96: 3, 98: 3}\n",
            "292 {2: 1, 3: 1, 7: 1, 9: 1, 12: 1, 13: 1, 14: 1, 15: 1, 17: 1, 18: 1, 19: 1, 20: 1, 21: 1, 26: 1, 30: 1, 32: 1, 39: 1, 42: 1, 43: 1, 46: 1, 49: 1, 50: 1, 55: 1, 56: 1, 57: 1, 58: 1, 60: 1, 61: 1, 64: 1, 67: 1, 69: 1, 70: 1, 72: 1, 77: 1, 80: 1, 84: 1, 87: 1, 90: 1, 91: 1, 97: 1, 22: 2, 25: 2, 28: 2, 34: 2, 35: 2, 36: 2, 41: 2, 44: 2, 47: 2, 48: 2, 51: 2, 65: 2, 66: 2, 68: 2, 71: 2, 73: 2, 79: 2, 93: 2, 94: 2}\n",
            "293 {2: 2, 3: 2, 9: 2, 12: 2, 13: 2, 14: 2, 15: 2, 17: 2, 18: 2, 19: 2, 20: 2, 21: 2, 26: 2, 30: 2, 32: 2, 39: 2, 41: 2, 42: 2, 46: 2, 49: 2, 50: 2, 56: 2, 57: 2, 60: 2, 61: 2, 64: 2, 69: 2, 70: 2, 72: 2, 77: 2, 80: 2, 84: 2, 87: 2, 90: 2, 91: 2, 97: 2, 7: 1, 22: 1, 25: 1, 28: 1, 34: 1, 35: 1, 36: 1, 43: 1, 44: 1, 47: 1, 48: 1, 51: 1, 55: 1, 58: 1, 65: 1, 66: 1, 67: 1, 68: 1, 71: 1, 73: 1, 79: 1, 93: 1, 94: 1}\n",
            "294 {0: 1, 1: 1, 7: 1, 11: 1, 16: 1, 22: 1, 23: 1, 25: 1, 28: 1, 31: 1, 34: 1, 35: 1, 36: 1, 37: 1, 43: 1, 44: 1, 47: 1, 48: 1, 51: 1, 54: 1, 55: 1, 58: 1, 65: 1, 66: 1, 67: 1, 68: 1, 71: 1, 76: 1, 79: 1, 83: 1, 85: 1, 86: 1, 93: 1, 94: 1, 4: 3, 6: 3, 29: 3, 33: 3, 40: 3, 45: 3, 52: 3, 63: 3, 73: 3, 74: 3, 75: 3, 78: 3, 81: 3, 82: 3, 88: 3, 95: 3, 96: 3, 98: 3}\n",
            "295 {2: 2, 4: 2, 9: 2, 12: 2, 13: 2, 14: 2, 15: 2, 17: 2, 18: 2, 19: 2, 20: 2, 21: 2, 26: 2, 29: 2, 32: 2, 33: 2, 39: 2, 40: 2, 42: 2, 45: 2, 49: 2, 50: 2, 56: 2, 60: 2, 63: 2, 64: 2, 72: 2, 74: 2, 75: 2, 78: 2, 80: 2, 81: 2, 82: 2, 84: 2, 87: 2, 88: 2, 90: 2, 95: 2, 96: 2, 98: 2, 3: 3, 69: 3, 6: 3, 70: 3, 73: 3, 77: 3, 91: 3, 30: 3, 97: 3, 41: 3, 46: 3, 52: 3, 57: 3, 61: 3}\n",
            "296 {0: 1, 6: 1, 73: 1, 41: 1, 79: 1, 47: 1, 51: 1, 52: 1, 22: 1, 54: 1, 91: 1, 1: 3, 3: 3, 7: 3, 11: 3, 16: 3, 23: 3, 25: 3, 28: 3, 30: 3, 31: 3, 34: 3, 35: 3, 36: 3, 37: 3, 43: 3, 44: 3, 46: 3, 48: 3, 55: 3, 57: 3, 58: 3, 61: 3, 65: 3, 66: 3, 67: 3, 68: 3, 69: 3, 70: 3, 71: 3, 76: 3, 77: 3, 83: 3, 85: 3, 86: 3, 93: 3, 94: 3, 97: 3}\n",
            "297 {0: 1, 96: 1, 6: 1, 73: 1, 47: 1, 51: 1, 54: 1, 22: 1, 63: 1, 95: 1, 2: 2, 4: 2, 9: 2, 12: 2, 13: 2, 14: 2, 15: 2, 17: 2, 18: 2, 19: 2, 20: 2, 21: 2, 26: 2, 29: 2, 32: 2, 33: 2, 39: 2, 40: 2, 41: 2, 42: 2, 45: 2, 49: 2, 50: 2, 52: 2, 56: 2, 60: 2, 64: 2, 72: 2, 74: 2, 75: 2, 78: 2, 79: 2, 80: 2, 81: 2, 82: 2, 84: 2, 87: 2, 88: 2, 90: 2, 91: 2, 98: 2}\n",
            "298 {1: 3, 4: 3, 9: 3, 11: 3, 14: 3, 15: 3, 16: 3, 18: 3, 20: 3, 23: 3, 29: 3, 31: 3, 32: 3, 33: 3, 37: 3, 40: 3, 45: 3, 72: 3, 74: 3, 75: 3, 76: 3, 78: 3, 80: 3, 81: 3, 82: 3, 83: 3, 85: 3, 86: 3, 87: 3, 88: 3, 90: 3, 93: 3, 94: 3, 98: 3, 2: 2, 3: 2, 7: 2, 12: 2, 13: 2, 17: 2, 19: 2, 21: 2, 25: 2, 26: 2, 28: 2, 30: 2, 34: 2, 35: 2, 36: 2, 39: 2, 41: 2, 42: 2, 43: 2, 44: 2, 46: 2, 48: 2, 49: 2, 50: 2, 52: 2, 55: 2, 56: 2, 57: 2, 58: 2, 60: 2, 61: 2, 64: 2, 65: 2, 66: 2, 67: 2, 68: 2, 69: 2, 70: 2, 71: 2, 77: 2, 79: 2, 84: 2, 91: 2, 97: 2}\n",
            "299 {2: 2, 3: 2, 7: 2, 12: 2, 13: 2, 17: 2, 19: 2, 21: 2, 25: 2, 26: 2, 30: 2, 32: 2, 34: 2, 36: 2, 39: 2, 41: 2, 43: 2, 44: 2, 46: 2, 48: 2, 49: 2, 50: 2, 52: 2, 55: 2, 56: 2, 57: 2, 58: 2, 60: 2, 61: 2, 64: 2, 65: 2, 66: 2, 67: 2, 68: 2, 69: 2, 70: 2, 71: 2, 77: 2, 79: 2, 84: 2, 90: 2, 91: 2, 97: 2, 1: 3, 4: 3, 9: 3, 11: 3, 14: 3, 15: 3, 16: 3, 18: 3, 20: 3, 23: 3, 28: 3, 29: 3, 31: 3, 33: 3, 35: 3, 37: 3, 40: 3, 42: 3, 45: 3, 72: 3, 74: 3, 75: 3, 76: 3, 78: 3, 80: 3, 81: 3, 82: 3, 83: 3, 85: 3, 86: 3, 87: 3, 88: 3, 93: 3, 94: 3, 98: 3}\n",
            "300 {96: 2, 0: 2, 34: 2, 68: 2, 6: 2, 71: 2, 73: 2, 47: 2, 79: 2, 51: 2, 22: 2, 54: 2, 25: 2, 95: 2, 63: 2, 2: 1, 3: 1, 7: 1, 12: 1, 13: 1, 17: 1, 19: 1, 21: 1, 26: 1, 30: 1, 32: 1, 36: 1, 39: 1, 41: 1, 43: 1, 44: 1, 46: 1, 48: 1, 49: 1, 50: 1, 52: 1, 55: 1, 56: 1, 57: 1, 58: 1, 60: 1, 61: 1, 64: 1, 65: 1, 66: 1, 67: 1, 69: 1, 70: 1, 77: 1, 84: 1, 90: 1, 91: 1, 97: 1}\n",
            "301 {4: 0, 72: 0, 9: 0, 74: 0, 75: 0, 78: 0, 14: 0, 15: 0, 80: 0, 81: 0, 82: 0, 18: 0, 20: 0, 87: 0, 88: 0, 27: 0, 29: 0, 33: 0, 98: 0, 37: 0, 40: 0, 42: 0, 45: 0, 53: 0, 62: 0, 1: 3, 5: 3, 8: 3, 10: 3, 11: 3, 16: 3, 23: 3, 24: 3, 28: 3, 31: 3, 35: 3, 38: 3, 59: 3, 76: 3, 83: 3, 85: 3, 86: 3, 89: 3, 92: 3, 93: 3, 94: 3}\n",
            "302 {4: 1, 9: 1, 74: 1, 75: 1, 78: 1, 15: 1, 80: 1, 81: 1, 82: 1, 20: 1, 87: 1, 88: 1, 27: 1, 29: 1, 33: 1, 98: 1, 37: 1, 40: 1, 45: 1, 53: 1, 62: 1, 2: 0, 3: 0, 7: 0, 12: 0, 13: 0, 14: 0, 17: 0, 18: 0, 19: 0, 21: 0, 26: 0, 30: 0, 32: 0, 36: 0, 39: 0, 41: 0, 42: 0, 43: 0, 44: 0, 46: 0, 48: 0, 49: 0, 50: 0, 52: 0, 55: 0, 56: 0, 57: 0, 58: 0, 60: 0, 61: 0, 64: 0, 65: 0, 66: 0, 67: 0, 69: 0, 70: 0, 72: 0, 77: 0, 84: 0, 90: 0, 91: 0, 97: 0}\n",
            "303 {4: 0, 74: 0, 75: 0, 14: 0, 78: 0, 15: 0, 80: 0, 18: 0, 81: 0, 20: 0, 82: 0, 87: 0, 88: 0, 27: 0, 29: 0, 33: 0, 98: 0, 37: 0, 40: 0, 42: 0, 45: 0, 53: 0, 62: 0, 2: 1, 3: 1, 7: 1, 9: 1, 12: 1, 13: 1, 17: 1, 19: 1, 21: 1, 26: 1, 30: 1, 32: 1, 36: 1, 39: 1, 41: 1, 43: 1, 44: 1, 46: 1, 48: 1, 49: 1, 50: 1, 52: 1, 55: 1, 56: 1, 57: 1, 58: 1, 60: 1, 61: 1, 64: 1, 65: 1, 66: 1, 67: 1, 69: 1, 70: 1, 72: 1, 77: 1, 84: 1, 90: 1, 91: 1, 97: 1}\n",
            "304 {4: 0, 9: 0, 74: 0, 75: 0, 78: 0, 15: 0, 80: 0, 81: 0, 82: 0, 87: 0, 88: 0, 27: 0, 29: 0, 33: 0, 98: 0, 37: 0, 40: 0, 45: 0, 53: 0, 62: 0, 2: 1, 3: 1, 7: 1, 12: 1, 13: 1, 14: 1, 17: 1, 18: 1, 19: 1, 20: 1, 21: 1, 26: 1, 30: 1, 32: 1, 36: 1, 39: 1, 41: 1, 42: 1, 43: 1, 44: 1, 46: 1, 48: 1, 49: 1, 50: 1, 52: 1, 55: 1, 56: 1, 57: 1, 58: 1, 60: 1, 61: 1, 64: 1, 65: 1, 66: 1, 67: 1, 69: 1, 70: 1, 72: 1, 77: 1, 84: 1, 90: 1, 91: 1, 97: 1}\n",
            "305 {4: 1, 9: 1, 74: 1, 75: 1, 78: 1, 80: 1, 81: 1, 82: 1, 88: 1, 27: 1, 29: 1, 33: 1, 98: 1, 37: 1, 40: 1, 45: 1, 49: 1, 53: 1, 62: 1, 2: 0, 3: 0, 7: 0, 12: 0, 13: 0, 14: 0, 15: 0, 17: 0, 18: 0, 19: 0, 20: 0, 21: 0, 26: 0, 30: 0, 32: 0, 36: 0, 39: 0, 41: 0, 42: 0, 43: 0, 44: 0, 46: 0, 48: 0, 50: 0, 52: 0, 55: 0, 56: 0, 57: 0, 58: 0, 60: 0, 61: 0, 64: 0, 65: 0, 66: 0, 67: 0, 69: 0, 70: 0, 72: 0, 77: 0, 84: 0, 87: 0, 90: 0, 91: 0, 97: 0}\n",
            "306 {0: 0, 96: 0, 36: 0, 6: 0, 71: 0, 73: 0, 47: 0, 51: 0, 54: 0, 22: 0, 25: 0, 63: 0, 95: 0, 2: 2, 3: 2, 7: 2, 12: 2, 13: 2, 14: 2, 15: 2, 17: 2, 18: 2, 19: 2, 20: 2, 21: 2, 26: 2, 30: 2, 32: 2, 34: 2, 39: 2, 41: 2, 42: 2, 43: 2, 44: 2, 46: 2, 48: 2, 50: 2, 52: 2, 55: 2, 56: 2, 57: 2, 58: 2, 60: 2, 61: 2, 64: 2, 65: 2, 66: 2, 67: 2, 68: 2, 69: 2, 70: 2, 72: 2, 77: 2, 79: 2, 84: 2, 87: 2, 90: 2, 91: 2, 97: 2}\n",
            "307 {0: 2, 96: 2, 34: 2, 68: 2, 6: 2, 71: 2, 73: 2, 47: 2, 51: 2, 22: 2, 54: 2, 25: 2, 63: 2, 95: 2, 2: 0, 3: 0, 7: 0, 12: 0, 13: 0, 14: 0, 15: 0, 17: 0, 18: 0, 19: 0, 20: 0, 21: 0, 26: 0, 30: 0, 32: 0, 36: 0, 39: 0, 41: 0, 42: 0, 43: 0, 44: 0, 46: 0, 48: 0, 50: 0, 52: 0, 55: 0, 56: 0, 57: 0, 58: 0, 60: 0, 61: 0, 64: 0, 65: 0, 66: 0, 67: 0, 69: 0, 70: 0, 72: 0, 77: 0, 79: 0, 84: 0, 87: 0, 90: 0, 91: 0, 97: 0}\n",
            "308 {2: 1, 3: 1, 7: 1, 12: 1, 13: 1, 17: 1, 18: 1, 19: 1, 21: 1, 26: 1, 30: 1, 36: 1, 39: 1, 41: 1, 42: 1, 43: 1, 44: 1, 46: 1, 48: 1, 49: 1, 50: 1, 52: 1, 55: 1, 56: 1, 57: 1, 58: 1, 60: 1, 61: 1, 64: 1, 65: 1, 66: 1, 67: 1, 69: 1, 70: 1, 77: 1, 79: 1, 84: 1, 90: 1, 91: 1, 97: 1, 4: 0, 9: 0, 14: 0, 15: 0, 20: 0, 27: 0, 29: 0, 32: 0, 33: 0, 37: 0, 40: 0, 45: 0, 53: 0, 62: 0, 72: 0, 74: 0, 75: 0, 78: 0, 80: 0, 81: 0, 82: 0, 87: 0, 88: 0, 98: 0}\n",
            "309 {2: 1, 3: 1, 6: 1, 7: 1, 12: 1, 13: 1, 17: 1, 18: 1, 19: 1, 21: 1, 26: 1, 30: 1, 34: 1, 36: 1, 39: 1, 41: 1, 42: 1, 43: 1, 44: 1, 46: 1, 48: 1, 49: 1, 50: 1, 52: 1, 55: 1, 56: 1, 57: 1, 58: 1, 60: 1, 61: 1, 63: 1, 64: 1, 65: 1, 66: 1, 67: 1, 68: 1, 69: 1, 70: 1, 71: 1, 77: 1, 84: 1, 90: 1, 91: 1, 97: 1, 0: 2, 73: 2, 79: 2, 22: 2, 25: 2, 95: 2, 96: 2, 47: 2, 51: 2, 54: 2}\n",
            "310 {2: 1, 3: 1, 7: 1, 12: 1, 13: 1, 17: 1, 18: 1, 19: 1, 21: 1, 22: 1, 25: 1, 26: 1, 30: 1, 34: 1, 36: 1, 39: 1, 42: 1, 43: 1, 44: 1, 46: 1, 47: 1, 48: 1, 49: 1, 50: 1, 55: 1, 56: 1, 57: 1, 58: 1, 60: 1, 61: 1, 64: 1, 65: 1, 66: 1, 67: 1, 68: 1, 69: 1, 70: 1, 71: 1, 77: 1, 79: 1, 84: 1, 90: 1, 91: 1, 97: 1, 0: 2, 6: 2, 73: 2, 95: 2, 96: 2, 41: 2, 51: 2, 52: 2, 54: 2, 63: 2}\n",
            "311 {96: 0, 0: 0, 6: 0, 9: 0, 73: 0, 41: 0, 51: 0, 52: 0, 54: 0, 63: 0, 95: 0, 4: 2, 14: 2, 15: 2, 20: 2, 27: 2, 29: 2, 32: 2, 33: 2, 37: 2, 40: 2, 45: 2, 53: 2, 62: 2, 72: 2, 74: 2, 75: 2, 78: 2, 80: 2, 81: 2, 82: 2, 87: 2, 88: 2, 98: 2}\n",
            "312 {1: 0, 5: 0, 8: 0, 10: 0, 11: 0, 76: 0, 16: 0, 85: 0, 86: 0, 23: 0, 24: 0, 89: 0, 28: 0, 93: 0, 92: 0, 94: 0, 31: 0, 35: 0, 38: 0, 51: 0, 59: 0, 0: 3, 6: 3, 9: 3, 41: 3, 52: 3, 54: 3, 63: 3, 73: 3, 83: 3, 95: 3, 96: 3}\n",
            "313 {4: 2, 72: 2, 9: 2, 74: 2, 75: 2, 78: 2, 14: 2, 15: 2, 80: 2, 81: 2, 82: 2, 20: 2, 87: 2, 88: 2, 27: 2, 29: 2, 96: 2, 32: 2, 33: 2, 98: 2, 37: 2, 40: 2, 45: 2, 53: 2, 62: 2, 0: 3, 6: 3, 41: 3, 52: 3, 54: 3, 63: 3, 73: 3, 83: 3, 95: 3}\n",
            "314 {0: 3, 34: 3, 68: 3, 6: 3, 71: 3, 73: 3, 47: 3, 83: 3, 22: 3, 54: 3, 25: 3, 95: 3, 63: 3, 2: 1, 3: 1, 7: 1, 12: 1, 13: 1, 17: 1, 18: 1, 19: 1, 21: 1, 26: 1, 30: 1, 36: 1, 39: 1, 41: 1, 42: 1, 43: 1, 44: 1, 46: 1, 48: 1, 49: 1, 50: 1, 52: 1, 55: 1, 56: 1, 57: 1, 58: 1, 60: 1, 61: 1, 64: 1, 65: 1, 66: 1, 67: 1, 69: 1, 70: 1, 77: 1, 79: 1, 84: 1, 90: 1, 91: 1, 97: 1}\n",
            "315 {1: 2, 72: 2, 9: 2, 74: 2, 11: 2, 75: 2, 78: 2, 14: 2, 15: 2, 81: 2, 80: 2, 82: 2, 20: 2, 87: 2, 88: 2, 89: 2, 29: 2, 96: 2, 33: 2, 98: 2, 32: 2, 37: 2, 40: 2, 45: 2, 53: 2, 62: 2, 4: 0, 5: 0, 8: 0, 10: 0, 16: 0, 23: 0, 24: 0, 27: 0, 28: 0, 31: 0, 35: 0, 38: 0, 51: 0, 59: 0, 76: 0, 85: 0, 86: 0, 92: 0, 93: 0, 94: 0}\n",
            "316 {1: 2, 72: 2, 74: 2, 11: 2, 75: 2, 14: 2, 15: 2, 78: 2, 80: 2, 81: 2, 82: 2, 20: 2, 87: 2, 88: 2, 89: 2, 90: 2, 29: 2, 96: 2, 33: 2, 98: 2, 37: 2, 40: 2, 42: 2, 45: 2, 53: 2, 62: 2, 2: 1, 3: 1, 7: 1, 9: 1, 12: 1, 13: 1, 17: 1, 18: 1, 19: 1, 21: 1, 26: 1, 30: 1, 32: 1, 36: 1, 39: 1, 41: 1, 43: 1, 44: 1, 46: 1, 48: 1, 49: 1, 50: 1, 52: 1, 55: 1, 56: 1, 57: 1, 58: 1, 60: 1, 61: 1, 64: 1, 65: 1, 66: 1, 67: 1, 69: 1, 70: 1, 77: 1, 79: 1, 84: 1, 91: 1, 97: 1}\n",
            "317 {64: 1, 65: 1, 66: 1, 3: 1, 67: 1, 69: 1, 70: 1, 7: 1, 2: 1, 72: 1, 12: 1, 77: 1, 13: 1, 79: 1, 17: 1, 19: 1, 84: 1, 21: 1, 26: 1, 91: 1, 30: 1, 32: 1, 97: 1, 36: 1, 39: 1, 41: 1, 42: 1, 43: 1, 44: 1, 46: 1, 48: 1, 50: 1, 52: 1, 55: 1, 56: 1, 57: 1, 58: 1, 60: 1, 61: 1, 1: 2, 9: 2, 11: 2, 14: 2, 15: 2, 18: 2, 20: 2, 29: 2, 33: 2, 37: 2, 40: 2, 45: 2, 49: 2, 53: 2, 62: 2, 74: 2, 75: 2, 78: 2, 80: 2, 81: 2, 82: 2, 87: 2, 88: 2, 89: 2, 90: 2, 96: 2, 98: 2}\n",
            "318 {1: 1, 72: 1, 9: 1, 74: 1, 75: 1, 11: 1, 14: 1, 78: 1, 80: 1, 15: 1, 81: 1, 18: 1, 82: 1, 20: 1, 87: 1, 88: 1, 89: 1, 90: 1, 29: 1, 32: 1, 96: 1, 33: 1, 98: 1, 37: 1, 40: 1, 42: 1, 45: 1, 53: 1, 62: 1, 2: 2, 3: 2, 7: 2, 12: 2, 13: 2, 17: 2, 19: 2, 21: 2, 26: 2, 30: 2, 36: 2, 39: 2, 41: 2, 43: 2, 44: 2, 46: 2, 48: 2, 49: 2, 50: 2, 52: 2, 55: 2, 56: 2, 57: 2, 58: 2, 60: 2, 61: 2, 64: 2, 65: 2, 66: 2, 67: 2, 69: 2, 70: 2, 77: 2, 79: 2, 84: 2, 91: 2, 97: 2}\n",
            "319 {0: 3, 6: 3, 71: 3, 73: 3, 47: 3, 51: 3, 83: 3, 23: 3, 22: 3, 86: 3, 54: 3, 25: 3, 63: 3, 95: 3, 4: 0, 5: 0, 8: 0, 10: 0, 16: 0, 24: 0, 27: 0, 28: 0, 31: 0, 34: 0, 35: 0, 38: 0, 59: 0, 68: 0, 76: 0, 85: 0, 92: 0, 93: 0, 94: 0}\n",
            "320 {2: 2, 3: 2, 7: 2, 12: 2, 13: 2, 17: 2, 19: 2, 21: 2, 26: 2, 30: 2, 32: 2, 36: 2, 39: 2, 41: 2, 42: 2, 43: 2, 44: 2, 46: 2, 48: 2, 49: 2, 50: 2, 52: 2, 55: 2, 56: 2, 57: 2, 58: 2, 60: 2, 61: 2, 64: 2, 65: 2, 66: 2, 67: 2, 69: 2, 70: 2, 77: 2, 79: 2, 84: 2, 90: 2, 91: 2, 97: 2, 1: 1, 9: 1, 11: 1, 14: 1, 15: 1, 18: 1, 20: 1, 29: 1, 33: 1, 37: 1, 40: 1, 45: 1, 53: 1, 62: 1, 72: 1, 74: 1, 75: 1, 78: 1, 80: 1, 81: 1, 82: 1, 87: 1, 88: 1, 89: 1, 96: 1, 98: 1}\n",
            "321 {4: 0, 5: 0, 38: 0, 8: 0, 27: 0, 10: 0, 74: 0, 78: 0, 81: 0, 53: 0, 88: 0, 89: 0, 59: 0, 62: 0, 1: 1, 9: 1, 11: 1, 14: 1, 15: 1, 16: 1, 18: 1, 20: 1, 24: 1, 28: 1, 29: 1, 31: 1, 33: 1, 34: 1, 35: 1, 37: 1, 40: 1, 45: 1, 68: 1, 72: 1, 75: 1, 76: 1, 80: 1, 82: 1, 85: 1, 87: 1, 92: 1, 93: 1, 94: 1, 96: 1, 98: 1}\n",
            "322 {2: 3, 3: 3, 6: 3, 7: 3, 12: 3, 13: 3, 17: 3, 19: 3, 21: 3, 26: 3, 30: 3, 32: 3, 36: 3, 39: 3, 41: 3, 42: 3, 43: 3, 44: 3, 46: 3, 47: 3, 48: 3, 49: 3, 50: 3, 55: 3, 56: 3, 57: 3, 58: 3, 60: 3, 61: 3, 64: 3, 65: 3, 66: 3, 67: 3, 69: 3, 70: 3, 77: 3, 79: 3, 84: 3, 90: 3, 91: 3, 97: 3, 0: 2, 71: 2, 73: 2, 83: 2, 22: 2, 23: 2, 86: 2, 25: 2, 95: 2, 51: 2, 52: 2, 54: 2, 63: 2}\n",
            "323 {1: 2, 68: 2, 71: 2, 75: 2, 11: 2, 76: 2, 16: 2, 82: 2, 83: 2, 85: 2, 22: 2, 86: 2, 23: 2, 24: 2, 25: 2, 28: 2, 92: 2, 93: 2, 94: 2, 96: 2, 33: 2, 34: 2, 98: 2, 35: 2, 37: 2, 31: 2, 45: 2, 51: 2, 0: 1, 9: 1, 14: 1, 15: 1, 18: 1, 20: 1, 29: 1, 40: 1, 52: 1, 54: 1, 63: 1, 72: 1, 73: 1, 80: 1, 87: 1, 95: 1}\n",
            "324 {0: 1, 1: 1, 68: 1, 71: 1, 11: 1, 76: 1, 16: 1, 82: 1, 83: 1, 85: 1, 22: 1, 86: 1, 23: 1, 24: 1, 25: 1, 92: 1, 28: 1, 93: 1, 94: 1, 96: 1, 31: 1, 34: 1, 35: 1, 37: 1, 51: 1, 54: 1, 9: 2, 14: 2, 15: 2, 18: 2, 20: 2, 29: 2, 33: 2, 40: 2, 45: 2, 52: 2, 63: 2, 72: 2, 73: 2, 75: 2, 80: 2, 87: 2, 95: 2, 98: 2}\n",
            "325 {0: 2, 34: 2, 68: 2, 71: 2, 73: 2, 51: 2, 52: 2, 22: 2, 54: 2, 25: 2, 63: 2, 95: 2, 1: 1, 9: 1, 11: 1, 14: 1, 15: 1, 16: 1, 18: 1, 20: 1, 23: 1, 24: 1, 28: 1, 29: 1, 31: 1, 33: 1, 35: 1, 37: 1, 40: 1, 45: 1, 72: 1, 75: 1, 76: 1, 80: 1, 82: 1, 83: 1, 85: 1, 86: 1, 87: 1, 92: 1, 93: 1, 94: 1, 96: 1, 98: 1}\n",
            "326 {0: 2, 96: 2, 34: 2, 35: 2, 68: 2, 71: 2, 73: 2, 51: 2, 52: 2, 54: 2, 22: 2, 25: 2, 95: 2, 63: 2, 1: 1, 9: 1, 11: 1, 14: 1, 15: 1, 16: 1, 18: 1, 20: 1, 23: 1, 24: 1, 28: 1, 29: 1, 31: 1, 33: 1, 37: 1, 40: 1, 45: 1, 72: 1, 75: 1, 76: 1, 80: 1, 82: 1, 83: 1, 85: 1, 86: 1, 87: 1, 92: 1, 93: 1, 94: 1, 98: 1}\n",
            "327 {0: 2, 34: 2, 35: 2, 68: 2, 71: 2, 73: 2, 51: 2, 52: 2, 22: 2, 54: 2, 25: 2, 93: 2, 95: 2, 1: 1, 9: 1, 11: 1, 14: 1, 15: 1, 16: 1, 18: 1, 20: 1, 23: 1, 24: 1, 28: 1, 29: 1, 31: 1, 33: 1, 37: 1, 40: 1, 45: 1, 63: 1, 72: 1, 75: 1, 76: 1, 80: 1, 82: 1, 83: 1, 85: 1, 86: 1, 87: 1, 92: 1, 94: 1, 96: 1, 98: 1}\n",
            "328 {68: 1, 71: 1, 73: 1, 76: 1, 85: 1, 22: 1, 23: 1, 25: 1, 28: 1, 92: 1, 94: 1, 31: 1, 93: 1, 34: 1, 35: 1, 51: 1, 52: 1, 54: 1, 0: 2, 1: 2, 9: 2, 11: 2, 14: 2, 15: 2, 16: 2, 18: 2, 20: 2, 24: 2, 29: 2, 33: 2, 37: 2, 40: 2, 45: 2, 63: 2, 72: 2, 75: 2, 80: 2, 82: 2, 83: 2, 86: 2, 87: 2, 95: 2, 96: 2, 98: 2}\n",
            "329 {1: 2, 38: 2, 8: 2, 74: 2, 10: 2, 11: 2, 16: 2, 53: 2, 86: 2, 24: 2, 89: 2, 59: 2, 0: 0, 4: 0, 5: 0, 9: 0, 14: 0, 15: 0, 18: 0, 20: 0, 27: 0, 29: 0, 33: 0, 37: 0, 40: 0, 45: 0, 62: 0, 63: 0, 72: 0, 75: 0, 78: 0, 80: 0, 81: 0, 82: 0, 83: 0, 87: 0, 88: 0, 95: 0, 96: 0, 98: 0}\n",
            "330 {2: 0, 3: 0, 7: 0, 12: 0, 13: 0, 17: 0, 18: 0, 19: 0, 21: 0, 26: 0, 30: 0, 36: 0, 39: 0, 41: 0, 43: 0, 44: 0, 46: 0, 47: 0, 48: 0, 49: 0, 50: 0, 55: 0, 56: 0, 57: 0, 58: 0, 60: 0, 61: 0, 64: 0, 65: 0, 66: 0, 67: 0, 69: 0, 70: 0, 77: 0, 79: 0, 90: 0, 91: 0, 97: 0, 0: 3, 4: 3, 5: 3, 6: 3, 9: 3, 14: 3, 15: 3, 20: 3, 27: 3, 29: 3, 32: 3, 33: 3, 37: 3, 40: 3, 42: 3, 45: 3, 62: 3, 63: 3, 72: 3, 75: 3, 78: 3, 80: 3, 81: 3, 82: 3, 83: 3, 84: 3, 87: 3, 88: 3, 95: 3, 96: 3, 98: 3}\n",
            "331 {68: 2, 71: 2, 73: 2, 76: 2, 85: 2, 22: 2, 23: 2, 25: 2, 28: 2, 93: 2, 94: 2, 31: 2, 34: 2, 35: 2, 51: 2, 52: 2, 1: 1, 8: 1, 10: 1, 11: 1, 16: 1, 24: 1, 38: 1, 53: 1, 54: 1, 59: 1, 74: 1, 86: 1, 89: 1, 92: 1}\n",
            "332 {68: 1, 71: 1, 73: 1, 16: 1, 85: 1, 22: 1, 23: 1, 86: 1, 25: 1, 28: 1, 93: 1, 31: 1, 34: 1, 35: 1, 51: 1, 52: 1, 54: 1, 1: 2, 8: 2, 10: 2, 11: 2, 24: 2, 38: 2, 53: 2, 59: 2, 74: 2, 76: 2, 89: 2, 92: 2, 94: 2}\n",
            "333 {34: 0, 35: 0, 41: 0, 73: 0, 16: 0, 51: 0, 85: 0, 54: 0, 23: 0, 22: 0, 86: 0, 28: 0, 93: 0, 25: 0, 31: 0, 2: 1, 3: 1, 7: 1, 12: 1, 13: 1, 17: 1, 18: 1, 19: 1, 21: 1, 26: 1, 30: 1, 36: 1, 39: 1, 43: 1, 44: 1, 46: 1, 47: 1, 48: 1, 49: 1, 50: 1, 52: 1, 55: 1, 56: 1, 57: 1, 58: 1, 60: 1, 61: 1, 64: 1, 65: 1, 66: 1, 67: 1, 68: 1, 69: 1, 70: 1, 71: 1, 77: 1, 79: 1, 90: 1, 91: 1, 97: 1}\n",
            "334 {36: 0, 71: 0, 41: 0, 73: 0, 47: 0, 79: 0, 49: 0, 18: 0, 50: 0, 52: 0, 22: 0, 90: 0, 91: 0, 60: 0, 30: 0, 2: 1, 3: 1, 7: 1, 12: 1, 13: 1, 16: 1, 17: 1, 19: 1, 21: 1, 23: 1, 25: 1, 26: 1, 28: 1, 31: 1, 34: 1, 35: 1, 39: 1, 43: 1, 44: 1, 46: 1, 48: 1, 51: 1, 54: 1, 55: 1, 56: 1, 57: 1, 58: 1, 61: 1, 64: 1, 65: 1, 66: 1, 67: 1, 68: 1, 69: 1, 70: 1, 77: 1, 85: 1, 86: 1, 93: 1, 97: 1}\n",
            "335 {68: 1, 71: 1, 73: 1, 16: 1, 85: 1, 22: 1, 86: 1, 23: 1, 25: 1, 28: 1, 93: 1, 31: 1, 34: 1, 35: 1, 48: 1, 51: 1, 52: 1, 54: 1, 2: 0, 3: 0, 7: 0, 12: 0, 13: 0, 17: 0, 18: 0, 19: 0, 21: 0, 26: 0, 30: 0, 36: 0, 39: 0, 41: 0, 43: 0, 44: 0, 46: 0, 47: 0, 49: 0, 50: 0, 55: 0, 56: 0, 57: 0, 58: 0, 60: 0, 61: 0, 64: 0, 65: 0, 66: 0, 67: 0, 69: 0, 70: 0, 77: 0, 79: 0, 90: 0, 91: 0, 97: 0}\n",
            "336 {1: 1, 38: 1, 8: 1, 10: 1, 74: 1, 11: 1, 53: 1, 54: 1, 86: 1, 24: 1, 89: 1, 59: 1, 16: 2, 22: 2, 23: 2, 25: 2, 28: 2, 31: 2, 34: 2, 35: 2, 48: 2, 51: 2, 52: 2, 68: 2, 71: 2, 73: 2, 76: 2, 85: 2, 92: 2, 93: 2, 94: 2}\n",
            "337 {0: 3, 4: 3, 5: 3, 6: 3, 72: 3, 75: 3, 78: 3, 14: 3, 15: 3, 81: 3, 82: 3, 83: 3, 80: 3, 20: 3, 87: 3, 88: 3, 27: 3, 95: 3, 96: 3, 33: 3, 98: 3, 37: 3, 40: 3, 42: 3, 45: 3, 62: 3, 63: 3, 2: 0, 3: 0, 7: 0, 9: 0, 12: 0, 13: 0, 17: 0, 18: 0, 19: 0, 21: 0, 26: 0, 29: 0, 30: 0, 32: 0, 36: 0, 39: 0, 41: 0, 43: 0, 44: 0, 46: 0, 47: 0, 49: 0, 50: 0, 55: 0, 56: 0, 57: 0, 58: 0, 60: 0, 61: 0, 64: 0, 65: 0, 66: 0, 67: 0, 69: 0, 70: 0, 77: 0, 79: 0, 84: 0, 90: 0, 91: 0, 97: 0}\n",
            "338 {2: 3, 3: 3, 7: 3, 12: 3, 13: 3, 17: 3, 19: 3, 21: 3, 26: 3, 30: 3, 32: 3, 36: 3, 39: 3, 41: 3, 43: 3, 44: 3, 46: 3, 47: 3, 49: 3, 50: 3, 55: 3, 56: 3, 57: 3, 58: 3, 60: 3, 61: 3, 64: 3, 65: 3, 66: 3, 67: 3, 69: 3, 70: 3, 77: 3, 79: 3, 84: 3, 90: 3, 91: 3, 97: 3, 0: 0, 4: 0, 5: 0, 6: 0, 9: 0, 14: 0, 15: 0, 18: 0, 20: 0, 27: 0, 29: 0, 33: 0, 37: 0, 40: 0, 42: 0, 45: 0, 62: 0, 63: 0, 72: 0, 75: 0, 78: 0, 80: 0, 81: 0, 82: 0, 83: 0, 87: 0, 88: 0, 95: 0, 96: 0, 98: 0}\n",
            "339 {0: 1, 1: 1, 4: 1, 6: 1, 9: 1, 11: 1, 14: 1, 15: 1, 18: 1, 20: 1, 29: 1, 33: 1, 37: 1, 40: 1, 42: 1, 45: 1, 54: 1, 63: 1, 72: 1, 74: 1, 75: 1, 78: 1, 80: 1, 81: 1, 82: 1, 83: 1, 86: 1, 87: 1, 88: 1, 95: 1, 96: 1, 98: 1, 5: 0, 8: 0, 10: 0, 24: 0, 89: 0, 27: 0, 38: 0, 53: 0, 59: 0, 62: 0}\n",
            "340 {68: 3, 71: 3, 73: 3, 76: 3, 16: 3, 85: 3, 22: 3, 23: 3, 25: 3, 92: 3, 93: 3, 28: 3, 94: 3, 31: 3, 34: 3, 35: 3, 47: 3, 48: 3, 51: 3, 2: 2, 3: 2, 7: 2, 12: 2, 13: 2, 17: 2, 19: 2, 21: 2, 26: 2, 30: 2, 32: 2, 36: 2, 39: 2, 41: 2, 43: 2, 44: 2, 46: 2, 49: 2, 50: 2, 52: 2, 55: 2, 56: 2, 57: 2, 58: 2, 60: 2, 61: 2, 64: 2, 65: 2, 66: 2, 67: 2, 69: 2, 70: 2, 77: 2, 79: 2, 84: 2, 90: 2, 91: 2, 97: 2}\n",
            "341 {5: 0, 38: 0, 8: 0, 59: 0, 10: 0, 53: 0, 24: 0, 89: 0, 27: 0, 0: 1, 1: 1, 4: 1, 6: 1, 9: 1, 11: 1, 14: 1, 15: 1, 18: 1, 20: 1, 29: 1, 33: 1, 37: 1, 40: 1, 42: 1, 45: 1, 54: 1, 62: 1, 63: 1, 72: 1, 74: 1, 75: 1, 78: 1, 80: 1, 81: 1, 82: 1, 83: 1, 86: 1, 87: 1, 88: 1, 95: 1, 96: 1, 98: 1}\n",
            "342 {0: 2, 1: 2, 4: 2, 72: 2, 9: 2, 74: 2, 11: 2, 75: 2, 14: 2, 15: 2, 80: 2, 78: 2, 82: 2, 83: 2, 20: 2, 81: 2, 86: 2, 87: 2, 88: 2, 29: 2, 95: 2, 96: 2, 33: 2, 98: 2, 37: 2, 40: 2, 45: 2, 54: 2, 62: 2, 63: 2, 2: 1, 3: 1, 6: 1, 7: 1, 12: 1, 13: 1, 17: 1, 18: 1, 19: 1, 21: 1, 26: 1, 30: 1, 32: 1, 36: 1, 39: 1, 41: 1, 42: 1, 43: 1, 44: 1, 46: 1, 49: 1, 50: 1, 52: 1, 55: 1, 56: 1, 57: 1, 58: 1, 60: 1, 61: 1, 64: 1, 65: 1, 66: 1, 67: 1, 69: 1, 70: 1, 77: 1, 79: 1, 84: 1, 90: 1, 91: 1, 97: 1}\n",
            "343 {2: 1, 3: 1, 6: 1, 7: 1, 12: 1, 13: 1, 17: 1, 18: 1, 19: 1, 21: 1, 26: 1, 30: 1, 32: 1, 36: 1, 39: 1, 41: 1, 42: 1, 43: 1, 44: 1, 46: 1, 48: 1, 49: 1, 50: 1, 52: 1, 55: 1, 56: 1, 57: 1, 58: 1, 60: 1, 61: 1, 64: 1, 65: 1, 66: 1, 67: 1, 69: 1, 70: 1, 77: 1, 79: 1, 84: 1, 90: 1, 91: 1, 97: 1, 16: 3, 22: 3, 23: 3, 25: 3, 28: 3, 31: 3, 34: 3, 35: 3, 47: 3, 51: 3, 68: 3, 71: 3, 73: 3, 76: 3, 85: 3, 92: 3, 93: 3, 94: 3}\n",
            "344 {5: 0, 38: 0, 8: 0, 59: 0, 10: 0, 53: 0, 24: 0, 89: 0, 27: 0, 16: 3, 22: 3, 23: 3, 25: 3, 28: 3, 31: 3, 34: 3, 35: 3, 47: 3, 51: 3, 68: 3, 71: 3, 73: 3, 76: 3, 85: 3, 92: 3, 93: 3, 94: 3}\n",
            "345 {0: 2, 1: 2, 4: 2, 9: 2, 11: 2, 14: 2, 15: 2, 16: 2, 20: 2, 23: 2, 29: 2, 31: 2, 33: 2, 37: 2, 40: 2, 45: 2, 51: 2, 54: 2, 62: 2, 63: 2, 72: 2, 74: 2, 75: 2, 78: 2, 80: 2, 81: 2, 82: 2, 83: 2, 86: 2, 87: 2, 88: 2, 92: 2, 93: 2, 96: 2, 98: 2, 68: 3, 71: 3, 73: 3, 76: 3, 85: 3, 22: 3, 25: 3, 28: 3, 94: 3, 95: 3, 34: 3, 35: 3, 47: 3}\n",
            "346 {4: 2, 5: 2, 8: 2, 10: 2, 11: 2, 78: 2, 16: 2, 23: 2, 24: 2, 89: 2, 27: 2, 92: 2, 93: 2, 31: 2, 38: 2, 51: 2, 54: 2, 59: 2, 62: 2, 0: 0, 1: 0, 9: 0, 14: 0, 15: 0, 20: 0, 29: 0, 33: 0, 37: 0, 40: 0, 45: 0, 53: 0, 63: 0, 72: 0, 74: 0, 75: 0, 80: 0, 81: 0, 82: 0, 83: 0, 86: 0, 87: 0, 88: 0, 96: 0, 98: 0}\n",
            "347 {34: 3, 35: 3, 68: 3, 71: 3, 73: 3, 47: 3, 51: 3, 54: 3, 22: 3, 25: 3, 93: 3, 95: 3, 4: 2, 5: 2, 8: 2, 10: 2, 11: 2, 16: 2, 23: 2, 24: 2, 27: 2, 28: 2, 31: 2, 38: 2, 59: 2, 62: 2, 76: 2, 78: 2, 85: 2, 89: 2, 92: 2, 94: 2}\n",
            "348 {34: 1, 35: 1, 73: 1, 41: 1, 51: 1, 54: 1, 22: 1, 25: 1, 93: 1, 95: 1, 2: 3, 3: 3, 6: 3, 7: 3, 12: 3, 13: 3, 17: 3, 18: 3, 19: 3, 21: 3, 26: 3, 30: 3, 32: 3, 36: 3, 39: 3, 42: 3, 43: 3, 44: 3, 46: 3, 47: 3, 48: 3, 49: 3, 50: 3, 52: 3, 55: 3, 56: 3, 57: 3, 58: 3, 60: 3, 61: 3, 64: 3, 65: 3, 66: 3, 67: 3, 68: 3, 69: 3, 70: 3, 71: 3, 77: 3, 79: 3, 84: 3, 90: 3, 91: 3, 97: 3}\n",
            "349 {34: 0, 35: 0, 73: 0, 41: 0, 51: 0, 22: 0, 54: 0, 25: 0, 93: 0, 95: 0, 0: 1, 1: 1, 9: 1, 14: 1, 15: 1, 20: 1, 29: 1, 33: 1, 37: 1, 40: 1, 45: 1, 53: 1, 63: 1, 72: 1, 74: 1, 75: 1, 80: 1, 81: 1, 82: 1, 83: 1, 86: 1, 87: 1, 88: 1, 96: 1, 98: 1}\n",
            "350 {2: 1, 3: 1, 7: 1, 12: 1, 13: 1, 17: 1, 18: 1, 19: 1, 21: 1, 26: 1, 30: 1, 32: 1, 36: 1, 39: 1, 42: 1, 43: 1, 44: 1, 46: 1, 47: 1, 48: 1, 49: 1, 50: 1, 52: 1, 55: 1, 56: 1, 57: 1, 58: 1, 60: 1, 61: 1, 64: 1, 65: 1, 66: 1, 67: 1, 68: 1, 69: 1, 70: 1, 71: 1, 72: 1, 77: 1, 79: 1, 84: 1, 90: 1, 91: 1, 97: 1, 0: 3, 1: 3, 6: 3, 9: 3, 14: 3, 15: 3, 20: 3, 29: 3, 33: 3, 37: 3, 40: 3, 45: 3, 53: 3, 63: 3, 74: 3, 75: 3, 80: 3, 81: 3, 82: 3, 83: 3, 86: 3, 87: 3, 88: 3, 96: 3, 98: 3}\n",
            "351 {0: 2, 1: 2, 4: 2, 6: 2, 9: 2, 11: 2, 14: 2, 15: 2, 16: 2, 20: 2, 23: 2, 28: 2, 29: 2, 31: 2, 33: 2, 37: 2, 40: 2, 45: 2, 62: 2, 63: 2, 74: 2, 75: 2, 76: 2, 78: 2, 80: 2, 81: 2, 82: 2, 83: 2, 85: 2, 86: 2, 87: 2, 88: 2, 92: 2, 94: 2, 96: 2, 98: 2, 5: 3, 8: 3, 10: 3, 24: 3, 89: 3, 27: 3, 38: 3, 53: 3, 59: 3}\n",
            "352 {64: 0, 2: 0, 72: 0, 73: 0, 18: 0, 84: 0, 21: 0, 22: 0, 26: 0, 90: 0, 91: 0, 30: 0, 32: 0, 39: 0, 41: 0, 42: 0, 49: 0, 52: 0, 3: 1, 7: 1, 12: 1, 13: 1, 17: 1, 19: 1, 25: 1, 34: 1, 35: 1, 36: 1, 43: 1, 44: 1, 46: 1, 47: 1, 48: 1, 50: 1, 51: 1, 54: 1, 55: 1, 56: 1, 57: 1, 58: 1, 60: 1, 61: 1, 65: 1, 66: 1, 67: 1, 68: 1, 69: 1, 70: 1, 71: 1, 77: 1, 79: 1, 93: 1, 95: 1, 97: 1}\n",
            "353 {34: 0, 35: 0, 68: 0, 71: 0, 73: 0, 47: 0, 48: 0, 51: 0, 22: 0, 54: 0, 25: 0, 93: 0, 95: 0, 2: 1, 3: 1, 7: 1, 12: 1, 13: 1, 17: 1, 18: 1, 19: 1, 21: 1, 26: 1, 30: 1, 32: 1, 36: 1, 39: 1, 41: 1, 42: 1, 43: 1, 44: 1, 46: 1, 49: 1, 50: 1, 52: 1, 55: 1, 56: 1, 57: 1, 58: 1, 60: 1, 61: 1, 64: 1, 65: 1, 66: 1, 67: 1, 69: 1, 70: 1, 72: 1, 77: 1, 79: 1, 84: 1, 90: 1, 91: 1, 97: 1}\n",
            "354 {0: 2, 68: 2, 6: 2, 71: 2, 73: 2, 47: 2, 48: 2, 51: 2, 86: 2, 54: 2, 22: 2, 25: 2, 95: 2, 1: 0, 4: 0, 9: 0, 11: 0, 14: 0, 15: 0, 16: 0, 20: 0, 23: 0, 28: 0, 29: 0, 31: 0, 33: 0, 34: 0, 35: 0, 37: 0, 40: 0, 45: 0, 62: 0, 63: 0, 74: 0, 75: 0, 76: 0, 78: 0, 80: 0, 81: 0, 82: 0, 83: 0, 85: 0, 87: 0, 88: 0, 92: 0, 93: 0, 94: 0, 96: 0, 98: 0}\n",
            "355 {1: 2, 4: 2, 9: 2, 74: 2, 75: 2, 11: 2, 76: 2, 14: 2, 15: 2, 80: 2, 81: 2, 82: 2, 83: 2, 78: 2, 20: 2, 16: 2, 87: 2, 88: 2, 85: 2, 86: 2, 23: 2, 28: 2, 29: 2, 92: 2, 93: 2, 94: 2, 33: 2, 98: 2, 34: 2, 35: 2, 37: 2, 31: 2, 40: 2, 45: 2, 62: 2, 0: 0, 68: 0, 6: 0, 71: 0, 73: 0, 22: 0, 25: 0, 95: 0, 96: 0, 47: 0, 48: 0, 51: 0, 54: 0, 63: 0}\n",
            "356 {8: 3, 11: 3, 76: 3, 16: 3, 83: 3, 85: 3, 86: 3, 23: 3, 24: 3, 28: 3, 92: 3, 93: 3, 94: 3, 31: 3, 34: 3, 35: 3, 37: 3, 38: 3, 1: 2, 4: 2, 5: 2, 9: 2, 10: 2, 14: 2, 15: 2, 20: 2, 27: 2, 29: 2, 33: 2, 40: 2, 45: 2, 53: 2, 59: 2, 62: 2, 74: 2, 75: 2, 78: 2, 80: 2, 81: 2, 82: 2, 87: 2, 88: 2, 89: 2, 98: 2}\n",
            "357 {4: 3, 5: 3, 9: 3, 10: 3, 75: 3, 78: 3, 15: 3, 14: 3, 81: 3, 80: 3, 82: 3, 20: 3, 87: 3, 88: 3, 89: 3, 27: 3, 29: 3, 33: 3, 98: 3, 37: 3, 38: 3, 40: 3, 45: 3, 59: 3, 1: 2, 8: 2, 11: 2, 16: 2, 23: 2, 24: 2, 28: 2, 31: 2, 34: 2, 35: 2, 53: 2, 62: 2, 74: 2, 76: 2, 83: 2, 85: 2, 86: 2, 92: 2, 93: 2, 94: 2}\n",
            "358 {0: 2, 96: 2, 68: 2, 6: 2, 71: 2, 73: 2, 47: 2, 48: 2, 54: 2, 22: 2, 25: 2, 63: 2, 95: 2, 1: 0, 8: 0, 11: 0, 16: 0, 23: 0, 24: 0, 28: 0, 31: 0, 34: 0, 35: 0, 51: 0, 53: 0, 62: 0, 74: 0, 76: 0, 83: 0, 85: 0, 86: 0, 92: 0, 93: 0, 94: 0}\n",
            "359 {0: 1, 96: 1, 6: 1, 71: 1, 73: 1, 47: 1, 52: 1, 22: 1, 54: 1, 25: 1, 63: 1, 95: 1, 2: 2, 3: 2, 7: 2, 12: 2, 13: 2, 17: 2, 18: 2, 19: 2, 21: 2, 26: 2, 30: 2, 32: 2, 36: 2, 39: 2, 41: 2, 42: 2, 43: 2, 44: 2, 46: 2, 48: 2, 49: 2, 50: 2, 55: 2, 56: 2, 57: 2, 58: 2, 60: 2, 61: 2, 64: 2, 65: 2, 66: 2, 67: 2, 68: 2, 69: 2, 70: 2, 72: 2, 77: 2, 79: 2, 84: 2, 90: 2, 91: 2, 97: 2}\n",
            "360 {0: 1, 65: 1, 66: 1, 68: 1, 71: 1, 73: 1, 79: 1, 22: 1, 25: 1, 95: 1, 96: 1, 36: 1, 44: 1, 47: 1, 48: 1, 54: 1, 58: 1, 63: 1, 2: 2, 3: 2, 6: 2, 7: 2, 12: 2, 13: 2, 17: 2, 18: 2, 19: 2, 21: 2, 26: 2, 30: 2, 32: 2, 39: 2, 41: 2, 42: 2, 43: 2, 46: 2, 49: 2, 50: 2, 52: 2, 55: 2, 56: 2, 57: 2, 60: 2, 61: 2, 64: 2, 67: 2, 69: 2, 70: 2, 72: 2, 77: 2, 84: 2, 90: 2, 91: 2, 97: 2}\n",
            "361 {5: 3, 8: 3, 10: 3, 11: 3, 76: 3, 16: 3, 85: 3, 86: 3, 23: 3, 24: 3, 89: 3, 28: 3, 93: 3, 94: 3, 31: 3, 92: 3, 34: 3, 35: 3, 38: 3, 51: 3, 59: 3, 1: 0, 4: 0, 9: 0, 14: 0, 15: 0, 20: 0, 27: 0, 29: 0, 33: 0, 37: 0, 40: 0, 45: 0, 53: 0, 62: 0, 74: 0, 75: 0, 78: 0, 80: 0, 81: 0, 82: 0, 83: 0, 87: 0, 88: 0, 98: 0}\n",
            "362 {1: 0, 4: 0, 9: 0, 74: 0, 75: 0, 78: 0, 80: 0, 81: 0, 82: 0, 83: 0, 87: 0, 88: 0, 27: 0, 29: 0, 33: 0, 98: 0, 37: 0, 40: 0, 45: 0, 53: 0, 62: 0, 2: 2, 3: 2, 6: 2, 7: 2, 12: 2, 13: 2, 14: 2, 15: 2, 17: 2, 18: 2, 19: 2, 20: 2, 21: 2, 26: 2, 30: 2, 32: 2, 39: 2, 41: 2, 42: 2, 43: 2, 46: 2, 49: 2, 50: 2, 52: 2, 55: 2, 56: 2, 57: 2, 60: 2, 61: 2, 64: 2, 67: 2, 69: 2, 70: 2, 72: 2, 77: 2, 84: 2, 90: 2, 91: 2, 97: 2}\n",
            "363 {0: 2, 96: 2, 68: 2, 71: 2, 73: 2, 47: 2, 48: 2, 52: 2, 54: 2, 22: 2, 25: 2, 63: 2, 95: 2, 2: 1, 3: 1, 6: 1, 7: 1, 12: 1, 13: 1, 14: 1, 15: 1, 17: 1, 18: 1, 19: 1, 20: 1, 21: 1, 26: 1, 30: 1, 32: 1, 36: 1, 39: 1, 41: 1, 42: 1, 43: 1, 44: 1, 46: 1, 49: 1, 50: 1, 55: 1, 56: 1, 57: 1, 58: 1, 60: 1, 61: 1, 64: 1, 65: 1, 66: 1, 67: 1, 69: 1, 70: 1, 72: 1, 77: 1, 79: 1, 84: 1, 90: 1, 91: 1, 97: 1}\n",
            "364 {5: 3, 8: 3, 10: 3, 11: 3, 76: 3, 16: 3, 85: 3, 86: 3, 23: 3, 24: 3, 89: 3, 25: 3, 92: 3, 28: 3, 93: 3, 94: 3, 31: 3, 34: 3, 35: 3, 38: 3, 51: 3, 59: 3, 0: 2, 22: 2, 47: 2, 48: 2, 52: 2, 54: 2, 63: 2, 68: 2, 71: 2, 73: 2, 95: 2, 96: 2}\n",
            "365 {5: 0, 8: 0, 10: 0, 11: 0, 76: 0, 16: 0, 85: 0, 86: 0, 23: 0, 24: 0, 89: 0, 25: 0, 92: 0, 28: 0, 93: 0, 94: 0, 31: 0, 34: 0, 35: 0, 38: 0, 51: 0, 59: 0, 1: 3, 4: 3, 9: 3, 27: 3, 29: 3, 33: 3, 37: 3, 40: 3, 45: 3, 53: 3, 62: 3, 74: 3, 75: 3, 78: 3, 80: 3, 81: 3, 82: 3, 83: 3, 87: 3, 88: 3, 98: 3}\n",
            "366 {0: 2, 68: 2, 71: 2, 73: 2, 47: 2, 48: 2, 52: 2, 54: 2, 22: 2, 95: 2, 63: 2, 1: 3, 4: 3, 9: 3, 27: 3, 29: 3, 33: 3, 37: 3, 40: 3, 45: 3, 53: 3, 62: 3, 74: 3, 75: 3, 78: 3, 80: 3, 81: 3, 82: 3, 83: 3, 87: 3, 88: 3, 96: 3, 98: 3}\n",
            "367 {5: 0, 38: 0, 8: 0, 59: 0, 10: 0, 53: 0, 24: 0, 89: 0, 27: 0, 62: 0, 1: 3, 4: 3, 9: 3, 11: 3, 16: 3, 23: 3, 25: 3, 28: 3, 29: 3, 31: 3, 33: 3, 34: 3, 35: 3, 37: 3, 40: 3, 45: 3, 51: 3, 74: 3, 75: 3, 76: 3, 78: 3, 80: 3, 81: 3, 82: 3, 83: 3, 85: 3, 86: 3, 87: 3, 88: 3, 92: 3, 93: 3, 94: 3, 96: 3, 98: 3}\n",
            "368 {0: 1, 68: 1, 36: 1, 6: 1, 71: 1, 73: 1, 44: 1, 47: 1, 48: 1, 52: 1, 22: 1, 54: 1, 63: 1, 95: 1, 2: 2, 3: 2, 7: 2, 12: 2, 13: 2, 14: 2, 15: 2, 17: 2, 18: 2, 19: 2, 20: 2, 21: 2, 26: 2, 30: 2, 32: 2, 39: 2, 41: 2, 42: 2, 43: 2, 46: 2, 49: 2, 50: 2, 55: 2, 56: 2, 57: 2, 58: 2, 60: 2, 61: 2, 64: 2, 65: 2, 66: 2, 67: 2, 69: 2, 70: 2, 72: 2, 77: 2, 79: 2, 84: 2, 90: 2, 91: 2, 97: 2}\n",
            "369 {1: 2, 4: 2, 9: 2, 11: 2, 15: 2, 16: 2, 23: 2, 25: 2, 28: 2, 29: 2, 31: 2, 33: 2, 34: 2, 35: 2, 37: 2, 40: 2, 45: 2, 51: 2, 74: 2, 75: 2, 76: 2, 78: 2, 80: 2, 81: 2, 82: 2, 83: 2, 85: 2, 86: 2, 88: 2, 92: 2, 93: 2, 94: 2, 96: 2, 98: 2, 2: 3, 3: 3, 7: 3, 12: 3, 13: 3, 14: 3, 17: 3, 18: 3, 19: 3, 20: 3, 21: 3, 26: 3, 30: 3, 32: 3, 39: 3, 41: 3, 42: 3, 43: 3, 46: 3, 49: 3, 50: 3, 55: 3, 56: 3, 57: 3, 58: 3, 60: 3, 61: 3, 64: 3, 65: 3, 66: 3, 67: 3, 69: 3, 70: 3, 72: 3, 77: 3, 79: 3, 84: 3, 87: 3, 90: 3, 91: 3, 97: 3}\n",
            "370 {2: 2, 3: 2, 7: 2, 9: 2, 12: 2, 13: 2, 17: 2, 18: 2, 19: 2, 21: 2, 26: 2, 30: 2, 32: 2, 39: 2, 41: 2, 42: 2, 43: 2, 46: 2, 49: 2, 50: 2, 55: 2, 56: 2, 57: 2, 58: 2, 60: 2, 61: 2, 64: 2, 65: 2, 66: 2, 67: 2, 69: 2, 70: 2, 72: 2, 77: 2, 79: 2, 84: 2, 90: 2, 91: 2, 97: 2, 1: 3, 4: 3, 11: 3, 14: 3, 15: 3, 16: 3, 20: 3, 23: 3, 25: 3, 28: 3, 29: 3, 31: 3, 33: 3, 34: 3, 35: 3, 37: 3, 40: 3, 45: 3, 51: 3, 74: 3, 75: 3, 76: 3, 78: 3, 80: 3, 81: 3, 82: 3, 83: 3, 85: 3, 86: 3, 87: 3, 88: 3, 92: 3, 93: 3, 94: 3, 96: 3, 98: 3}\n",
            "371 {1: 3, 4: 3, 74: 3, 75: 3, 78: 3, 14: 3, 15: 3, 81: 3, 82: 3, 83: 3, 80: 3, 20: 3, 87: 3, 88: 3, 27: 3, 29: 3, 96: 3, 33: 3, 98: 3, 37: 3, 40: 3, 45: 3, 53: 3, 62: 3, 5: 0, 8: 0, 10: 0, 11: 0, 16: 0, 23: 0, 24: 0, 25: 0, 28: 0, 31: 0, 34: 0, 35: 0, 38: 0, 51: 0, 59: 0, 76: 0, 85: 0, 86: 0, 89: 0, 92: 0, 93: 0, 94: 0}\n",
            "372 {1: 3, 4: 3, 74: 3, 75: 3, 78: 3, 80: 3, 81: 3, 82: 3, 83: 3, 88: 3, 27: 3, 29: 3, 96: 3, 33: 3, 98: 3, 37: 3, 40: 3, 45: 3, 53: 3, 62: 3, 2: 2, 3: 2, 7: 2, 9: 2, 12: 2, 13: 2, 14: 2, 15: 2, 17: 2, 18: 2, 19: 2, 20: 2, 21: 2, 26: 2, 30: 2, 32: 2, 39: 2, 41: 2, 42: 2, 43: 2, 46: 2, 49: 2, 50: 2, 55: 2, 56: 2, 57: 2, 58: 2, 60: 2, 61: 2, 64: 2, 65: 2, 66: 2, 67: 2, 69: 2, 70: 2, 72: 2, 77: 2, 79: 2, 84: 2, 87: 2, 90: 2, 91: 2, 97: 2}\n",
            "373 {5: 3, 38: 3, 59: 3, 10: 3, 11: 3, 53: 3, 24: 3, 89: 3, 27: 3, 62: 3, 1: 0, 4: 0, 8: 0, 16: 0, 23: 0, 25: 0, 28: 0, 29: 0, 31: 0, 33: 0, 34: 0, 35: 0, 37: 0, 40: 0, 45: 0, 51: 0, 74: 0, 75: 0, 76: 0, 78: 0, 80: 0, 81: 0, 82: 0, 83: 0, 85: 0, 86: 0, 88: 0, 92: 0, 93: 0, 94: 0, 96: 0, 98: 0}\n",
            "374 {1: 0, 4: 0, 74: 0, 75: 0, 78: 0, 80: 0, 81: 0, 82: 0, 83: 0, 88: 0, 27: 0, 29: 0, 96: 0, 33: 0, 98: 0, 37: 0, 40: 0, 45: 0, 53: 0, 62: 0, 5: 3, 8: 3, 10: 3, 11: 3, 16: 3, 23: 3, 24: 3, 25: 3, 28: 3, 31: 3, 34: 3, 35: 3, 38: 3, 51: 3, 59: 3, 76: 3, 85: 3, 86: 3, 89: 3, 92: 3, 93: 3, 94: 3}\n",
            "375 {1: 0, 8: 0, 11: 0, 76: 0, 80: 0, 16: 0, 83: 0, 85: 0, 86: 0, 23: 0, 24: 0, 25: 0, 28: 0, 29: 0, 92: 0, 93: 0, 94: 0, 33: 0, 96: 0, 31: 0, 34: 0, 35: 0, 37: 0, 45: 0, 51: 0, 4: 3, 5: 3, 10: 3, 27: 3, 38: 3, 40: 3, 53: 3, 59: 3, 62: 3, 74: 3, 75: 3, 78: 3, 81: 3, 82: 3, 88: 3, 89: 3, 98: 3}\n",
            "376 {0: 1, 68: 1, 71: 1, 73: 1, 41: 1, 47: 1, 79: 1, 54: 1, 22: 1, 95: 1, 2: 2, 3: 2, 6: 2, 7: 2, 9: 2, 12: 2, 13: 2, 14: 2, 15: 2, 17: 2, 18: 2, 19: 2, 20: 2, 21: 2, 26: 2, 30: 2, 32: 2, 36: 2, 39: 2, 42: 2, 43: 2, 44: 2, 46: 2, 48: 2, 49: 2, 50: 2, 52: 2, 55: 2, 56: 2, 57: 2, 58: 2, 60: 2, 61: 2, 63: 2, 64: 2, 65: 2, 66: 2, 67: 2, 69: 2, 70: 2, 72: 2, 77: 2, 84: 2, 87: 2, 90: 2, 91: 2, 97: 2}\n",
            "377 {0: 2, 66: 2, 68: 2, 71: 2, 7: 2, 73: 2, 79: 2, 22: 2, 95: 2, 36: 2, 44: 2, 47: 2, 48: 2, 54: 2, 55: 2, 58: 2, 63: 2, 2: 1, 3: 1, 6: 1, 9: 1, 12: 1, 13: 1, 14: 1, 15: 1, 17: 1, 18: 1, 19: 1, 20: 1, 21: 1, 26: 1, 30: 1, 32: 1, 39: 1, 41: 1, 42: 1, 43: 1, 46: 1, 49: 1, 50: 1, 52: 1, 56: 1, 57: 1, 60: 1, 61: 1, 64: 1, 65: 1, 67: 1, 69: 1, 70: 1, 72: 1, 77: 1, 84: 1, 87: 1, 90: 1, 91: 1, 97: 1}\n",
            "378 {5: 0, 38: 0, 53: 0, 27: 0, 8: 0, 10: 0, 59: 0, 24: 0, 1: 3, 4: 3, 11: 3, 16: 3, 23: 3, 25: 3, 28: 3, 29: 3, 31: 3, 33: 3, 34: 3, 35: 3, 37: 3, 40: 3, 45: 3, 51: 3, 62: 3, 74: 3, 75: 3, 76: 3, 78: 3, 80: 3, 81: 3, 82: 3, 83: 3, 85: 3, 86: 3, 88: 3, 89: 3, 92: 3, 93: 3, 94: 3, 96: 3, 98: 3}\n",
            "379 {2: 1, 3: 1, 7: 1, 9: 1, 12: 1, 13: 1, 14: 1, 15: 1, 17: 1, 18: 1, 19: 1, 20: 1, 21: 1, 26: 1, 30: 1, 32: 1, 39: 1, 41: 1, 42: 1, 43: 1, 44: 1, 46: 1, 49: 1, 50: 1, 55: 1, 56: 1, 57: 1, 58: 1, 60: 1, 61: 1, 64: 1, 66: 1, 67: 1, 69: 1, 70: 1, 72: 1, 77: 1, 84: 1, 87: 1, 90: 1, 91: 1, 97: 1, 0: 2, 65: 2, 68: 2, 6: 2, 71: 2, 73: 2, 79: 2, 22: 2, 95: 2, 36: 2, 47: 2, 48: 2, 52: 2, 54: 2, 63: 2}\n",
            "380 {0: 2, 1: 2, 4: 2, 6: 2, 74: 2, 75: 2, 78: 2, 80: 2, 81: 2, 82: 2, 83: 2, 22: 2, 88: 2, 89: 2, 29: 2, 95: 2, 96: 2, 33: 2, 98: 2, 37: 2, 40: 2, 45: 2, 51: 2, 52: 2, 54: 2, 62: 2, 63: 2, 11: 3, 16: 3, 23: 3, 25: 3, 28: 3, 31: 3, 34: 3, 35: 3, 36: 3, 47: 3, 48: 3, 65: 3, 68: 3, 71: 3, 73: 3, 76: 3, 79: 3, 85: 3, 86: 3, 92: 3, 93: 3, 94: 3}\n",
            "381 {0: 2, 65: 2, 36: 2, 68: 2, 71: 2, 73: 2, 47: 2, 48: 2, 79: 2, 52: 2, 54: 2, 86: 2, 22: 2, 95: 2, 1: 3, 4: 3, 6: 3, 11: 3, 16: 3, 23: 3, 25: 3, 28: 3, 29: 3, 31: 3, 33: 3, 34: 3, 35: 3, 37: 3, 40: 3, 45: 3, 51: 3, 62: 3, 63: 3, 74: 3, 75: 3, 76: 3, 78: 3, 80: 3, 81: 3, 82: 3, 83: 3, 85: 3, 88: 3, 89: 3, 92: 3, 93: 3, 94: 3, 96: 3, 98: 3}\n",
            "382 {96: 2, 0: 2, 33: 2, 6: 2, 40: 2, 73: 2, 45: 2, 80: 2, 29: 2, 83: 2, 52: 2, 54: 2, 63: 2, 95: 2, 1: 3, 4: 3, 11: 3, 16: 3, 22: 3, 23: 3, 25: 3, 28: 3, 31: 3, 34: 3, 35: 3, 36: 3, 37: 3, 47: 3, 48: 3, 51: 3, 62: 3, 65: 3, 68: 3, 71: 3, 74: 3, 75: 3, 76: 3, 78: 3, 79: 3, 81: 3, 82: 3, 85: 3, 86: 3, 88: 3, 89: 3, 92: 3, 93: 3, 94: 3, 98: 3}\n",
            "383 {1: 3, 4: 3, 11: 3, 16: 3, 22: 3, 23: 3, 25: 3, 28: 3, 31: 3, 34: 3, 35: 3, 37: 3, 47: 3, 51: 3, 62: 3, 68: 3, 71: 3, 74: 3, 75: 3, 76: 3, 78: 3, 79: 3, 81: 3, 82: 3, 85: 3, 86: 3, 88: 3, 89: 3, 92: 3, 93: 3, 94: 3, 98: 3, 2: 1, 3: 1, 7: 1, 9: 1, 12: 1, 13: 1, 14: 1, 15: 1, 17: 1, 18: 1, 19: 1, 20: 1, 21: 1, 26: 1, 30: 1, 32: 1, 36: 1, 39: 1, 41: 1, 42: 1, 43: 1, 44: 1, 46: 1, 48: 1, 49: 1, 50: 1, 55: 1, 56: 1, 57: 1, 58: 1, 60: 1, 61: 1, 64: 1, 65: 1, 66: 1, 67: 1, 69: 1, 70: 1, 72: 1, 77: 1, 84: 1, 87: 1, 90: 1, 91: 1, 97: 1}\n",
            "384 {0: 1, 2: 1, 6: 1, 9: 1, 12: 1, 13: 1, 14: 1, 15: 1, 17: 1, 18: 1, 19: 1, 20: 1, 21: 1, 26: 1, 29: 1, 32: 1, 33: 1, 39: 1, 40: 1, 42: 1, 45: 1, 49: 1, 50: 1, 52: 1, 54: 1, 56: 1, 63: 1, 64: 1, 72: 1, 80: 1, 83: 1, 84: 1, 87: 1, 90: 1, 91: 1, 95: 1, 96: 1, 3: 2, 7: 2, 30: 2, 36: 2, 41: 2, 43: 2, 44: 2, 46: 2, 48: 2, 55: 2, 57: 2, 58: 2, 60: 2, 61: 2, 65: 2, 66: 2, 67: 2, 69: 2, 70: 2, 73: 2, 77: 2, 97: 2}\n",
            "385 {1: 1, 4: 1, 68: 1, 71: 1, 74: 1, 11: 1, 76: 1, 78: 1, 79: 1, 16: 1, 81: 1, 85: 1, 86: 1, 23: 1, 88: 1, 89: 1, 22: 1, 25: 1, 28: 1, 92: 1, 94: 1, 93: 1, 31: 1, 98: 1, 34: 1, 35: 1, 37: 1, 47: 1, 51: 1, 54: 1, 62: 1, 0: 3, 2: 3, 6: 3, 9: 3, 12: 3, 13: 3, 14: 3, 15: 3, 17: 3, 18: 3, 19: 3, 20: 3, 21: 3, 26: 3, 29: 3, 32: 3, 33: 3, 39: 3, 40: 3, 42: 3, 45: 3, 49: 3, 50: 3, 52: 3, 56: 3, 63: 3, 64: 3, 72: 3, 75: 3, 80: 3, 82: 3, 83: 3, 84: 3, 87: 3, 90: 3, 91: 3, 95: 3, 96: 3}\n",
            "386 {65: 2, 66: 2, 67: 2, 3: 2, 69: 2, 70: 2, 73: 2, 77: 2, 79: 2, 30: 2, 97: 2, 41: 2, 43: 2, 46: 2, 55: 2, 57: 2, 58: 2, 60: 2, 61: 2, 1: 1, 4: 1, 7: 1, 11: 1, 16: 1, 22: 1, 23: 1, 25: 1, 28: 1, 31: 1, 34: 1, 35: 1, 36: 1, 37: 1, 44: 1, 47: 1, 48: 1, 51: 1, 54: 1, 62: 1, 68: 1, 71: 1, 74: 1, 76: 1, 78: 1, 81: 1, 85: 1, 86: 1, 88: 1, 89: 1, 92: 1, 93: 1, 94: 1, 98: 1}\n",
            "387 {1: 0, 4: 0, 5: 0, 68: 0, 7: 0, 71: 0, 74: 0, 11: 0, 78: 0, 16: 0, 81: 0, 86: 0, 23: 0, 88: 0, 22: 0, 25: 0, 27: 0, 93: 0, 31: 0, 98: 0, 34: 0, 35: 0, 37: 0, 36: 0, 44: 0, 47: 0, 48: 0, 51: 0, 54: 0, 62: 0, 8: 1, 10: 1, 24: 1, 28: 1, 38: 1, 53: 1, 59: 1, 76: 1, 85: 1, 89: 1, 92: 1, 94: 1}\n",
            "388 {0: 0, 1: 0, 68: 0, 71: 0, 7: 0, 11: 0, 80: 0, 16: 0, 83: 0, 86: 0, 22: 0, 23: 0, 25: 0, 29: 0, 93: 0, 31: 0, 96: 0, 33: 0, 95: 0, 34: 0, 35: 0, 36: 0, 37: 0, 44: 0, 45: 0, 47: 0, 48: 0, 51: 0, 54: 0, 63: 0, 2: 3, 4: 3, 5: 3, 6: 3, 9: 3, 12: 3, 13: 3, 14: 3, 15: 3, 17: 3, 18: 3, 19: 3, 20: 3, 21: 3, 26: 3, 27: 3, 32: 3, 39: 3, 40: 3, 42: 3, 49: 3, 50: 3, 52: 3, 56: 3, 62: 3, 64: 3, 72: 3, 74: 3, 75: 3, 78: 3, 81: 3, 82: 3, 84: 3, 87: 3, 88: 3, 90: 3, 91: 3, 98: 3}\n",
            "389 {2: 0, 4: 0, 5: 0, 6: 0, 9: 0, 12: 0, 13: 0, 14: 0, 15: 0, 17: 0, 18: 0, 19: 0, 20: 0, 21: 0, 26: 0, 27: 0, 32: 0, 33: 0, 39: 0, 40: 0, 42: 0, 49: 0, 50: 0, 56: 0, 64: 0, 72: 0, 75: 0, 78: 0, 80: 0, 81: 0, 82: 0, 84: 0, 87: 0, 88: 0, 90: 0, 98: 0, 0: 3, 1: 3, 7: 3, 11: 3, 16: 3, 22: 3, 23: 3, 25: 3, 29: 3, 31: 3, 34: 3, 35: 3, 36: 3, 37: 3, 44: 3, 45: 3, 47: 3, 48: 3, 51: 3, 52: 3, 54: 3, 62: 3, 63: 3, 68: 3, 71: 3, 74: 3, 83: 3, 86: 3, 91: 3, 93: 3, 95: 3, 96: 3}\n",
            "390 {97: 0, 65: 0, 3: 0, 66: 0, 67: 0, 70: 0, 73: 0, 41: 0, 43: 0, 77: 0, 46: 0, 79: 0, 55: 0, 58: 0, 30: 0, 2: 2, 4: 2, 5: 2, 6: 2, 9: 2, 12: 2, 13: 2, 14: 2, 15: 2, 17: 2, 18: 2, 19: 2, 20: 2, 21: 2, 26: 2, 27: 2, 32: 2, 33: 2, 39: 2, 40: 2, 42: 2, 49: 2, 50: 2, 56: 2, 57: 2, 60: 2, 61: 2, 64: 2, 69: 2, 72: 2, 75: 2, 78: 2, 80: 2, 81: 2, 82: 2, 84: 2, 87: 2, 88: 2, 90: 2, 98: 2}\n",
            "391 {0: 1, 1: 1, 68: 1, 7: 1, 71: 1, 74: 1, 11: 1, 16: 1, 83: 1, 86: 1, 23: 1, 22: 1, 25: 1, 91: 1, 28: 1, 93: 1, 94: 1, 29: 1, 96: 1, 95: 1, 34: 1, 35: 1, 36: 1, 37: 1, 44: 1, 45: 1, 47: 1, 48: 1, 51: 1, 52: 1, 54: 1, 63: 1, 8: 3, 10: 3, 76: 3, 85: 3, 24: 3, 89: 3, 92: 3, 31: 3, 38: 3, 53: 3, 59: 3, 62: 3}\n",
            "392 {65: 1, 66: 1, 3: 1, 67: 1, 70: 1, 7: 1, 73: 1, 77: 1, 79: 1, 91: 1, 30: 1, 97: 1, 41: 1, 43: 1, 44: 1, 46: 1, 52: 1, 55: 1, 58: 1, 0: 0, 1: 0, 11: 0, 16: 0, 22: 0, 23: 0, 25: 0, 28: 0, 29: 0, 34: 0, 35: 0, 36: 0, 37: 0, 45: 0, 47: 0, 48: 0, 51: 0, 54: 0, 63: 0, 68: 0, 71: 0, 74: 0, 83: 0, 86: 0, 93: 0, 94: 0, 95: 0, 96: 0}\n",
            "393 {5: 2, 38: 2, 8: 2, 10: 2, 76: 2, 53: 2, 85: 2, 24: 2, 89: 2, 59: 2, 92: 2, 62: 2, 31: 2, 2: 3, 4: 3, 6: 3, 9: 3, 12: 3, 13: 3, 14: 3, 15: 3, 17: 3, 18: 3, 19: 3, 20: 3, 21: 3, 26: 3, 27: 3, 32: 3, 33: 3, 39: 3, 40: 3, 42: 3, 49: 3, 50: 3, 56: 3, 57: 3, 60: 3, 61: 3, 64: 3, 69: 3, 72: 3, 75: 3, 78: 3, 80: 3, 81: 3, 82: 3, 84: 3, 87: 3, 88: 3, 90: 3, 98: 3}\n",
            "394 {0: 0, 68: 0, 71: 0, 11: 0, 76: 0, 16: 0, 85: 0, 86: 0, 23: 0, 24: 0, 22: 0, 25: 0, 92: 0, 28: 0, 29: 0, 93: 0, 95: 0, 96: 0, 94: 0, 34: 0, 35: 0, 36: 0, 31: 0, 45: 0, 47: 0, 48: 0, 51: 0, 54: 0, 63: 0, 1: 2, 5: 2, 8: 2, 10: 2, 37: 2, 38: 2, 53: 2, 59: 2, 62: 2, 74: 2, 83: 2, 89: 2}\n",
            "395 {65: 1, 66: 1, 3: 1, 67: 1, 7: 1, 73: 1, 77: 1, 79: 1, 91: 1, 30: 1, 97: 1, 41: 1, 43: 1, 44: 1, 46: 1, 52: 1, 55: 1, 58: 1, 61: 1, 2: 3, 4: 3, 6: 3, 9: 3, 12: 3, 13: 3, 14: 3, 15: 3, 17: 3, 18: 3, 19: 3, 20: 3, 21: 3, 26: 3, 27: 3, 32: 3, 33: 3, 39: 3, 40: 3, 42: 3, 49: 3, 50: 3, 56: 3, 57: 3, 60: 3, 64: 3, 69: 3, 70: 3, 72: 3, 75: 3, 78: 3, 80: 3, 81: 3, 82: 3, 84: 3, 87: 3, 88: 3, 90: 3, 98: 3}\n",
            "396 {2: 3, 6: 3, 9: 3, 12: 3, 13: 3, 14: 3, 15: 3, 17: 3, 18: 3, 19: 3, 20: 3, 21: 3, 26: 3, 32: 3, 33: 3, 37: 3, 39: 3, 40: 3, 42: 3, 49: 3, 50: 3, 56: 3, 57: 3, 60: 3, 64: 3, 69: 3, 70: 3, 72: 3, 75: 3, 80: 3, 82: 3, 84: 3, 87: 3, 88: 3, 90: 3, 98: 3, 1: 2, 4: 2, 5: 2, 8: 2, 10: 2, 74: 2, 78: 2, 81: 2, 83: 2, 89: 2, 27: 2, 38: 2, 53: 2, 59: 2, 62: 2}\n",
            "397 {2: 3, 6: 3, 9: 3, 12: 3, 13: 3, 14: 3, 15: 3, 17: 3, 18: 3, 19: 3, 20: 3, 21: 3, 26: 3, 32: 3, 33: 3, 37: 3, 39: 3, 40: 3, 42: 3, 49: 3, 50: 3, 56: 3, 57: 3, 60: 3, 64: 3, 69: 3, 70: 3, 72: 3, 75: 3, 80: 3, 82: 3, 84: 3, 87: 3, 88: 3, 90: 3, 91: 3, 98: 3, 3: 1, 7: 1, 30: 1, 41: 1, 43: 1, 44: 1, 46: 1, 52: 1, 55: 1, 58: 1, 61: 1, 65: 1, 66: 1, 67: 1, 73: 1, 77: 1, 79: 1, 97: 1}\n",
            "398 {65: 3, 66: 3, 67: 3, 3: 3, 6: 3, 7: 3, 73: 3, 77: 3, 79: 3, 30: 3, 97: 3, 41: 3, 43: 3, 44: 3, 46: 3, 52: 3, 55: 3, 58: 3, 2: 1, 9: 1, 12: 1, 13: 1, 14: 1, 15: 1, 17: 1, 18: 1, 19: 1, 20: 1, 21: 1, 26: 1, 32: 1, 33: 1, 37: 1, 39: 1, 40: 1, 42: 1, 49: 1, 50: 1, 56: 1, 57: 1, 60: 1, 61: 1, 64: 1, 69: 1, 70: 1, 72: 1, 75: 1, 80: 1, 82: 1, 84: 1, 87: 1, 88: 1, 90: 1, 91: 1, 98: 1}\n",
            "399 {65: 3, 66: 3, 67: 3, 3: 3, 69: 3, 70: 3, 7: 3, 73: 3, 77: 3, 79: 3, 30: 3, 97: 3, 41: 3, 43: 3, 44: 3, 46: 3, 55: 3, 57: 3, 58: 3, 61: 3, 2: 1, 6: 1, 9: 1, 12: 1, 13: 1, 14: 1, 15: 1, 17: 1, 18: 1, 19: 1, 20: 1, 21: 1, 26: 1, 32: 1, 33: 1, 37: 1, 39: 1, 40: 1, 42: 1, 49: 1, 50: 1, 52: 1, 56: 1, 60: 1, 64: 1, 72: 1, 75: 1, 80: 1, 82: 1, 84: 1, 87: 1, 88: 1, 90: 1, 91: 1, 98: 1}\n",
            "400 {0: 0, 96: 0, 73: 0, 41: 0, 45: 0, 63: 0, 86: 0, 54: 0, 29: 0, 30: 0, 95: 0, 3: 3, 7: 3, 11: 3, 16: 3, 22: 3, 23: 3, 24: 3, 25: 3, 28: 3, 31: 3, 34: 3, 35: 3, 36: 3, 43: 3, 44: 3, 46: 3, 47: 3, 48: 3, 51: 3, 55: 3, 57: 3, 58: 3, 61: 3, 65: 3, 66: 3, 67: 3, 68: 3, 69: 3, 70: 3, 71: 3, 76: 3, 77: 3, 79: 3, 85: 3, 92: 3, 93: 3, 94: 3, 97: 3}\n",
            "401 {3: 2, 7: 2, 11: 2, 16: 2, 22: 2, 23: 2, 24: 2, 25: 2, 28: 2, 31: 2, 34: 2, 35: 2, 36: 2, 43: 2, 44: 2, 46: 2, 47: 2, 48: 2, 51: 2, 55: 2, 57: 2, 58: 2, 61: 2, 65: 2, 66: 2, 67: 2, 68: 2, 69: 2, 70: 2, 71: 2, 76: 2, 77: 2, 79: 2, 85: 2, 92: 2, 93: 2, 94: 2, 97: 2, 1: 3, 4: 3, 5: 3, 8: 3, 10: 3, 74: 3, 78: 3, 81: 3, 83: 3, 89: 3, 27: 3, 38: 3, 53: 3, 59: 3, 62: 3}\n",
            "402 {0: 1, 41: 1, 73: 1, 52: 1, 54: 1, 86: 1, 95: 1, 63: 1, 2: 0, 6: 0, 9: 0, 12: 0, 13: 0, 14: 0, 15: 0, 17: 0, 18: 0, 19: 0, 20: 0, 21: 0, 26: 0, 29: 0, 30: 0, 32: 0, 33: 0, 37: 0, 39: 0, 40: 0, 42: 0, 45: 0, 49: 0, 50: 0, 56: 0, 60: 0, 64: 0, 72: 0, 75: 0, 80: 0, 82: 0, 84: 0, 87: 0, 88: 0, 90: 0, 91: 0, 96: 0, 98: 0}\n",
            "403 {1: 0, 2: 0, 6: 0, 9: 0, 12: 0, 13: 0, 14: 0, 15: 0, 17: 0, 18: 0, 19: 0, 20: 0, 21: 0, 26: 0, 29: 0, 30: 0, 32: 0, 33: 0, 37: 0, 39: 0, 40: 0, 42: 0, 45: 0, 49: 0, 50: 0, 56: 0, 60: 0, 64: 0, 72: 0, 80: 0, 83: 0, 84: 0, 87: 0, 90: 0, 91: 0, 96: 0, 4: 3, 5: 3, 8: 3, 10: 3, 27: 3, 38: 3, 53: 3, 59: 3, 62: 3, 74: 3, 75: 3, 78: 3, 81: 3, 82: 3, 88: 3, 89: 3, 98: 3}\n",
            "404 {0: 2, 73: 2, 41: 2, 11: 2, 52: 2, 86: 2, 54: 2, 95: 2, 63: 2, 3: 1, 7: 1, 16: 1, 22: 1, 23: 1, 24: 1, 25: 1, 28: 1, 31: 1, 34: 1, 35: 1, 36: 1, 43: 1, 44: 1, 46: 1, 47: 1, 48: 1, 51: 1, 55: 1, 57: 1, 58: 1, 61: 1, 65: 1, 66: 1, 67: 1, 68: 1, 69: 1, 70: 1, 71: 1, 76: 1, 77: 1, 79: 1, 85: 1, 92: 1, 93: 1, 94: 1, 97: 1}\n",
            "405 {96: 2, 1: 2, 0: 2, 73: 2, 11: 2, 83: 2, 52: 2, 86: 2, 54: 2, 63: 2, 95: 2, 2: 0, 6: 0, 9: 0, 12: 0, 13: 0, 14: 0, 15: 0, 17: 0, 18: 0, 19: 0, 20: 0, 21: 0, 26: 0, 29: 0, 30: 0, 32: 0, 33: 0, 37: 0, 39: 0, 40: 0, 41: 0, 42: 0, 45: 0, 49: 0, 50: 0, 56: 0, 60: 0, 64: 0, 72: 0, 80: 0, 84: 0, 87: 0, 90: 0, 91: 0}\n",
            "406 {2: 0, 6: 0, 9: 0, 12: 0, 13: 0, 14: 0, 15: 0, 17: 0, 18: 0, 19: 0, 20: 0, 21: 0, 26: 0, 29: 0, 30: 0, 32: 0, 33: 0, 37: 0, 39: 0, 40: 0, 41: 0, 42: 0, 45: 0, 49: 0, 50: 0, 56: 0, 60: 0, 64: 0, 72: 0, 79: 0, 80: 0, 84: 0, 87: 0, 90: 0, 91: 0, 3: 1, 7: 1, 16: 1, 22: 1, 23: 1, 24: 1, 25: 1, 28: 1, 31: 1, 34: 1, 35: 1, 36: 1, 43: 1, 44: 1, 46: 1, 47: 1, 48: 1, 51: 1, 55: 1, 57: 1, 58: 1, 61: 1, 65: 1, 66: 1, 67: 1, 68: 1, 69: 1, 70: 1, 71: 1, 76: 1, 77: 1, 85: 1, 92: 1, 93: 1, 94: 1, 97: 1}\n",
            "407 {4: 1, 5: 1, 8: 1, 10: 1, 74: 1, 75: 1, 78: 1, 81: 1, 82: 1, 88: 1, 89: 1, 27: 1, 98: 1, 38: 1, 53: 1, 59: 1, 62: 1, 3: 3, 7: 3, 16: 3, 22: 3, 23: 3, 24: 3, 25: 3, 28: 3, 31: 3, 34: 3, 35: 3, 36: 3, 43: 3, 44: 3, 46: 3, 47: 3, 48: 3, 51: 3, 55: 3, 57: 3, 58: 3, 61: 3, 65: 3, 66: 3, 67: 3, 68: 3, 69: 3, 70: 3, 71: 3, 76: 3, 77: 3, 85: 3, 92: 3, 93: 3, 94: 3, 97: 3}\n",
            "408 {0: 0, 96: 0, 73: 0, 41: 0, 79: 0, 83: 0, 52: 0, 54: 0, 95: 0, 91: 0, 60: 0, 30: 0, 63: 0, 1: 2, 2: 2, 6: 2, 9: 2, 11: 2, 12: 2, 13: 2, 14: 2, 15: 2, 17: 2, 18: 2, 19: 2, 20: 2, 21: 2, 26: 2, 29: 2, 32: 2, 33: 2, 37: 2, 39: 2, 40: 2, 42: 2, 45: 2, 49: 2, 50: 2, 56: 2, 64: 2, 72: 2, 80: 2, 84: 2, 86: 2, 87: 2, 90: 2}\n",
            "409 {0: 3, 96: 3, 73: 3, 41: 3, 83: 3, 52: 3, 54: 3, 95: 3, 91: 3, 30: 3, 63: 3, 3: 0, 7: 0, 16: 0, 22: 0, 23: 0, 24: 0, 25: 0, 28: 0, 31: 0, 34: 0, 35: 0, 36: 0, 43: 0, 44: 0, 46: 0, 47: 0, 48: 0, 51: 0, 55: 0, 57: 0, 58: 0, 60: 0, 61: 0, 65: 0, 66: 0, 67: 0, 68: 0, 69: 0, 70: 0, 71: 0, 76: 0, 77: 0, 79: 0, 85: 0, 92: 0, 93: 0, 94: 0, 97: 0}\n",
            "410 {1: 2, 6: 2, 72: 2, 9: 2, 11: 2, 76: 2, 14: 2, 15: 2, 16: 2, 80: 2, 18: 2, 20: 2, 85: 2, 84: 2, 21: 2, 24: 2, 87: 2, 90: 2, 28: 2, 92: 2, 94: 2, 29: 2, 32: 2, 33: 2, 37: 2, 40: 2, 42: 2, 45: 2, 49: 2, 50: 2, 2: 0, 3: 0, 7: 0, 12: 0, 13: 0, 17: 0, 19: 0, 22: 0, 23: 0, 25: 0, 26: 0, 31: 0, 34: 0, 35: 0, 36: 0, 39: 0, 43: 0, 44: 0, 46: 0, 47: 0, 48: 0, 51: 0, 55: 0, 56: 0, 57: 0, 58: 0, 60: 0, 61: 0, 64: 0, 65: 0, 66: 0, 67: 0, 68: 0, 69: 0, 70: 0, 71: 0, 77: 0, 79: 0, 86: 0, 93: 0, 97: 0}\n",
            "411 {0: 2, 1: 2, 11: 2, 76: 2, 15: 2, 80: 2, 16: 2, 83: 2, 85: 2, 24: 2, 28: 2, 29: 2, 92: 2, 95: 2, 94: 2, 96: 2, 33: 2, 37: 2, 40: 2, 45: 2, 63: 2, 6: 3, 9: 3, 14: 3, 18: 3, 20: 3, 21: 3, 30: 3, 32: 3, 41: 3, 42: 3, 49: 3, 50: 3, 52: 3, 54: 3, 72: 3, 73: 3, 84: 3, 87: 3, 90: 3, 91: 3}\n",
            "412 {2: 2, 3: 2, 7: 2, 12: 2, 13: 2, 17: 2, 19: 2, 22: 2, 25: 2, 26: 2, 31: 2, 34: 2, 35: 2, 36: 2, 39: 2, 43: 2, 44: 2, 46: 2, 47: 2, 48: 2, 51: 2, 55: 2, 56: 2, 57: 2, 58: 2, 60: 2, 61: 2, 64: 2, 65: 2, 66: 2, 67: 2, 68: 2, 69: 2, 70: 2, 71: 2, 77: 2, 79: 2, 93: 2, 97: 2, 0: 0, 1: 0, 11: 0, 15: 0, 16: 0, 23: 0, 24: 0, 28: 0, 29: 0, 33: 0, 37: 0, 40: 0, 45: 0, 63: 0, 76: 0, 80: 0, 83: 0, 85: 0, 86: 0, 92: 0, 94: 0, 95: 0, 96: 0}\n",
            "413 {1: 3, 72: 3, 9: 3, 11: 3, 76: 3, 14: 3, 15: 3, 80: 3, 16: 3, 18: 3, 83: 3, 84: 3, 21: 3, 20: 3, 85: 3, 86: 3, 87: 3, 23: 3, 24: 3, 28: 3, 29: 3, 92: 3, 94: 3, 32: 3, 96: 3, 33: 3, 37: 3, 40: 3, 42: 3, 45: 3, 63: 3, 0: 0, 6: 0, 30: 0, 41: 0, 49: 0, 50: 0, 52: 0, 54: 0, 73: 0, 90: 0, 91: 0, 95: 0}\n",
            "414 {96: 3, 0: 3, 6: 3, 41: 3, 73: 3, 83: 3, 52: 3, 95: 3, 54: 3, 86: 3, 91: 3, 30: 3, 63: 3, 1: 0, 9: 0, 11: 0, 14: 0, 15: 0, 16: 0, 18: 0, 20: 0, 21: 0, 23: 0, 24: 0, 28: 0, 29: 0, 32: 0, 33: 0, 37: 0, 40: 0, 42: 0, 45: 0, 49: 0, 50: 0, 72: 0, 76: 0, 80: 0, 84: 0, 85: 0, 87: 0, 90: 0, 92: 0, 94: 0}\n",
            "415 {6: 3, 73: 3, 41: 3, 49: 3, 50: 3, 52: 3, 54: 3, 91: 3, 30: 3, 95: 3, 0: 0, 1: 0, 9: 0, 11: 0, 14: 0, 15: 0, 16: 0, 18: 0, 20: 0, 21: 0, 23: 0, 24: 0, 28: 0, 29: 0, 32: 0, 33: 0, 37: 0, 40: 0, 42: 0, 45: 0, 63: 0, 72: 0, 76: 0, 80: 0, 83: 0, 84: 0, 85: 0, 86: 0, 87: 0, 90: 0, 92: 0, 94: 0, 96: 0}\n",
            "416 {7: 0, 11: 0, 16: 0, 22: 0, 23: 0, 24: 0, 25: 0, 28: 0, 31: 0, 34: 0, 35: 0, 36: 0, 43: 0, 44: 0, 46: 0, 47: 0, 48: 0, 51: 0, 55: 0, 58: 0, 65: 0, 66: 0, 67: 0, 68: 0, 71: 0, 76: 0, 77: 0, 79: 0, 85: 0, 86: 0, 92: 0, 93: 0, 94: 0, 97: 0, 0: 2, 1: 2, 2: 2, 3: 2, 9: 2, 12: 2, 13: 2, 14: 2, 15: 2, 17: 2, 18: 2, 19: 2, 20: 2, 21: 2, 26: 2, 29: 2, 32: 2, 33: 2, 37: 2, 39: 2, 40: 2, 42: 2, 45: 2, 56: 2, 57: 2, 60: 2, 61: 2, 63: 2, 64: 2, 69: 2, 70: 2, 72: 2, 80: 2, 83: 2, 84: 2, 87: 2, 90: 2, 96: 2}\n",
            "417 {0: 3, 96: 3, 6: 3, 73: 3, 41: 3, 83: 3, 52: 3, 54: 3, 63: 3, 95: 3, 1: 2, 2: 2, 3: 2, 9: 2, 12: 2, 13: 2, 14: 2, 15: 2, 17: 2, 18: 2, 19: 2, 20: 2, 21: 2, 26: 2, 29: 2, 30: 2, 32: 2, 33: 2, 37: 2, 39: 2, 40: 2, 42: 2, 45: 2, 49: 2, 50: 2, 56: 2, 57: 2, 60: 2, 61: 2, 64: 2, 69: 2, 70: 2, 72: 2, 80: 2, 84: 2, 87: 2, 90: 2, 91: 2}\n",
            "418 {64: 2, 65: 2, 2: 2, 67: 2, 3: 2, 69: 2, 70: 2, 72: 2, 9: 2, 12: 2, 77: 2, 13: 2, 14: 2, 15: 2, 80: 2, 17: 2, 19: 2, 18: 2, 21: 2, 20: 2, 84: 2, 87: 2, 26: 2, 90: 2, 91: 2, 29: 2, 30: 2, 32: 2, 97: 2, 33: 2, 39: 2, 40: 2, 42: 2, 46: 2, 49: 2, 50: 2, 56: 2, 57: 2, 58: 2, 60: 2, 61: 2, 1: 0, 7: 0, 11: 0, 16: 0, 22: 0, 23: 0, 24: 0, 25: 0, 28: 0, 31: 0, 34: 0, 35: 0, 36: 0, 37: 0, 43: 0, 44: 0, 45: 0, 47: 0, 48: 0, 51: 0, 55: 0, 66: 0, 68: 0, 71: 0, 76: 0, 79: 0, 85: 0, 86: 0, 92: 0, 93: 0, 94: 0}\n",
            "419 {2: 0, 3: 0, 7: 0, 9: 0, 12: 0, 13: 0, 14: 0, 15: 0, 17: 0, 18: 0, 19: 0, 20: 0, 21: 0, 26: 0, 30: 0, 32: 0, 33: 0, 39: 0, 40: 0, 42: 0, 43: 0, 44: 0, 46: 0, 49: 0, 50: 0, 55: 0, 56: 0, 57: 0, 58: 0, 60: 0, 61: 0, 64: 0, 65: 0, 66: 0, 67: 0, 69: 0, 70: 0, 72: 0, 77: 0, 80: 0, 84: 0, 87: 0, 90: 0, 91: 0, 97: 0, 1: 2, 11: 2, 16: 2, 22: 2, 23: 2, 24: 2, 25: 2, 28: 2, 29: 2, 31: 2, 34: 2, 35: 2, 36: 2, 37: 2, 45: 2, 47: 2, 48: 2, 51: 2, 68: 2, 71: 2, 76: 2, 79: 2, 85: 2, 86: 2, 92: 2, 93: 2, 94: 2}\n",
            "420 {34: 3, 36: 3, 68: 3, 6: 3, 73: 3, 41: 3, 47: 3, 79: 3, 48: 3, 52: 3, 95: 3, 0: 2, 1: 2, 11: 2, 16: 2, 22: 2, 23: 2, 24: 2, 25: 2, 28: 2, 29: 2, 31: 2, 35: 2, 37: 2, 45: 2, 51: 2, 54: 2, 63: 2, 71: 2, 76: 2, 83: 2, 85: 2, 86: 2, 92: 2, 93: 2, 94: 2, 96: 2}\n",
            "421 {33: 0, 6: 0, 40: 0, 73: 0, 9: 0, 14: 0, 15: 0, 80: 0, 49: 0, 18: 0, 52: 0, 20: 0, 87: 0, 95: 0, 2: 3, 3: 3, 7: 3, 12: 3, 13: 3, 17: 3, 19: 3, 21: 3, 26: 3, 30: 3, 32: 3, 34: 3, 36: 3, 39: 3, 41: 3, 42: 3, 43: 3, 44: 3, 46: 3, 47: 3, 48: 3, 50: 3, 55: 3, 56: 3, 57: 3, 58: 3, 60: 3, 61: 3, 64: 3, 65: 3, 66: 3, 67: 3, 68: 3, 69: 3, 70: 3, 72: 3, 77: 3, 79: 3, 84: 3, 90: 3, 91: 3, 97: 3}\n",
            "422 {4: 2, 5: 2, 8: 2, 10: 2, 75: 2, 78: 2, 81: 2, 82: 2, 88: 2, 89: 2, 27: 2, 98: 2, 38: 2, 53: 2, 59: 2, 62: 2, 0: 1, 1: 1, 11: 1, 16: 1, 22: 1, 23: 1, 24: 1, 25: 1, 28: 1, 29: 1, 31: 1, 35: 1, 37: 1, 45: 1, 51: 1, 54: 1, 63: 1, 71: 1, 74: 1, 76: 1, 83: 1, 85: 1, 86: 1, 92: 1, 93: 1, 94: 1, 96: 1}\n",
            "423 {66: 3, 34: 3, 36: 3, 68: 3, 6: 3, 73: 3, 41: 3, 79: 3, 48: 3, 47: 3, 52: 3, 95: 3, 2: 0, 3: 0, 7: 0, 9: 0, 12: 0, 13: 0, 14: 0, 15: 0, 17: 0, 18: 0, 19: 0, 20: 0, 21: 0, 26: 0, 30: 0, 32: 0, 33: 0, 39: 0, 40: 0, 42: 0, 43: 0, 44: 0, 46: 0, 49: 0, 50: 0, 55: 0, 56: 0, 57: 0, 58: 0, 60: 0, 61: 0, 64: 0, 65: 0, 67: 0, 69: 0, 70: 0, 72: 0, 77: 0, 80: 0, 84: 0, 87: 0, 90: 0, 91: 0, 97: 0}\n",
            "424 {66: 1, 68: 1, 36: 1, 71: 1, 73: 1, 41: 1, 47: 1, 48: 1, 79: 1, 51: 1, 83: 1, 22: 1, 86: 1, 54: 1, 25: 1, 0: 3, 1: 3, 6: 3, 11: 3, 16: 3, 23: 3, 24: 3, 28: 3, 29: 3, 31: 3, 34: 3, 35: 3, 37: 3, 45: 3, 52: 3, 63: 3, 74: 3, 76: 3, 85: 3, 92: 3, 93: 3, 94: 3, 95: 3, 96: 3}\n",
            "425 {66: 3, 68: 3, 71: 3, 73: 3, 79: 3, 22: 3, 25: 3, 93: 3, 34: 3, 35: 3, 36: 3, 41: 3, 47: 3, 48: 3, 51: 3, 54: 3, 0: 1, 1: 1, 6: 1, 11: 1, 16: 1, 23: 1, 24: 1, 28: 1, 29: 1, 31: 1, 37: 1, 45: 1, 52: 1, 63: 1, 74: 1, 76: 1, 83: 1, 85: 1, 86: 1, 92: 1, 94: 1, 95: 1, 96: 1}\n",
            "426 {1: 1, 66: 1, 68: 1, 71: 1, 74: 1, 11: 1, 76: 1, 16: 1, 83: 1, 85: 1, 22: 1, 86: 1, 23: 1, 25: 1, 24: 1, 28: 1, 93: 1, 92: 1, 94: 1, 31: 1, 34: 1, 35: 1, 36: 1, 37: 1, 45: 1, 47: 1, 48: 1, 51: 1, 0: 3, 6: 3, 29: 3, 41: 3, 52: 3, 54: 3, 63: 3, 73: 3, 79: 3, 95: 3, 96: 3}\n",
            "427 {4: 2, 5: 2, 38: 2, 8: 2, 27: 2, 10: 2, 53: 2, 24: 2, 89: 2, 59: 2, 62: 2, 1: 1, 11: 1, 16: 1, 22: 1, 23: 1, 25: 1, 28: 1, 31: 1, 34: 1, 35: 1, 36: 1, 37: 1, 45: 1, 47: 1, 48: 1, 51: 1, 66: 1, 68: 1, 71: 1, 74: 1, 75: 1, 76: 1, 78: 1, 81: 1, 82: 1, 83: 1, 85: 1, 86: 1, 88: 1, 92: 1, 93: 1, 94: 1, 98: 1}\n",
            "428 {96: 0, 33: 0, 0: 0, 6: 0, 40: 0, 9: 0, 73: 0, 15: 0, 80: 0, 20: 0, 54: 0, 87: 0, 29: 0, 95: 0, 63: 0, 2: 3, 3: 3, 7: 3, 12: 3, 13: 3, 14: 3, 17: 3, 18: 3, 19: 3, 21: 3, 26: 3, 30: 3, 32: 3, 39: 3, 41: 3, 42: 3, 43: 3, 44: 3, 46: 3, 49: 3, 50: 3, 52: 3, 55: 3, 56: 3, 57: 3, 58: 3, 60: 3, 61: 3, 64: 3, 65: 3, 67: 3, 69: 3, 70: 3, 72: 3, 77: 3, 79: 3, 84: 3, 90: 3, 91: 3, 97: 3}\n",
            "429 {66: 1, 68: 1, 36: 1, 6: 1, 71: 1, 9: 1, 73: 1, 47: 1, 48: 1, 54: 1, 22: 1, 63: 1, 95: 1, 0: 0, 1: 0, 11: 0, 15: 0, 16: 0, 20: 0, 23: 0, 25: 0, 28: 0, 29: 0, 31: 0, 33: 0, 34: 0, 35: 0, 37: 0, 40: 0, 45: 0, 51: 0, 74: 0, 75: 0, 76: 0, 78: 0, 80: 0, 81: 0, 82: 0, 83: 0, 85: 0, 86: 0, 87: 0, 88: 0, 92: 0, 93: 0, 94: 0, 96: 0, 98: 0}\n",
            "430 {0: 1, 1: 1, 9: 1, 11: 1, 15: 1, 16: 1, 20: 1, 23: 1, 28: 1, 29: 1, 31: 1, 33: 1, 35: 1, 37: 1, 40: 1, 45: 1, 74: 1, 75: 1, 76: 1, 78: 1, 80: 1, 81: 1, 82: 1, 83: 1, 85: 1, 86: 1, 87: 1, 88: 1, 92: 1, 93: 1, 94: 1, 96: 1, 98: 1, 66: 0, 68: 0, 6: 0, 71: 0, 73: 0, 22: 0, 25: 0, 95: 0, 34: 0, 36: 0, 47: 0, 48: 0, 51: 0, 54: 0, 63: 0}\n",
            "431 {4: 2, 5: 2, 38: 2, 8: 2, 88: 2, 10: 2, 27: 2, 76: 2, 78: 2, 92: 2, 16: 2, 81: 2, 85: 2, 62: 2, 24: 2, 89: 2, 59: 2, 28: 2, 94: 2, 31: 2, 0: 1, 1: 1, 9: 1, 11: 1, 15: 1, 20: 1, 23: 1, 29: 1, 33: 1, 35: 1, 37: 1, 40: 1, 45: 1, 53: 1, 74: 1, 75: 1, 80: 1, 82: 1, 83: 1, 86: 1, 87: 1, 93: 1, 96: 1, 98: 1}\n",
            "432 {0: 1, 1: 1, 4: 1, 9: 1, 11: 1, 15: 1, 16: 1, 20: 1, 23: 1, 28: 1, 29: 1, 31: 1, 33: 1, 35: 1, 37: 1, 40: 1, 45: 1, 75: 1, 76: 1, 78: 1, 80: 1, 81: 1, 82: 1, 83: 1, 85: 1, 86: 1, 87: 1, 88: 1, 92: 1, 93: 1, 94: 1, 96: 1, 98: 1, 5: 2, 8: 2, 10: 2, 74: 2, 24: 2, 89: 2, 27: 2, 38: 2, 53: 2, 59: 2, 62: 2}\n",
            "433 {2: 0, 3: 0, 7: 0, 12: 0, 13: 0, 14: 0, 17: 0, 18: 0, 19: 0, 21: 0, 22: 0, 25: 0, 26: 0, 30: 0, 32: 0, 34: 0, 36: 0, 39: 0, 42: 0, 43: 0, 44: 0, 46: 0, 48: 0, 49: 0, 50: 0, 55: 0, 56: 0, 57: 0, 58: 0, 60: 0, 61: 0, 64: 0, 65: 0, 66: 0, 67: 0, 68: 0, 69: 0, 70: 0, 71: 0, 72: 0, 77: 0, 79: 0, 84: 0, 90: 0, 91: 0, 97: 0, 6: 3, 73: 3, 95: 3, 41: 3, 47: 3, 51: 3, 52: 3, 54: 3, 63: 3}\n",
            "434 {0: 1, 52: 1, 54: 1, 73: 1, 47: 1, 95: 1, 41: 1, 1: 3, 4: 3, 6: 3, 9: 3, 11: 3, 15: 3, 16: 3, 20: 3, 23: 3, 28: 3, 29: 3, 31: 3, 33: 3, 35: 3, 37: 3, 40: 3, 45: 3, 51: 3, 63: 3, 75: 3, 76: 3, 78: 3, 80: 3, 81: 3, 82: 3, 83: 3, 85: 3, 86: 3, 87: 3, 88: 3, 92: 3, 93: 3, 94: 3, 96: 3, 98: 3}\n",
            "435 {1: 3, 4: 3, 6: 3, 9: 3, 74: 3, 11: 3, 75: 3, 78: 3, 15: 3, 16: 3, 80: 3, 81: 3, 82: 3, 83: 3, 20: 3, 86: 3, 23: 3, 24: 3, 87: 3, 88: 3, 29: 3, 31: 3, 96: 3, 33: 3, 98: 3, 37: 3, 40: 3, 45: 3, 51: 3, 63: 3, 5: 2, 8: 2, 10: 2, 27: 2, 28: 2, 35: 2, 38: 2, 53: 2, 59: 2, 62: 2, 76: 2, 85: 2, 89: 2, 92: 2, 93: 2, 94: 2}\n",
            "436 {1: 0, 4: 0, 9: 0, 74: 0, 75: 0, 11: 0, 78: 0, 15: 0, 80: 0, 16: 0, 81: 0, 82: 0, 20: 0, 83: 0, 86: 0, 87: 0, 23: 0, 88: 0, 24: 0, 25: 0, 29: 0, 31: 0, 96: 0, 33: 0, 98: 0, 34: 0, 37: 0, 40: 0, 45: 0, 51: 0, 63: 0, 2: 3, 3: 3, 6: 3, 7: 3, 12: 3, 13: 3, 14: 3, 17: 3, 18: 3, 19: 3, 21: 3, 22: 3, 26: 3, 30: 3, 32: 3, 36: 3, 39: 3, 42: 3, 43: 3, 44: 3, 46: 3, 48: 3, 49: 3, 50: 3, 55: 3, 56: 3, 57: 3, 58: 3, 60: 3, 61: 3, 64: 3, 65: 3, 66: 3, 67: 3, 68: 3, 69: 3, 70: 3, 71: 3, 72: 3, 77: 3, 79: 3, 84: 3, 90: 3, 91: 3, 97: 3}\n",
            "437 {1: 0, 3: 0, 7: 0, 11: 0, 16: 0, 22: 0, 23: 0, 24: 0, 25: 0, 31: 0, 34: 0, 36: 0, 37: 0, 43: 0, 44: 0, 46: 0, 48: 0, 51: 0, 55: 0, 58: 0, 65: 0, 66: 0, 67: 0, 68: 0, 70: 0, 71: 0, 77: 0, 79: 0, 83: 0, 86: 0, 96: 0, 97: 0, 2: 3, 4: 3, 6: 3, 9: 3, 12: 3, 13: 3, 14: 3, 15: 3, 17: 3, 18: 3, 19: 3, 20: 3, 21: 3, 26: 3, 29: 3, 30: 3, 32: 3, 33: 3, 39: 3, 40: 3, 42: 3, 45: 3, 49: 3, 50: 3, 56: 3, 57: 3, 60: 3, 61: 3, 63: 3, 64: 3, 69: 3, 72: 3, 74: 3, 75: 3, 78: 3, 80: 3, 81: 3, 82: 3, 84: 3, 87: 3, 88: 3, 90: 3, 91: 3, 98: 3}\n",
            "438 {5: 0, 38: 0, 8: 0, 59: 0, 10: 0, 53: 0, 24: 0, 89: 0, 27: 0, 62: 0, 1: 2, 3: 2, 7: 2, 11: 2, 16: 2, 22: 2, 23: 2, 25: 2, 28: 2, 31: 2, 34: 2, 35: 2, 36: 2, 37: 2, 43: 2, 44: 2, 46: 2, 48: 2, 51: 2, 55: 2, 58: 2, 65: 2, 66: 2, 67: 2, 68: 2, 70: 2, 71: 2, 76: 2, 77: 2, 79: 2, 83: 2, 85: 2, 86: 2, 92: 2, 93: 2, 94: 2, 96: 2, 97: 2}\n",
            "439 {0: 3, 73: 3, 54: 3, 41: 3, 47: 3, 95: 3, 63: 3, 2: 1, 4: 1, 6: 1, 9: 1, 12: 1, 13: 1, 14: 1, 15: 1, 17: 1, 18: 1, 19: 1, 20: 1, 21: 1, 26: 1, 29: 1, 30: 1, 32: 1, 33: 1, 39: 1, 40: 1, 42: 1, 45: 1, 49: 1, 50: 1, 52: 1, 56: 1, 57: 1, 60: 1, 61: 1, 64: 1, 69: 1, 72: 1, 74: 1, 75: 1, 78: 1, 80: 1, 81: 1, 82: 1, 84: 1, 87: 1, 88: 1, 90: 1, 91: 1, 98: 1}\n",
            "440 {0: 3, 73: 3, 41: 3, 47: 3, 52: 3, 54: 3, 30: 3, 61: 3, 95: 3, 63: 3, 2: 1, 4: 1, 6: 1, 9: 1, 12: 1, 13: 1, 14: 1, 15: 1, 17: 1, 18: 1, 19: 1, 20: 1, 21: 1, 26: 1, 29: 1, 32: 1, 33: 1, 39: 1, 40: 1, 42: 1, 45: 1, 49: 1, 50: 1, 56: 1, 57: 1, 60: 1, 64: 1, 69: 1, 72: 1, 74: 1, 75: 1, 78: 1, 80: 1, 81: 1, 82: 1, 84: 1, 87: 1, 88: 1, 90: 1, 91: 1, 98: 1}\n",
            "441 {2: 2, 3: 2, 6: 2, 7: 2, 9: 2, 12: 2, 13: 2, 14: 2, 17: 2, 18: 2, 19: 2, 20: 2, 21: 2, 26: 2, 32: 2, 36: 2, 39: 2, 42: 2, 43: 2, 44: 2, 46: 2, 48: 2, 49: 2, 50: 2, 55: 2, 56: 2, 57: 2, 58: 2, 60: 2, 64: 2, 65: 2, 66: 2, 67: 2, 69: 2, 70: 2, 72: 2, 77: 2, 79: 2, 84: 2, 87: 2, 90: 2, 91: 2, 97: 2, 1: 1, 4: 1, 11: 1, 15: 1, 16: 1, 22: 1, 23: 1, 25: 1, 28: 1, 29: 1, 31: 1, 33: 1, 34: 1, 35: 1, 37: 1, 40: 1, 45: 1, 51: 1, 68: 1, 71: 1, 74: 1, 75: 1, 76: 1, 78: 1, 80: 1, 81: 1, 82: 1, 83: 1, 85: 1, 86: 1, 88: 1, 92: 1, 93: 1, 94: 1, 96: 1, 98: 1}\n",
            "442 {4: 0, 5: 0, 10: 0, 75: 0, 78: 0, 15: 0, 80: 0, 81: 0, 82: 0, 88: 0, 89: 0, 27: 0, 33: 0, 98: 0, 38: 0, 40: 0, 53: 0, 59: 0, 62: 0, 1: 1, 8: 1, 11: 1, 16: 1, 22: 1, 23: 1, 24: 1, 25: 1, 28: 1, 29: 1, 31: 1, 34: 1, 35: 1, 37: 1, 45: 1, 51: 1, 68: 1, 71: 1, 74: 1, 76: 1, 83: 1, 85: 1, 86: 1, 92: 1, 93: 1, 94: 1, 96: 1}\n",
            "443 "
          ],
          "name": "stdout"
        },
        {
          "output_type": "error",
          "ename": "KeyboardInterrupt",
          "evalue": "ignored",
          "traceback": [
            "\u001b[0;31m---------------------------------------------------------------------------\u001b[0m",
            "\u001b[0;31mKeyboardInterrupt\u001b[0m                         Traceback (most recent call last)",
            "\u001b[0;32m<ipython-input-28-3b107b8937d6>\u001b[0m in \u001b[0;36m<module>\u001b[0;34m()\u001b[0m\n\u001b[1;32m      1\u001b[0m \u001b[0mrecomcutedges\u001b[0m \u001b[0;34m=\u001b[0m \u001b[0;34m[\u001b[0m\u001b[0;34m]\u001b[0m\u001b[0;34m\u001b[0m\u001b[0;34m\u001b[0m\u001b[0m\n\u001b[1;32m      2\u001b[0m \u001b[0mvotesharelists\u001b[0m \u001b[0;34m=\u001b[0m \u001b[0;34m{\u001b[0m\u001b[0me\u001b[0m\u001b[0;34m:\u001b[0m \u001b[0;34m[\u001b[0m\u001b[0;34m]\u001b[0m \u001b[0;32mfor\u001b[0m \u001b[0me\u001b[0m \u001b[0;32min\u001b[0m \u001b[0melection_names\u001b[0m\u001b[0;34m}\u001b[0m\u001b[0;34m\u001b[0m\u001b[0;34m\u001b[0m\u001b[0m\n\u001b[0;32m----> 3\u001b[0;31m \u001b[0;32mfor\u001b[0m \u001b[0mi\u001b[0m\u001b[0;34m,\u001b[0m \u001b[0mstep\u001b[0m \u001b[0;32min\u001b[0m \u001b[0menumerate\u001b[0m\u001b[0;34m(\u001b[0m\u001b[0mchain\u001b[0m\u001b[0;34m)\u001b[0m\u001b[0;34m:\u001b[0m\u001b[0;34m\u001b[0m\u001b[0;34m\u001b[0m\u001b[0m\n\u001b[0m\u001b[1;32m      4\u001b[0m   \u001b[0mprint\u001b[0m\u001b[0;34m(\u001b[0m\u001b[0mstep\u001b[0m\u001b[0;34m.\u001b[0m\u001b[0mflips\u001b[0m\u001b[0;34m)\u001b[0m\u001b[0;34m\u001b[0m\u001b[0;34m\u001b[0m\u001b[0m\n\u001b[1;32m      5\u001b[0m   \u001b[0mprint\u001b[0m\u001b[0;34m(\u001b[0m\u001b[0mi\u001b[0m\u001b[0;34m,\u001b[0m \u001b[0mend\u001b[0m\u001b[0;34m=\u001b[0m\u001b[0;34m\" \"\u001b[0m\u001b[0;34m)\u001b[0m\u001b[0;34m\u001b[0m\u001b[0;34m\u001b[0m\u001b[0m\n",
            "\u001b[0;32m/usr/local/lib/python3.6/dist-packages/gerrychain/chain.py\u001b[0m in \u001b[0;36m__next__\u001b[0;34m(self)\u001b[0m\n\u001b[1;32m     65\u001b[0m \u001b[0;34m\u001b[0m\u001b[0m\n\u001b[1;32m     66\u001b[0m         \u001b[0;32mwhile\u001b[0m \u001b[0mself\u001b[0m\u001b[0;34m.\u001b[0m\u001b[0mcounter\u001b[0m \u001b[0;34m<\u001b[0m \u001b[0mself\u001b[0m\u001b[0;34m.\u001b[0m\u001b[0mtotal_steps\u001b[0m\u001b[0;34m:\u001b[0m\u001b[0;34m\u001b[0m\u001b[0;34m\u001b[0m\u001b[0m\n\u001b[0;32m---> 67\u001b[0;31m             \u001b[0mproposed_next_state\u001b[0m \u001b[0;34m=\u001b[0m \u001b[0mself\u001b[0m\u001b[0;34m.\u001b[0m\u001b[0mproposal\u001b[0m\u001b[0;34m(\u001b[0m\u001b[0mself\u001b[0m\u001b[0;34m.\u001b[0m\u001b[0mstate\u001b[0m\u001b[0;34m)\u001b[0m\u001b[0;34m\u001b[0m\u001b[0;34m\u001b[0m\u001b[0m\n\u001b[0m\u001b[1;32m     68\u001b[0m             \u001b[0;31m# Erase the parent of the parent, to avoid memory leak\u001b[0m\u001b[0;34m\u001b[0m\u001b[0;34m\u001b[0m\u001b[0;34m\u001b[0m\u001b[0m\n\u001b[1;32m     69\u001b[0m             \u001b[0mself\u001b[0m\u001b[0;34m.\u001b[0m\u001b[0mstate\u001b[0m\u001b[0;34m.\u001b[0m\u001b[0mparent\u001b[0m \u001b[0;34m=\u001b[0m \u001b[0;32mNone\u001b[0m\u001b[0;34m\u001b[0m\u001b[0;34m\u001b[0m\u001b[0m\n",
            "\u001b[0;32m/usr/local/lib/python3.6/dist-packages/gerrychain/proposals/tree_proposals.py\u001b[0m in \u001b[0;36mrecom\u001b[0;34m(partition, pop_col, pop_target, epsilon, node_repeats, method)\u001b[0m\n\u001b[1;32m     47\u001b[0m         \u001b[0mepsilon\u001b[0m\u001b[0;34m=\u001b[0m\u001b[0mepsilon\u001b[0m\u001b[0;34m,\u001b[0m\u001b[0;34m\u001b[0m\u001b[0;34m\u001b[0m\u001b[0m\n\u001b[1;32m     48\u001b[0m         \u001b[0mnode_repeats\u001b[0m\u001b[0;34m=\u001b[0m\u001b[0mnode_repeats\u001b[0m\u001b[0;34m,\u001b[0m\u001b[0;34m\u001b[0m\u001b[0;34m\u001b[0m\u001b[0m\n\u001b[0;32m---> 49\u001b[0;31m         \u001b[0mmethod\u001b[0m\u001b[0;34m=\u001b[0m\u001b[0mmethod\u001b[0m\u001b[0;34m,\u001b[0m\u001b[0;34m\u001b[0m\u001b[0;34m\u001b[0m\u001b[0m\n\u001b[0m\u001b[1;32m     50\u001b[0m     )\n\u001b[1;32m     51\u001b[0m \u001b[0;34m\u001b[0m\u001b[0m\n",
            "\u001b[0;32m/usr/local/lib/python3.6/dist-packages/gerrychain/tree.py\u001b[0m in \u001b[0;36mrecursive_tree_part\u001b[0;34m(graph, parts, pop_target, pop_col, epsilon, node_repeats, method)\u001b[0m\n\u001b[1;32m    220\u001b[0m             \u001b[0mpop_target\u001b[0m\u001b[0;34m=\u001b[0m\u001b[0;34m(\u001b[0m\u001b[0mmin_pop\u001b[0m \u001b[0;34m+\u001b[0m \u001b[0mmax_pop\u001b[0m\u001b[0;34m)\u001b[0m \u001b[0;34m/\u001b[0m \u001b[0;36m2\u001b[0m\u001b[0;34m,\u001b[0m\u001b[0;34m\u001b[0m\u001b[0;34m\u001b[0m\u001b[0m\n\u001b[1;32m    221\u001b[0m             \u001b[0mepsilon\u001b[0m\u001b[0;34m=\u001b[0m\u001b[0;34m(\u001b[0m\u001b[0mmax_pop\u001b[0m \u001b[0;34m-\u001b[0m \u001b[0mmin_pop\u001b[0m\u001b[0;34m)\u001b[0m \u001b[0;34m/\u001b[0m \u001b[0;34m(\u001b[0m\u001b[0;36m2\u001b[0m \u001b[0;34m*\u001b[0m \u001b[0mpop_target\u001b[0m\u001b[0;34m)\u001b[0m\u001b[0;34m,\u001b[0m\u001b[0;34m\u001b[0m\u001b[0;34m\u001b[0m\u001b[0m\n\u001b[0;32m--> 222\u001b[0;31m             \u001b[0mnode_repeats\u001b[0m\u001b[0;34m=\u001b[0m\u001b[0mnode_repeats\u001b[0m\u001b[0;34m,\u001b[0m\u001b[0;34m\u001b[0m\u001b[0;34m\u001b[0m\u001b[0m\n\u001b[0m\u001b[1;32m    223\u001b[0m         )\n\u001b[1;32m    224\u001b[0m \u001b[0;34m\u001b[0m\u001b[0m\n",
            "\u001b[0;32m/usr/local/lib/python3.6/dist-packages/gerrychain/tree.py\u001b[0m in \u001b[0;36mbipartition_tree\u001b[0;34m(graph, pop_col, pop_target, epsilon, node_repeats, spanning_tree, choice)\u001b[0m\n\u001b[1;32m    127\u001b[0m     \u001b[0;32mwhile\u001b[0m \u001b[0mbalanced_subtree\u001b[0m \u001b[0;32mis\u001b[0m \u001b[0;32mNone\u001b[0m\u001b[0;34m:\u001b[0m\u001b[0;34m\u001b[0m\u001b[0;34m\u001b[0m\u001b[0m\n\u001b[1;32m    128\u001b[0m         \u001b[0;32mif\u001b[0m \u001b[0mrestarts\u001b[0m \u001b[0;34m==\u001b[0m \u001b[0mnode_repeats\u001b[0m\u001b[0;34m:\u001b[0m\u001b[0;34m\u001b[0m\u001b[0;34m\u001b[0m\u001b[0m\n\u001b[0;32m--> 129\u001b[0;31m             \u001b[0mspanning_tree\u001b[0m \u001b[0;34m=\u001b[0m \u001b[0mrandom_spanning_tree\u001b[0m\u001b[0;34m(\u001b[0m\u001b[0mgraph\u001b[0m\u001b[0;34m)\u001b[0m\u001b[0;34m\u001b[0m\u001b[0;34m\u001b[0m\u001b[0m\n\u001b[0m\u001b[1;32m    130\u001b[0m             \u001b[0mrestarts\u001b[0m \u001b[0;34m=\u001b[0m \u001b[0;36m0\u001b[0m\u001b[0;34m\u001b[0m\u001b[0;34m\u001b[0m\u001b[0m\n\u001b[1;32m    131\u001b[0m         \u001b[0mh\u001b[0m \u001b[0;34m=\u001b[0m \u001b[0mPopulatedGraph\u001b[0m\u001b[0;34m(\u001b[0m\u001b[0mspanning_tree\u001b[0m\u001b[0;34m,\u001b[0m \u001b[0mpopulations\u001b[0m\u001b[0;34m,\u001b[0m \u001b[0mpop_target\u001b[0m\u001b[0;34m,\u001b[0m \u001b[0mepsilon\u001b[0m\u001b[0;34m)\u001b[0m\u001b[0;34m\u001b[0m\u001b[0;34m\u001b[0m\u001b[0m\n",
            "\u001b[0;32m/usr/local/lib/python3.6/dist-packages/gerrychain/tree.py\u001b[0m in \u001b[0;36mrandom_spanning_tree\u001b[0;34m(graph)\u001b[0m\n\u001b[1;32m     15\u001b[0m \u001b[0;34m\u001b[0m\u001b[0m\n\u001b[1;32m     16\u001b[0m     spanning_tree = tree.maximum_spanning_tree(\n\u001b[0;32m---> 17\u001b[0;31m         \u001b[0mgraph\u001b[0m\u001b[0;34m,\u001b[0m \u001b[0malgorithm\u001b[0m\u001b[0;34m=\u001b[0m\u001b[0;34m\"kruskal\"\u001b[0m\u001b[0;34m,\u001b[0m \u001b[0mweight\u001b[0m\u001b[0;34m=\u001b[0m\u001b[0;34m\"weight\"\u001b[0m\u001b[0;34m\u001b[0m\u001b[0;34m\u001b[0m\u001b[0m\n\u001b[0m\u001b[1;32m     18\u001b[0m     )\n\u001b[1;32m     19\u001b[0m     \u001b[0;32mreturn\u001b[0m \u001b[0mspanning_tree\u001b[0m\u001b[0;34m\u001b[0m\u001b[0;34m\u001b[0m\u001b[0m\n",
            "\u001b[0;32m/usr/local/lib/python3.6/dist-packages/networkx/algorithms/tree/mst.py\u001b[0m in \u001b[0;36mmaximum_spanning_tree\u001b[0;34m(G, weight, algorithm, ignore_nan)\u001b[0m\n\u001b[1;32m    604\u001b[0m     edges = maximum_spanning_edges(G, algorithm, weight, keys=True,\n\u001b[1;32m    605\u001b[0m                                    data=True, ignore_nan=ignore_nan)\n\u001b[0;32m--> 606\u001b[0;31m     \u001b[0medges\u001b[0m \u001b[0;34m=\u001b[0m \u001b[0mlist\u001b[0m\u001b[0;34m(\u001b[0m\u001b[0medges\u001b[0m\u001b[0;34m)\u001b[0m\u001b[0;34m\u001b[0m\u001b[0;34m\u001b[0m\u001b[0m\n\u001b[0m\u001b[1;32m    607\u001b[0m     \u001b[0mT\u001b[0m \u001b[0;34m=\u001b[0m \u001b[0mG\u001b[0m\u001b[0;34m.\u001b[0m\u001b[0m__class__\u001b[0m\u001b[0;34m(\u001b[0m\u001b[0;34m)\u001b[0m  \u001b[0;31m# Same graph class as G\u001b[0m\u001b[0;34m\u001b[0m\u001b[0;34m\u001b[0m\u001b[0m\n\u001b[1;32m    608\u001b[0m     \u001b[0mT\u001b[0m\u001b[0;34m.\u001b[0m\u001b[0mgraph\u001b[0m\u001b[0;34m.\u001b[0m\u001b[0mupdate\u001b[0m\u001b[0;34m(\u001b[0m\u001b[0mG\u001b[0m\u001b[0;34m.\u001b[0m\u001b[0mgraph\u001b[0m\u001b[0;34m)\u001b[0m\u001b[0;34m\u001b[0m\u001b[0;34m\u001b[0m\u001b[0m\n",
            "\u001b[0;32m/usr/local/lib/python3.6/dist-packages/networkx/algorithms/tree/mst.py\u001b[0m in \u001b[0;36mkruskal_mst_edges\u001b[0;34m(G, minimum, weight, keys, data, ignore_nan)\u001b[0m\n\u001b[1;32m    200\u001b[0m                 \u001b[0;32melse\u001b[0m\u001b[0;34m:\u001b[0m\u001b[0;34m\u001b[0m\u001b[0;34m\u001b[0m\u001b[0m\n\u001b[1;32m    201\u001b[0m                     \u001b[0;32myield\u001b[0m \u001b[0;34m(\u001b[0m\u001b[0mu\u001b[0m\u001b[0;34m,\u001b[0m \u001b[0mv\u001b[0m\u001b[0;34m)\u001b[0m\u001b[0;34m\u001b[0m\u001b[0;34m\u001b[0m\u001b[0m\n\u001b[0;32m--> 202\u001b[0;31m                 \u001b[0msubtrees\u001b[0m\u001b[0;34m.\u001b[0m\u001b[0munion\u001b[0m\u001b[0;34m(\u001b[0m\u001b[0mu\u001b[0m\u001b[0;34m,\u001b[0m \u001b[0mv\u001b[0m\u001b[0;34m)\u001b[0m\u001b[0;34m\u001b[0m\u001b[0;34m\u001b[0m\u001b[0m\n\u001b[0m\u001b[1;32m    203\u001b[0m \u001b[0;34m\u001b[0m\u001b[0m\n\u001b[1;32m    204\u001b[0m \u001b[0;34m\u001b[0m\u001b[0m\n",
            "\u001b[0;31mKeyboardInterrupt\u001b[0m: "
          ]
        }
      ]
    },
    {
      "cell_type": "markdown",
      "metadata": {
        "id": "fM7_GzEA5rfD",
        "colab_type": "text"
      },
      "source": [
        "Just for fun, let's plot the tenth step in the chain again. How does it compare to the seed? **Go ahead and look at other plans too. See how they change from one step to the next.**"
      ]
    },
    {
      "cell_type": "code",
      "metadata": {
        "id": "TSxFdpqMe3L1",
        "colab_type": "code",
        "colab": {
          "base_uri": "https://localhost:8080/",
          "height": 226
        },
        "outputId": "f4056918-460b-4280-9ecf-621333c39f16"
      },
      "source": [
        "initial_partition.plot(gdf)"
      ],
      "execution_count": null,
      "outputs": [
        {
          "output_type": "execute_result",
          "data": {
            "text/plain": [
              "<matplotlib.axes._subplots.AxesSubplot at 0x7f5efa677f28>"
            ]
          },
          "metadata": {
            "tags": []
          },
          "execution_count": 23
        },
        {
          "output_type": "display_data",
          "data": {
            "image/png": "[encoded data removed]",
            "text/plain": [
              "<Figure size 432x288 with 1 Axes>"
            ]
          },
          "metadata": {
            "tags": [],
            "needs_background": "light"
          }
        }
      ]
    },
    {
      "cell_type": "code",
      "metadata": {
        "id": "eaCKHYlP5qPN",
        "colab_type": "code",
        "colab": {
          "base_uri": "https://localhost:8080/",
          "height": 226
        },
        "outputId": "37fbbd1f-e287-4c11-9288-6cec63047281"
      },
      "source": [
        "gdf.plot(column=\"recomstep{}\".format(100))"
      ],
      "execution_count": null,
      "outputs": [
        {
          "output_type": "execute_result",
          "data": {
            "text/plain": [
              "<matplotlib.axes._subplots.AxesSubplot at 0x7f5efa5c1fd0>"
            ]
          },
          "metadata": {
            "tags": []
          },
          "execution_count": 24
        },
        {
          "output_type": "display_data",
          "data": {
            "image/png": "[encoded data removed]",
            "text/plain": [
              "<Figure size 432x288 with 1 Axes>"
            ]
          },
          "metadata": {
            "tags": [],
            "needs_background": "light"
          }
        }
      ]
    },
    {
      "cell_type": "code",
      "metadata": {
        "id": "6Kp3dWpm5dbb",
        "colab_type": "code",
        "colab": {
          "base_uri": "https://localhost:8080/",
          "height": 513
        },
        "outputId": "a0cdc656-b851-4959-bd04-4f87aa03aafe"
      },
      "source": [
        "recomvoteshares = pd.DataFrame(votesharelists['PRES12'])\n",
        "recomvoteshares.boxplot()\n",
        "plt.show()\n",
        "flipvoteshares.boxplot()\n",
        "plt.show()"
      ],
      "execution_count": null,
      "outputs": [
        {
          "output_type": "display_data",
          "data": {
            "image/png": "[encoded data removed]",
            "text/plain": [
              "<Figure size 432x288 with 1 Axes>"
            ]
          },
          "metadata": {
            "tags": [],
            "needs_background": "light"
          }
        },
        {
          "output_type": "display_data",
          "data": {
            "image/png": "[encoded data removed]",
            "text/plain": [
              "<Figure size 432x288 with 1 Axes>"
            ]
          },
          "metadata": {
            "tags": [],
            "needs_background": "light"
          }
        }
      ]
    },
    {
      "cell_type": "code",
      "metadata": {
        "id": "ldjpkrabfDNn",
        "colab_type": "code",
        "colab": {}
      },
      "source": [
        ""
      ],
      "execution_count": null,
      "outputs": []
    },
    {
      "cell_type": "markdown",
      "metadata": {
        "id": "fM-zRdmF55du",
        "colab_type": "text"
      },
      "source": [
        "We can easily store our vote share data for later as a csv."
      ]
    },
    {
      "cell_type": "code",
      "metadata": {
        "id": "09FwXvaQ5gks",
        "colab_type": "code",
        "colab": {}
      },
      "source": [
        "recomvoteshares.to_csv(\n",
        "    'PRES12_D_ReCom_shares.csv',\n",
        "    index_label='step'\n",
        ")"
      ],
      "execution_count": null,
      "outputs": []
    },
    {
      "cell_type": "markdown",
      "metadata": {
        "id": "G3LzlPCj7T3i",
        "colab_type": "text"
      },
      "source": [
        "Let's look at the cut edges scores along side the Recom cut edges from earlier. "
      ]
    },
    {
      "cell_type": "code",
      "metadata": {
        "id": "8J33AbRH7NJS",
        "colab_type": "code",
        "colab": {
          "base_uri": "https://localhost:8080/",
          "height": 298
        },
        "outputId": "764b24b8-e3e5-4a41-b310-c9ee3f0d33a9"
      },
      "source": [
        "fig, ax = plt.subplots(1,2)\n",
        "ax[0].hist(recomcutedges)\n",
        "ax[0].set_title(\"ReCom cut edges\")\n",
        "ax[1].hist(cutedges)\n",
        "ax[1].set_title(\"Flip cut edges\")"
      ],
      "execution_count": null,
      "outputs": [
        {
          "output_type": "execute_result",
          "data": {
            "text/plain": [
              "Text(0.5, 1.0, 'Flip cut edges')"
            ]
          },
          "metadata": {
            "tags": []
          },
          "execution_count": 27
        },
        {
          "output_type": "display_data",
          "data": {
            "image/png": "[encoded data removed]",
            "text/plain": [
              "<Figure size 432x288 with 2 Axes>"
            ]
          },
          "metadata": {
            "tags": [],
            "needs_background": "light"
          }
        }
      ]
    },
    {
      "cell_type": "markdown",
      "metadata": {
        "id": "xskqulP76KPu",
        "colab_type": "text"
      },
      "source": [
        "And that's it! Feel free to go ahead and play with the parameters above, store different kinds of data for the runs, or even try a whole new state from mggg-states."
      ]
    },
    {
      "cell_type": "markdown",
      "metadata": {
        "id": "6TNGvvoQrOl0",
        "colab_type": "text"
      },
      "source": [
        "## Some bonus challenges"
      ]
    },
    {
      "cell_type": "markdown",
      "metadata": {
        "id": "awg9-Gy_qmAh",
        "colab_type": "text"
      },
      "source": [
        "### In QGIS\n",
        "You can store a special plan to look at later in QGIS. For example, here we will store the plan which has the most Democratic district in the ensemble. We'll add it as a column called \"myplan\" and save it to a shapefile."
      ]
    },
    {
      "cell_type": "code",
      "metadata": {
        "id": "m7swvWeNrbYL",
        "colab_type": "code",
        "colab": {}
      },
      "source": [
        "plan_with_highest_D = recomvoteshares[3].argmax()\n",
        "fresh_gdf = gpd.read_file(\"IA_counties.shp\")\n",
        "fresh_gdf['myplan'] = gdf[\"recomstep{}\".format(plan_with_highest_D)]\n",
        "fresh_gdf.to_file(\"IA_highest_D.shp\")"
      ],
      "execution_count": null,
      "outputs": []
    },
    {
      "cell_type": "markdown",
      "metadata": {
        "id": "N9uQh6kjtnOZ",
        "colab_type": "text"
      },
      "source": [
        "We can now download our file and open it up QGIS for further analysis and visualization. For example, we can plot the boundaries of myplan over the election data from PRES12. "
      ]
    },
    {
      "cell_type": "markdown",
      "metadata": {
        "id": "QqKAVvzzui4I",
        "colab_type": "text"
      },
      "source": [
        "### In GerryChain"
      ]
    },
    {
      "cell_type": "markdown",
      "metadata": {
        "id": "EVdYBuZmuxj9",
        "colab_type": "text"
      },
      "source": [
        "We can replace always_accept with an acceptance function that preferentially accepts compact plans. E.g.:"
      ]
    },
    {
      "cell_type": "code",
      "metadata": {
        "id": "cooaL09CtCaE",
        "colab_type": "code",
        "colab": {}
      },
      "source": [
        "def myaccept(step):\n",
        "  beta = 1\n",
        "  proposedce = len(step['cut_edges'])\n",
        "  parentce = len(step.parent['cut_edges'])\n",
        "  probability_of_accept = np.exp(beta*(parentce-proposedce))\n",
        "  return random.random() < probability_of_accept"
      ],
      "execution_count": null,
      "outputs": []
    },
    {
      "cell_type": "markdown",
      "metadata": {
        "id": "lciKVtzwv5YF",
        "colab_type": "text"
      },
      "source": [
        "Try running the chain with the myaccept function instead of always_accept. Check the histogram to make sure it's working. Play with different values of beta."
      ]
    },
    {
      "cell_type": "markdown",
      "metadata": {
        "id": "1g3zdqGIwfG6",
        "colab_type": "text"
      },
      "source": [
        "### In scipy"
      ]
    },
    {
      "cell_type": "markdown",
      "metadata": {
        "id": "EJLbLRcBwsDN",
        "colab_type": "text"
      },
      "source": [
        "_Auto correlation_ refers to the amount of dependence between each step and the next in a chain. Or possibly between each step and the step some time later. It is a measure of how well your chain is exploring the space.\n",
        "\n",
        "We can use scipy.stats.pearsonr to calculate the autocorrelation in the highest Democratic district vote share in a chain. Here it is for recom (it's the first number, the second number is a p-value, which we can ignore for now)."
      ]
    },
    {
      "cell_type": "code",
      "metadata": {
        "id": "dY9OGcOawrVV",
        "colab_type": "code",
        "colab": {}
      },
      "source": [
        "import scipy.stats"
      ],
      "execution_count": null,
      "outputs": []
    },
    {
      "cell_type": "code",
      "metadata": {
        "id": "k2F4k6OEwuAS",
        "colab_type": "code",
        "colab": {}
      },
      "source": [
        "#the correlation between recomvoteshares[3] and recomvoteshares[3] shifted by one.\n",
        "lag = 1\n",
        "scipy.stats.pearsonr(recomvoteshares[3][:-lag], recomvoteshares[3][lag:])"
      ],
      "execution_count": null,
      "outputs": []
    },
    {
      "cell_type": "markdown",
      "metadata": {
        "id": "0fIs75OIxa6L",
        "colab_type": "text"
      },
      "source": [
        "Try different values instead of 1. Does the autocorrelation increase or decrease? Try it for the flip chain. Do you notice any differences between the chains?"
      ]
    }
  ]
}