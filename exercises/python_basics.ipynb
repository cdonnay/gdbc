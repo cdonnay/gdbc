{
  "nbformat": 4,
  "nbformat_minor": 0,
  "metadata": {
    "colab": {
      "name": "FirstnameLastname.ipynb",
      "provenance": [],
      "collapsed_sections": []
    },
    "kernelspec": {
      "name": "python3",
      "display_name": "Python 3"
    }
  },
  "cells": [
    {
      "cell_type": "markdown",
      "metadata": {
        "id": "t2AbYykfwJK9",
        "colab_type": "text"
      },
      "source": [
        "# Instructions\n",
        "\n",
        "First, save a copy of this notebook replacing FirstnameLastname.ipynb with your actual first and last name!\n",
        "\n",
        "The rest of this notebook will have answers to fill in and exercises to try.  When you're done, save it and create a link by going to SHARE (upper right of screen) and GET SHAREABLE LINK.  You can copy that into the [google form](https://forms.gle/RTt9vPuAzkzA2FhA6) that we're using to collect your submissions.  (If you prefer, you can download it as a .ipynb from the file menu and upload it into the form.)\n"
      ]
    },
    {
      "cell_type": "markdown",
      "metadata": {
        "id": "MpqGHcfSZdZY",
        "colab_type": "text"
      },
      "source": [
        "# Geodata Bootcamp - Python Exercises\n",
        "\n",
        "Create a free Codecademy acount and go through lessons 1-5 of their [Python 2 Course](https://www.codecademy.com/learn/learn-python).  Then, in this Google CoLab Notebook (which you have renamed by now!) provide your answers to the following questions/exercises.\n",
        "\n",
        "Some notes for if and when you get stuck: we encourage you to use google, which will often lead you to stackoverflow for answers. This is not cheating, it's programming!  You'll likely need to tweak what you find for your own code."
      ]
    },
    {
      "cell_type": "markdown",
      "metadata": {
        "colab_type": "text",
        "id": "7P_veLbRKyxg"
      },
      "source": [
        "## Part 1 - Writing functions\n",
        "\n",
        "First, import these packages.  If you find that you need more as you are working, you can add them here and re-run the cell.\n",
        "\n"
      ]
    },
    {
      "cell_type": "code",
      "metadata": {
        "id": "DhnmIq58YHko",
        "colab_type": "code",
        "colab": {}
      },
      "source": [
        "import numpy as np\n",
        "import collections"
      ],
      "execution_count": null,
      "outputs": []
    },
    {
      "cell_type": "markdown",
      "metadata": {
        "id": "NXcOemtXyR5i",
        "colab_type": "text"
      },
      "source": [
        "Choose **two of the three** functions below and write the bodies to them (again, googling is encouraged):\n",
        "  * `digit_sum`: takes an integer `n` and returns the sum of its digits.\n",
        "  * `return_singletons`:  takes a list `my_list` and returns a list of only the entries that appeared one time in `my_list`.\n",
        "  * `reverse`: takes a string `string_name` and returns a string with the same characters in reverse order."
      ]
    },
    {
      "cell_type": "code",
      "metadata": {
        "id": "iw3nWCcBZnfC",
        "colab_type": "code",
        "colab": {}
      },
      "source": [
        "def digit_sum(n):\n",
        "  \"\"\" Return the sum of the digits of the number `n`.\n",
        "      Eg. if n is 123, return 6 (because 1 + 2 + 3 = 6)\n",
        "      Some potential test inputs: 123\n",
        "                                  120\n",
        "                                  0\n",
        "                                  1\n",
        "  \"\"\"\n",
        "## comment out 'pass' and put your answer here\n",
        "\n",
        "pass"
      ],
      "execution_count": null,
      "outputs": []
    },
    {
      "cell_type": "code",
      "metadata": {
        "id": "yzn58qX4ZYKc",
        "colab_type": "code",
        "colab": {}
      },
      "source": [
        "def return_singletons(my_list):\n",
        "  \"\"\" Return a list that includes only numbers that appear once in `my_list`.\n",
        "      Eg. if `my_list` is [1, 2, 3, 1, 2] return [3]\n",
        "\n",
        "      Some potential test inputs: [1, 2, 3, 1, 2]\n",
        "                                  []\n",
        "                                  [1, 2, 3]\n",
        "                                  [1, 2, 1, 2]\n",
        "  \"\"\"\n",
        "## comment out 'pass' and put your answer here\n",
        "\n",
        "pass"
      ],
      "execution_count": null,
      "outputs": []
    },
    {
      "cell_type": "code",
      "metadata": {
        "id": "qF85VqtIOyeo",
        "colab_type": "code",
        "colab": {}
      },
      "source": [
        "def reverse(string_name):\n",
        "  \"\"\" Reverse the letters of the string `s` and return it as a string.\n",
        "      Eg. if s is \"geodata\" return \"atadoeg\"\n",
        "\n",
        "      Some potential test inputs: \"geodata\"\n",
        "                                  \"\"\n",
        "                                  \"g\"\n",
        "                                  \"ge\"\n",
        "  \"\"\"\n",
        "## comment out 'pass' and put your answer here\n",
        "\n",
        "pass"
      ],
      "execution_count": null,
      "outputs": []
    },
    {
      "cell_type": "markdown",
      "metadata": {
        "id": "pqzeUjTQaL2K",
        "colab_type": "text"
      },
      "source": [
        "## Part 2 - Pandas\n",
        "\n",
        "Pandas is a Python package for data manipulation and analysis.  It forms the basis of the `geopandas` library we will use later in our sessions for for geographic data manipulation. It has a big problem:  there is no good documentation that will teach you how to use it!  \n",
        "\n",
        "Here is some not terribly helpful documentation that you can use for reference: [10 min overview](https://pandas.pydata.org/docs/getting_started/10min.html),  [data structure introduction](https://pandas.pydata.org/docs/getting_started/dsintro.html), overall [documentation](https://pandas.pydata.org/docs/index.html).\n",
        "\n",
        "\n",
        "The following 3 lines of code will import pandas, load the sample dataset, and preview it by showing the first ten lines.   \n"
      ]
    },
    {
      "cell_type": "code",
      "metadata": {
        "id": "i3z_o70AaOYZ",
        "colab_type": "code",
        "colab": {
          "base_uri": "https://localhost:8080/",
          "height": 359
        },
        "outputId": "d754b7c4-f9aa-4eba-8928-3ee1db176260"
      },
      "source": [
        "import pandas\n",
        "tips = pandas.read_csv('https://raw.githubusercontent.com/mwaskom/seaborn-data/master/tips.csv')\n",
        "tips.head(10)"
      ],
      "execution_count": null,
      "outputs": [
        {
          "output_type": "execute_result",
          "data": {
            "text/html": [
              "<div>\n",
              "<style scoped>\n",
              "    .dataframe tbody tr th:only-of-type {\n",
              "        vertical-align: middle;\n",
              "    }\n",
              "\n",
              "    .dataframe tbody tr th {\n",
              "        vertical-align: top;\n",
              "    }\n",
              "\n",
              "    .dataframe thead th {\n",
              "        text-align: right;\n",
              "    }\n",
              "</style>\n",
              "<table border=\"1\" class=\"dataframe\">\n",
              "  <thead>\n",
              "    <tr style=\"text-align: right;\">\n",
              "      <th></th>\n",
              "      <th>total_bill</th>\n",
              "      <th>tip</th>\n",
              "      <th>sex</th>\n",
              "      <th>smoker</th>\n",
              "      <th>day</th>\n",
              "      <th>time</th>\n",
              "      <th>size</th>\n",
              "    </tr>\n",
              "  </thead>\n",
              "  <tbody>\n",
              "    <tr>\n",
              "      <th>0</th>\n",
              "      <td>16.99</td>\n",
              "      <td>1.01</td>\n",
              "      <td>Female</td>\n",
              "      <td>No</td>\n",
              "      <td>Sun</td>\n",
              "      <td>Dinner</td>\n",
              "      <td>2</td>\n",
              "    </tr>\n",
              "    <tr>\n",
              "      <th>1</th>\n",
              "      <td>10.34</td>\n",
              "      <td>1.66</td>\n",
              "      <td>Male</td>\n",
              "      <td>No</td>\n",
              "      <td>Sun</td>\n",
              "      <td>Dinner</td>\n",
              "      <td>3</td>\n",
              "    </tr>\n",
              "    <tr>\n",
              "      <th>2</th>\n",
              "      <td>21.01</td>\n",
              "      <td>3.50</td>\n",
              "      <td>Male</td>\n",
              "      <td>No</td>\n",
              "      <td>Sun</td>\n",
              "      <td>Dinner</td>\n",
              "      <td>3</td>\n",
              "    </tr>\n",
              "    <tr>\n",
              "      <th>3</th>\n",
              "      <td>23.68</td>\n",
              "      <td>3.31</td>\n",
              "      <td>Male</td>\n",
              "      <td>No</td>\n",
              "      <td>Sun</td>\n",
              "      <td>Dinner</td>\n",
              "      <td>2</td>\n",
              "    </tr>\n",
              "    <tr>\n",
              "      <th>4</th>\n",
              "      <td>24.59</td>\n",
              "      <td>3.61</td>\n",
              "      <td>Female</td>\n",
              "      <td>No</td>\n",
              "      <td>Sun</td>\n",
              "      <td>Dinner</td>\n",
              "      <td>4</td>\n",
              "    </tr>\n",
              "    <tr>\n",
              "      <th>5</th>\n",
              "      <td>25.29</td>\n",
              "      <td>4.71</td>\n",
              "      <td>Male</td>\n",
              "      <td>No</td>\n",
              "      <td>Sun</td>\n",
              "      <td>Dinner</td>\n",
              "      <td>4</td>\n",
              "    </tr>\n",
              "    <tr>\n",
              "      <th>6</th>\n",
              "      <td>8.77</td>\n",
              "      <td>2.00</td>\n",
              "      <td>Male</td>\n",
              "      <td>No</td>\n",
              "      <td>Sun</td>\n",
              "      <td>Dinner</td>\n",
              "      <td>2</td>\n",
              "    </tr>\n",
              "    <tr>\n",
              "      <th>7</th>\n",
              "      <td>26.88</td>\n",
              "      <td>3.12</td>\n",
              "      <td>Male</td>\n",
              "      <td>No</td>\n",
              "      <td>Sun</td>\n",
              "      <td>Dinner</td>\n",
              "      <td>4</td>\n",
              "    </tr>\n",
              "    <tr>\n",
              "      <th>8</th>\n",
              "      <td>15.04</td>\n",
              "      <td>1.96</td>\n",
              "      <td>Male</td>\n",
              "      <td>No</td>\n",
              "      <td>Sun</td>\n",
              "      <td>Dinner</td>\n",
              "      <td>2</td>\n",
              "    </tr>\n",
              "    <tr>\n",
              "      <th>9</th>\n",
              "      <td>14.78</td>\n",
              "      <td>3.23</td>\n",
              "      <td>Male</td>\n",
              "      <td>No</td>\n",
              "      <td>Sun</td>\n",
              "      <td>Dinner</td>\n",
              "      <td>2</td>\n",
              "    </tr>\n",
              "  </tbody>\n",
              "</table>\n",
              "</div>"
            ],
            "text/plain": [
              "   total_bill   tip     sex smoker  day    time  size\n",
              "0       16.99  1.01  Female     No  Sun  Dinner     2\n",
              "1       10.34  1.66    Male     No  Sun  Dinner     3\n",
              "2       21.01  3.50    Male     No  Sun  Dinner     3\n",
              "3       23.68  3.31    Male     No  Sun  Dinner     2\n",
              "4       24.59  3.61  Female     No  Sun  Dinner     4\n",
              "5       25.29  4.71    Male     No  Sun  Dinner     4\n",
              "6        8.77  2.00    Male     No  Sun  Dinner     2\n",
              "7       26.88  3.12    Male     No  Sun  Dinner     4\n",
              "8       15.04  1.96    Male     No  Sun  Dinner     2\n",
              "9       14.78  3.23    Male     No  Sun  Dinner     2"
            ]
          },
          "metadata": {
            "tags": []
          },
          "execution_count": 14
        }
      ]
    },
    {
      "cell_type": "markdown",
      "metadata": {
        "id": "ntjknQ_H67_u",
        "colab_type": "text"
      },
      "source": [
        "Here are a bunch of basic commands that will help you understand some of the syntax in pandas."
      ]
    },
    {
      "cell_type": "code",
      "metadata": {
        "id": "5Z_DDLi7pxSz",
        "colab_type": "code",
        "colab": {
          "base_uri": "https://localhost:8080/",
          "height": 544
        },
        "outputId": "09b6e907-27b0-466c-dd62-b47e2206d5f4"
      },
      "source": [
        "print('tips is a ',type(tips))  # this tells you what the data type of tips is (spoiler: it's a DataFrame)\n",
        "print('---')\n",
        "print(tips.columns) # this tells you the column headers\n",
        "print('---')\n",
        "sexcol = tips['sex']  # this creates a Series of all the data in the 'sex' column\n",
        "print('sexcol is a ',type(sexcol))  # this confirms that it's a Series\n",
        "print('---')\n",
        "print(sexcol)   # this prints the data in the 'sex' column, with ... in the middle because it's long\n",
        "print('---')\n",
        "print(sexcol.value_counts())  # this tells you how many of each answer exist in the 'sex' column\n",
        "print('---')\n",
        "row5 = tips.iloc[5]  # this accesses the 5th row of the tips data\n",
        "print(row5)   # this prints that 5th row, which is one record"
      ],
      "execution_count": null,
      "outputs": [
        {
          "output_type": "stream",
          "text": [
            "tips is a  <class 'pandas.core.frame.DataFrame'>\n",
            "---\n",
            "Index(['total_bill', 'tip', 'sex', 'smoker', 'day', 'time', 'size'], dtype='object')\n",
            "---\n",
            "sexcol is a  <class 'pandas.core.series.Series'>\n",
            "---\n",
            "0      Female\n",
            "1        Male\n",
            "2        Male\n",
            "3        Male\n",
            "4      Female\n",
            "        ...  \n",
            "239      Male\n",
            "240    Female\n",
            "241      Male\n",
            "242      Male\n",
            "243    Female\n",
            "Name: sex, Length: 244, dtype: object\n",
            "---\n",
            "Male      157\n",
            "Female     87\n",
            "Name: sex, dtype: int64\n",
            "---\n",
            "total_bill     25.29\n",
            "tip             4.71\n",
            "sex             Male\n",
            "smoker            No\n",
            "day              Sun\n",
            "time          Dinner\n",
            "size               4\n",
            "Name: 5, dtype: object\n"
          ],
          "name": "stdout"
        }
      ]
    },
    {
      "cell_type": "markdown",
      "metadata": {
        "id": "V8Tc-sa06sVj",
        "colab_type": "text"
      },
      "source": [
        "\n",
        "* How would you access the column representing day of the week?  How would you access the first row in the data set?\n",
        "* Which days of the week are in this data? How many meals in the data were lunch?\n"
      ]
    },
    {
      "cell_type": "code",
      "metadata": {
        "id": "RU2qIUJk866W",
        "colab_type": "code",
        "colab": {}
      },
      "source": [
        "### Code cells here for your work\n",
        "\n"
      ],
      "execution_count": null,
      "outputs": []
    },
    {
      "cell_type": "code",
      "metadata": {
        "id": "9DcuPAJJum1-",
        "colab_type": "code",
        "colab": {}
      },
      "source": [
        ""
      ],
      "execution_count": null,
      "outputs": []
    },
    {
      "cell_type": "code",
      "metadata": {
        "id": "cDpZ_lAsumjP",
        "colab_type": "code",
        "colab": {}
      },
      "source": [
        ""
      ],
      "execution_count": null,
      "outputs": []
    },
    {
      "cell_type": "markdown",
      "metadata": {
        "id": "o5qh-G1Z8-RE",
        "colab_type": "text"
      },
      "source": [
        "Here is a command to add a new column to the data that shows the bill before the tip, formed by taking the total and subtracting the tip.  After creating it, I'll view the beginning of the tips file to see my new column at the end."
      ]
    },
    {
      "cell_type": "code",
      "metadata": {
        "id": "XbiqSXLzpVL_",
        "colab_type": "code",
        "colab": {
          "base_uri": "https://localhost:8080/",
          "height": 359
        },
        "outputId": "72b47083-9a08-4e5f-f3c6-444d6bb2ec0b"
      },
      "source": [
        "tips['bill']=tips['total_bill']-tips['tip']\n",
        "tips.head(10)"
      ],
      "execution_count": null,
      "outputs": [
        {
          "output_type": "execute_result",
          "data": {
            "text/html": [
              "<div>\n",
              "<style scoped>\n",
              "    .dataframe tbody tr th:only-of-type {\n",
              "        vertical-align: middle;\n",
              "    }\n",
              "\n",
              "    .dataframe tbody tr th {\n",
              "        vertical-align: top;\n",
              "    }\n",
              "\n",
              "    .dataframe thead th {\n",
              "        text-align: right;\n",
              "    }\n",
              "</style>\n",
              "<table border=\"1\" class=\"dataframe\">\n",
              "  <thead>\n",
              "    <tr style=\"text-align: right;\">\n",
              "      <th></th>\n",
              "      <th>total_bill</th>\n",
              "      <th>tip</th>\n",
              "      <th>sex</th>\n",
              "      <th>smoker</th>\n",
              "      <th>day</th>\n",
              "      <th>time</th>\n",
              "      <th>size</th>\n",
              "      <th>bill</th>\n",
              "    </tr>\n",
              "  </thead>\n",
              "  <tbody>\n",
              "    <tr>\n",
              "      <th>0</th>\n",
              "      <td>16.99</td>\n",
              "      <td>1.01</td>\n",
              "      <td>Female</td>\n",
              "      <td>No</td>\n",
              "      <td>Sun</td>\n",
              "      <td>Dinner</td>\n",
              "      <td>2</td>\n",
              "      <td>15.98</td>\n",
              "    </tr>\n",
              "    <tr>\n",
              "      <th>1</th>\n",
              "      <td>10.34</td>\n",
              "      <td>1.66</td>\n",
              "      <td>Male</td>\n",
              "      <td>No</td>\n",
              "      <td>Sun</td>\n",
              "      <td>Dinner</td>\n",
              "      <td>3</td>\n",
              "      <td>8.68</td>\n",
              "    </tr>\n",
              "    <tr>\n",
              "      <th>2</th>\n",
              "      <td>21.01</td>\n",
              "      <td>3.50</td>\n",
              "      <td>Male</td>\n",
              "      <td>No</td>\n",
              "      <td>Sun</td>\n",
              "      <td>Dinner</td>\n",
              "      <td>3</td>\n",
              "      <td>17.51</td>\n",
              "    </tr>\n",
              "    <tr>\n",
              "      <th>3</th>\n",
              "      <td>23.68</td>\n",
              "      <td>3.31</td>\n",
              "      <td>Male</td>\n",
              "      <td>No</td>\n",
              "      <td>Sun</td>\n",
              "      <td>Dinner</td>\n",
              "      <td>2</td>\n",
              "      <td>20.37</td>\n",
              "    </tr>\n",
              "    <tr>\n",
              "      <th>4</th>\n",
              "      <td>24.59</td>\n",
              "      <td>3.61</td>\n",
              "      <td>Female</td>\n",
              "      <td>No</td>\n",
              "      <td>Sun</td>\n",
              "      <td>Dinner</td>\n",
              "      <td>4</td>\n",
              "      <td>20.98</td>\n",
              "    </tr>\n",
              "    <tr>\n",
              "      <th>5</th>\n",
              "      <td>25.29</td>\n",
              "      <td>4.71</td>\n",
              "      <td>Male</td>\n",
              "      <td>No</td>\n",
              "      <td>Sun</td>\n",
              "      <td>Dinner</td>\n",
              "      <td>4</td>\n",
              "      <td>20.58</td>\n",
              "    </tr>\n",
              "    <tr>\n",
              "      <th>6</th>\n",
              "      <td>8.77</td>\n",
              "      <td>2.00</td>\n",
              "      <td>Male</td>\n",
              "      <td>No</td>\n",
              "      <td>Sun</td>\n",
              "      <td>Dinner</td>\n",
              "      <td>2</td>\n",
              "      <td>6.77</td>\n",
              "    </tr>\n",
              "    <tr>\n",
              "      <th>7</th>\n",
              "      <td>26.88</td>\n",
              "      <td>3.12</td>\n",
              "      <td>Male</td>\n",
              "      <td>No</td>\n",
              "      <td>Sun</td>\n",
              "      <td>Dinner</td>\n",
              "      <td>4</td>\n",
              "      <td>23.76</td>\n",
              "    </tr>\n",
              "    <tr>\n",
              "      <th>8</th>\n",
              "      <td>15.04</td>\n",
              "      <td>1.96</td>\n",
              "      <td>Male</td>\n",
              "      <td>No</td>\n",
              "      <td>Sun</td>\n",
              "      <td>Dinner</td>\n",
              "      <td>2</td>\n",
              "      <td>13.08</td>\n",
              "    </tr>\n",
              "    <tr>\n",
              "      <th>9</th>\n",
              "      <td>14.78</td>\n",
              "      <td>3.23</td>\n",
              "      <td>Male</td>\n",
              "      <td>No</td>\n",
              "      <td>Sun</td>\n",
              "      <td>Dinner</td>\n",
              "      <td>2</td>\n",
              "      <td>11.55</td>\n",
              "    </tr>\n",
              "  </tbody>\n",
              "</table>\n",
              "</div>"
            ],
            "text/plain": [
              "   total_bill   tip     sex smoker  day    time  size   bill\n",
              "0       16.99  1.01  Female     No  Sun  Dinner     2  15.98\n",
              "1       10.34  1.66    Male     No  Sun  Dinner     3   8.68\n",
              "2       21.01  3.50    Male     No  Sun  Dinner     3  17.51\n",
              "3       23.68  3.31    Male     No  Sun  Dinner     2  20.37\n",
              "4       24.59  3.61  Female     No  Sun  Dinner     4  20.98\n",
              "5       25.29  4.71    Male     No  Sun  Dinner     4  20.58\n",
              "6        8.77  2.00    Male     No  Sun  Dinner     2   6.77\n",
              "7       26.88  3.12    Male     No  Sun  Dinner     4  23.76\n",
              "8       15.04  1.96    Male     No  Sun  Dinner     2  13.08\n",
              "9       14.78  3.23    Male     No  Sun  Dinner     2  11.55"
            ]
          },
          "metadata": {
            "tags": []
          },
          "execution_count": 13
        }
      ]
    },
    {
      "cell_type": "markdown",
      "metadata": {
        "id": "hV8rMALa9Pti",
        "colab_type": "text"
      },
      "source": [
        "Now you try:  create a new column that shows the total bill per person.  (So if all the people in the party were splitting the check equally, how much would they pay?)"
      ]
    },
    {
      "cell_type": "code",
      "metadata": {
        "id": "NrkIPg1x9e4P",
        "colab_type": "code",
        "colab": {}
      },
      "source": [
        "### Your answer goes here\n",
        "\n"
      ],
      "execution_count": null,
      "outputs": []
    },
    {
      "cell_type": "markdown",
      "metadata": {
        "id": "t3EAtgCX-LA8",
        "colab_type": "text"
      },
      "source": [
        "That's it!  thanks!  \n"
      ]
    },
    {
      "cell_type": "code",
      "metadata": {
        "id": "pAYA7J5rpa0a",
        "colab_type": "code",
        "colab": {}
      },
      "source": [
        ""
      ],
      "execution_count": null,
      "outputs": []
    },
    {
      "cell_type": "code",
      "metadata": {
        "id": "kNUNals_9hMv",
        "colab_type": "code",
        "colab": {}
      },
      "source": [
        ""
      ],
      "execution_count": null,
      "outputs": []
    },
    {
      "cell_type": "code",
      "metadata": {
        "id": "i2Ib3B_rmvu0",
        "colab_type": "code",
        "colab": {}
      },
      "source": [
        ""
      ],
      "execution_count": null,
      "outputs": []
    },
    {
      "cell_type": "code",
      "metadata": {
        "id": "_qeLeYlelyo2",
        "colab_type": "code",
        "colab": {}
      },
      "source": [
        ""
      ],
      "execution_count": null,
      "outputs": []
    },
    {
      "cell_type": "code",
      "metadata": {
        "id": "G5i2dOH8qy40",
        "colab_type": "code",
        "colab": {}
      },
      "source": [
        ""
      ],
      "execution_count": null,
      "outputs": []
    },
    {
      "cell_type": "code",
      "metadata": {
        "id": "8iqD0e5Nq1z9",
        "colab_type": "code",
        "colab": {}
      },
      "source": [
        ""
      ],
      "execution_count": null,
      "outputs": []
    },
    {
      "cell_type": "code",
      "metadata": {
        "id": "emXyOsWWrYCF",
        "colab_type": "code",
        "colab": {}
      },
      "source": [
        ""
      ],
      "execution_count": null,
      "outputs": []
    }
  ]
}